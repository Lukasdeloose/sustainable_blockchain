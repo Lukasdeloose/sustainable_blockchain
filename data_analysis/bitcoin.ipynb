{
 "cells": [
  {
   "cell_type": "markdown",
   "metadata": {},
   "source": [
    "# Introduction"
   ]
  },
  {
   "cell_type": "code",
   "execution_count": 11,
   "metadata": {},
   "outputs": [],
   "source": [
    "# Import libraries\n",
    "import os\n",
    "import json\n",
    "import pandas as pd\n",
    "import numpy as np\n",
    "import matplotlib.pyplot as plt\n",
    "import urllib.request\n",
    "from ipywidgets import *\n",
    "from datetime import datetime\n",
    "from IPython.display import Image\n",
    "from matplotlib.dates import DateFormatter"
   ]
  },
  {
   "cell_type": "code",
   "execution_count": 12,
   "metadata": {},
   "outputs": [],
   "source": [
    "DATA_PATH = 'data/'\n",
    "BTC_PATH = DATA_PATH + 'bitcoin/'\n",
    "HARDWARE_PATH = DATA_PATH+'hardware/'"
   ]
  },
  {
   "cell_type": "code",
   "execution_count": 13,
   "metadata": {},
   "outputs": [],
   "source": [
    "seconds_in_year = 31536000\n",
    "hours_in_year = 8760\n",
    "seconds_in_day = 86400\n",
    "kWh_to_J = 3600*10**3\n",
    "W_to_TWh = hours_in_year/(10**12)\n",
    "\n",
    "std_PUE = {'lower': 1, 'estimate': 1.1, 'upper':1.2}\n",
    "revenue_percent = 0.60\n",
    "\n",
    "block_time = 600\n",
    "difficulty_factor = 2**32\n",
    "\n",
    "# Plots\n",
    "date_form = DateFormatter(\"%m-%d\")"
   ]
  },
  {
   "cell_type": "code",
   "execution_count": 14,
   "metadata": {},
   "outputs": [],
   "source": [
    "def hashrate_from_difficulty(difficulty):\n",
    "    return difficulty*difficulty_factor/block_time"
   ]
  },
  {
   "cell_type": "markdown",
   "metadata": {},
   "source": [
    "## Geography "
   ]
  },
  {
   "cell_type": "code",
   "execution_count": 15,
   "metadata": {},
   "outputs": [],
   "source": [
    "# US: https://www.statista.com/statistics/190680/us-industrial-consumer-price-estimates-for-retail-electricity-since-1970/\n",
    "# China: https://www.mondaq.com/china/oil-gas-electricity/804336/china-electricity-prices-for-industrial-consumers\n",
    "# Russia: https://www.mondaq.com/china/oil-gas-electricity/804336/china-electricity-prices-for-industrial-consumers\n",
    "# Kazakhstan: https://www.globalpetrolprices.com/Kazakhstan/electricity_prices/\n",
    "# Malaysia: https://www.globalpetrolprices.com/Malaysia/electricity_prices/\n",
    "# Iran: https://financialtribune.com/articles/energy/97278/rise-in-electricity-and-water-tariffs-in-iran"
   ]
  },
  {
   "cell_type": "code",
   "execution_count": 16,
   "metadata": {},
   "outputs": [
    {
     "data": {
      "text/html": [
       "<div>\n",
       "<style scoped>\n",
       "    .dataframe tbody tr th:only-of-type {\n",
       "        vertical-align: middle;\n",
       "    }\n",
       "\n",
       "    .dataframe tbody tr th {\n",
       "        vertical-align: top;\n",
       "    }\n",
       "\n",
       "    .dataframe thead th {\n",
       "        text-align: right;\n",
       "    }\n",
       "</style>\n",
       "<table border=\"1\" class=\"dataframe\">\n",
       "  <thead>\n",
       "    <tr style=\"text-align: right;\">\n",
       "      <th></th>\n",
       "      <th>share</th>\n",
       "      <th>normal_price</th>\n",
       "    </tr>\n",
       "    <tr>\n",
       "      <th>location</th>\n",
       "      <th></th>\n",
       "      <th></th>\n",
       "    </tr>\n",
       "  </thead>\n",
       "  <tbody>\n",
       "    <tr>\n",
       "      <th>China</th>\n",
       "      <td>0.6617</td>\n",
       "      <td>2.055556e-08</td>\n",
       "    </tr>\n",
       "    <tr>\n",
       "      <th>US</th>\n",
       "      <td>0.0715</td>\n",
       "      <td>1.925000e-08</td>\n",
       "    </tr>\n",
       "    <tr>\n",
       "      <th>Russia</th>\n",
       "      <td>0.0643</td>\n",
       "      <td>1.138889e-08</td>\n",
       "    </tr>\n",
       "    <tr>\n",
       "      <th>Kazakhstan</th>\n",
       "      <td>0.0589</td>\n",
       "      <td>1.277778e-08</td>\n",
       "    </tr>\n",
       "    <tr>\n",
       "      <th>Malaysia</th>\n",
       "      <td>0.0422</td>\n",
       "      <td>2.805556e-08</td>\n",
       "    </tr>\n",
       "    <tr>\n",
       "      <th>Iran</th>\n",
       "      <td>0.0367</td>\n",
       "      <td>1.944444e-08</td>\n",
       "    </tr>\n",
       "    <tr>\n",
       "      <th>Canada</th>\n",
       "      <td>0.0080</td>\n",
       "      <td>2.777778e-08</td>\n",
       "    </tr>\n",
       "    <tr>\n",
       "      <th>Norway</th>\n",
       "      <td>0.0067</td>\n",
       "      <td>2.222222e-08</td>\n",
       "    </tr>\n",
       "    <tr>\n",
       "      <th>Germany</th>\n",
       "      <td>0.0050</td>\n",
       "      <td>5.555556e-08</td>\n",
       "    </tr>\n",
       "    <tr>\n",
       "      <th>RoW</th>\n",
       "      <td>0.0450</td>\n",
       "      <td>2.333333e-08</td>\n",
       "    </tr>\n",
       "  </tbody>\n",
       "</table>\n",
       "</div>"
      ],
      "text/plain": [
       "             share  normal_price\n",
       "location                        \n",
       "China       0.6617  2.055556e-08\n",
       "US          0.0715  1.925000e-08\n",
       "Russia      0.0643  1.138889e-08\n",
       "Kazakhstan  0.0589  1.277778e-08\n",
       "Malaysia    0.0422  2.805556e-08\n",
       "Iran        0.0367  1.944444e-08\n",
       "Canada      0.0080  2.777778e-08\n",
       "Norway      0.0067  2.222222e-08\n",
       "Germany     0.0050  5.555556e-08\n",
       "RoW         0.0450  2.333333e-08"
      ]
     },
     "execution_count": 16,
     "metadata": {},
     "output_type": "execute_result"
    }
   ],
   "source": [
    "data = {'location': ['China', 'US', 'Russia', 'Kazakhstan', 'Malaysia','Iran','Canada','Norway','Germany'],\n",
    "        'share': [66.17, 7.15, 6.43, 5.89, 4.22, 3.67, 0.80, 0.67, 0.5],\n",
    "        'normal_price': [0.074, 0.0693, 0.041, 0.046, 0.101, 0.07, 0.10, 0.08, 0.2]}\n",
    "CBECI_geography = pd.DataFrame(data).set_index('location')\n",
    "CBECI_geography['share'] = CBECI_geography['share']/100 \n",
    "CBECI_geography['normal_price'] = CBECI_geography['normal_price']/kWh_to_J\n",
    "CBECI_geography.loc['RoW'] = [1-np.sum(CBECI_geography['share']), 0.084/kWh_to_J]\n",
    "CBECI_geography"
   ]
  },
  {
   "cell_type": "code",
   "execution_count": 17,
   "metadata": {},
   "outputs": [
    {
     "data": {
      "text/html": [
       "<div>\n",
       "<style scoped>\n",
       "    .dataframe tbody tr th:only-of-type {\n",
       "        vertical-align: middle;\n",
       "    }\n",
       "\n",
       "    .dataframe tbody tr th {\n",
       "        vertical-align: top;\n",
       "    }\n",
       "\n",
       "    .dataframe thead th {\n",
       "        text-align: right;\n",
       "    }\n",
       "</style>\n",
       "<table border=\"1\" class=\"dataframe\">\n",
       "  <thead>\n",
       "    <tr style=\"text-align: right;\">\n",
       "      <th></th>\n",
       "      <th>share</th>\n",
       "      <th>normal_price</th>\n",
       "    </tr>\n",
       "  </thead>\n",
       "  <tbody>\n",
       "    <tr>\n",
       "      <th>world</th>\n",
       "      <td>1</td>\n",
       "      <td>2.005935e-08</td>\n",
       "    </tr>\n",
       "  </tbody>\n",
       "</table>\n",
       "</div>"
      ],
      "text/plain": [
       "       share  normal_price\n",
       "world      1  2.005935e-08"
      ]
     },
     "execution_count": 17,
     "metadata": {},
     "output_type": "execute_result"
    }
   ],
   "source": [
    "avg_elec_price = np.sum(CBECI_geography.share*CBECI_geography.normal_price)\n",
    "avg_geography = pd.DataFrame({'share':1, 'normal_price':avg_elec_price}, index=['world'])\n",
    "avg_geography"
   ]
  },
  {
   "cell_type": "code",
   "execution_count": 37,
   "metadata": {},
   "outputs": [],
   "source": [
    "china_data = {'location': ['Xinjiang', 'Sichuan', 'Nei Mongol', 'Yunnan', 'Beijing', 'Zhejiang', 'Shanxi', 'Gansu', 'Guizhou', 'Qinhai'],\n",
    "             'share': [36.49,9.74,8.22,5.5,1.5,0.82,0.71,0.57,0.28,0.26]}\n",
    "#CBECI_geography_china = CBECI_geography.append(pd.DataFrame(china_data)).set_index('location').drop('China').sort_values(by='share', ascending=False)"
   ]
  },
  {
   "cell_type": "markdown",
   "metadata": {},
   "source": [
    "## Loading history"
   ]
  },
  {
   "cell_type": "code",
   "execution_count": 18,
   "metadata": {},
   "outputs": [],
   "source": [
    "difficulty = pd.read_csv(BTC_PATH+'difficulty.csv')\n",
    "revenue = pd.read_csv(BTC_PATH+'miners-revenue.csv')\n",
    "\n",
    "difficulty['Timestamp'] = pd.to_datetime(difficulty['Timestamp'])\n",
    "revenue['Timestamp'] = pd.to_datetime(revenue['Timestamp'])\n",
    "\n",
    "difficulty = difficulty.rename(columns={'Timestamp': 'timestamp'}).set_index('timestamp')\n",
    "revenue = revenue.rename(columns={'Timestamp': 'timestamp', 'miners-revenue': 'revenue'}).set_index('timestamp')"
   ]
  },
  {
   "cell_type": "code",
   "execution_count": 19,
   "metadata": {},
   "outputs": [],
   "source": [
    "revenue = revenue.groupby(pd.Grouper(freq='W')).mean()\n",
    "revenue = revenue/seconds_in_day\n",
    "difficulty = difficulty.groupby(pd.Grouper(freq='W')).mean()\n",
    "bitcoin = difficulty.join(revenue).dropna()"
   ]
  },
  {
   "cell_type": "code",
   "execution_count": 20,
   "metadata": {},
   "outputs": [
    {
     "data": {
      "image/png": "[encoded data removed]",
      "text/plain": [
       "<Figure size 1152x720 with 2 Axes>"
      ]
     },
     "metadata": {
      "needs_background": "light"
     },
     "output_type": "display_data"
    }
   ],
   "source": [
    "fig, ax1 = plt.subplots(figsize=(16,10))\n",
    "ax1.plot(bitcoin['difficulty'],color=\"red\", label=\"difficulty\")\n",
    "ax1.legend()\n",
    "ax1.set_ylabel('difficulty')\n",
    "ax2 = ax1.twinx()\n",
    "ax2.plot(bitcoin['revenue'], color=\"green\", label=\"revenue\")\n",
    "ax2.legend(loc='upper left')\n",
    "ax2.set_ylabel('revenue per second')\n",
    "plt.show()"
   ]
  },
  {
   "cell_type": "code",
   "execution_count": 171,
   "metadata": {},
   "outputs": [
    {
     "data": {
      "text/html": [
       "<div>\n",
       "<style scoped>\n",
       "    .dataframe tbody tr th:only-of-type {\n",
       "        vertical-align: middle;\n",
       "    }\n",
       "\n",
       "    .dataframe tbody tr th {\n",
       "        vertical-align: top;\n",
       "    }\n",
       "\n",
       "    .dataframe thead th {\n",
       "        text-align: right;\n",
       "    }\n",
       "</style>\n",
       "<table border=\"1\" class=\"dataframe\">\n",
       "  <thead>\n",
       "    <tr style=\"text-align: right;\">\n",
       "      <th></th>\n",
       "      <th>name</th>\n",
       "      <th>release_date</th>\n",
       "      <th>consumption</th>\n",
       "      <th>hashing_power</th>\n",
       "    </tr>\n",
       "  </thead>\n",
       "  <tbody>\n",
       "    <tr>\n",
       "      <th>0</th>\n",
       "      <td>Bitmain Antminer S3</td>\n",
       "      <td>2014-07-01</td>\n",
       "      <td>7.660000e-10</td>\n",
       "      <td>4.780000e+11</td>\n",
       "    </tr>\n",
       "    <tr>\n",
       "      <th>1</th>\n",
       "      <td>Bitmain Antminer S5</td>\n",
       "      <td>2014-12-01</td>\n",
       "      <td>5.110000e-10</td>\n",
       "      <td>1.000000e+12</td>\n",
       "    </tr>\n",
       "    <tr>\n",
       "      <th>2</th>\n",
       "      <td>Bitmain Antminer S7</td>\n",
       "      <td>2015-09-01</td>\n",
       "      <td>2.730000e-10</td>\n",
       "      <td>5.000000e+12</td>\n",
       "    </tr>\n",
       "    <tr>\n",
       "      <th>3</th>\n",
       "      <td>Bitmain Antminer S9 (11.5Th)</td>\n",
       "      <td>2016-06-01</td>\n",
       "      <td>9.800000e-11</td>\n",
       "      <td>1.200000e+13</td>\n",
       "    </tr>\n",
       "    <tr>\n",
       "      <th>4</th>\n",
       "      <td>Bitmain Antminer S7-LN</td>\n",
       "      <td>2016-06-01</td>\n",
       "      <td>2.580000e-10</td>\n",
       "      <td>3.000000e+12</td>\n",
       "    </tr>\n",
       "    <tr>\n",
       "      <th>...</th>\n",
       "      <td>...</td>\n",
       "      <td>...</td>\n",
       "      <td>...</td>\n",
       "      <td>...</td>\n",
       "    </tr>\n",
       "    <tr>\n",
       "      <th>74</th>\n",
       "      <td>Canaan AvalonMiner 1047</td>\n",
       "      <td>2019-09-01</td>\n",
       "      <td>6.430000e-11</td>\n",
       "      <td>3.700000e+13</td>\n",
       "    </tr>\n",
       "    <tr>\n",
       "      <th>75</th>\n",
       "      <td>Bitmain Antminer S17e</td>\n",
       "      <td>2019-11-01</td>\n",
       "      <td>4.500000e-11</td>\n",
       "      <td>6.400000e+13</td>\n",
       "    </tr>\n",
       "    <tr>\n",
       "      <th>76</th>\n",
       "      <td>Bitmain Antminer T17e</td>\n",
       "      <td>2019-11-01</td>\n",
       "      <td>5.500000e-11</td>\n",
       "      <td>5.300000e+13</td>\n",
       "    </tr>\n",
       "    <tr>\n",
       "      <th>77</th>\n",
       "      <td>Bitmain Antminer S17+</td>\n",
       "      <td>2019-12-01</td>\n",
       "      <td>4.000000e-11</td>\n",
       "      <td>7.300000e+13</td>\n",
       "    </tr>\n",
       "    <tr>\n",
       "      <th>78</th>\n",
       "      <td>Bitmain Antminer T17+</td>\n",
       "      <td>2019-12-01</td>\n",
       "      <td>5.000000e-11</td>\n",
       "      <td>6.400000e+13</td>\n",
       "    </tr>\n",
       "  </tbody>\n",
       "</table>\n",
       "<p>79 rows × 4 columns</p>\n",
       "</div>"
      ],
      "text/plain": [
       "                            name release_date   consumption  hashing_power\n",
       "0            Bitmain Antminer S3   2014-07-01  7.660000e-10   4.780000e+11\n",
       "1            Bitmain Antminer S5   2014-12-01  5.110000e-10   1.000000e+12\n",
       "2            Bitmain Antminer S7   2015-09-01  2.730000e-10   5.000000e+12\n",
       "3   Bitmain Antminer S9 (11.5Th)   2016-06-01  9.800000e-11   1.200000e+13\n",
       "4         Bitmain Antminer S7-LN   2016-06-01  2.580000e-10   3.000000e+12\n",
       "..                           ...          ...           ...            ...\n",
       "74       Canaan AvalonMiner 1047   2019-09-01  6.430000e-11   3.700000e+13\n",
       "75         Bitmain Antminer S17e   2019-11-01  4.500000e-11   6.400000e+13\n",
       "76        Bitmain Antminer T17e    2019-11-01  5.500000e-11   5.300000e+13\n",
       "77         Bitmain Antminer S17+   2019-12-01  4.000000e-11   7.300000e+13\n",
       "78         Bitmain Antminer T17+   2019-12-01  5.000000e-11   6.400000e+13\n",
       "\n",
       "[79 rows x 4 columns]"
      ]
     },
     "execution_count": 171,
     "metadata": {},
     "output_type": "execute_result"
    }
   ],
   "source": [
    "SHA256_hardware = pd.read_csv(HARDWARE_PATH+'SHA256_hardware_clean.csv',index_col=0)\n",
    "# Initialisation\n",
    "hardware = SHA256_hardware[['name', 'release_date', 'consumption', 'hashing_power']].copy()\n",
    "hardware['release_date'] = pd.to_datetime(hardware['release_date'])\n",
    "hardware"
   ]
  },
  {
   "cell_type": "code",
   "execution_count": 172,
   "metadata": {},
   "outputs": [],
   "source": [
    "# Select only from first hardware available in dataset\n",
    "bitcoin = bitcoin[bitcoin.index > SHA256_hardware.loc[0,'release_date']]\n",
    "\n",
    "# Difficulty to hashrate\n",
    "bitcoin['hashrate'] = bitcoin['difficulty'].apply(lambda x: hashrate_from_difficulty(x))"
   ]
  },
  {
   "cell_type": "code",
   "execution_count": 173,
   "metadata": {},
   "outputs": [],
   "source": [
    "def calc_profitability_threshold(data, PUE, elec_price):\n",
    "    rev_per_hash = data['revenue']/data['hashrate'] #$/h\n",
    "    return rev_per_hash/(elec_price*PUE)\n",
    "\n",
    "def is_profitable(hardware, data, PUE, elec_price):\n",
    "    profitability_threshold = calc_profitability_threshold(data, PUE, elec_price)\n",
    "    # consumption is J/h, if smaller, more efficient\n",
    "    if hardware['consumption'] < profitability_threshold:\n",
    "        return True\n",
    "    else:\n",
    "        return False\n",
    "    \n",
    "def get_profitable_hardware(data, hardware, PUE_dict = std_PUE, bound = 'estimate', PUE_fix = True, elec_price = avg_elec_price):\n",
    "    if bound == \"lower\":\n",
    "        prof_hardware = hardware[hardware.apply(lambda x: is_profitable(x, data, PUE_dict['lower'], elec_price),axis=1)]\n",
    "    elif bound == \"upper\":\n",
    "        prof_hardware = hardware[hardware.apply(lambda x: is_profitable(x, data, PUE_dict['upper'], elec_price),axis=1)]\n",
    "    else:\n",
    "        prof_hardware = hardware[hardware.apply(lambda x: is_profitable(x, data, PUE_dict['estimate'], elec_price),axis=1)]\n",
    "    if prof_hardware.empty and PUE_fix:\n",
    "        prof_hardware = hardware[hardware.consumption == hardware.consumption.min()]\n",
    "    return prof_hardware"
   ]
  },
  {
   "cell_type": "code",
   "execution_count": 174,
   "metadata": {},
   "outputs": [],
   "source": [
    "def get_buy_hardware(hardware):\n",
    "    return hardware.sort_values(by='consumption').iloc[0]\n",
    "\n",
    "def get_turn_on_hardware(hardware):\n",
    "    return hardware.sort_values(by='consumption').iloc[0]\n",
    "\n",
    "def get_turn_off_hardware(hardware): \n",
    "    return hardware.sort_values(by='consumption', ascending=False).iloc[0]"
   ]
  },
  {
   "cell_type": "code",
   "execution_count": 175,
   "metadata": {},
   "outputs": [],
   "source": [
    "def calc_consumption(hardware):\n",
    "    # TODO: bounds\n",
    "    return np.sum(hardware['on_num']*hardware['hashing_power']*hardware['consumption'])"
   ]
  },
  {
   "cell_type": "code",
   "execution_count": 184,
   "metadata": {},
   "outputs": [],
   "source": [
    "hardware['off_num'] = 0\n",
    "hardware['on_num'] = 0\n",
    "\n",
    "cur_hashrate = 0\n",
    "consumption = []\n",
    "for time, data in bitcoin.iterrows():\n",
    "    # TODO: replace old hardware\n",
    "    cur_hardware = hardware[hardware.release_date < time]\n",
    "    hashrate_difference = data.hashrate - cur_hashrate\n",
    "    if hashrate_difference > 0:\n",
    "        # Network hashrate has increased, turn on/buy devices\n",
    "        prof_hardware = get_profitable_hardware(data, cur_hardware)\n",
    "        off_hardware = prof_hardware[prof_hardware['off_num'] > 0]\n",
    "                \n",
    "        while cur_hashrate < data.hashrate and (not off_hardware.empty):\n",
    "            \n",
    "            best_off_hardware = get_turn_on_hardware(off_hardware)\n",
    "            \n",
    "            # Everything gets turned on OR the part needed for hashrate difference gets turned on\n",
    "            extra_hashing_power = min(best_off_hardware.off_num*best_off_hardware.hashing_power, hashrate_difference)\n",
    "            \n",
    "            num_to_on = extra_hashing_power/best_off_hardware.hashing_power\n",
    "            \n",
    "            hardware.loc[best_off_hardware.name, 'on_num'] += num_to_on\n",
    "            hardware.loc[best_off_hardware.name, 'off_num'] -= num_to_on\n",
    "            \n",
    "            cur_hashrate += extra_hashing_power\n",
    "            \n",
    "            # Refresh with new values\n",
    "            prof_hardware = hardware.loc[prof_hardware.index]\n",
    "            off_hardware = prof_hardware[prof_hardware['off_num'] > 0]\n",
    "            \n",
    "        if off_hardware.empty and cur_hashrate < data.hashrate:\n",
    "            # Have to buy new hardware. Buy entire difference in hashrate from get_next_hardware\n",
    "            best_hardware = get_next_hardware(prof_hardware)\n",
    "            \n",
    "            num_extra = np.ceil(hashrate_difference/best_hardware.hashing_power)\n",
    "            \n",
    "            hardware.loc[best_hardware.name, 'on_num'] += num_extra\n",
    "            \n",
    "            cur_hashrate += num_extra*best_hardware.hashing_power\n",
    "                \n",
    "    elif hashrate_difference < 0:\n",
    "        # Network hashrate has decreased, turn off devices\n",
    "        on_hardware = hardware[hardware['on_num'] > 0]\n",
    "        \n",
    "        #print(data.hashrate)\n",
    "        while cur_hashrate > data.hashrate:\n",
    "            #print(cur_hashrate)\n",
    "            \n",
    "            worst_on_hardware = get_turn_off_hardware(on_hardware)\n",
    "        \n",
    "            min_hashing_power = min(worst_on_hardware.on_num*worst_on_hardware.hashing_power, -hashrate_difference)\n",
    "            #print('min_hashing_power',min_hashing_power)\n",
    "            \n",
    "            num_to_off = np.floor(min_hashing_power/worst_on_hardware.hashing_power)\n",
    "            \n",
    "            hardware.loc[worst_on_hardware.name, 'on_num'] -= num_to_off\n",
    "            hardware.loc[worst_on_hardware.name, 'off_num'] += num_to_off\n",
    "            \n",
    "            cur_hashrate -= min_hashing_power\n",
    "            \n",
    "            # Refresh with new values\n",
    "            prof_hardware = hardware.loc[prof_hardware.index]\n",
    "            on_hardware = prof_hardware[prof_hardware['on_num'] > 0]\n",
    "    else:\n",
    "        #print('hashrate_difference = 0')\n",
    "        pass\n",
    "    consumption.append(calc_consumption(hardware)*W_to_TWh)\n",
    "    \n",
    "    "
   ]
  },
  {
   "cell_type": "code",
   "execution_count": 185,
   "metadata": {},
   "outputs": [
    {
     "data": {
      "image/png": "[encoded data removed]",
      "text/plain": [
       "<Figure size 432x288 with 1 Axes>"
      ]
     },
     "metadata": {
      "needs_background": "light"
     },
     "output_type": "display_data"
    }
   ],
   "source": [
    "plt.plot(bitcoin.index,consumption)\n",
    "plt.show()"
   ]
  },
  {
   "cell_type": "code",
   "execution_count": 157,
   "metadata": {},
   "outputs": [
    {
     "data": {
      "text/html": [
       "<div>\n",
       "<style scoped>\n",
       "    .dataframe tbody tr th:only-of-type {\n",
       "        vertical-align: middle;\n",
       "    }\n",
       "\n",
       "    .dataframe tbody tr th {\n",
       "        vertical-align: top;\n",
       "    }\n",
       "\n",
       "    .dataframe thead th {\n",
       "        text-align: right;\n",
       "    }\n",
       "</style>\n",
       "<table border=\"1\" class=\"dataframe\">\n",
       "  <thead>\n",
       "    <tr style=\"text-align: right;\">\n",
       "      <th></th>\n",
       "      <th>name</th>\n",
       "      <th>release_date</th>\n",
       "      <th>consumption</th>\n",
       "      <th>hashing_power</th>\n",
       "      <th>off_num</th>\n",
       "      <th>on_num</th>\n",
       "    </tr>\n",
       "  </thead>\n",
       "  <tbody>\n",
       "    <tr>\n",
       "      <th>39</th>\n",
       "      <td>Bitmain Antminer S9 Hydro (18Th)</td>\n",
       "      <td>2018-08-01</td>\n",
       "      <td>9.600000e-11</td>\n",
       "      <td>1.800000e+13</td>\n",
       "      <td>0.000000</td>\n",
       "      <td>0.000000e+00</td>\n",
       "    </tr>\n",
       "    <tr>\n",
       "      <th>55</th>\n",
       "      <td>Innosilicon T3 39T</td>\n",
       "      <td>2019-03-01</td>\n",
       "      <td>5.510000e-11</td>\n",
       "      <td>3.900000e+13</td>\n",
       "      <td>0.000000</td>\n",
       "      <td>0.000000e+00</td>\n",
       "    </tr>\n",
       "    <tr>\n",
       "      <th>54</th>\n",
       "      <td>Innosilicon T3 43T</td>\n",
       "      <td>2019-01-01</td>\n",
       "      <td>4.880000e-11</td>\n",
       "      <td>4.300000e+13</td>\n",
       "      <td>0.000000</td>\n",
       "      <td>0.000000e+00</td>\n",
       "    </tr>\n",
       "    <tr>\n",
       "      <th>53</th>\n",
       "      <td>Holic H28</td>\n",
       "      <td>2018-12-01</td>\n",
       "      <td>7.500000e-11</td>\n",
       "      <td>2.800000e+13</td>\n",
       "      <td>0.000000</td>\n",
       "      <td>0.000000e+00</td>\n",
       "    </tr>\n",
       "    <tr>\n",
       "      <th>52</th>\n",
       "      <td>Holic H22</td>\n",
       "      <td>2018-12-01</td>\n",
       "      <td>7.730000e-11</td>\n",
       "      <td>2.200000e+13</td>\n",
       "      <td>0.000000</td>\n",
       "      <td>0.000000e+00</td>\n",
       "    </tr>\n",
       "    <tr>\n",
       "      <th>...</th>\n",
       "      <td>...</td>\n",
       "      <td>...</td>\n",
       "      <td>...</td>\n",
       "      <td>...</td>\n",
       "      <td>...</td>\n",
       "      <td>...</td>\n",
       "    </tr>\n",
       "    <tr>\n",
       "      <th>26</th>\n",
       "      <td>ASICminer 8 Nano Pro</td>\n",
       "      <td>2018-05-01</td>\n",
       "      <td>5.260000e-11</td>\n",
       "      <td>7.600000e+13</td>\n",
       "      <td>52430.153715</td>\n",
       "      <td>2.510398e+05</td>\n",
       "    </tr>\n",
       "    <tr>\n",
       "      <th>57</th>\n",
       "      <td>Bitmain Antminer S17 Pro (50Th)</td>\n",
       "      <td>2019-04-01</td>\n",
       "      <td>3.950000e-11</td>\n",
       "      <td>5.000000e+13</td>\n",
       "      <td>0.000000</td>\n",
       "      <td>4.210730e+05</td>\n",
       "    </tr>\n",
       "    <tr>\n",
       "      <th>20</th>\n",
       "      <td>Ebang Ebit E10</td>\n",
       "      <td>2018-02-01</td>\n",
       "      <td>9.170000e-11</td>\n",
       "      <td>1.800000e+13</td>\n",
       "      <td>0.000000</td>\n",
       "      <td>5.563010e+05</td>\n",
       "    </tr>\n",
       "    <tr>\n",
       "      <th>56</th>\n",
       "      <td>Bitmain Antminer S17 Pro (53Th)</td>\n",
       "      <td>2019-04-01</td>\n",
       "      <td>3.950000e-11</td>\n",
       "      <td>5.300000e+13</td>\n",
       "      <td>0.000000</td>\n",
       "      <td>7.339730e+05</td>\n",
       "    </tr>\n",
       "    <tr>\n",
       "      <th>5</th>\n",
       "      <td>Bitmain Antminer R4</td>\n",
       "      <td>2017-02-01</td>\n",
       "      <td>9.710000e-11</td>\n",
       "      <td>9.000000e+12</td>\n",
       "      <td>0.000000</td>\n",
       "      <td>1.683539e+06</td>\n",
       "    </tr>\n",
       "  </tbody>\n",
       "</table>\n",
       "<p>79 rows × 6 columns</p>\n",
       "</div>"
      ],
      "text/plain": [
       "                                name release_date   consumption  \\\n",
       "39  Bitmain Antminer S9 Hydro (18Th)   2018-08-01  9.600000e-11   \n",
       "55                Innosilicon T3 39T   2019-03-01  5.510000e-11   \n",
       "54                Innosilicon T3 43T   2019-01-01  4.880000e-11   \n",
       "53                         Holic H28   2018-12-01  7.500000e-11   \n",
       "52                         Holic H22   2018-12-01  7.730000e-11   \n",
       "..                               ...          ...           ...   \n",
       "26              ASICminer 8 Nano Pro   2018-05-01  5.260000e-11   \n",
       "57   Bitmain Antminer S17 Pro (50Th)   2019-04-01  3.950000e-11   \n",
       "20                    Ebang Ebit E10   2018-02-01  9.170000e-11   \n",
       "56   Bitmain Antminer S17 Pro (53Th)   2019-04-01  3.950000e-11   \n",
       "5                Bitmain Antminer R4   2017-02-01  9.710000e-11   \n",
       "\n",
       "    hashing_power       off_num        on_num  \n",
       "39   1.800000e+13      0.000000  0.000000e+00  \n",
       "55   3.900000e+13      0.000000  0.000000e+00  \n",
       "54   4.300000e+13      0.000000  0.000000e+00  \n",
       "53   2.800000e+13      0.000000  0.000000e+00  \n",
       "52   2.200000e+13      0.000000  0.000000e+00  \n",
       "..            ...           ...           ...  \n",
       "26   7.600000e+13  52430.153715  2.510398e+05  \n",
       "57   5.000000e+13      0.000000  4.210730e+05  \n",
       "20   1.800000e+13      0.000000  5.563010e+05  \n",
       "56   5.300000e+13      0.000000  7.339730e+05  \n",
       "5    9.000000e+12      0.000000  1.683539e+06  \n",
       "\n",
       "[79 rows x 6 columns]"
      ]
     },
     "execution_count": 157,
     "metadata": {},
     "output_type": "execute_result"
    }
   ],
   "source": [
    "hardware.sort_values(by='on_num')"
   ]
  },
  {
   "cell_type": "code",
   "execution_count": 159,
   "metadata": {},
   "outputs": [
    {
     "data": {
      "text/plain": [
       "difficulty    1.605609e+13\n",
       "revenue       2.055335e+02\n",
       "hashrate      1.149340e+20\n",
       "Name: 2020-05-10 00:00:00, dtype: float64"
      ]
     },
     "execution_count": 159,
     "metadata": {},
     "output_type": "execute_result"
    }
   ],
   "source": [
    "bitcoin.iloc[len(bitcoin)-1]"
   ]
  },
  {
   "cell_type": "code",
   "execution_count": 158,
   "metadata": {},
   "outputs": [
    {
     "data": {
      "text/plain": [
       "1.1493460031767396e+20"
      ]
     },
     "execution_count": 158,
     "metadata": {},
     "output_type": "execute_result"
    }
   ],
   "source": [
    "np.sum(hardware['on_num']*hardware['hashing_power'])"
   ]
  },
  {
   "cell_type": "code",
   "execution_count": null,
   "metadata": {},
   "outputs": [],
   "source": []
  }
 ],
 "metadata": {
  "kernelspec": {
   "display_name": "Python 3",
   "language": "python",
   "name": "python3"
  },
  "language_info": {
   "codemirror_mode": {
    "name": "ipython",
    "version": 3
   },
   "file_extension": ".py",
   "mimetype": "text/x-python",
   "name": "python",
   "nbconvert_exporter": "python",
   "pygments_lexer": "ipython3",
   "version": "3.8.2"
  }
 },
 "nbformat": 4,
 "nbformat_minor": 4
}
