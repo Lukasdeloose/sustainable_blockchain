{
 "cells": [
  {
   "cell_type": "markdown",
   "metadata": {},
   "source": [
    "# Introduction"
   ]
  },
  {
   "cell_type": "code",
   "execution_count": 52,
   "metadata": {},
   "outputs": [],
   "source": [
    "# Import libraries\n",
    "import os\n",
    "import json\n",
    "import pandas as pd\n",
    "import numpy as np\n",
    "import matplotlib.pyplot as plt\n",
    "import urllib.request\n",
    "from ipywidgets import *\n",
    "from datetime import datetime, timedelta\n",
    "from IPython.display import Image\n",
    "from matplotlib.dates import DateFormatter"
   ]
  },
  {
   "cell_type": "code",
   "execution_count": 3,
   "metadata": {},
   "outputs": [],
   "source": [
    "DATA_PATH = 'data/'\n",
    "BTC_PATH = DATA_PATH + 'bitcoin/'\n",
    "ETH_PATH = DATA_PATH + 'ethereum/'\n",
    "HARDWARE_PATH = DATA_PATH+'hardware/'"
   ]
  },
  {
   "cell_type": "code",
   "execution_count": 4,
   "metadata": {},
   "outputs": [],
   "source": [
    "seconds_in_year = 31536000\n",
    "hours_in_year = 8760\n",
    "seconds_in_day = 86400\n",
    "kWh_to_J = 3600*10**3\n",
    "W_to_TWh = hours_in_year/(10**12)\n",
    "\n",
    "std_PUE = {'lower': 1, 'estimate': 1.1, 'upper':1.2}\n",
    "revenue_percent = 0.60\n",
    "\n",
    "BTC_block_time = 600\n",
    "BTC_difficulty_factor = 2**32\n",
    "\n",
    "ETH_block_time = 15\n",
    "ETH_difficulty_factor = 1\n",
    "\n",
    "\n",
    "# Plots\n",
    "date_form = DateFormatter(\"%m-%d\")"
   ]
  },
  {
   "cell_type": "code",
   "execution_count": 5,
   "metadata": {},
   "outputs": [],
   "source": [
    "def hashrate_from_difficulty(difficulty):\n",
    "    return difficulty*difficulty_factor/BTC_block_time"
   ]
  },
  {
   "cell_type": "markdown",
   "metadata": {},
   "source": [
    "## Geography "
   ]
  },
  {
   "cell_type": "code",
   "execution_count": 6,
   "metadata": {},
   "outputs": [],
   "source": [
    "# US: https://www.statista.com/statistics/190680/us-industrial-consumer-price-estimates-for-retail-electricity-since-1970/\n",
    "# China: https://www.mondaq.com/china/oil-gas-electricity/804336/china-electricity-prices-for-industrial-consumers\n",
    "# Russia: https://www.mondaq.com/china/oil-gas-electricity/804336/china-electricity-prices-for-industrial-consumers\n",
    "# Kazakhstan: https://www.globalpetrolprices.com/Kazakhstan/electricity_prices/\n",
    "# Malaysia: https://www.globalpetrolprices.com/Malaysia/electricity_prices/\n",
    "# Iran: https://financialtribune.com/articles/energy/97278/rise-in-electricity-and-water-tariffs-in-iran"
   ]
  },
  {
   "cell_type": "code",
   "execution_count": 7,
   "metadata": {},
   "outputs": [
    {
     "data": {
      "text/html": [
       "<div>\n",
       "<style scoped>\n",
       "    .dataframe tbody tr th:only-of-type {\n",
       "        vertical-align: middle;\n",
       "    }\n",
       "\n",
       "    .dataframe tbody tr th {\n",
       "        vertical-align: top;\n",
       "    }\n",
       "\n",
       "    .dataframe thead th {\n",
       "        text-align: right;\n",
       "    }\n",
       "</style>\n",
       "<table border=\"1\" class=\"dataframe\">\n",
       "  <thead>\n",
       "    <tr style=\"text-align: right;\">\n",
       "      <th></th>\n",
       "      <th>share</th>\n",
       "      <th>normal_price</th>\n",
       "    </tr>\n",
       "    <tr>\n",
       "      <th>location</th>\n",
       "      <th></th>\n",
       "      <th></th>\n",
       "    </tr>\n",
       "  </thead>\n",
       "  <tbody>\n",
       "    <tr>\n",
       "      <th>China</th>\n",
       "      <td>0.6617</td>\n",
       "      <td>2.055556e-08</td>\n",
       "    </tr>\n",
       "    <tr>\n",
       "      <th>US</th>\n",
       "      <td>0.0715</td>\n",
       "      <td>1.925000e-08</td>\n",
       "    </tr>\n",
       "    <tr>\n",
       "      <th>Russia</th>\n",
       "      <td>0.0643</td>\n",
       "      <td>1.138889e-08</td>\n",
       "    </tr>\n",
       "    <tr>\n",
       "      <th>Kazakhstan</th>\n",
       "      <td>0.0589</td>\n",
       "      <td>1.277778e-08</td>\n",
       "    </tr>\n",
       "    <tr>\n",
       "      <th>Malaysia</th>\n",
       "      <td>0.0422</td>\n",
       "      <td>2.805556e-08</td>\n",
       "    </tr>\n",
       "    <tr>\n",
       "      <th>Iran</th>\n",
       "      <td>0.0367</td>\n",
       "      <td>1.944444e-08</td>\n",
       "    </tr>\n",
       "    <tr>\n",
       "      <th>Canada</th>\n",
       "      <td>0.0080</td>\n",
       "      <td>2.777778e-08</td>\n",
       "    </tr>\n",
       "    <tr>\n",
       "      <th>Norway</th>\n",
       "      <td>0.0067</td>\n",
       "      <td>2.222222e-08</td>\n",
       "    </tr>\n",
       "    <tr>\n",
       "      <th>Germany</th>\n",
       "      <td>0.0050</td>\n",
       "      <td>5.555556e-08</td>\n",
       "    </tr>\n",
       "    <tr>\n",
       "      <th>RoW</th>\n",
       "      <td>0.0450</td>\n",
       "      <td>2.333333e-08</td>\n",
       "    </tr>\n",
       "  </tbody>\n",
       "</table>\n",
       "</div>"
      ],
      "text/plain": [
       "             share  normal_price\n",
       "location                        \n",
       "China       0.6617  2.055556e-08\n",
       "US          0.0715  1.925000e-08\n",
       "Russia      0.0643  1.138889e-08\n",
       "Kazakhstan  0.0589  1.277778e-08\n",
       "Malaysia    0.0422  2.805556e-08\n",
       "Iran        0.0367  1.944444e-08\n",
       "Canada      0.0080  2.777778e-08\n",
       "Norway      0.0067  2.222222e-08\n",
       "Germany     0.0050  5.555556e-08\n",
       "RoW         0.0450  2.333333e-08"
      ]
     },
     "execution_count": 7,
     "metadata": {},
     "output_type": "execute_result"
    }
   ],
   "source": [
    "data = {'location': ['China', 'US', 'Russia', 'Kazakhstan', 'Malaysia','Iran','Canada','Norway','Germany'],\n",
    "        'share': [66.17, 7.15, 6.43, 5.89, 4.22, 3.67, 0.80, 0.67, 0.5],\n",
    "        'normal_price': [0.074, 0.0693, 0.041, 0.046, 0.101, 0.07, 0.10, 0.08, 0.2]}\n",
    "CBECI_geography = pd.DataFrame(data).set_index('location')\n",
    "CBECI_geography['share'] = CBECI_geography['share']/100 \n",
    "CBECI_geography['normal_price'] = CBECI_geography['normal_price']/kWh_to_J\n",
    "CBECI_geography.loc['RoW'] = [1-np.sum(CBECI_geography['share']), 0.084/kWh_to_J]\n",
    "CBECI_geography"
   ]
  },
  {
   "cell_type": "code",
   "execution_count": 8,
   "metadata": {},
   "outputs": [
    {
     "data": {
      "text/html": [
       "<div>\n",
       "<style scoped>\n",
       "    .dataframe tbody tr th:only-of-type {\n",
       "        vertical-align: middle;\n",
       "    }\n",
       "\n",
       "    .dataframe tbody tr th {\n",
       "        vertical-align: top;\n",
       "    }\n",
       "\n",
       "    .dataframe thead th {\n",
       "        text-align: right;\n",
       "    }\n",
       "</style>\n",
       "<table border=\"1\" class=\"dataframe\">\n",
       "  <thead>\n",
       "    <tr style=\"text-align: right;\">\n",
       "      <th></th>\n",
       "      <th>share</th>\n",
       "      <th>normal_price</th>\n",
       "    </tr>\n",
       "  </thead>\n",
       "  <tbody>\n",
       "    <tr>\n",
       "      <th>world</th>\n",
       "      <td>1</td>\n",
       "      <td>2.005935e-08</td>\n",
       "    </tr>\n",
       "  </tbody>\n",
       "</table>\n",
       "</div>"
      ],
      "text/plain": [
       "       share  normal_price\n",
       "world      1  2.005935e-08"
      ]
     },
     "execution_count": 8,
     "metadata": {},
     "output_type": "execute_result"
    }
   ],
   "source": [
    "avg_elec_price = np.sum(CBECI_geography.share*CBECI_geography.normal_price)\n",
    "avg_geography = pd.DataFrame({'share':1, 'normal_price':avg_elec_price}, index=['world'])\n",
    "avg_geography"
   ]
  },
  {
   "cell_type": "code",
   "execution_count": 9,
   "metadata": {},
   "outputs": [],
   "source": [
    "china_data = {'location': ['Xinjiang', 'Sichuan', 'Nei Mongol', 'Yunnan', 'Beijing', 'Zhejiang', 'Shanxi', 'Gansu', 'Guizhou', 'Qinhai'],\n",
    "             'share': [36.49,9.74,8.22,5.5,1.5,0.82,0.71,0.57,0.28,0.26]}\n",
    "#CBECI_geography_china = CBECI_geography.append(pd.DataFrame(china_data)).set_index('location').drop('China').sort_values(by='share', ascending=False)"
   ]
  },
  {
   "cell_type": "markdown",
   "metadata": {},
   "source": [
    "## Functions"
   ]
  },
  {
   "cell_type": "code",
   "execution_count": 10,
   "metadata": {},
   "outputs": [],
   "source": [
    "def calc_profitability_threshold(data, PUE, elec_price, growth_factor):\n",
    "    rev_per_hash = data['revenue']*growth_factor/data['hashrate'] #$/h\n",
    "    return rev_per_hash/(elec_price*PUE)\n",
    "\n",
    "def is_profitable(hardware, data, PUE, elec_price, growth_factor=1):\n",
    "    profitability_threshold = calc_profitability_threshold(data, PUE, elec_price, growth_factor)\n",
    "    # consumption is J/h, if smaller, more efficient\n",
    "    if hardware['consumption'] < profitability_threshold:\n",
    "        return True\n",
    "    else:\n",
    "        return False\n",
    "    \n",
    "def get_profitable_hardware(data, hardware, PUE_dict = std_PUE, bound = 'estimate', PUE_fix = True, elec_price = avg_elec_price, growth_factor = 1):\n",
    "    if bound == \"lower\":\n",
    "        prof_hardware = hardware[hardware.apply(lambda x: is_profitable(x, data, PUE_dict['lower'], elec_price),axis=1)]\n",
    "    elif bound == \"upper\":\n",
    "        prof_hardware = hardware[hardware.apply(lambda x: is_profitable(x, data, PUE_dict['upper'], elec_price),axis=1)]\n",
    "    else:\n",
    "        prof_hardware = hardware[hardware.apply(lambda x: is_profitable(x, data, PUE_dict['estimate'], elec_price),axis=1)]\n",
    "    if prof_hardware.empty and PUE_fix:\n",
    "        prof_hardware = hardware[hardware.consumption == hardware.consumption.min()]\n",
    "    return prof_hardware"
   ]
  },
  {
   "cell_type": "code",
   "execution_count": 11,
   "metadata": {},
   "outputs": [],
   "source": [
    "def get_buy_hardware(hardware):\n",
    "    return hardware.sort_values(by='consumption').iloc[0]\n",
    "\n",
    "def get_turn_on_hardware(hardware):\n",
    "    return hardware.sort_values(by='consumption').iloc[0]\n",
    "\n",
    "def get_turn_off_hardware(hardware): \n",
    "    return hardware.sort_values(by='consumption', ascending=False).iloc[0]"
   ]
  },
  {
   "cell_type": "code",
   "execution_count": 12,
   "metadata": {},
   "outputs": [],
   "source": [
    "def calc_consumption(hardware):\n",
    "    # TODO: bounds\n",
    "    return np.sum(hardware['on_num']*hardware['hashing_power']*hardware['consumption'])"
   ]
  },
  {
   "cell_type": "code",
   "execution_count": 13,
   "metadata": {},
   "outputs": [],
   "source": [
    "def replace_hardware(time, data, hardware):\n",
    "    # If hardware not profitable with double bitcoin price, replace!\n",
    "    to_replace = hardware[~hardware.apply(lambda x: is_profitable(x, data, std_PUE['estimate'], avg_elec_price, growth_factor = 2), axis=1)]  \n",
    "    to_replace = to_replace[to_replace['on_num'] >= 1]\n",
    "    \n",
    "    if to_replace.empty:\n",
    "        return hardware\n",
    "    \n",
    "    replace_hashrate = np.sum(to_replace['on_num']*to_replace['hashing_power'])\n",
    "        \n",
    "    cur_hardware = hardware[hardware.release_date < time]\n",
    "    prof_hardware = get_profitable_hardware(data, cur_hardware)\n",
    "\n",
    "    best_hardware = get_next_hardware(prof_hardware)\n",
    "    \n",
    "    #print(best_hardware)\n",
    "        \n",
    "    hardware.loc[to_replace.index, 'off_num'] += hardware.loc[to_replace.index, 'on_num']\n",
    "    hardware.loc[to_replace.index, 'on_num'] = 0\n",
    "\n",
    "    num_extra = np.ceil(replace_hashrate/best_hardware.hashing_power)\n",
    "    hardware.loc[best_hardware.name, 'on_num'] += num_extra\n",
    "\n",
    "    return hardware"
   ]
  },
  {
   "cell_type": "markdown",
   "metadata": {},
   "source": [
    "# Bitcoin"
   ]
  },
  {
   "cell_type": "markdown",
   "metadata": {},
   "source": [
    "## Loading history"
   ]
  },
  {
   "cell_type": "code",
   "execution_count": 14,
   "metadata": {},
   "outputs": [],
   "source": [
    "difficulty = pd.read_csv(BTC_PATH+'difficulty.csv')\n",
    "revenue = pd.read_csv(BTC_PATH+'miners-revenue.csv')\n",
    "price = pd.read_csv(BTC_PATH+'price.csv')\n",
    "\n",
    "difficulty['Timestamp'] = pd.to_datetime(difficulty['Timestamp'])\n",
    "revenue['Timestamp'] = pd.to_datetime(revenue['Timestamp'])\n",
    "price['Timestamp'] = pd.to_datetime(price['Timestamp'])\n",
    "\n",
    "difficulty = difficulty.rename(columns={'Timestamp': 'timestamp'}).set_index('timestamp')\n",
    "revenue = revenue.rename(columns={'Timestamp': 'timestamp', 'miners-revenue': 'revenue'}).set_index('timestamp')\n",
    "price = price.rename(columns={'Timestamp': 'timestamp', 'market-price': 'price'}).set_index('timestamp')"
   ]
  },
  {
   "cell_type": "code",
   "execution_count": 15,
   "metadata": {},
   "outputs": [],
   "source": [
    "revenue = revenue.groupby(pd.Grouper(freq='W')).mean()\n",
    "revenue = revenue/seconds_in_day\n",
    "difficulty = difficulty.groupby(pd.Grouper(freq='W')).mean()\n",
    "bitcoin = difficulty.join(revenue).dropna()"
   ]
  },
  {
   "cell_type": "code",
   "execution_count": 16,
   "metadata": {},
   "outputs": [
    {
     "data": {
      "text/html": [
       "<div>\n",
       "<style scoped>\n",
       "    .dataframe tbody tr th:only-of-type {\n",
       "        vertical-align: middle;\n",
       "    }\n",
       "\n",
       "    .dataframe tbody tr th {\n",
       "        vertical-align: top;\n",
       "    }\n",
       "\n",
       "    .dataframe thead th {\n",
       "        text-align: right;\n",
       "    }\n",
       "</style>\n",
       "<table border=\"1\" class=\"dataframe\">\n",
       "  <thead>\n",
       "    <tr style=\"text-align: right;\">\n",
       "      <th></th>\n",
       "      <th>difficulty</th>\n",
       "      <th>revenue</th>\n",
       "      <th>price</th>\n",
       "    </tr>\n",
       "    <tr>\n",
       "      <th>timestamp</th>\n",
       "      <th></th>\n",
       "      <th></th>\n",
       "      <th></th>\n",
       "    </tr>\n",
       "  </thead>\n",
       "  <tbody>\n",
       "    <tr>\n",
       "      <th>2009-01-25</th>\n",
       "      <td>1.000000e+00</td>\n",
       "      <td>0.000000</td>\n",
       "      <td>0.000000</td>\n",
       "    </tr>\n",
       "    <tr>\n",
       "      <th>2009-02-01</th>\n",
       "      <td>1.000000e+00</td>\n",
       "      <td>0.000000</td>\n",
       "      <td>0.000000</td>\n",
       "    </tr>\n",
       "    <tr>\n",
       "      <th>2009-02-08</th>\n",
       "      <td>1.000000e+00</td>\n",
       "      <td>0.000000</td>\n",
       "      <td>0.000000</td>\n",
       "    </tr>\n",
       "    <tr>\n",
       "      <th>2009-02-15</th>\n",
       "      <td>1.000000e+00</td>\n",
       "      <td>0.000000</td>\n",
       "      <td>0.000000</td>\n",
       "    </tr>\n",
       "    <tr>\n",
       "      <th>2009-02-22</th>\n",
       "      <td>1.000000e+00</td>\n",
       "      <td>0.000000</td>\n",
       "      <td>0.000000</td>\n",
       "    </tr>\n",
       "    <tr>\n",
       "      <th>...</th>\n",
       "      <td>...</td>\n",
       "      <td>...</td>\n",
       "      <td>...</td>\n",
       "    </tr>\n",
       "    <tr>\n",
       "      <th>2020-04-12</th>\n",
       "      <td>1.431387e+13</td>\n",
       "      <td>157.268844</td>\n",
       "      <td>7039.395000</td>\n",
       "    </tr>\n",
       "    <tr>\n",
       "      <th>2020-04-19</th>\n",
       "      <td>1.471521e+13</td>\n",
       "      <td>164.153155</td>\n",
       "      <td>6984.965000</td>\n",
       "    </tr>\n",
       "    <tr>\n",
       "      <th>2020-04-26</th>\n",
       "      <td>1.595865e+13</td>\n",
       "      <td>155.823463</td>\n",
       "      <td>7270.183333</td>\n",
       "    </tr>\n",
       "    <tr>\n",
       "      <th>2020-05-03</th>\n",
       "      <td>1.595865e+13</td>\n",
       "      <td>164.896564</td>\n",
       "      <td>8294.995000</td>\n",
       "    </tr>\n",
       "    <tr>\n",
       "      <th>2020-05-10</th>\n",
       "      <td>1.605609e+13</td>\n",
       "      <td>205.533526</td>\n",
       "      <td>9444.205000</td>\n",
       "    </tr>\n",
       "  </tbody>\n",
       "</table>\n",
       "<p>588 rows × 3 columns</p>\n",
       "</div>"
      ],
      "text/plain": [
       "              difficulty     revenue        price\n",
       "timestamp                                        \n",
       "2009-01-25  1.000000e+00    0.000000     0.000000\n",
       "2009-02-01  1.000000e+00    0.000000     0.000000\n",
       "2009-02-08  1.000000e+00    0.000000     0.000000\n",
       "2009-02-15  1.000000e+00    0.000000     0.000000\n",
       "2009-02-22  1.000000e+00    0.000000     0.000000\n",
       "...                  ...         ...          ...\n",
       "2020-04-12  1.431387e+13  157.268844  7039.395000\n",
       "2020-04-19  1.471521e+13  164.153155  6984.965000\n",
       "2020-04-26  1.595865e+13  155.823463  7270.183333\n",
       "2020-05-03  1.595865e+13  164.896564  8294.995000\n",
       "2020-05-10  1.605609e+13  205.533526  9444.205000\n",
       "\n",
       "[588 rows x 3 columns]"
      ]
     },
     "execution_count": 16,
     "metadata": {},
     "output_type": "execute_result"
    }
   ],
   "source": [
    "price = price.groupby(pd.Grouper(freq='W')).mean()\n",
    "price = bitcoin.join(price)\n",
    "price"
   ]
  },
  {
   "cell_type": "code",
   "execution_count": 17,
   "metadata": {},
   "outputs": [
    {
     "data": {
      "image/png": "[encoded data removed]",
      "text/plain": [
       "<Figure size 1152x720 with 2 Axes>"
      ]
     },
     "metadata": {
      "needs_background": "light"
     },
     "output_type": "display_data"
    }
   ],
   "source": [
    "fig, ax1 = plt.subplots(figsize=(16,10))\n",
    "\n",
    "ln1 = ax1.plot(bitcoin['difficulty'],color=\"red\", label=\"difficulty\")\n",
    "\n",
    "ax2 = ax1.twinx()\n",
    "\n",
    "ln2 = ax2.plot(price['price'], color=\"green\", label=\"price\")\n",
    "\n",
    "# added these three lines\n",
    "lns = ln1+ln2\n",
    "labs = [l.get_label() for l in lns]\n",
    "ax1.legend(lns, labs, loc=0)\n",
    "\n",
    "#ax2.legend(loc='upper left')\n",
    "\n",
    "ax1.set_ylabel('Difficulty', fontsize = 15)\n",
    "ax2.set_ylabel('Bitcoin market price', fontsize = 15)\n",
    "\n",
    "ax1.tick_params(axis=\"x\", labelsize=18)\n",
    "ax1.tick_params(axis=\"y\", labelsize=18)\n",
    "ax2.tick_params(axis=\"y\", labelsize=18)\n",
    "\n",
    "plt.show()"
   ]
  },
  {
   "cell_type": "code",
   "execution_count": 42,
   "metadata": {},
   "outputs": [],
   "source": [
    "first_halve = datetime(2012, 11, 1)\n",
    "second_halve = datetime(2016, 7, 1)\n",
    "third_halve = datetime(2020, 5, 13)\n",
    "\n",
    "\n",
    "asic = datetime(2013,1,1)\n",
    "gpu = datetime(2010,10,1)\n",
    "fpga = datetime(2011, 6, 1)"
   ]
  },
  {
   "cell_type": "code",
   "execution_count": 87,
   "metadata": {},
   "outputs": [
    {
     "data": {
      "image/png": "[encoded data removed]",
      "text/plain": [
       "<Figure size 1152x720 with 2 Axes>"
      ]
     },
     "metadata": {
      "needs_background": "light"
     },
     "output_type": "display_data"
    }
   ],
   "source": [
    "fig, ax = plt.subplots(figsize=(16,10))\n",
    "\n",
    "ln1 = ax.plot(price['price'], color=\"green\", label=\"price\")\n",
    "#plt.plot(first_halve)\n",
    "\n",
    "ax2 = ax.twinx()\n",
    "ln1 = ax2.plot(bitcoin['difficulty']*2**32,color=\"blue\", label=\"hashrate\")\n",
    "\n",
    "h1 = ax.axvline(first_halve, color='red', label='halving events', ls=':')\n",
    "ax.axvline(second_halve, color='red', ls=':')\n",
    "ax.axvline(third_halve, color='red', ls=':')\n",
    "\n",
    "h2 = ax.axvline(gpu, color='grey', label='hardware periods', ls='--')\n",
    "ax.axvline(fpga, color='grey', ls='--')\n",
    "ax.axvline(asic, color='grey', ls='--')\n",
    "\n",
    "ax.text(datetime(2009,6,15),0.04, 'CPU', fontsize=16)\n",
    "ax.text(gpu + timedelta(days=40),10, 'GPU', fontsize=16)\n",
    "ax.text(fpga + timedelta(days=180),20, 'FPGA', fontsize=16)\n",
    "ax.text(asic + timedelta(days=500),1500, 'ASIC', fontsize=16)\n",
    "\n",
    "\n",
    "ln3 = [h1, h2]\n",
    "\n",
    "ax.set_yscale('log')\n",
    "ax2.set_yscale('log')\n",
    "\n",
    "# added these three lines\n",
    "lns = ln1+ln2+ln3\n",
    "labs = [l.get_label() for l in lns]\n",
    "ax.legend(lns, labs, loc=0)\n",
    "\n",
    "ax.tick_params(axis=\"x\", labelsize=18)\n",
    "ax.tick_params(axis=\"y\", labelsize=18)\n",
    "ax2.tick_params(axis=\"y\", labelsize=18)\n",
    "\n",
    "ax.set_ylabel('Bitcoin market price', fontsize = 15)\n",
    "ax2.set_ylabel('Bitcoin network hashrate', fontsize = 15)\n",
    "plt.savefig('BTC_hashrate_price.png')\n",
    "plt.show()"
   ]
  },
  {
   "cell_type": "code",
   "execution_count": null,
   "metadata": {},
   "outputs": [],
   "source": [
    "import matplotlib.dates as mdates"
   ]
  },
  {
   "cell_type": "code",
   "execution_count": 561,
   "metadata": {},
   "outputs": [
    {
     "data": {
      "image/png": "[encoded data removed]",
      "text/plain": [
       "<Figure size 432x288 with 1 Axes>"
      ]
     },
     "metadata": {
      "needs_background": "light"
     },
     "output_type": "display_data"
    }
   ],
   "source": [
    "x = mdates.date2num(bitcoin.index)\n",
    "z = np.polyfit(x,bitcoin['difficulty'], 3)\n",
    "p = np.poly1d(z)\n",
    "plt.plot(x,p(x),\"r--\")\n",
    "\n",
    "z2 = np.polyfit(x,np.log(bitcoin['difficulty']), 1)\n",
    "p2 = np.poly1d(z2)\n",
    "plt.plot(x,p2(x),\"b--\")\n",
    "\n",
    "plt.plot(bitcoin['difficulty'],color=\"red\", label=\"difficulty\")\n",
    "plt.legend()\n",
    "plt.show()"
   ]
  },
  {
   "cell_type": "code",
   "execution_count": 562,
   "metadata": {},
   "outputs": [
    {
     "name": "stderr",
     "output_type": "stream",
     "text": [
      "C:\\Users\\Admin\\Anaconda3\\envs\\thesis\\lib\\site-packages\\scipy\\optimize\\minpack.py:794: OptimizeWarning: Covariance of the parameters could not be estimated\n",
      "  warnings.warn('Covariance of the parameters could not be estimated',\n"
     ]
    },
    {
     "data": {
      "image/png": "[encoded data removed]",
      "text/plain": [
       "<Figure size 432x288 with 1 Axes>"
      ]
     },
     "metadata": {
      "needs_background": "light"
     },
     "output_type": "display_data"
    }
   ],
   "source": [
    "from scipy.optimize import curve_fit\n",
    "\n",
    "def func(x, a, b, c):\n",
    "    return a * np.exp(-b * x) + c\n",
    "\n",
    "x = mdates.date2num(bitcoin.index)\n",
    "\n",
    "popt, pcov = curve_fit(func, x, bitcoin['difficulty'])\n",
    "\n",
    "plt.figure()\n",
    "plt.plot(x, bitcoin['difficulty'], label=\"Original Data\")\n",
    "plt.plot(x, func(x, *popt), 'r-', label=\"Fitted Curve\")\n",
    "plt.legend()\n",
    "plt.show()"
   ]
  },
  {
   "cell_type": "code",
   "execution_count": 518,
   "metadata": {},
   "outputs": [
    {
     "data": {
      "text/plain": [
       "array([ 2.73129899e+03, -6.02828265e+09,  4.43503118e+15, -1.08762318e+21])"
      ]
     },
     "execution_count": 518,
     "metadata": {},
     "output_type": "execute_result"
    }
   ],
   "source": [
    "z"
   ]
  },
  {
   "cell_type": "code",
   "execution_count": null,
   "metadata": {},
   "outputs": [],
   "source": [
    "xx = np.linspace(x.min(), x.max(), 100)\n",
    "dd = mdates.num2date(xx)\n",
    "\n",
    "cx.plot(dd, p4(xx), '-g')\n",
    "cx.plot(dates, y, '+', color='b', label='blub')\n"
   ]
  },
  {
   "cell_type": "code",
   "execution_count": 564,
   "metadata": {},
   "outputs": [
    {
     "data": {
      "text/html": [
       "<div>\n",
       "<style scoped>\n",
       "    .dataframe tbody tr th:only-of-type {\n",
       "        vertical-align: middle;\n",
       "    }\n",
       "\n",
       "    .dataframe tbody tr th {\n",
       "        vertical-align: top;\n",
       "    }\n",
       "\n",
       "    .dataframe thead th {\n",
       "        text-align: right;\n",
       "    }\n",
       "</style>\n",
       "<table border=\"1\" class=\"dataframe\">\n",
       "  <thead>\n",
       "    <tr style=\"text-align: right;\">\n",
       "      <th></th>\n",
       "      <th>name</th>\n",
       "      <th>release_date</th>\n",
       "      <th>consumption</th>\n",
       "      <th>hashing_power</th>\n",
       "    </tr>\n",
       "  </thead>\n",
       "  <tbody>\n",
       "    <tr>\n",
       "      <th>0</th>\n",
       "      <td>Bitmain Antminer S3</td>\n",
       "      <td>2014-07-01</td>\n",
       "      <td>7.660000e-10</td>\n",
       "      <td>4.780000e+11</td>\n",
       "    </tr>\n",
       "    <tr>\n",
       "      <th>1</th>\n",
       "      <td>Bitmain Antminer S5</td>\n",
       "      <td>2014-12-01</td>\n",
       "      <td>5.110000e-10</td>\n",
       "      <td>1.000000e+12</td>\n",
       "    </tr>\n",
       "    <tr>\n",
       "      <th>2</th>\n",
       "      <td>Bitmain Antminer S7</td>\n",
       "      <td>2015-09-01</td>\n",
       "      <td>2.730000e-10</td>\n",
       "      <td>5.000000e+12</td>\n",
       "    </tr>\n",
       "    <tr>\n",
       "      <th>3</th>\n",
       "      <td>Bitmain Antminer S9 (11.5Th)</td>\n",
       "      <td>2016-06-01</td>\n",
       "      <td>9.800000e-11</td>\n",
       "      <td>1.200000e+13</td>\n",
       "    </tr>\n",
       "    <tr>\n",
       "      <th>4</th>\n",
       "      <td>Bitmain Antminer S7-LN</td>\n",
       "      <td>2016-06-01</td>\n",
       "      <td>2.580000e-10</td>\n",
       "      <td>3.000000e+12</td>\n",
       "    </tr>\n",
       "    <tr>\n",
       "      <th>...</th>\n",
       "      <td>...</td>\n",
       "      <td>...</td>\n",
       "      <td>...</td>\n",
       "      <td>...</td>\n",
       "    </tr>\n",
       "    <tr>\n",
       "      <th>74</th>\n",
       "      <td>Canaan AvalonMiner 1047</td>\n",
       "      <td>2019-09-01</td>\n",
       "      <td>6.430000e-11</td>\n",
       "      <td>3.700000e+13</td>\n",
       "    </tr>\n",
       "    <tr>\n",
       "      <th>75</th>\n",
       "      <td>Bitmain Antminer S17e</td>\n",
       "      <td>2019-11-01</td>\n",
       "      <td>4.500000e-11</td>\n",
       "      <td>6.400000e+13</td>\n",
       "    </tr>\n",
       "    <tr>\n",
       "      <th>76</th>\n",
       "      <td>Bitmain Antminer T17e</td>\n",
       "      <td>2019-11-01</td>\n",
       "      <td>5.500000e-11</td>\n",
       "      <td>5.300000e+13</td>\n",
       "    </tr>\n",
       "    <tr>\n",
       "      <th>77</th>\n",
       "      <td>Bitmain Antminer S17+</td>\n",
       "      <td>2019-12-01</td>\n",
       "      <td>4.000000e-11</td>\n",
       "      <td>7.300000e+13</td>\n",
       "    </tr>\n",
       "    <tr>\n",
       "      <th>78</th>\n",
       "      <td>Bitmain Antminer T17+</td>\n",
       "      <td>2019-12-01</td>\n",
       "      <td>5.000000e-11</td>\n",
       "      <td>6.400000e+13</td>\n",
       "    </tr>\n",
       "  </tbody>\n",
       "</table>\n",
       "<p>79 rows × 4 columns</p>\n",
       "</div>"
      ],
      "text/plain": [
       "                            name release_date   consumption  hashing_power\n",
       "0            Bitmain Antminer S3   2014-07-01  7.660000e-10   4.780000e+11\n",
       "1            Bitmain Antminer S5   2014-12-01  5.110000e-10   1.000000e+12\n",
       "2            Bitmain Antminer S7   2015-09-01  2.730000e-10   5.000000e+12\n",
       "3   Bitmain Antminer S9 (11.5Th)   2016-06-01  9.800000e-11   1.200000e+13\n",
       "4         Bitmain Antminer S7-LN   2016-06-01  2.580000e-10   3.000000e+12\n",
       "..                           ...          ...           ...            ...\n",
       "74       Canaan AvalonMiner 1047   2019-09-01  6.430000e-11   3.700000e+13\n",
       "75         Bitmain Antminer S17e   2019-11-01  4.500000e-11   6.400000e+13\n",
       "76        Bitmain Antminer T17e    2019-11-01  5.500000e-11   5.300000e+13\n",
       "77         Bitmain Antminer S17+   2019-12-01  4.000000e-11   7.300000e+13\n",
       "78         Bitmain Antminer T17+   2019-12-01  5.000000e-11   6.400000e+13\n",
       "\n",
       "[79 rows x 4 columns]"
      ]
     },
     "execution_count": 564,
     "metadata": {},
     "output_type": "execute_result"
    }
   ],
   "source": [
    "SHA256_hardware = pd.read_csv(HARDWARE_PATH+'SHA256_hardware_clean.csv',index_col=0)\n",
    "# Initialisation\n",
    "hardware = SHA256_hardware[['name', 'release_date', 'consumption', 'hashing_power']].copy()\n",
    "hardware['release_date'] = pd.to_datetime(hardware['release_date'])\n",
    "hardware"
   ]
  },
  {
   "cell_type": "code",
   "execution_count": 565,
   "metadata": {},
   "outputs": [
    {
     "data": {
      "text/html": [
       "<div>\n",
       "<style scoped>\n",
       "    .dataframe tbody tr th:only-of-type {\n",
       "        vertical-align: middle;\n",
       "    }\n",
       "\n",
       "    .dataframe tbody tr th {\n",
       "        vertical-align: top;\n",
       "    }\n",
       "\n",
       "    .dataframe thead th {\n",
       "        text-align: right;\n",
       "    }\n",
       "</style>\n",
       "<table border=\"1\" class=\"dataframe\">\n",
       "  <thead>\n",
       "    <tr style=\"text-align: right;\">\n",
       "      <th></th>\n",
       "      <th>name</th>\n",
       "      <th>release_date</th>\n",
       "      <th>consumption</th>\n",
       "      <th>hashing_power</th>\n",
       "    </tr>\n",
       "  </thead>\n",
       "  <tbody>\n",
       "    <tr>\n",
       "      <th>56</th>\n",
       "      <td>Bitmain Antminer S17 Pro (53Th)</td>\n",
       "      <td>2019-04-01</td>\n",
       "      <td>3.950000e-11</td>\n",
       "      <td>5.300000e+13</td>\n",
       "    </tr>\n",
       "    <tr>\n",
       "      <th>57</th>\n",
       "      <td>Bitmain Antminer S17 Pro (50Th)</td>\n",
       "      <td>2019-04-01</td>\n",
       "      <td>3.950000e-11</td>\n",
       "      <td>5.000000e+13</td>\n",
       "    </tr>\n",
       "    <tr>\n",
       "      <th>77</th>\n",
       "      <td>Bitmain Antminer S17+</td>\n",
       "      <td>2019-12-01</td>\n",
       "      <td>4.000000e-11</td>\n",
       "      <td>7.300000e+13</td>\n",
       "    </tr>\n",
       "    <tr>\n",
       "      <th>60</th>\n",
       "      <td>Innosilicon T3+ 52T</td>\n",
       "      <td>2019-05-01</td>\n",
       "      <td>4.230000e-11</td>\n",
       "      <td>5.200000e+13</td>\n",
       "    </tr>\n",
       "    <tr>\n",
       "      <th>75</th>\n",
       "      <td>Bitmain Antminer S17e</td>\n",
       "      <td>2019-11-01</td>\n",
       "      <td>4.500000e-11</td>\n",
       "      <td>6.400000e+13</td>\n",
       "    </tr>\n",
       "    <tr>\n",
       "      <th>...</th>\n",
       "      <td>...</td>\n",
       "      <td>...</td>\n",
       "      <td>...</td>\n",
       "      <td>...</td>\n",
       "    </tr>\n",
       "    <tr>\n",
       "      <th>22</th>\n",
       "      <td>Bitmain Antminer V9 (4Th)</td>\n",
       "      <td>2018-03-01</td>\n",
       "      <td>2.570000e-10</td>\n",
       "      <td>4.000000e+12</td>\n",
       "    </tr>\n",
       "    <tr>\n",
       "      <th>4</th>\n",
       "      <td>Bitmain Antminer S7-LN</td>\n",
       "      <td>2016-06-01</td>\n",
       "      <td>2.580000e-10</td>\n",
       "      <td>3.000000e+12</td>\n",
       "    </tr>\n",
       "    <tr>\n",
       "      <th>2</th>\n",
       "      <td>Bitmain Antminer S7</td>\n",
       "      <td>2015-09-01</td>\n",
       "      <td>2.730000e-10</td>\n",
       "      <td>5.000000e+12</td>\n",
       "    </tr>\n",
       "    <tr>\n",
       "      <th>1</th>\n",
       "      <td>Bitmain Antminer S5</td>\n",
       "      <td>2014-12-01</td>\n",
       "      <td>5.110000e-10</td>\n",
       "      <td>1.000000e+12</td>\n",
       "    </tr>\n",
       "    <tr>\n",
       "      <th>0</th>\n",
       "      <td>Bitmain Antminer S3</td>\n",
       "      <td>2014-07-01</td>\n",
       "      <td>7.660000e-10</td>\n",
       "      <td>4.780000e+11</td>\n",
       "    </tr>\n",
       "  </tbody>\n",
       "</table>\n",
       "<p>79 rows × 4 columns</p>\n",
       "</div>"
      ],
      "text/plain": [
       "                               name release_date   consumption  hashing_power\n",
       "56  Bitmain Antminer S17 Pro (53Th)   2019-04-01  3.950000e-11   5.300000e+13\n",
       "57  Bitmain Antminer S17 Pro (50Th)   2019-04-01  3.950000e-11   5.000000e+13\n",
       "77            Bitmain Antminer S17+   2019-12-01  4.000000e-11   7.300000e+13\n",
       "60              Innosilicon T3+ 52T   2019-05-01  4.230000e-11   5.200000e+13\n",
       "75            Bitmain Antminer S17e   2019-11-01  4.500000e-11   6.400000e+13\n",
       "..                              ...          ...           ...            ...\n",
       "22        Bitmain Antminer V9 (4Th)   2018-03-01  2.570000e-10   4.000000e+12\n",
       "4            Bitmain Antminer S7-LN   2016-06-01  2.580000e-10   3.000000e+12\n",
       "2               Bitmain Antminer S7   2015-09-01  2.730000e-10   5.000000e+12\n",
       "1               Bitmain Antminer S5   2014-12-01  5.110000e-10   1.000000e+12\n",
       "0               Bitmain Antminer S3   2014-07-01  7.660000e-10   4.780000e+11\n",
       "\n",
       "[79 rows x 4 columns]"
      ]
     },
     "execution_count": 565,
     "metadata": {},
     "output_type": "execute_result"
    }
   ],
   "source": [
    "hardware.sort_values(by='consumption')"
   ]
  },
  {
   "cell_type": "code",
   "execution_count": 566,
   "metadata": {},
   "outputs": [
    {
     "data": {
      "image/png": "[encoded data removed]",
      "text/plain": [
       "<Figure size 432x288 with 1 Axes>"
      ]
     },
     "metadata": {
      "needs_background": "light"
     },
     "output_type": "display_data"
    }
   ],
   "source": [
    "plt.scatter(hardware['release_date'], hardware['consumption'])\n",
    "plt.yscale('log')\n",
    "plt.show()"
   ]
  },
  {
   "cell_type": "code",
   "execution_count": 567,
   "metadata": {},
   "outputs": [],
   "source": [
    "# Select only from first hardware available in dataset\n",
    "bitcoin = bitcoin[bitcoin.index > SHA256_hardware.loc[0,'release_date']]\n",
    "\n",
    "# Difficulty to hashrate\n",
    "bitcoin['hashrate'] = bitcoin['difficulty'].apply(lambda x: hashrate_from_difficulty(x))"
   ]
  },
  {
   "cell_type": "code",
   "execution_count": 573,
   "metadata": {},
   "outputs": [],
   "source": [
    "hardware['off_num'] = 0\n",
    "hardware['on_num'] = 0\n",
    "\n",
    "cur_hashrate = 0\n",
    "consumption = []\n",
    "for time, data in bitcoin.iterrows():\n",
    "    cur_hardware = hardware[hardware.release_date < time]\n",
    "    hashrate_difference = data.hashrate - cur_hashrate\n",
    "    if hashrate_difference > 0:\n",
    "        # Network hashrate has increased, turn on/buy devices\n",
    "        prof_hardware = get_profitable_hardware(data, cur_hardware)\n",
    "        off_hardware = prof_hardware[prof_hardware['off_num'] >= 1]\n",
    "                \n",
    "        while cur_hashrate < data.hashrate and (not off_hardware.empty):\n",
    "            \n",
    "            best_off_hardware = get_turn_on_hardware(off_hardware)\n",
    "            \n",
    "            # Everything gets turned on OR the part needed for hashrate difference gets turned on\n",
    "            extra_hashing_power = min(best_off_hardware.off_num*best_off_hardware.hashing_power, hashrate_difference)\n",
    "            \n",
    "            num_to_on = extra_hashing_power/best_off_hardware.hashing_power\n",
    "            \n",
    "            hardware.loc[best_off_hardware.name, 'on_num'] += num_to_on\n",
    "            hardware.loc[best_off_hardware.name, 'off_num'] -= num_to_on\n",
    "            \n",
    "            cur_hashrate += extra_hashing_power\n",
    "            \n",
    "            # Refresh with new values\n",
    "            prof_hardware = hardware.loc[prof_hardware.index]\n",
    "            off_hardware = prof_hardware[prof_hardware['off_num'] >= 1]\n",
    "            \n",
    "        if off_hardware.empty and cur_hashrate < data.hashrate:\n",
    "            # Have to buy new hardware. Buy entire difference in hashrate from get_next_hardware\n",
    "            best_hardware = get_next_hardware(prof_hardware)\n",
    "            \n",
    "            num_extra = np.ceil(hashrate_difference/best_hardware.hashing_power)\n",
    "            \n",
    "            hardware.loc[best_hardware.name, 'on_num'] += num_extra\n",
    "            \n",
    "            cur_hashrate += num_extra*best_hardware.hashing_power\n",
    "                \n",
    "    elif hashrate_difference < 0:\n",
    "        # Network hashrate has decreased, turn off devices\n",
    "        on_hardware = hardware[hardware['on_num'] >= 1]\n",
    "        while cur_hashrate > data.hashrate:            \n",
    "            worst_on_hardware = get_turn_off_hardware(on_hardware)\n",
    "        \n",
    "            min_hashing_power = min(worst_on_hardware.on_num*worst_on_hardware.hashing_power, -hashrate_difference)\n",
    "            \n",
    "            num_to_off = np.floor(min_hashing_power/worst_on_hardware.hashing_power)\n",
    "            \n",
    "            hardware.loc[worst_on_hardware.name, 'on_num'] -= num_to_off\n",
    "            hardware.loc[worst_on_hardware.name, 'off_num'] += num_to_off\n",
    "            \n",
    "            cur_hashrate -= min_hashing_power\n",
    "            \n",
    "            # Refresh with new values\n",
    "            prof_hardware = hardware.loc[prof_hardware.index]\n",
    "            on_hardware = prof_hardware[prof_hardware['on_num'] >= 1]\n",
    "    else:\n",
    "        #print('hashrate_difference = 0')\n",
    "        pass\n",
    "    #hardware = replace_hardware(time, data, hardware)\n",
    "    cur_hashrate = np.sum(hardware['on_num']*hardware['hashing_power'])\n",
    "    consumption.append(calc_consumption(hardware)*W_to_TWh)  "
   ]
  },
  {
   "cell_type": "code",
   "execution_count": 574,
   "metadata": {},
   "outputs": [
    {
     "data": {
      "image/png": "[encoded data removed]",
      "text/plain": [
       "<Figure size 432x288 with 1 Axes>"
      ]
     },
     "metadata": {
      "needs_background": "light"
     },
     "output_type": "display_data"
    }
   ],
   "source": [
    "plt.plot(bitcoin.index,consumption)\n",
    "plt.show()"
   ]
  },
  {
   "cell_type": "code",
   "execution_count": 575,
   "metadata": {},
   "outputs": [
    {
     "data": {
      "text/html": [
       "<div>\n",
       "<style scoped>\n",
       "    .dataframe tbody tr th:only-of-type {\n",
       "        vertical-align: middle;\n",
       "    }\n",
       "\n",
       "    .dataframe tbody tr th {\n",
       "        vertical-align: top;\n",
       "    }\n",
       "\n",
       "    .dataframe thead th {\n",
       "        text-align: right;\n",
       "    }\n",
       "</style>\n",
       "<table border=\"1\" class=\"dataframe\">\n",
       "  <thead>\n",
       "    <tr style=\"text-align: right;\">\n",
       "      <th></th>\n",
       "      <th>name</th>\n",
       "      <th>release_date</th>\n",
       "      <th>consumption</th>\n",
       "      <th>hashing_power</th>\n",
       "      <th>off_num</th>\n",
       "      <th>on_num</th>\n",
       "    </tr>\n",
       "  </thead>\n",
       "  <tbody>\n",
       "    <tr>\n",
       "      <th>0</th>\n",
       "      <td>Bitmain Antminer S3</td>\n",
       "      <td>2014-07-01</td>\n",
       "      <td>7.660000e-10</td>\n",
       "      <td>4.780000e+11</td>\n",
       "      <td>603513.0</td>\n",
       "      <td>2.328306e-10</td>\n",
       "    </tr>\n",
       "    <tr>\n",
       "      <th>1</th>\n",
       "      <td>Bitmain Antminer S5</td>\n",
       "      <td>2014-12-01</td>\n",
       "      <td>5.110000e-10</td>\n",
       "      <td>1.000000e+12</td>\n",
       "      <td>99905.0</td>\n",
       "      <td>0.000000e+00</td>\n",
       "    </tr>\n",
       "    <tr>\n",
       "      <th>2</th>\n",
       "      <td>Bitmain Antminer S7</td>\n",
       "      <td>2015-09-01</td>\n",
       "      <td>2.730000e-10</td>\n",
       "      <td>5.000000e+12</td>\n",
       "      <td>212535.0</td>\n",
       "      <td>0.000000e+00</td>\n",
       "    </tr>\n",
       "    <tr>\n",
       "      <th>3</th>\n",
       "      <td>Bitmain Antminer S9 (11.5Th)</td>\n",
       "      <td>2016-06-01</td>\n",
       "      <td>9.800000e-11</td>\n",
       "      <td>1.200000e+13</td>\n",
       "      <td>126722.0</td>\n",
       "      <td>0.000000e+00</td>\n",
       "    </tr>\n",
       "    <tr>\n",
       "      <th>5</th>\n",
       "      <td>Bitmain Antminer R4</td>\n",
       "      <td>2017-02-01</td>\n",
       "      <td>9.710000e-11</td>\n",
       "      <td>9.000000e+12</td>\n",
       "      <td>1683537.0</td>\n",
       "      <td>2.328306e-10</td>\n",
       "    </tr>\n",
       "    <tr>\n",
       "      <th>20</th>\n",
       "      <td>Ebang Ebit E10</td>\n",
       "      <td>2018-02-01</td>\n",
       "      <td>9.170000e-11</td>\n",
       "      <td>1.800000e+13</td>\n",
       "      <td>123809.0</td>\n",
       "      <td>4.324930e+05</td>\n",
       "    </tr>\n",
       "    <tr>\n",
       "      <th>26</th>\n",
       "      <td>ASICminer 8 Nano Pro</td>\n",
       "      <td>2018-05-01</td>\n",
       "      <td>5.260000e-11</td>\n",
       "      <td>7.600000e+13</td>\n",
       "      <td>0.0</td>\n",
       "      <td>3.034700e+05</td>\n",
       "    </tr>\n",
       "    <tr>\n",
       "      <th>44</th>\n",
       "      <td>Ebang Ebit E11++</td>\n",
       "      <td>2018-10-01</td>\n",
       "      <td>4.500000e-11</td>\n",
       "      <td>4.400000e+13</td>\n",
       "      <td>0.0</td>\n",
       "      <td>1.846990e+05</td>\n",
       "    </tr>\n",
       "    <tr>\n",
       "      <th>56</th>\n",
       "      <td>Bitmain Antminer S17 Pro (53Th)</td>\n",
       "      <td>2019-04-01</td>\n",
       "      <td>3.950000e-11</td>\n",
       "      <td>5.300000e+13</td>\n",
       "      <td>0.0</td>\n",
       "      <td>9.218320e+05</td>\n",
       "    </tr>\n",
       "    <tr>\n",
       "      <th>57</th>\n",
       "      <td>Bitmain Antminer S17 Pro (50Th)</td>\n",
       "      <td>2019-04-01</td>\n",
       "      <td>3.950000e-11</td>\n",
       "      <td>5.000000e+13</td>\n",
       "      <td>0.0</td>\n",
       "      <td>5.420310e+05</td>\n",
       "    </tr>\n",
       "  </tbody>\n",
       "</table>\n",
       "</div>"
      ],
      "text/plain": [
       "                               name release_date   consumption  hashing_power  \\\n",
       "0               Bitmain Antminer S3   2014-07-01  7.660000e-10   4.780000e+11   \n",
       "1               Bitmain Antminer S5   2014-12-01  5.110000e-10   1.000000e+12   \n",
       "2               Bitmain Antminer S7   2015-09-01  2.730000e-10   5.000000e+12   \n",
       "3      Bitmain Antminer S9 (11.5Th)   2016-06-01  9.800000e-11   1.200000e+13   \n",
       "5               Bitmain Antminer R4   2017-02-01  9.710000e-11   9.000000e+12   \n",
       "20                   Ebang Ebit E10   2018-02-01  9.170000e-11   1.800000e+13   \n",
       "26             ASICminer 8 Nano Pro   2018-05-01  5.260000e-11   7.600000e+13   \n",
       "44                 Ebang Ebit E11++   2018-10-01  4.500000e-11   4.400000e+13   \n",
       "56  Bitmain Antminer S17 Pro (53Th)   2019-04-01  3.950000e-11   5.300000e+13   \n",
       "57  Bitmain Antminer S17 Pro (50Th)   2019-04-01  3.950000e-11   5.000000e+13   \n",
       "\n",
       "      off_num        on_num  \n",
       "0    603513.0  2.328306e-10  \n",
       "1     99905.0  0.000000e+00  \n",
       "2    212535.0  0.000000e+00  \n",
       "3    126722.0  0.000000e+00  \n",
       "5   1683537.0  2.328306e-10  \n",
       "20   123809.0  4.324930e+05  \n",
       "26        0.0  3.034700e+05  \n",
       "44        0.0  1.846990e+05  \n",
       "56        0.0  9.218320e+05  \n",
       "57        0.0  5.420310e+05  "
      ]
     },
     "execution_count": 575,
     "metadata": {},
     "output_type": "execute_result"
    }
   ],
   "source": [
    "hardware[(hardware['on_num'] > 0) | (hardware['off_num'] > 0)]"
   ]
  },
  {
   "cell_type": "code",
   "execution_count": 483,
   "metadata": {},
   "outputs": [
    {
     "data": {
      "text/plain": [
       "0.7837534571848889"
      ]
     },
     "execution_count": 483,
     "metadata": {},
     "output_type": "execute_result"
    }
   ],
   "source": [
    "(hardware.loc[56, 'on_num'] + hardware.loc[57, 'on_num']) / np.sum(hardware['on_num'])"
   ]
  },
  {
   "cell_type": "code",
   "execution_count": 484,
   "metadata": {},
   "outputs": [
    {
     "data": {
      "text/plain": [
       "difficulty    1.605609e+13\n",
       "revenue       2.055335e+02\n",
       "hashrate      1.149340e+20\n",
       "Name: 2020-05-10 00:00:00, dtype: float64"
      ]
     },
     "execution_count": 484,
     "metadata": {},
     "output_type": "execute_result"
    }
   ],
   "source": [
    "bitcoin.iloc[len(bitcoin)-1]"
   ]
  },
  {
   "cell_type": "code",
   "execution_count": 485,
   "metadata": {},
   "outputs": [
    {
     "data": {
      "text/plain": [
       "1.149339626427349e+20"
      ]
     },
     "execution_count": 485,
     "metadata": {},
     "output_type": "execute_result"
    }
   ],
   "source": [
    "np.sum(hardware['on_num']*hardware['hashing_power'])"
   ]
  },
  {
   "cell_type": "markdown",
   "metadata": {},
   "source": [
    "# Ethereum"
   ]
  },
  {
   "cell_type": "code",
   "execution_count": 488,
   "metadata": {},
   "outputs": [],
   "source": [
    "difficulty = pd.read_csv(ETH_PATH+'difficulty.csv')\n",
    "reward = pd.read_csv(ETH_PATH+'reward.csv')\n",
    "price = pd.read_csv(ETH_PATH+'price.csv')\n",
    "\n",
    "difficulty = difficulty.drop(columns='UnixTimeStamp')\n",
    "difficulty.columns = ['date', 'value']\n",
    "reward.columns = ['date', 'reward']\n",
    "price.columns = ['date', 'price']"
   ]
  },
  {
   "cell_type": "code",
   "execution_count": 489,
   "metadata": {},
   "outputs": [],
   "source": [
    "for data in [difficulty, reward, price]:\n",
    "    data['date'] = pd.to_datetime(data['date'])\n",
    "    data.set_index('date', inplace=True)"
   ]
  },
  {
   "cell_type": "code",
   "execution_count": 490,
   "metadata": {},
   "outputs": [],
   "source": [
    "difficulty = difficulty.groupby(pd.Grouper(freq='W')).mean()*10**12 # difficulty given in T per block\n",
    "reward = reward.groupby(pd.Grouper(freq='W')).mean()\n",
    "price = price.groupby(pd.Grouper(freq='W')).mean()\n",
    "revenue = reward.join(price)\n",
    "revenue['revenue'] = revenue['reward']*revenue['price']/seconds_in_day\n",
    "revenue = revenue[['revenue']]\n",
    "\n",
    "ethereum = revenue.join(difficulty)\n",
    "ethereum.columns = ['revenue', 'difficulty']"
   ]
  },
  {
   "cell_type": "code",
   "execution_count": 491,
   "metadata": {},
   "outputs": [
    {
     "data": {
      "image/png": "[encoded data removed]",
      "text/plain": [
       "<Figure size 1152x720 with 2 Axes>"
      ]
     },
     "metadata": {
      "needs_background": "light"
     },
     "output_type": "display_data"
    }
   ],
   "source": [
    "fig, ax1 = plt.subplots(figsize=(16,10))\n",
    "ax1.plot(ethereum['difficulty'],color=\"red\", label=\"difficulty\")\n",
    "ax1.legend()\n",
    "ax1.set_ylabel('difficulty')\n",
    "ax2 = ax1.twinx()\n",
    "ax2.plot(ethereum['revenue'], color=\"green\", label=\"revenue\")\n",
    "ax2.legend(loc='upper left')\n",
    "ax2.set_ylabel('revenue per second')\n",
    "plt.show()"
   ]
  },
  {
   "cell_type": "code",
   "execution_count": 492,
   "metadata": {},
   "outputs": [
    {
     "data": {
      "text/html": [
       "<div>\n",
       "<style scoped>\n",
       "    .dataframe tbody tr th:only-of-type {\n",
       "        vertical-align: middle;\n",
       "    }\n",
       "\n",
       "    .dataframe tbody tr th {\n",
       "        vertical-align: top;\n",
       "    }\n",
       "\n",
       "    .dataframe thead th {\n",
       "        text-align: right;\n",
       "    }\n",
       "</style>\n",
       "<table border=\"1\" class=\"dataframe\">\n",
       "  <thead>\n",
       "    <tr style=\"text-align: right;\">\n",
       "      <th></th>\n",
       "      <th>name</th>\n",
       "      <th>release_date</th>\n",
       "      <th>consumption</th>\n",
       "      <th>hashing_power</th>\n",
       "    </tr>\n",
       "  </thead>\n",
       "  <tbody>\n",
       "    <tr>\n",
       "      <th>0</th>\n",
       "      <td>Radeon HD 7870</td>\n",
       "      <td>2012-03-19</td>\n",
       "      <td>0.000017</td>\n",
       "      <td>10000000</td>\n",
       "    </tr>\n",
       "    <tr>\n",
       "      <th>1</th>\n",
       "      <td>GeForce GTX 680</td>\n",
       "      <td>2012-03-22</td>\n",
       "      <td>0.000013</td>\n",
       "      <td>15000000</td>\n",
       "    </tr>\n",
       "    <tr>\n",
       "      <th>2</th>\n",
       "      <td>GeForce GTX 660 Ti</td>\n",
       "      <td>2012-08-16</td>\n",
       "      <td>0.000013</td>\n",
       "      <td>12000000</td>\n",
       "    </tr>\n",
       "    <tr>\n",
       "      <th>3</th>\n",
       "      <td>GeForce GTX 650 Ti</td>\n",
       "      <td>2012-09-10</td>\n",
       "      <td>0.000011</td>\n",
       "      <td>10000000</td>\n",
       "    </tr>\n",
       "  </tbody>\n",
       "</table>\n",
       "</div>"
      ],
      "text/plain": [
       "                 name release_date  consumption  hashing_power\n",
       "0      Radeon HD 7870   2012-03-19     0.000017       10000000\n",
       "1     GeForce GTX 680   2012-03-22     0.000013       15000000\n",
       "2  GeForce GTX 660 Ti   2012-08-16     0.000013       12000000\n",
       "3  GeForce GTX 650 Ti   2012-09-10     0.000011       10000000"
      ]
     },
     "execution_count": 492,
     "metadata": {},
     "output_type": "execute_result"
    }
   ],
   "source": [
    "ethash_hardware = pd.read_csv(HARDWARE_PATH+'Ethash_hardware_clean.csv',index_col=0)\n",
    "# Initialisation\n",
    "hardware = ethash_hardware[['name', 'release_date', 'consumption', 'hashing_power']].copy()\n",
    "hardware['release_date'] = pd.to_datetime(hardware['release_date'])\n",
    "hardware[:4]"
   ]
  },
  {
   "cell_type": "code",
   "execution_count": 493,
   "metadata": {},
   "outputs": [],
   "source": [
    "# Select only from first hardware available in dataset\n",
    "ethereum = ethereum[ethereum.index > ethash_hardware.loc[0,'release_date']]\n",
    "\n",
    "# Difficulty to hashrate\n",
    "ethereum['hashrate'] = ethereum['difficulty']*1/ETH_block_time"
   ]
  },
  {
   "cell_type": "code",
   "execution_count": 494,
   "metadata": {},
   "outputs": [],
   "source": [
    "hardware['off_num'] = 0\n",
    "hardware['on_num'] = 0\n",
    "\n",
    "cur_hashrate = 0\n",
    "consumption = []\n",
    "for time, data in ethereum.iterrows():\n",
    "    cur_hardware = hardware[hardware.release_date < time]\n",
    "    hashrate_difference = data.hashrate - cur_hashrate\n",
    "    if hashrate_difference > 0:\n",
    "        # Network hashrate has increased, turn on/buy devices\n",
    "        prof_hardware = get_profitable_hardware(data, cur_hardware)\n",
    "        off_hardware = prof_hardware[prof_hardware['off_num'] >= 1]\n",
    "                \n",
    "        while cur_hashrate < data.hashrate and (not off_hardware.empty):\n",
    "            \n",
    "            best_off_hardware = get_turn_on_hardware(off_hardware)\n",
    "            \n",
    "            # Everything gets turned on OR the part needed for hashrate difference gets turned on\n",
    "            extra_hashing_power = min(best_off_hardware.off_num*best_off_hardware.hashing_power, hashrate_difference)\n",
    "            \n",
    "            num_to_on = extra_hashing_power/best_off_hardware.hashing_power\n",
    "            \n",
    "            hardware.loc[best_off_hardware.name, 'on_num'] += num_to_on\n",
    "            hardware.loc[best_off_hardware.name, 'off_num'] -= num_to_on\n",
    "            \n",
    "            cur_hashrate += extra_hashing_power\n",
    "            \n",
    "            # Refresh with new values\n",
    "            prof_hardware = hardware.loc[prof_hardware.index]\n",
    "            off_hardware = prof_hardware[prof_hardware['off_num'] >= 1]\n",
    "            \n",
    "        if off_hardware.empty and cur_hashrate < data.hashrate:\n",
    "            # Have to buy new hardware. Buy entire difference in hashrate from get_next_hardware\n",
    "            best_hardware = get_next_hardware(prof_hardware)\n",
    "            \n",
    "            num_extra = np.ceil(hashrate_difference/best_hardware.hashing_power)\n",
    "            \n",
    "            hardware.loc[best_hardware.name, 'on_num'] += num_extra\n",
    "            \n",
    "            cur_hashrate += num_extra*best_hardware.hashing_power\n",
    "                \n",
    "    elif hashrate_difference < 0:\n",
    "        # Network hashrate has decreased, turn off devices\n",
    "        on_hardware = hardware[hardware['on_num'] >= 1]\n",
    "        while cur_hashrate > data.hashrate:            \n",
    "            worst_on_hardware = get_turn_off_hardware(on_hardware)\n",
    "        \n",
    "            min_hashing_power = min(worst_on_hardware.on_num*worst_on_hardware.hashing_power, -hashrate_difference)\n",
    "            \n",
    "            num_to_off = np.floor(min_hashing_power/worst_on_hardware.hashing_power)\n",
    "            \n",
    "            hardware.loc[worst_on_hardware.name, 'on_num'] -= num_to_off\n",
    "            hardware.loc[worst_on_hardware.name, 'off_num'] += num_to_off\n",
    "            \n",
    "            cur_hashrate -= min_hashing_power\n",
    "            \n",
    "            # Refresh with new values\n",
    "            prof_hardware = hardware.loc[prof_hardware.index]\n",
    "            on_hardware = prof_hardware[prof_hardware['on_num'] >= 1]\n",
    "    else:\n",
    "        #print('hashrate_difference = 0')\n",
    "        pass\n",
    "    hardware = replace_hardware(time, data, hardware)\n",
    "    cur_hashrate = np.sum(hardware['on_num']*hardware['hashing_power'])\n",
    "    consumption.append(calc_consumption(hardware)*W_to_TWh)  "
   ]
  },
  {
   "cell_type": "code",
   "execution_count": 504,
   "metadata": {},
   "outputs": [
    {
     "data": {
      "image/png": "[encoded data removed]",
      "text/plain": [
       "<Figure size 432x288 with 1 Axes>"
      ]
     },
     "metadata": {
      "needs_background": "light"
     },
     "output_type": "display_data"
    }
   ],
   "source": [
    "plt.plot(ethereum.index,consumption)\n",
    "plt.ylabel('TWh/year')\n",
    "plt.show()"
   ]
  },
  {
   "cell_type": "code",
   "execution_count": 505,
   "metadata": {},
   "outputs": [
    {
     "data": {
      "text/html": [
       "<div>\n",
       "<style scoped>\n",
       "    .dataframe tbody tr th:only-of-type {\n",
       "        vertical-align: middle;\n",
       "    }\n",
       "\n",
       "    .dataframe tbody tr th {\n",
       "        vertical-align: top;\n",
       "    }\n",
       "\n",
       "    .dataframe thead th {\n",
       "        text-align: right;\n",
       "    }\n",
       "</style>\n",
       "<table border=\"1\" class=\"dataframe\">\n",
       "  <thead>\n",
       "    <tr style=\"text-align: right;\">\n",
       "      <th></th>\n",
       "      <th>name</th>\n",
       "      <th>release_date</th>\n",
       "      <th>consumption</th>\n",
       "      <th>hashing_power</th>\n",
       "      <th>off_num</th>\n",
       "      <th>on_num</th>\n",
       "    </tr>\n",
       "  </thead>\n",
       "  <tbody>\n",
       "    <tr>\n",
       "      <th>17</th>\n",
       "      <td>GeForce GTX Titan X</td>\n",
       "      <td>2015-03-17</td>\n",
       "      <td>0.000006</td>\n",
       "      <td>40000000</td>\n",
       "      <td>1.493700e+04</td>\n",
       "      <td>0.000000e+00</td>\n",
       "    </tr>\n",
       "    <tr>\n",
       "      <th>27</th>\n",
       "      <td>Radeon Rx 480</td>\n",
       "      <td>2016-01-06</td>\n",
       "      <td>0.000006</td>\n",
       "      <td>25000000</td>\n",
       "      <td>1.361640e+05</td>\n",
       "      <td>0.000000e+00</td>\n",
       "    </tr>\n",
       "    <tr>\n",
       "      <th>31</th>\n",
       "      <td>GeForce GTX 1060</td>\n",
       "      <td>2016-08-18</td>\n",
       "      <td>0.000005</td>\n",
       "      <td>24000000</td>\n",
       "      <td>1.475207e+05</td>\n",
       "      <td>3.115079e-01</td>\n",
       "    </tr>\n",
       "    <tr>\n",
       "      <th>32</th>\n",
       "      <td>Radeon GTX 1050 Ti</td>\n",
       "      <td>2016-10-25</td>\n",
       "      <td>0.000005</td>\n",
       "      <td>15000000</td>\n",
       "      <td>2.420000e+02</td>\n",
       "      <td>0.000000e+00</td>\n",
       "    </tr>\n",
       "    <tr>\n",
       "      <th>37</th>\n",
       "      <td>Radeon RX 550</td>\n",
       "      <td>2017-04-20</td>\n",
       "      <td>0.000005</td>\n",
       "      <td>11000000</td>\n",
       "      <td>6.297082e+06</td>\n",
       "      <td>9.993606e+06</td>\n",
       "    </tr>\n",
       "    <tr>\n",
       "      <th>42</th>\n",
       "      <td>GeForce GTX 1070 Ti</td>\n",
       "      <td>2017-02-11</td>\n",
       "      <td>0.000005</td>\n",
       "      <td>32000000</td>\n",
       "      <td>3.145870e+05</td>\n",
       "      <td>0.000000e+00</td>\n",
       "    </tr>\n",
       "    <tr>\n",
       "      <th>43</th>\n",
       "      <td>GTX Titan V</td>\n",
       "      <td>2017-12-13</td>\n",
       "      <td>0.000003</td>\n",
       "      <td>77000000</td>\n",
       "      <td>0.000000e+00</td>\n",
       "      <td>5.344450e+05</td>\n",
       "    </tr>\n",
       "  </tbody>\n",
       "</table>\n",
       "</div>"
      ],
      "text/plain": [
       "                   name release_date  consumption  hashing_power  \\\n",
       "17  GeForce GTX Titan X   2015-03-17     0.000006       40000000   \n",
       "27        Radeon Rx 480   2016-01-06     0.000006       25000000   \n",
       "31     GeForce GTX 1060   2016-08-18     0.000005       24000000   \n",
       "32   Radeon GTX 1050 Ti   2016-10-25     0.000005       15000000   \n",
       "37        Radeon RX 550   2017-04-20     0.000005       11000000   \n",
       "42  GeForce GTX 1070 Ti   2017-02-11     0.000005       32000000   \n",
       "43          GTX Titan V   2017-12-13     0.000003       77000000   \n",
       "\n",
       "         off_num        on_num  \n",
       "17  1.493700e+04  0.000000e+00  \n",
       "27  1.361640e+05  0.000000e+00  \n",
       "31  1.475207e+05  3.115079e-01  \n",
       "32  2.420000e+02  0.000000e+00  \n",
       "37  6.297082e+06  9.993606e+06  \n",
       "42  3.145870e+05  0.000000e+00  \n",
       "43  0.000000e+00  5.344450e+05  "
      ]
     },
     "execution_count": 505,
     "metadata": {},
     "output_type": "execute_result"
    }
   ],
   "source": [
    "hardware[(hardware['on_num'] > 0) | (hardware['off_num'] > 0)]"
   ]
  },
  {
   "cell_type": "code",
   "execution_count": 497,
   "metadata": {},
   "outputs": [
    {
     "data": {
      "text/plain": [
       "revenue       3.235190e+01\n",
       "difficulty    2.266229e+15\n",
       "hashrate      1.510819e+14\n",
       "Name: 2020-05-17 00:00:00, dtype: float64"
      ]
     },
     "execution_count": 497,
     "metadata": {},
     "output_type": "execute_result"
    }
   ],
   "source": [
    "ethereum.iloc[len(ethereum)-1]"
   ]
  },
  {
   "cell_type": "code",
   "execution_count": 498,
   "metadata": {},
   "outputs": [
    {
     "data": {
      "text/plain": [
       "151081939999999.97"
      ]
     },
     "execution_count": 498,
     "metadata": {},
     "output_type": "execute_result"
    }
   ],
   "source": [
    "np.sum(hardware['on_num']*hardware['hashing_power'])"
   ]
  },
  {
   "cell_type": "code",
   "execution_count": 499,
   "metadata": {},
   "outputs": [
    {
     "data": {
      "text/plain": [
       "revenue       3.235190e+01\n",
       "difficulty    2.266229e+15\n",
       "hashrate      1.510819e+14\n",
       "Name: 2020-05-17 00:00:00, dtype: float64"
      ]
     },
     "execution_count": 499,
     "metadata": {},
     "output_type": "execute_result"
    }
   ],
   "source": [
    "ethereum.loc['2020-05-17']"
   ]
  },
  {
   "cell_type": "code",
   "execution_count": null,
   "metadata": {},
   "outputs": [],
   "source": []
  }
 ],
 "metadata": {
  "kernelspec": {
   "display_name": "Python 3",
   "language": "python",
   "name": "python3"
  },
  "language_info": {
   "codemirror_mode": {
    "name": "ipython",
    "version": 3
   },
   "file_extension": ".py",
   "mimetype": "text/x-python",
   "name": "python",
   "nbconvert_exporter": "python",
   "pygments_lexer": "ipython3",
   "version": "3.8.2"
  }
 },
 "nbformat": 4,
 "nbformat_minor": 4
}
