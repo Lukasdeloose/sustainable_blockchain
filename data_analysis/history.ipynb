{
 "cells": [
  {
   "cell_type": "markdown",
   "metadata": {},
   "source": [
    "# Introduction"
   ]
  },
  {
   "cell_type": "code",
   "execution_count": 1,
   "metadata": {},
   "outputs": [],
   "source": [
    "# Import libraries\n",
    "import os\n",
    "import json\n",
    "import pandas as pd\n",
    "import numpy as np\n",
    "import matplotlib.pyplot as plt\n",
    "import urllib.request\n",
    "from ipywidgets import *\n",
    "from datetime import datetime, timedelta\n",
    "from IPython.display import Image\n",
    "from matplotlib.dates import DateFormatter"
   ]
  },
  {
   "cell_type": "code",
   "execution_count": 2,
   "metadata": {},
   "outputs": [],
   "source": [
    "DATA_PATH = 'data/'\n",
    "BTC_PATH = DATA_PATH + 'bitcoin/'\n",
    "ETH_PATH = DATA_PATH + 'ethereum/'\n",
    "HARDWARE_PATH = DATA_PATH+'hardware/'\n",
    "FIG_PATH = '../../images/'"
   ]
  },
  {
   "cell_type": "code",
   "execution_count": 3,
   "metadata": {},
   "outputs": [],
   "source": [
    "seconds_in_year = 31536000\n",
    "hours_in_year = 8760\n",
    "seconds_in_day = 86400\n",
    "kWh_to_J = 3600*10**3\n",
    "W_to_TWh = hours_in_year/(10**12)\n",
    "\n",
    "std_PUE = {'lower': 1, 'estimate': 1.1, 'upper':1.2}\n",
    "revenue_percent = 0.60\n",
    "\n",
    "BTC_block_time = 600\n",
    "BTC_difficulty_factor = 2**32\n",
    "\n",
    "ETH_block_time = 15\n",
    "ETH_difficulty_factor = 1\n",
    "\n",
    "\n",
    "# Plots\n",
    "date_form = DateFormatter(\"%m-%d\")"
   ]
  },
  {
   "cell_type": "code",
   "execution_count": 4,
   "metadata": {},
   "outputs": [],
   "source": [
    "def hashrate_from_difficulty(difficulty):\n",
    "    return difficulty*BTC_difficulty_factor/BTC_block_time"
   ]
  },
  {
   "cell_type": "markdown",
   "metadata": {},
   "source": [
    "## Geography "
   ]
  },
  {
   "cell_type": "code",
   "execution_count": 5,
   "metadata": {},
   "outputs": [],
   "source": [
    "# US: https://www.statista.com/statistics/190680/us-industrial-consumer-price-estimates-for-retail-electricity-since-1970/\n",
    "# China: https://www.mondaq.com/china/oil-gas-electricity/804336/china-electricity-prices-for-industrial-consumers\n",
    "# Russia: https://www.mondaq.com/china/oil-gas-electricity/804336/china-electricity-prices-for-industrial-consumers\n",
    "# Kazakhstan: https://www.globalpetrolprices.com/Kazakhstan/electricity_prices/\n",
    "# Malaysia: https://www.globalpetrolprices.com/Malaysia/electricity_prices/\n",
    "# Iran: https://financialtribune.com/articles/energy/97278/rise-in-electricity-and-water-tariffs-in-iran"
   ]
  },
  {
   "cell_type": "code",
   "execution_count": 68,
   "metadata": {},
   "outputs": [],
   "source": [
    "wet_months = [10,11,12,1,2,3,4]"
   ]
  },
  {
   "cell_type": "code",
   "execution_count": 31,
   "metadata": {},
   "outputs": [],
   "source": [
    "data = {'location': ['China', 'US', 'Russia', 'Kazakhstan', 'Malaysia','Iran','Canada','Norway','Germany'],\n",
    "        'share': [66.17, 7.15, 6.43, 5.89, 4.22, 3.67, 0.80, 0.67, 0.5],\n",
    "        'price_wet': [0.035, 0.054, 0.041, 0.052, 0.01, 0.07, 0.058, 0.08, 0.2],\n",
    "        'price_dry': [0.06, 0.054, 0.041, 0.052, 0.01, 0.07, 0.058, 0.08, 0.2],\n",
    "        'renewable': [0.90, 0.69, 0.44, 0.12, 0.02, 0, 0.76, 0.99, 0.46]}\n",
    "CBECI_geography = pd.DataFrame(data).set_index('location')\n",
    "CBECI_geography['share'] = CBECI_geography['share']/100 \n",
    "CBECI_geography['price_wet'] = CBECI_geography['price_wet']\n",
    "CBECI_geography['price_dry'] = CBECI_geography['price_dry']\n",
    "CBECI_geography.loc['RoW'] = [1-np.sum(CBECI_geography['share']), 0.084, 0.084, 0.26]"
   ]
  },
  {
   "cell_type": "code",
   "execution_count": 34,
   "metadata": {},
   "outputs": [],
   "source": [
    "# https://docs.google.com/spreadsheets/d/1SWpxjoYNBVADs7Yc4x85bZvychc8GVXCJlI1lmMYT_4/edit#gid=1054902448\n",
    "shares = [0.3649,0.0974,0.0822,0.055,0.015]\n",
    "price_wet = [0.035,0.035,0.035,0.035,0.035]\n",
    "price_dry = [0.06, 0.06,0.035,0.035,0.035]\n",
    "renewable = [0.36, 0.90, 0.16, 0.70, 0.08]                                                                           \n",
    "\n",
    "RoC_share = CBECI_geography.loc['China', 'share'] - np.sum(shares)\n",
    "china_data = {'location': ['Xinjiang', 'Sichuan', 'Nei Mongol', 'Yunnan', 'Beijing'],\n",
    "             'share': shares,\n",
    "             'price_wet': price_wet,\n",
    "             'price_dry': price_dry,\n",
    "             'renewable': renewable}    \n",
    "china_geography = pd.DataFrame(china_data).set_index('location')\n",
    "\n",
    "china_geography.loc['RoC'] = [RoC_share, 0.035, 0.035, 0.47]"
   ]
  },
  {
   "cell_type": "code",
   "execution_count": 35,
   "metadata": {},
   "outputs": [
    {
     "data": {
      "text/html": [
       "<div>\n",
       "<style scoped>\n",
       "    .dataframe tbody tr th:only-of-type {\n",
       "        vertical-align: middle;\n",
       "    }\n",
       "\n",
       "    .dataframe tbody tr th {\n",
       "        vertical-align: top;\n",
       "    }\n",
       "\n",
       "    .dataframe thead th {\n",
       "        text-align: right;\n",
       "    }\n",
       "</style>\n",
       "<table border=\"1\" class=\"dataframe\">\n",
       "  <thead>\n",
       "    <tr style=\"text-align: right;\">\n",
       "      <th></th>\n",
       "      <th>share</th>\n",
       "      <th>price_wet</th>\n",
       "      <th>price_dry</th>\n",
       "      <th>renewable</th>\n",
       "    </tr>\n",
       "    <tr>\n",
       "      <th>location</th>\n",
       "      <th></th>\n",
       "      <th></th>\n",
       "      <th></th>\n",
       "      <th></th>\n",
       "    </tr>\n",
       "  </thead>\n",
       "  <tbody>\n",
       "    <tr>\n",
       "      <th>Xinjiang</th>\n",
       "      <td>0.3649</td>\n",
       "      <td>0.035</td>\n",
       "      <td>0.060</td>\n",
       "      <td>0.36</td>\n",
       "    </tr>\n",
       "    <tr>\n",
       "      <th>Sichuan</th>\n",
       "      <td>0.0974</td>\n",
       "      <td>0.035</td>\n",
       "      <td>0.060</td>\n",
       "      <td>0.90</td>\n",
       "    </tr>\n",
       "    <tr>\n",
       "      <th>Nei Mongol</th>\n",
       "      <td>0.0822</td>\n",
       "      <td>0.035</td>\n",
       "      <td>0.035</td>\n",
       "      <td>0.16</td>\n",
       "    </tr>\n",
       "    <tr>\n",
       "      <th>US</th>\n",
       "      <td>0.0715</td>\n",
       "      <td>0.054</td>\n",
       "      <td>0.054</td>\n",
       "      <td>0.69</td>\n",
       "    </tr>\n",
       "    <tr>\n",
       "      <th>Russia</th>\n",
       "      <td>0.0643</td>\n",
       "      <td>0.041</td>\n",
       "      <td>0.041</td>\n",
       "      <td>0.44</td>\n",
       "    </tr>\n",
       "    <tr>\n",
       "      <th>Kazakhstan</th>\n",
       "      <td>0.0589</td>\n",
       "      <td>0.052</td>\n",
       "      <td>0.052</td>\n",
       "      <td>0.12</td>\n",
       "    </tr>\n",
       "    <tr>\n",
       "      <th>Yunnan</th>\n",
       "      <td>0.0550</td>\n",
       "      <td>0.035</td>\n",
       "      <td>0.035</td>\n",
       "      <td>0.70</td>\n",
       "    </tr>\n",
       "    <tr>\n",
       "      <th>RoC</th>\n",
       "      <td>0.0472</td>\n",
       "      <td>0.035</td>\n",
       "      <td>0.035</td>\n",
       "      <td>0.47</td>\n",
       "    </tr>\n",
       "    <tr>\n",
       "      <th>RoW</th>\n",
       "      <td>0.0450</td>\n",
       "      <td>0.084</td>\n",
       "      <td>0.084</td>\n",
       "      <td>0.26</td>\n",
       "    </tr>\n",
       "    <tr>\n",
       "      <th>Malaysia</th>\n",
       "      <td>0.0422</td>\n",
       "      <td>0.010</td>\n",
       "      <td>0.010</td>\n",
       "      <td>0.02</td>\n",
       "    </tr>\n",
       "    <tr>\n",
       "      <th>Iran</th>\n",
       "      <td>0.0367</td>\n",
       "      <td>0.070</td>\n",
       "      <td>0.070</td>\n",
       "      <td>0.00</td>\n",
       "    </tr>\n",
       "    <tr>\n",
       "      <th>Beijing</th>\n",
       "      <td>0.0150</td>\n",
       "      <td>0.035</td>\n",
       "      <td>0.035</td>\n",
       "      <td>0.08</td>\n",
       "    </tr>\n",
       "    <tr>\n",
       "      <th>Canada</th>\n",
       "      <td>0.0080</td>\n",
       "      <td>0.058</td>\n",
       "      <td>0.058</td>\n",
       "      <td>0.76</td>\n",
       "    </tr>\n",
       "    <tr>\n",
       "      <th>Norway</th>\n",
       "      <td>0.0067</td>\n",
       "      <td>0.080</td>\n",
       "      <td>0.080</td>\n",
       "      <td>0.99</td>\n",
       "    </tr>\n",
       "    <tr>\n",
       "      <th>Germany</th>\n",
       "      <td>0.0050</td>\n",
       "      <td>0.200</td>\n",
       "      <td>0.200</td>\n",
       "      <td>0.46</td>\n",
       "    </tr>\n",
       "  </tbody>\n",
       "</table>\n",
       "</div>"
      ],
      "text/plain": [
       "             share  price_wet  price_dry  renewable\n",
       "location                                           \n",
       "Xinjiang    0.3649      0.035      0.060       0.36\n",
       "Sichuan     0.0974      0.035      0.060       0.90\n",
       "Nei Mongol  0.0822      0.035      0.035       0.16\n",
       "US          0.0715      0.054      0.054       0.69\n",
       "Russia      0.0643      0.041      0.041       0.44\n",
       "Kazakhstan  0.0589      0.052      0.052       0.12\n",
       "Yunnan      0.0550      0.035      0.035       0.70\n",
       "RoC         0.0472      0.035      0.035       0.47\n",
       "RoW         0.0450      0.084      0.084       0.26\n",
       "Malaysia    0.0422      0.010      0.010       0.02\n",
       "Iran        0.0367      0.070      0.070       0.00\n",
       "Beijing     0.0150      0.035      0.035       0.08\n",
       "Canada      0.0080      0.058      0.058       0.76\n",
       "Norway      0.0067      0.080      0.080       0.99\n",
       "Germany     0.0050      0.200      0.200       0.46"
      ]
     },
     "execution_count": 35,
     "metadata": {},
     "output_type": "execute_result"
    }
   ],
   "source": [
    "total_geography = CBECI_geography.append(china_geography).drop('China').sort_values(by='share', ascending=False)\n",
    "total_geography"
   ]
  },
  {
   "cell_type": "code",
   "execution_count": 57,
   "metadata": {},
   "outputs": [
    {
     "data": {
      "text/html": [
       "<div>\n",
       "<style scoped>\n",
       "    .dataframe tbody tr th:only-of-type {\n",
       "        vertical-align: middle;\n",
       "    }\n",
       "\n",
       "    .dataframe tbody tr th {\n",
       "        vertical-align: top;\n",
       "    }\n",
       "\n",
       "    .dataframe thead th {\n",
       "        text-align: right;\n",
       "    }\n",
       "</style>\n",
       "<table border=\"1\" class=\"dataframe\">\n",
       "  <thead>\n",
       "    <tr style=\"text-align: right;\">\n",
       "      <th></th>\n",
       "      <th>share</th>\n",
       "      <th>wet_price</th>\n",
       "      <th>dry_price</th>\n",
       "    </tr>\n",
       "  </thead>\n",
       "  <tbody>\n",
       "    <tr>\n",
       "      <th>world</th>\n",
       "      <td>1</td>\n",
       "      <td>0.041491</td>\n",
       "      <td>0.053048</td>\n",
       "    </tr>\n",
       "  </tbody>\n",
       "</table>\n",
       "</div>"
      ],
      "text/plain": [
       "       share  wet_price  dry_price\n",
       "world      1   0.041491   0.053048"
      ]
     },
     "execution_count": 57,
     "metadata": {},
     "output_type": "execute_result"
    }
   ],
   "source": [
    "avg_elec_price_wet = np.sum(total_geography.share*total_geography.price_wet)\n",
    "avg_elec_price_dry = np.sum(total_geography.share*total_geography.price_dry)\n",
    "avg_geography = pd.DataFrame({'share':1, 'wet_price':avg_elec_price_wet, 'dry_price':avg_elec_price_dry}, index=['world'])\n",
    "avg_geography"
   ]
  },
  {
   "cell_type": "markdown",
   "metadata": {},
   "source": [
    "## Functions"
   ]
  },
  {
   "cell_type": "code",
   "execution_count": 60,
   "metadata": {},
   "outputs": [],
   "source": [
    "def calc_profitability_threshold(data, PUE, elec_price, growth_factor):\n",
    "    rev_per_hash = data['revenue']*growth_factor/data['hashrate'] #$/h\n",
    "    return rev_per_hash/(elec_price*PUE)\n",
    "\n",
    "def is_profitable(hardware, data, PUE, elec_price, growth_factor=1):\n",
    "    profitability_threshold = calc_profitability_threshold(data, PUE, elec_price, growth_factor)\n",
    "    # consumption is J/h, if smaller, more efficient\n",
    "    if hardware['consumption'] < profitability_threshold:\n",
    "        return True\n",
    "    else:\n",
    "        return False\n",
    "    \n",
    "def get_profitable_hardware(data, hardware, elec_price, PUE_dict = std_PUE, bound = 'estimate', PUE_fix = True, growth_factor = 1):\n",
    "    if bound == \"lower\":\n",
    "        prof_hardware = hardware[hardware.apply(lambda x: is_profitable(x, data, PUE_dict['lower'], elec_price),axis=1)]\n",
    "    elif bound == \"upper\":\n",
    "        prof_hardware = hardware[hardware.apply(lambda x: is_profitable(x, data, PUE_dict['upper'], elec_price),axis=1)]\n",
    "    else:\n",
    "        prof_hardware = hardware[hardware.apply(lambda x: is_profitable(x, data, PUE_dict['estimate'], elec_price),axis=1)]\n",
    "    if prof_hardware.empty and PUE_fix:\n",
    "        prof_hardware = hardware[hardware.consumption == hardware.consumption.min()]\n",
    "    return prof_hardware"
   ]
  },
  {
   "cell_type": "code",
   "execution_count": 38,
   "metadata": {},
   "outputs": [],
   "source": [
    "def get_buy_hardware(hardware):\n",
    "    return hardware.sort_values(by='consumption').iloc[0]\n",
    "\n",
    "def get_turn_on_hardware(hardware):\n",
    "    return hardware.sort_values(by='consumption').iloc[0]\n",
    "\n",
    "def get_turn_off_hardware(hardware): \n",
    "    return hardware.sort_values(by='consumption', ascending=False).iloc[0]"
   ]
  },
  {
   "cell_type": "code",
   "execution_count": 39,
   "metadata": {},
   "outputs": [],
   "source": [
    "def calc_consumption(hardware):\n",
    "    # TODO: bounds\n",
    "    return np.sum(hardware['on_num']*hardware['hashing_power']*hardware['consumption'])"
   ]
  },
  {
   "cell_type": "code",
   "execution_count": 193,
   "metadata": {},
   "outputs": [],
   "source": [
    "def replace_hardware(time, data, hardware, elec_price, share=0.01):\n",
    "    \"\"\"\n",
    "    Replace 1% of hashrate each iteration\n",
    "    \"\"\" \n",
    "    # Next hardware\n",
    "    cur_hardware = hardware[hardware.release_date < time]\n",
    "    prof_hardware = get_profitable_hardware(data, cur_hardware, elec_price)\n",
    "    best_hardware = get_buy_hardware(prof_hardware)\n",
    "\n",
    "    hashrate_share = data.hashrate*share\n",
    "    total_replaced_hashrate = 0 \n",
    "    \n",
    "    while total_replaced_hashrate < hashrate_share:\n",
    "        on_hardware = hardware[hardware['on_num'] >= 1]  \n",
    "        to_replace_hardware = get_turn_off_hardware(on_hardware)\n",
    "        \n",
    "        num_to_off = np.ceil(min(hashrate_share/to_replace_hardware.hashing_power, to_replace_hardware.on_num))     \n",
    "        hardware.loc[to_replace_hardware.name, 'on_num'] -= num_to_off\n",
    "        hardware.loc[to_replace_hardware.name, 'off_num'] += num_to_off\n",
    "        \n",
    "        cur_replaced_hashrate = num_to_off*to_replace_hardware.hashing_power\n",
    "        num_extra = np.ceil(cur_replaced_hashrate/best_hardware.hashing_power)\n",
    "        hardware.loc[best_hardware.name, 'on_num'] += num_extra\n",
    "        \n",
    "        total_replaced_hashrate += cur_replaced_hashrate\n",
    "\n",
    "    return hardware"
   ]
  },
  {
   "cell_type": "code",
   "execution_count": 171,
   "metadata": {},
   "outputs": [
    {
     "data": {
      "text/plain": [
       "name             Bitmain Antminer S19 Pro (110Th)\n",
       "release_date                  2020-05-01 00:00:00\n",
       "consumption                             2.955e-11\n",
       "hashing_power                             1.1e+14\n",
       "efficiency                            3.38409e+10\n",
       "off_num                                         0\n",
       "on_num                                          0\n",
       "Name: 82, dtype: object"
      ]
     },
     "execution_count": 171,
     "metadata": {},
     "output_type": "execute_result"
    }
   ],
   "source": [
    "hardware.loc[get_turn_on_hardware(hardware).name]"
   ]
  },
  {
   "cell_type": "markdown",
   "metadata": {},
   "source": [
    "# Bitcoin"
   ]
  },
  {
   "cell_type": "markdown",
   "metadata": {},
   "source": [
    "## Loading history"
   ]
  },
  {
   "cell_type": "code",
   "execution_count": 352,
   "metadata": {},
   "outputs": [],
   "source": [
    "# https://www.blockchain.com/charts/difficulty\n",
    "difficulty = pd.read_csv(BTC_PATH+'difficulty.csv')\n",
    "# https://www.blockchain.com/charts/miners-revenue\n",
    "revenue = pd.read_csv(BTC_PATH+'miners-revenue.csv')\n",
    "# https://www.blockchain.com/charts/market-price\n",
    "price = pd.read_csv(BTC_PATH+'price.csv')\n",
    "\n",
    "difficulty['Timestamp'] = pd.to_datetime(difficulty['Timestamp'])\n",
    "revenue['Timestamp'] = pd.to_datetime(revenue['Timestamp'])\n",
    "price['Timestamp'] = pd.to_datetime(price['Timestamp'])\n",
    "\n",
    "difficulty = difficulty.rename(columns={'Timestamp': 'timestamp'}).set_index('timestamp')\n",
    "revenue = revenue.rename(columns={'Timestamp': 'timestamp', 'miners-revenue': 'revenue'}).set_index('timestamp')\n",
    "price = price.rename(columns={'Timestamp': 'timestamp', 'market-price': 'price'}).set_index('timestamp')"
   ]
  },
  {
   "cell_type": "code",
   "execution_count": 353,
   "metadata": {},
   "outputs": [],
   "source": [
    "revenue = revenue.groupby(pd.Grouper(freq='W')).mean()\n",
    "revenue = revenue/seconds_in_day\n",
    "difficulty = difficulty.groupby(pd.Grouper(freq='W')).mean()\n",
    "bitcoin = difficulty.join(revenue).dropna()"
   ]
  },
  {
   "cell_type": "code",
   "execution_count": 354,
   "metadata": {},
   "outputs": [
    {
     "data": {
      "text/html": [
       "<div>\n",
       "<style scoped>\n",
       "    .dataframe tbody tr th:only-of-type {\n",
       "        vertical-align: middle;\n",
       "    }\n",
       "\n",
       "    .dataframe tbody tr th {\n",
       "        vertical-align: top;\n",
       "    }\n",
       "\n",
       "    .dataframe thead th {\n",
       "        text-align: right;\n",
       "    }\n",
       "</style>\n",
       "<table border=\"1\" class=\"dataframe\">\n",
       "  <thead>\n",
       "    <tr style=\"text-align: right;\">\n",
       "      <th></th>\n",
       "      <th>difficulty</th>\n",
       "      <th>revenue</th>\n",
       "      <th>price</th>\n",
       "    </tr>\n",
       "    <tr>\n",
       "      <th>timestamp</th>\n",
       "      <th></th>\n",
       "      <th></th>\n",
       "      <th></th>\n",
       "    </tr>\n",
       "  </thead>\n",
       "  <tbody>\n",
       "    <tr>\n",
       "      <th>2009-01-25</th>\n",
       "      <td>1.000000e+00</td>\n",
       "      <td>0.000000</td>\n",
       "      <td>0.000000</td>\n",
       "    </tr>\n",
       "    <tr>\n",
       "      <th>2009-02-01</th>\n",
       "      <td>1.000000e+00</td>\n",
       "      <td>0.000000</td>\n",
       "      <td>0.000000</td>\n",
       "    </tr>\n",
       "    <tr>\n",
       "      <th>2009-02-08</th>\n",
       "      <td>1.000000e+00</td>\n",
       "      <td>0.000000</td>\n",
       "      <td>0.000000</td>\n",
       "    </tr>\n",
       "    <tr>\n",
       "      <th>2009-02-15</th>\n",
       "      <td>1.000000e+00</td>\n",
       "      <td>0.000000</td>\n",
       "      <td>0.000000</td>\n",
       "    </tr>\n",
       "    <tr>\n",
       "      <th>2009-02-22</th>\n",
       "      <td>1.000000e+00</td>\n",
       "      <td>0.000000</td>\n",
       "      <td>0.000000</td>\n",
       "    </tr>\n",
       "    <tr>\n",
       "      <th>...</th>\n",
       "      <td>...</td>\n",
       "      <td>...</td>\n",
       "      <td>...</td>\n",
       "    </tr>\n",
       "    <tr>\n",
       "      <th>2020-04-19</th>\n",
       "      <td>1.471520e+13</td>\n",
       "      <td>164.153155</td>\n",
       "      <td>6967.716429</td>\n",
       "    </tr>\n",
       "    <tr>\n",
       "      <th>2020-04-26</th>\n",
       "      <td>1.595870e+13</td>\n",
       "      <td>155.823463</td>\n",
       "      <td>7017.877143</td>\n",
       "    </tr>\n",
       "    <tr>\n",
       "      <th>2020-05-03</th>\n",
       "      <td>1.595870e+13</td>\n",
       "      <td>164.896564</td>\n",
       "      <td>7640.203810</td>\n",
       "    </tr>\n",
       "    <tr>\n",
       "      <th>2020-05-10</th>\n",
       "      <td>1.605610e+13</td>\n",
       "      <td>205.533526</td>\n",
       "      <td>8896.620000</td>\n",
       "    </tr>\n",
       "    <tr>\n",
       "      <th>2020-05-17</th>\n",
       "      <td>1.610480e+13</td>\n",
       "      <td>174.089559</td>\n",
       "      <td>9288.403571</td>\n",
       "    </tr>\n",
       "  </tbody>\n",
       "</table>\n",
       "<p>589 rows × 3 columns</p>\n",
       "</div>"
      ],
      "text/plain": [
       "              difficulty     revenue        price\n",
       "timestamp                                        \n",
       "2009-01-25  1.000000e+00    0.000000     0.000000\n",
       "2009-02-01  1.000000e+00    0.000000     0.000000\n",
       "2009-02-08  1.000000e+00    0.000000     0.000000\n",
       "2009-02-15  1.000000e+00    0.000000     0.000000\n",
       "2009-02-22  1.000000e+00    0.000000     0.000000\n",
       "...                  ...         ...          ...\n",
       "2020-04-19  1.471520e+13  164.153155  6967.716429\n",
       "2020-04-26  1.595870e+13  155.823463  7017.877143\n",
       "2020-05-03  1.595870e+13  164.896564  7640.203810\n",
       "2020-05-10  1.605610e+13  205.533526  8896.620000\n",
       "2020-05-17  1.610480e+13  174.089559  9288.403571\n",
       "\n",
       "[589 rows x 3 columns]"
      ]
     },
     "execution_count": 354,
     "metadata": {},
     "output_type": "execute_result"
    }
   ],
   "source": [
    "price = price.groupby(pd.Grouper(freq='W')).mean()\n",
    "bitcoin = bitcoin.join(price).dropna()\n",
    "bitcoin"
   ]
  },
  {
   "cell_type": "code",
   "execution_count": 355,
   "metadata": {},
   "outputs": [
    {
     "data": {
      "image/png": "[encoded data removed]",
      "text/plain": [
       "<Figure size 1152x720 with 2 Axes>"
      ]
     },
     "metadata": {
      "needs_background": "light"
     },
     "output_type": "display_data"
    }
   ],
   "source": [
    "fig, ax1 = plt.subplots(figsize=(16,10))\n",
    "\n",
    "ln1 = ax1.plot(bitcoin['difficulty'],color=\"red\", label=\"difficulty\")\n",
    "\n",
    "ax2 = ax1.twinx()\n",
    "\n",
    "ln2 = ax2.plot(bitcoin['price'], color=\"green\", label=\"price\")\n",
    "\n",
    "lns = ln1+ln2\n",
    "labs = [l.get_label() for l in lns]\n",
    "ax1.legend(lns, labs, loc=0)\n",
    "\n",
    "#ax2.legend(loc='upper left')\n",
    "\n",
    "ax1.set_ylabel('Difficulty', fontsize = 15)\n",
    "ax2.set_ylabel('Bitcoin market price', fontsize = 15)\n",
    "\n",
    "ax1.tick_params(axis=\"x\", labelsize=18)\n",
    "ax1.tick_params(axis=\"y\", labelsize=18)\n",
    "ax2.tick_params(axis=\"y\", labelsize=18)\n",
    "\n",
    "plt.show()"
   ]
  },
  {
   "cell_type": "code",
   "execution_count": 356,
   "metadata": {},
   "outputs": [],
   "source": [
    "first_halve = datetime(2012, 11, 1)\n",
    "second_halve = datetime(2016, 7, 1)\n",
    "third_halve = datetime(2020, 5, 13)\n",
    "\n",
    "\n",
    "asic = datetime(2013,1,1)\n",
    "gpu = datetime(2010,10,1)\n",
    "fpga = datetime(2011, 6, 1)"
   ]
  },
  {
   "cell_type": "code",
   "execution_count": 357,
   "metadata": {},
   "outputs": [
    {
     "data": {
      "image/png": "[encoded data removed]",
      "text/plain": [
       "<Figure size 1152x720 with 2 Axes>"
      ]
     },
     "metadata": {
      "needs_background": "light"
     },
     "output_type": "display_data"
    }
   ],
   "source": [
    "fig, ax = plt.subplots(figsize=(16,10))\n",
    "\n",
    "ln1 = ax.plot(price['price'], color=\"green\", label=\"price\")\n",
    "#plt.plot(first_halve)\n",
    "\n",
    "ax2 = ax.twinx()\n",
    "ln1 = ax2.plot(bitcoin['difficulty']*2**32,color=\"blue\", label=\"hashrate\")\n",
    "\n",
    "h1 = ax.axvline(first_halve, color='red', label='halving events', ls=':')\n",
    "ax.axvline(second_halve, color='red', ls=':')\n",
    "ax.axvline(third_halve, color='red', ls=':')\n",
    "\n",
    "h2 = ax.axvline(gpu, color='grey', label='hardware periods', ls='--')\n",
    "ax.axvline(fpga, color='grey', ls='--')\n",
    "ax.axvline(asic, color='grey', ls='--')\n",
    "\n",
    "ax.text(datetime(2009,6,15),0.04, 'CPU', fontsize=16)\n",
    "ax.text(gpu + timedelta(days=40),10, 'GPU', fontsize=16)\n",
    "ax.text(fpga + timedelta(days=180),20, 'FPGA', fontsize=16)\n",
    "ax.text(asic + timedelta(days=500),1500, 'ASIC', fontsize=16)\n",
    "\n",
    "\n",
    "ln3 = [h1, h2]\n",
    "\n",
    "ax.set_yscale('log')\n",
    "ax2.set_yscale('log')\n",
    "\n",
    "# added these three lines\n",
    "lns = ln1+ln2+ln3\n",
    "labs = [l.get_label() for l in lns]\n",
    "ax.legend(lns, labs, loc=0)\n",
    "\n",
    "ax.tick_params(axis=\"x\", labelsize=18)\n",
    "ax.tick_params(axis=\"y\", labelsize=18)\n",
    "ax2.tick_params(axis=\"y\", labelsize=18)\n",
    "\n",
    "ax.set_ylabel('Bitcoin market price', fontsize = 15)\n",
    "ax2.set_ylabel('Bitcoin network hashrate', fontsize = 15)\n",
    "plt.savefig(FIG_PATH+'BTC_hashrate_price.png')\n",
    "plt.show()"
   ]
  },
  {
   "cell_type": "markdown",
   "metadata": {},
   "source": [
    "## Simulate"
   ]
  },
  {
   "cell_type": "code",
   "execution_count": 598,
   "metadata": {},
   "outputs": [
    {
     "data": {
      "text/html": [
       "<div>\n",
       "<style scoped>\n",
       "    .dataframe tbody tr th:only-of-type {\n",
       "        vertical-align: middle;\n",
       "    }\n",
       "\n",
       "    .dataframe tbody tr th {\n",
       "        vertical-align: top;\n",
       "    }\n",
       "\n",
       "    .dataframe thead th {\n",
       "        text-align: right;\n",
       "    }\n",
       "</style>\n",
       "<table border=\"1\" class=\"dataframe\">\n",
       "  <thead>\n",
       "    <tr style=\"text-align: right;\">\n",
       "      <th></th>\n",
       "      <th>name</th>\n",
       "      <th>release_date</th>\n",
       "      <th>consumption</th>\n",
       "      <th>hashing_power</th>\n",
       "      <th>efficiency</th>\n",
       "    </tr>\n",
       "  </thead>\n",
       "  <tbody>\n",
       "    <tr>\n",
       "      <th>82</th>\n",
       "      <td>Bitmain Antminer S19 Pro (110Th)</td>\n",
       "      <td>2020-05-01</td>\n",
       "      <td>2.955000e-11</td>\n",
       "      <td>1.100000e+14</td>\n",
       "      <td>3.384095e+10</td>\n",
       "    </tr>\n",
       "    <tr>\n",
       "      <th>83</th>\n",
       "      <td>Bitmain Antminer S19 (95Th)</td>\n",
       "      <td>2020-05-01</td>\n",
       "      <td>3.421000e-11</td>\n",
       "      <td>9.500000e+13</td>\n",
       "      <td>2.923122e+10</td>\n",
       "    </tr>\n",
       "    <tr>\n",
       "      <th>80</th>\n",
       "      <td>MicroBT Whatsminer M30S</td>\n",
       "      <td>2020-04-01</td>\n",
       "      <td>3.800000e-11</td>\n",
       "      <td>8.600000e+13</td>\n",
       "      <td>2.631579e+10</td>\n",
       "    </tr>\n",
       "    <tr>\n",
       "      <th>57</th>\n",
       "      <td>Bitmain Antminer S17 Pro (50Th)</td>\n",
       "      <td>2019-04-01</td>\n",
       "      <td>3.950000e-11</td>\n",
       "      <td>5.000000e+13</td>\n",
       "      <td>2.531646e+10</td>\n",
       "    </tr>\n",
       "    <tr>\n",
       "      <th>56</th>\n",
       "      <td>Bitmain Antminer S17 Pro (53Th)</td>\n",
       "      <td>2019-04-01</td>\n",
       "      <td>3.951000e-11</td>\n",
       "      <td>5.300000e+13</td>\n",
       "      <td>2.531005e+10</td>\n",
       "    </tr>\n",
       "    <tr>\n",
       "      <th>...</th>\n",
       "      <td>...</td>\n",
       "      <td>...</td>\n",
       "      <td>...</td>\n",
       "      <td>...</td>\n",
       "      <td>...</td>\n",
       "    </tr>\n",
       "    <tr>\n",
       "      <th>22</th>\n",
       "      <td>Bitmain Antminer V9 (4Th)</td>\n",
       "      <td>2018-03-01</td>\n",
       "      <td>2.567500e-10</td>\n",
       "      <td>4.000000e+12</td>\n",
       "      <td>3.894839e+09</td>\n",
       "    </tr>\n",
       "    <tr>\n",
       "      <th>4</th>\n",
       "      <td>Bitmain Antminer S7-LN</td>\n",
       "      <td>2016-06-01</td>\n",
       "      <td>2.581500e-10</td>\n",
       "      <td>3.000000e+12</td>\n",
       "      <td>3.873717e+09</td>\n",
       "    </tr>\n",
       "    <tr>\n",
       "      <th>2</th>\n",
       "      <td>Bitmain Antminer S7</td>\n",
       "      <td>2015-09-01</td>\n",
       "      <td>2.733600e-10</td>\n",
       "      <td>5.000000e+12</td>\n",
       "      <td>3.658180e+09</td>\n",
       "    </tr>\n",
       "    <tr>\n",
       "      <th>1</th>\n",
       "      <td>Bitmain Antminer S5</td>\n",
       "      <td>2014-12-01</td>\n",
       "      <td>5.108200e-10</td>\n",
       "      <td>1.000000e+12</td>\n",
       "      <td>1.957637e+09</td>\n",
       "    </tr>\n",
       "    <tr>\n",
       "      <th>0</th>\n",
       "      <td>Bitmain Antminer S3</td>\n",
       "      <td>2014-07-01</td>\n",
       "      <td>7.656900e-10</td>\n",
       "      <td>4.780000e+11</td>\n",
       "      <td>1.306012e+09</td>\n",
       "    </tr>\n",
       "  </tbody>\n",
       "</table>\n",
       "<p>84 rows × 5 columns</p>\n",
       "</div>"
      ],
      "text/plain": [
       "                                name release_date   consumption  \\\n",
       "82  Bitmain Antminer S19 Pro (110Th)   2020-05-01  2.955000e-11   \n",
       "83       Bitmain Antminer S19 (95Th)   2020-05-01  3.421000e-11   \n",
       "80           MicroBT Whatsminer M30S   2020-04-01  3.800000e-11   \n",
       "57   Bitmain Antminer S17 Pro (50Th)   2019-04-01  3.950000e-11   \n",
       "56   Bitmain Antminer S17 Pro (53Th)   2019-04-01  3.951000e-11   \n",
       "..                               ...          ...           ...   \n",
       "22         Bitmain Antminer V9 (4Th)   2018-03-01  2.567500e-10   \n",
       "4             Bitmain Antminer S7-LN   2016-06-01  2.581500e-10   \n",
       "2                Bitmain Antminer S7   2015-09-01  2.733600e-10   \n",
       "1                Bitmain Antminer S5   2014-12-01  5.108200e-10   \n",
       "0                Bitmain Antminer S3   2014-07-01  7.656900e-10   \n",
       "\n",
       "    hashing_power    efficiency  \n",
       "82   1.100000e+14  3.384095e+10  \n",
       "83   9.500000e+13  2.923122e+10  \n",
       "80   8.600000e+13  2.631579e+10  \n",
       "57   5.000000e+13  2.531646e+10  \n",
       "56   5.300000e+13  2.531005e+10  \n",
       "..            ...           ...  \n",
       "22   4.000000e+12  3.894839e+09  \n",
       "4    3.000000e+12  3.873717e+09  \n",
       "2    5.000000e+12  3.658180e+09  \n",
       "1    1.000000e+12  1.957637e+09  \n",
       "0    4.780000e+11  1.306012e+09  \n",
       "\n",
       "[84 rows x 5 columns]"
      ]
     },
     "execution_count": 598,
     "metadata": {},
     "output_type": "execute_result"
    }
   ],
   "source": [
    "SHA256_hardware = pd.read_csv(HARDWARE_PATH+'SHA256_hardware_clean.csv',index_col=0)\n",
    "# Initialisation\n",
    "hardware = SHA256_hardware[['name', 'release_date', 'consumption', 'hashing_power']].copy()\n",
    "hardware['release_date'] = pd.to_datetime(hardware['release_date'])\n",
    "hardware['efficiency'] = 1/hardware['consumption']\n",
    "hardware.loc[0, 'hashing_power'] = 478*(10**9)\n",
    "hardware.sort_values(by='consumption')"
   ]
  },
  {
   "cell_type": "code",
   "execution_count": 384,
   "metadata": {},
   "outputs": [],
   "source": [
    "# Select only from first hardware available in dataset\n",
    "bitcoin = bitcoin[bitcoin.index > SHA256_hardware.loc[0,'release_date']].copy()\n",
    "\n",
    "# Difficulty to hashrate\n",
    "bitcoin['hashrate'] = bitcoin['difficulty'].apply(lambda x: hashrate_from_difficulty(x))"
   ]
  },
  {
   "cell_type": "code",
   "execution_count": 385,
   "metadata": {},
   "outputs": [],
   "source": [
    "# TODO: make function with 'until'\n",
    "\n",
    "hardware['off_num'] = 0\n",
    "hardware['on_num'] = 0\n",
    "\n",
    "cur_hashrate = 0\n",
    "consumption = []\n",
    "consumption_lower = []\n",
    "for time, data in bitcoin.iterrows():\n",
    "    cur_hardware = hardware[hardware.release_date < time]\n",
    "    hashrate_difference = data.hashrate - cur_hashrate\n",
    "    \n",
    "    if time.month in wet_months:\n",
    "        elec_price = avg_elec_price_wet\n",
    "    else:\n",
    "        elec_price = avg_elec_price_dry\n",
    "        \n",
    "    if hashrate_difference > 0:\n",
    "        # Network hashrate has increased, turn on/buy devices\n",
    "        prof_hardware = get_profitable_hardware(data, cur_hardware, elec_price)\n",
    "        off_hardware = prof_hardware[prof_hardware['off_num'] >= 1]\n",
    "                \n",
    "        while cur_hashrate < data.hashrate and (not off_hardware.empty):\n",
    "            \n",
    "            best_off_hardware = get_turn_on_hardware(off_hardware)\n",
    "            \n",
    "            # Everything gets turned on OR the part needed for hashrate difference gets turned on\n",
    "            extra_hashing_power = min(best_off_hardware.off_num*best_off_hardware.hashing_power, hashrate_difference)\n",
    "            \n",
    "            num_to_on = extra_hashing_power/best_off_hardware.hashing_power\n",
    "            \n",
    "            hardware.loc[best_off_hardware.name, 'on_num'] += num_to_on\n",
    "            hardware.loc[best_off_hardware.name, 'off_num'] -= num_to_on\n",
    "            \n",
    "            cur_hashrate += extra_hashing_power\n",
    "            \n",
    "            # Refresh with new values\n",
    "            prof_hardware = hardware.loc[prof_hardware.index]\n",
    "            off_hardware = prof_hardware[prof_hardware['off_num'] >= 1]\n",
    "            \n",
    "        if off_hardware.empty and cur_hashrate < data.hashrate:\n",
    "            # Have to buy new hardware. Buy entire difference in hashrate from get_next_hardware\n",
    "            best_hardware = get_buy_hardware(prof_hardware)\n",
    "            \n",
    "            num_extra = np.ceil(hashrate_difference/best_hardware.hashing_power)\n",
    "            \n",
    "            hardware.loc[best_hardware.name, 'on_num'] += num_extra\n",
    "            \n",
    "            cur_hashrate += num_extra*best_hardware.hashing_power\n",
    "                \n",
    "    elif hashrate_difference < 0:\n",
    "        # Network hashrate has decreased, turn off devices\n",
    "        on_hardware = hardware[hardware['on_num'] >= 1]\n",
    "        while cur_hashrate > data.hashrate:            \n",
    "            worst_on_hardware = get_turn_off_hardware(on_hardware)\n",
    "        \n",
    "            min_hashing_power = min(worst_on_hardware.on_num*worst_on_hardware.hashing_power, -hashrate_difference)\n",
    "            \n",
    "            num_to_off = np.floor(min_hashing_power/worst_on_hardware.hashing_power)\n",
    "            \n",
    "            hardware.loc[worst_on_hardware.name, 'on_num'] -= num_to_off\n",
    "            hardware.loc[worst_on_hardware.name, 'off_num'] += num_to_off\n",
    "            \n",
    "            cur_hashrate -= min_hashing_power\n",
    "            \n",
    "            # Refresh with new values\n",
    "            prof_hardware = hardware.loc[prof_hardware.index]\n",
    "            on_hardware = hardware[hardware['on_num'] >= 1]\n",
    "    else:\n",
    "        #print('hashrate_difference = 0')\n",
    "        pass\n",
    "    hardware = replace_hardware(time, data, hardware, elec_price, share=0.01)\n",
    "    cur_hashrate = np.sum(hardware['on_num']*hardware['hashing_power'])\n",
    "    consumption.append(calc_consumption(hardware)*W_to_TWh)  \n",
    "    \n",
    "    best_hardware = get_buy_hardware(cur_hardware)\n",
    "    consumption_lower.append(cur_hashrate*best_hardware.consumption*W_to_TWh)\n",
    "    \n",
    "bitcoin['consumption'] = consumption\n",
    "bitcoin['consumption_lower'] = consumption_lower"
   ]
  },
  {
   "cell_type": "code",
   "execution_count": 386,
   "metadata": {},
   "outputs": [
    {
     "data": {
      "image/png": "[encoded data removed]",
      "text/plain": [
       "<Figure size 432x288 with 1 Axes>"
      ]
     },
     "metadata": {
      "needs_background": "light"
     },
     "output_type": "display_data"
    }
   ],
   "source": [
    "plt.plot(bitcoin.index,bitcoin.consumption)\n",
    "plt.plot(bitcoin.index,bitcoin.consumption_lower)\n",
    "plt.show()"
   ]
  },
  {
   "cell_type": "code",
   "execution_count": 387,
   "metadata": {},
   "outputs": [
    {
     "data": {
      "text/html": [
       "<div>\n",
       "<style scoped>\n",
       "    .dataframe tbody tr th:only-of-type {\n",
       "        vertical-align: middle;\n",
       "    }\n",
       "\n",
       "    .dataframe tbody tr th {\n",
       "        vertical-align: top;\n",
       "    }\n",
       "\n",
       "    .dataframe thead th {\n",
       "        text-align: right;\n",
       "    }\n",
       "</style>\n",
       "<table border=\"1\" class=\"dataframe\">\n",
       "  <thead>\n",
       "    <tr style=\"text-align: right;\">\n",
       "      <th></th>\n",
       "      <th>release_date</th>\n",
       "      <th>consumption</th>\n",
       "      <th>off_num</th>\n",
       "      <th>on_num</th>\n",
       "      <th>weight</th>\n",
       "    </tr>\n",
       "    <tr>\n",
       "      <th>name</th>\n",
       "      <th></th>\n",
       "      <th></th>\n",
       "      <th></th>\n",
       "      <th></th>\n",
       "      <th></th>\n",
       "    </tr>\n",
       "  </thead>\n",
       "  <tbody>\n",
       "    <tr>\n",
       "      <th>Bitmain Antminer S3</th>\n",
       "      <td>2014-07-01</td>\n",
       "      <td>7.66E-10</td>\n",
       "      <td>628218</td>\n",
       "      <td>0</td>\n",
       "      <td>5.2</td>\n",
       "    </tr>\n",
       "    <tr>\n",
       "      <th>Bitmain Antminer S5</th>\n",
       "      <td>2014-12-01</td>\n",
       "      <td>5.11E-10</td>\n",
       "      <td>285369</td>\n",
       "      <td>0</td>\n",
       "      <td>2.5</td>\n",
       "    </tr>\n",
       "    <tr>\n",
       "      <th>Bitmain Antminer S7</th>\n",
       "      <td>2015-09-01</td>\n",
       "      <td>2.73E-10</td>\n",
       "      <td>279086</td>\n",
       "      <td>0</td>\n",
       "      <td>3.9</td>\n",
       "    </tr>\n",
       "    <tr>\n",
       "      <th>Bitmain Antminer S9 (11.5Th)</th>\n",
       "      <td>2016-06-01</td>\n",
       "      <td>9.80E-11</td>\n",
       "      <td>180751</td>\n",
       "      <td>0</td>\n",
       "      <td>4.2</td>\n",
       "    </tr>\n",
       "    <tr>\n",
       "      <th>Bitmain Antminer R4</th>\n",
       "      <td>2017-02-01</td>\n",
       "      <td>9.71E-11</td>\n",
       "      <td>2051590</td>\n",
       "      <td>0</td>\n",
       "      <td>2.5</td>\n",
       "    </tr>\n",
       "    <tr>\n",
       "      <th>Ebang Ebit E10</th>\n",
       "      <td>2018-02-01</td>\n",
       "      <td>9.17E-11</td>\n",
       "      <td>717105</td>\n",
       "      <td>0</td>\n",
       "      <td>9.8</td>\n",
       "    </tr>\n",
       "    <tr>\n",
       "      <th>ASICminer 8 Nano Pro</th>\n",
       "      <td>2018-05-01</td>\n",
       "      <td>5.26E-11</td>\n",
       "      <td>408148</td>\n",
       "      <td>0</td>\n",
       "      <td>68.0</td>\n",
       "    </tr>\n",
       "    <tr>\n",
       "      <th>Ebang Ebit E11++</th>\n",
       "      <td>2018-10-01</td>\n",
       "      <td>4.50E-11</td>\n",
       "      <td>575019</td>\n",
       "      <td>0</td>\n",
       "      <td>10.0</td>\n",
       "    </tr>\n",
       "    <tr>\n",
       "      <th>Bitmain Antminer S17 Pro (50Th)</th>\n",
       "      <td>2019-04-01</td>\n",
       "      <td>3.95E-11</td>\n",
       "      <td>673891</td>\n",
       "      <td>1838572</td>\n",
       "      <td>9.5</td>\n",
       "    </tr>\n",
       "    <tr>\n",
       "      <th>MicroBT Whatsminer M30S</th>\n",
       "      <td>2020-04-01</td>\n",
       "      <td>3.80E-11</td>\n",
       "      <td>0</td>\n",
       "      <td>219345</td>\n",
       "      <td>NaN</td>\n",
       "    </tr>\n",
       "    <tr>\n",
       "      <th>Bitmain Antminer S19 Pro (110Th)</th>\n",
       "      <td>2020-05-01</td>\n",
       "      <td>2.96E-11</td>\n",
       "      <td>0</td>\n",
       "      <td>40823</td>\n",
       "      <td>NaN</td>\n",
       "    </tr>\n",
       "  </tbody>\n",
       "</table>\n",
       "</div>"
      ],
      "text/plain": [
       "                                 release_date consumption  off_num   on_num  \\\n",
       "name                                                                          \n",
       "Bitmain Antminer S3                2014-07-01    7.66E-10   628218        0   \n",
       "Bitmain Antminer S5                2014-12-01    5.11E-10   285369        0   \n",
       "Bitmain Antminer S7                2015-09-01    2.73E-10   279086        0   \n",
       "Bitmain Antminer S9 (11.5Th)       2016-06-01    9.80E-11   180751        0   \n",
       "Bitmain Antminer R4                2017-02-01    9.71E-11  2051590        0   \n",
       "Ebang Ebit E10                     2018-02-01    9.17E-11   717105        0   \n",
       "ASICminer 8 Nano Pro               2018-05-01    5.26E-11   408148        0   \n",
       "Ebang Ebit E11++                   2018-10-01    4.50E-11   575019        0   \n",
       "Bitmain Antminer S17 Pro (50Th)    2019-04-01    3.95E-11   673891  1838572   \n",
       "MicroBT Whatsminer M30S            2020-04-01    3.80E-11        0   219345   \n",
       "Bitmain Antminer S19 Pro (110Th)   2020-05-01    2.96E-11        0    40823   \n",
       "\n",
       "                                  weight  \n",
       "name                                      \n",
       "Bitmain Antminer S3                  5.2  \n",
       "Bitmain Antminer S5                  2.5  \n",
       "Bitmain Antminer S7                  3.9  \n",
       "Bitmain Antminer S9 (11.5Th)         4.2  \n",
       "Bitmain Antminer R4                  2.5  \n",
       "Ebang Ebit E10                       9.8  \n",
       "ASICminer 8 Nano Pro                68.0  \n",
       "Ebang Ebit E11++                    10.0  \n",
       "Bitmain Antminer S17 Pro (50Th)      9.5  \n",
       "MicroBT Whatsminer M30S              NaN  \n",
       "Bitmain Antminer S19 Pro (110Th)     NaN  "
      ]
     },
     "execution_count": 387,
     "metadata": {},
     "output_type": "execute_result"
    }
   ],
   "source": [
    "# Last year\n",
    "used_hardware = hardware[(hardware['on_num'] > 0) | (hardware['off_num'] > 0)].copy()\n",
    "used_hardware[['off_num', 'on_num']] = used_hardware[['off_num', 'on_num']].astype(int)\n",
    "used_hardware = used_hardware.set_index('name',drop=True)\n",
    "used_hardware.loc['Bitmain Antminer S3', 'weight'] = 5.2\n",
    "used_hardware.loc['Bitmain Antminer S5', 'weight'] = 2.5\n",
    "used_hardware.loc['Bitmain Antminer S7', 'weight'] = 3.9\n",
    "used_hardware.loc['Bitmain Antminer S9 (11.5Th)', 'weight'] = 4.2\n",
    "used_hardware.loc['Bitmain Antminer R4', 'weight'] = 2.5\n",
    "used_hardware.loc['Ebang Ebit E10', 'weight'] = 9.8\n",
    "used_hardware.loc['ASICminer 8 Nano Pro', 'weight'] = 68\n",
    "used_hardware.loc['Ebang Ebit E11++', 'weight'] = 10\n",
    "used_hardware.loc['Bitmain Antminer S17 Pro (50Th)', 'weight'] = 9.5\n",
    "#used_hardware.loc['MicroBT Whatsminer M30S', 'weight'] = 10.5\n",
    "#used_hardware.loc['Bitmain Antminer S19 Pro (110Th)', 'weight'] = 13.2\n",
    "used_hardware['consumption'] = used_hardware['consumption'].map('{:,.2E}'.format)\n",
    "# used_hardware['hashing_power'] = used_hardware['hashing_power'].map('{:,.2E}'.format)\n",
    "used_hardware = used_hardware.drop(columns=['hashing_power', 'efficiency'])\n",
    "used_hardware"
   ]
  },
  {
   "cell_type": "code",
   "execution_count": 388,
   "metadata": {},
   "outputs": [
    {
     "data": {
      "text/plain": [
       "7897917"
      ]
     },
     "execution_count": 388,
     "metadata": {},
     "output_type": "execute_result"
    }
   ],
   "source": [
    "np.sum(used_hardware['off_num']) + np.sum(used_hardware['on_num'])"
   ]
  },
  {
   "cell_type": "code",
   "execution_count": 389,
   "metadata": {},
   "outputs": [
    {
     "data": {
      "text/plain": [
       "7897917"
      ]
     },
     "execution_count": 389,
     "metadata": {},
     "output_type": "execute_result"
    }
   ],
   "source": [
    "np.sum(used_hardware['off_num']) + np.sum(used_hardware['on_num'])"
   ]
  },
  {
   "cell_type": "code",
   "execution_count": 390,
   "metadata": {},
   "outputs": [],
   "source": [
    "used_hardware = hardware[(hardware['on_num'] > 0) | (hardware['off_num'] > 0)].copy()\n",
    "used_hardware[['off_num', 'on_num']] = used_hardware[['off_num', 'on_num']].astype(int)\n",
    "used_hardware = used_hardware.set_index('name',drop=True)"
   ]
  },
  {
   "cell_type": "code",
   "execution_count": 391,
   "metadata": {},
   "outputs": [
    {
     "data": {
      "text/html": [
       "<div>\n",
       "<style scoped>\n",
       "    .dataframe tbody tr th:only-of-type {\n",
       "        vertical-align: middle;\n",
       "    }\n",
       "\n",
       "    .dataframe tbody tr th {\n",
       "        vertical-align: top;\n",
       "    }\n",
       "\n",
       "    .dataframe thead th {\n",
       "        text-align: right;\n",
       "    }\n",
       "</style>\n",
       "<table border=\"1\" class=\"dataframe\">\n",
       "  <thead>\n",
       "    <tr style=\"text-align: right;\">\n",
       "      <th></th>\n",
       "      <th>release_date</th>\n",
       "      <th>consumption</th>\n",
       "      <th>off_num</th>\n",
       "      <th>on_num</th>\n",
       "      <th>weight</th>\n",
       "    </tr>\n",
       "    <tr>\n",
       "      <th>name</th>\n",
       "      <th></th>\n",
       "      <th></th>\n",
       "      <th></th>\n",
       "      <th></th>\n",
       "      <th></th>\n",
       "    </tr>\n",
       "  </thead>\n",
       "  <tbody>\n",
       "    <tr>\n",
       "      <th>Bitmain Antminer S3</th>\n",
       "      <td>2014-07-01</td>\n",
       "      <td>7.66E-10</td>\n",
       "      <td>628218</td>\n",
       "      <td>0</td>\n",
       "      <td>5.2</td>\n",
       "    </tr>\n",
       "    <tr>\n",
       "      <th>Bitmain Antminer S5</th>\n",
       "      <td>2014-12-01</td>\n",
       "      <td>5.11E-10</td>\n",
       "      <td>285369</td>\n",
       "      <td>0</td>\n",
       "      <td>2.5</td>\n",
       "    </tr>\n",
       "    <tr>\n",
       "      <th>Bitmain Antminer S7</th>\n",
       "      <td>2015-09-01</td>\n",
       "      <td>2.73E-10</td>\n",
       "      <td>279086</td>\n",
       "      <td>0</td>\n",
       "      <td>3.9</td>\n",
       "    </tr>\n",
       "    <tr>\n",
       "      <th>Bitmain Antminer S9 (11.5Th)</th>\n",
       "      <td>2016-06-01</td>\n",
       "      <td>9.80E-11</td>\n",
       "      <td>180751</td>\n",
       "      <td>0</td>\n",
       "      <td>4.2</td>\n",
       "    </tr>\n",
       "    <tr>\n",
       "      <th>Bitmain Antminer R4</th>\n",
       "      <td>2017-02-01</td>\n",
       "      <td>9.71E-11</td>\n",
       "      <td>2051590</td>\n",
       "      <td>0</td>\n",
       "      <td>2.5</td>\n",
       "    </tr>\n",
       "    <tr>\n",
       "      <th>Ebang Ebit E10</th>\n",
       "      <td>2018-02-01</td>\n",
       "      <td>9.17E-11</td>\n",
       "      <td>717105</td>\n",
       "      <td>0</td>\n",
       "      <td>9.8</td>\n",
       "    </tr>\n",
       "    <tr>\n",
       "      <th>ASICminer 8 Nano Pro</th>\n",
       "      <td>2018-05-01</td>\n",
       "      <td>5.26E-11</td>\n",
       "      <td>408148</td>\n",
       "      <td>0</td>\n",
       "      <td>68.0</td>\n",
       "    </tr>\n",
       "    <tr>\n",
       "      <th>Ebang Ebit E11++</th>\n",
       "      <td>2018-10-01</td>\n",
       "      <td>4.50E-11</td>\n",
       "      <td>575019</td>\n",
       "      <td>0</td>\n",
       "      <td>10.0</td>\n",
       "    </tr>\n",
       "    <tr>\n",
       "      <th>Bitmain Antminer S17 Pro (50Th)</th>\n",
       "      <td>2019-04-01</td>\n",
       "      <td>3.95E-11</td>\n",
       "      <td>673891</td>\n",
       "      <td>1838572</td>\n",
       "      <td>9.5</td>\n",
       "    </tr>\n",
       "    <tr>\n",
       "      <th>MicroBT Whatsminer M30S</th>\n",
       "      <td>2020-04-01</td>\n",
       "      <td>3.80E-11</td>\n",
       "      <td>0</td>\n",
       "      <td>219345</td>\n",
       "      <td>10.5</td>\n",
       "    </tr>\n",
       "    <tr>\n",
       "      <th>Bitmain Antminer S19 Pro (110Th)</th>\n",
       "      <td>2020-05-01</td>\n",
       "      <td>2.96E-11</td>\n",
       "      <td>0</td>\n",
       "      <td>40823</td>\n",
       "      <td>13.2</td>\n",
       "    </tr>\n",
       "  </tbody>\n",
       "</table>\n",
       "</div>"
      ],
      "text/plain": [
       "                                 release_date consumption  off_num   on_num  \\\n",
       "name                                                                          \n",
       "Bitmain Antminer S3                2014-07-01    7.66E-10   628218        0   \n",
       "Bitmain Antminer S5                2014-12-01    5.11E-10   285369        0   \n",
       "Bitmain Antminer S7                2015-09-01    2.73E-10   279086        0   \n",
       "Bitmain Antminer S9 (11.5Th)       2016-06-01    9.80E-11   180751        0   \n",
       "Bitmain Antminer R4                2017-02-01    9.71E-11  2051590        0   \n",
       "Ebang Ebit E10                     2018-02-01    9.17E-11   717105        0   \n",
       "ASICminer 8 Nano Pro               2018-05-01    5.26E-11   408148        0   \n",
       "Ebang Ebit E11++                   2018-10-01    4.50E-11   575019        0   \n",
       "Bitmain Antminer S17 Pro (50Th)    2019-04-01    3.95E-11   673891  1838572   \n",
       "MicroBT Whatsminer M30S            2020-04-01    3.80E-11        0   219345   \n",
       "Bitmain Antminer S19 Pro (110Th)   2020-05-01    2.96E-11        0    40823   \n",
       "\n",
       "                                  weight  \n",
       "name                                      \n",
       "Bitmain Antminer S3                  5.2  \n",
       "Bitmain Antminer S5                  2.5  \n",
       "Bitmain Antminer S7                  3.9  \n",
       "Bitmain Antminer S9 (11.5Th)         4.2  \n",
       "Bitmain Antminer R4                  2.5  \n",
       "Ebang Ebit E10                       9.8  \n",
       "ASICminer 8 Nano Pro                68.0  \n",
       "Ebang Ebit E11++                    10.0  \n",
       "Bitmain Antminer S17 Pro (50Th)      9.5  \n",
       "MicroBT Whatsminer M30S             10.5  \n",
       "Bitmain Antminer S19 Pro (110Th)    13.2  "
      ]
     },
     "execution_count": 391,
     "metadata": {},
     "output_type": "execute_result"
    }
   ],
   "source": [
    "used_hardware.loc['Bitmain Antminer S3', 'weight'] = 5.2\n",
    "used_hardware.loc['Bitmain Antminer S5', 'weight'] = 2.5\n",
    "used_hardware.loc['Bitmain Antminer S7', 'weight'] = 3.9\n",
    "used_hardware.loc['Bitmain Antminer S9 (11.5Th)', 'weight'] = 4.2\n",
    "used_hardware.loc['Bitmain Antminer R4', 'weight'] = 2.5\n",
    "used_hardware.loc['Ebang Ebit E10', 'weight'] = 9.8\n",
    "used_hardware.loc['ASICminer 8 Nano Pro', 'weight'] = 68\n",
    "used_hardware.loc['Ebang Ebit E11++', 'weight'] = 10\n",
    "used_hardware.loc['Bitmain Antminer S17 Pro (50Th)', 'weight'] = 9.5\n",
    "used_hardware.loc['MicroBT Whatsminer M30S', 'weight'] = 10.5\n",
    "used_hardware.loc['Bitmain Antminer S19 Pro (110Th)', 'weight'] = 13.2\n",
    "used_hardware['consumption'] = used_hardware['consumption'].map('{:,.2E}'.format)\n",
    "# used_hardware['hashing_power'] = used_hardware['hashing_power'].map('{:,.2E}'.format)\n",
    "used_hardware = used_hardware.drop(columns=['hashing_power', 'efficiency'])\n",
    "used_hardware"
   ]
  },
  {
   "cell_type": "code",
   "execution_count": 392,
   "metadata": {},
   "outputs": [
    {
     "data": {
      "text/plain": [
       "57890.5682"
      ]
     },
     "execution_count": 392,
     "metadata": {},
     "output_type": "execute_result"
    }
   ],
   "source": [
    "np.sum(used_hardware['off_num']*used_hardware['weight'])/10**3"
   ]
  },
  {
   "cell_type": "code",
   "execution_count": 393,
   "metadata": {},
   "outputs": [
    {
     "data": {
      "text/plain": [
       "20308.420100000003"
      ]
     },
     "execution_count": 393,
     "metadata": {},
     "output_type": "execute_result"
    }
   ],
   "source": [
    "np.sum(used_hardware['on_num']*used_hardware['weight'])/10**3"
   ]
  },
  {
   "cell_type": "code",
   "execution_count": 394,
   "metadata": {},
   "outputs": [
    {
     "name": "stdout",
     "output_type": "stream",
     "text": [
      "\\begin{tabular}{lllrrr}\n",
      "\\toprule\n",
      "{} & release\\_date & consumption &  off\\_num &   on\\_num &  weight \\\\\n",
      "name                             &              &             &          &          &         \\\\\n",
      "\\midrule\n",
      "Bitmain Antminer S3              &   2014-07-01 &    7.66E-10 &   628218 &        0 &     5.2 \\\\\n",
      "Bitmain Antminer S5              &   2014-12-01 &    5.11E-10 &   285369 &        0 &     2.5 \\\\\n",
      "Bitmain Antminer S7              &   2015-09-01 &    2.73E-10 &   279086 &        0 &     3.9 \\\\\n",
      "Bitmain Antminer S9 (11.5Th)     &   2016-06-01 &    9.80E-11 &   180751 &        0 &     4.2 \\\\\n",
      "Bitmain Antminer R4              &   2017-02-01 &    9.71E-11 &  2051590 &        0 &     2.5 \\\\\n",
      "Ebang Ebit E10                   &   2018-02-01 &    9.17E-11 &   717105 &        0 &     9.8 \\\\\n",
      "ASICminer 8 Nano Pro             &   2018-05-01 &    5.26E-11 &   408148 &        0 &    68.0 \\\\\n",
      "Ebang Ebit E11++                 &   2018-10-01 &    4.50E-11 &   575019 &        0 &    10.0 \\\\\n",
      "Bitmain Antminer S17 Pro (50Th)  &   2019-04-01 &    3.95E-11 &   673891 &  1838572 &     9.5 \\\\\n",
      "MicroBT Whatsminer M30S          &   2020-04-01 &    3.80E-11 &        0 &   219345 &    10.5 \\\\\n",
      "Bitmain Antminer S19 Pro (110Th) &   2020-05-01 &    2.96E-11 &        0 &    40823 &    13.2 \\\\\n",
      "\\bottomrule\n",
      "\\end{tabular}\n",
      "\n"
     ]
    }
   ],
   "source": [
    "print(used_hardware.to_latex())"
   ]
  },
  {
   "cell_type": "code",
   "execution_count": 395,
   "metadata": {},
   "outputs": [
    {
     "data": {
      "text/plain": [
       "1.1528264884770133e+20"
      ]
     },
     "execution_count": 395,
     "metadata": {},
     "output_type": "execute_result"
    }
   ],
   "source": [
    "bitcoin.iloc[len(bitcoin)-1].hashrate"
   ]
  },
  {
   "cell_type": "code",
   "execution_count": 396,
   "metadata": {},
   "outputs": [
    {
     "data": {
      "text/plain": [
       "1.1528279963981093e+20"
      ]
     },
     "execution_count": 396,
     "metadata": {},
     "output_type": "execute_result"
    }
   ],
   "source": [
    "np.sum(hardware['on_num']*hardware['hashing_power'])"
   ]
  },
  {
   "cell_type": "markdown",
   "metadata": {},
   "source": [
    "## Extrapolation"
   ]
  },
  {
   "cell_type": "code",
   "execution_count": 397,
   "metadata": {},
   "outputs": [],
   "source": [
    "import matplotlib.dates as mdates"
   ]
  },
  {
   "cell_type": "code",
   "execution_count": 398,
   "metadata": {},
   "outputs": [
    {
     "data": {
      "image/png": "[encoded data removed]",
      "text/plain": [
       "<Figure size 432x288 with 1 Axes>"
      ]
     },
     "metadata": {
      "needs_background": "light"
     },
     "output_type": "display_data"
    }
   ],
   "source": [
    "x = mdates.date2num(bitcoin.index)\n",
    "\n",
    "z = np.polyfit(x,bitcoin['difficulty'], 1)\n",
    "\n",
    "p = np.poly1d(z)\n",
    "plt.plot(x,p(x),\"r--\")\n",
    "\n",
    "z2 = np.polyfit(x,bitcoin['difficulty'], 2)\n",
    "p2 = np.poly1d(z2)\n",
    "plt.plot(x,p2(x),\"b--\")\n",
    "\n",
    "plt.plot(bitcoin['difficulty'],color=\"red\", label=\"difficulty\")\n",
    "plt.legend()\n",
    "plt.show()"
   ]
  },
  {
   "cell_type": "code",
   "execution_count": 399,
   "metadata": {},
   "outputs": [
    {
     "data": {
      "image/png": "[encoded data removed]",
      "text/plain": [
       "<Figure size 432x288 with 1 Axes>"
      ]
     },
     "metadata": {
      "needs_background": "light"
     },
     "output_type": "display_data"
    }
   ],
   "source": [
    "bitcoin_year = bitcoin.groupby(pd.Grouper(freq='Y')).mean()\n",
    "x = mdates.date2num(bitcoin_year.index)\n",
    "\n",
    "z = np.polyfit(x,bitcoin_year['difficulty'], 1)\n",
    "\n",
    "p = np.poly1d(z)\n",
    "plt.plot(x,p(x),\"r--\")\n",
    "\n",
    "z2 = np.polyfit(x,bitcoin_year['difficulty'], 2)\n",
    "p2 = np.poly1d(z2)\n",
    "plt.plot(x,p2(x),\"b--\")\n",
    "\n",
    "plt.plot(bitcoin_year['difficulty'],color=\"red\", label=\"difficulty\")\n",
    "plt.legend()\n",
    "plt.show()"
   ]
  },
  {
   "cell_type": "code",
   "execution_count": 400,
   "metadata": {},
   "outputs": [
    {
     "name": "stdout",
     "output_type": "stream",
     "text": [
      "0.0019861852921524694\n",
      "1.7872380320308643\n",
      "3.744803846524828\n",
      "4.071251007947607\n",
      "6.027620036927426\n",
      "1.8074622793840696\n",
      "1.6959997232768518\n"
     ]
    }
   ],
   "source": [
    "for i in range(len(bitcoin_year)):\n",
    "    print(bitcoin_year.iloc[i]['hashrate']/bitcoin_year.iloc[i-1]['hashrate'])"
   ]
  },
  {
   "cell_type": "code",
   "execution_count": 401,
   "metadata": {},
   "outputs": [
    {
     "data": {
      "text/html": [
       "<div>\n",
       "<style scoped>\n",
       "    .dataframe tbody tr th:only-of-type {\n",
       "        vertical-align: middle;\n",
       "    }\n",
       "\n",
       "    .dataframe tbody tr th {\n",
       "        vertical-align: top;\n",
       "    }\n",
       "\n",
       "    .dataframe thead th {\n",
       "        text-align: right;\n",
       "    }\n",
       "</style>\n",
       "<table border=\"1\" class=\"dataframe\">\n",
       "  <thead>\n",
       "    <tr style=\"text-align: right;\">\n",
       "      <th></th>\n",
       "      <th>difficulty</th>\n",
       "      <th>revenue</th>\n",
       "      <th>price</th>\n",
       "      <th>hashrate</th>\n",
       "      <th>consumption</th>\n",
       "      <th>consumption_lower</th>\n",
       "      <th>hashrate_pred</th>\n",
       "      <th>consumption_pred</th>\n",
       "    </tr>\n",
       "    <tr>\n",
       "      <th>timestamp</th>\n",
       "      <th></th>\n",
       "      <th></th>\n",
       "      <th></th>\n",
       "      <th></th>\n",
       "      <th></th>\n",
       "      <th></th>\n",
       "      <th></th>\n",
       "      <th></th>\n",
       "    </tr>\n",
       "  </thead>\n",
       "  <tbody>\n",
       "    <tr>\n",
       "      <th>2014-07-06</th>\n",
       "      <td>1.681846e+10</td>\n",
       "      <td>33.373953</td>\n",
       "      <td>598.955714</td>\n",
       "      <td>1.203912e+17</td>\n",
       "      <td>0.807519</td>\n",
       "      <td>0.807519</td>\n",
       "      <td>3.083778e+16</td>\n",
       "      <td>0.206843</td>\n",
       "    </tr>\n",
       "    <tr>\n",
       "      <th>2014-07-13</th>\n",
       "      <td>1.681846e+10</td>\n",
       "      <td>31.709518</td>\n",
       "      <td>631.147619</td>\n",
       "      <td>1.203912e+17</td>\n",
       "      <td>0.807519</td>\n",
       "      <td>0.807519</td>\n",
       "      <td>7.040629e+16</td>\n",
       "      <td>0.472246</td>\n",
       "    </tr>\n",
       "    <tr>\n",
       "      <th>2014-07-20</th>\n",
       "      <td>1.733632e+10</td>\n",
       "      <td>33.226293</td>\n",
       "      <td>626.760000</td>\n",
       "      <td>1.240982e+17</td>\n",
       "      <td>0.848535</td>\n",
       "      <td>0.848535</td>\n",
       "      <td>1.075644e+17</td>\n",
       "      <td>0.721482</td>\n",
       "    </tr>\n",
       "    <tr>\n",
       "      <th>2014-07-27</th>\n",
       "      <td>1.780303e+10</td>\n",
       "      <td>33.381070</td>\n",
       "      <td>625.332143</td>\n",
       "      <td>1.274390e+17</td>\n",
       "      <td>0.854790</td>\n",
       "      <td>0.854790</td>\n",
       "      <td>1.448811e+17</td>\n",
       "      <td>0.971782</td>\n",
       "    </tr>\n",
       "    <tr>\n",
       "      <th>2014-08-03</th>\n",
       "      <td>1.873644e+10</td>\n",
       "      <td>31.599697</td>\n",
       "      <td>599.566667</td>\n",
       "      <td>1.341207e+17</td>\n",
       "      <td>0.910232</td>\n",
       "      <td>0.910232</td>\n",
       "      <td>1.749257e+17</td>\n",
       "      <td>1.173304</td>\n",
       "    </tr>\n",
       "    <tr>\n",
       "      <th>...</th>\n",
       "      <td>...</td>\n",
       "      <td>...</td>\n",
       "      <td>...</td>\n",
       "      <td>...</td>\n",
       "      <td>...</td>\n",
       "      <td>...</td>\n",
       "      <td>...</td>\n",
       "      <td>...</td>\n",
       "    </tr>\n",
       "    <tr>\n",
       "      <th>2020-04-19</th>\n",
       "      <td>1.471520e+13</td>\n",
       "      <td>164.153155</td>\n",
       "      <td>6967.716429</td>\n",
       "      <td>1.053355e+20</td>\n",
       "      <td>36.332312</td>\n",
       "      <td>35.064098</td>\n",
       "      <td>6.337726e+19</td>\n",
       "      <td>21.097024</td>\n",
       "    </tr>\n",
       "    <tr>\n",
       "      <th>2020-04-26</th>\n",
       "      <td>1.595870e+13</td>\n",
       "      <td>155.823463</td>\n",
       "      <td>7017.877143</td>\n",
       "      <td>1.142368e+20</td>\n",
       "      <td>39.280388</td>\n",
       "      <td>38.027186</td>\n",
       "      <td>6.404429e+19</td>\n",
       "      <td>21.319063</td>\n",
       "    </tr>\n",
       "    <tr>\n",
       "      <th>2020-05-03</th>\n",
       "      <td>1.595870e+13</td>\n",
       "      <td>164.896564</td>\n",
       "      <td>7640.203810</td>\n",
       "      <td>1.142368e+20</td>\n",
       "      <td>39.180812</td>\n",
       "      <td>29.571143</td>\n",
       "      <td>6.995303e+19</td>\n",
       "      <td>18.107901</td>\n",
       "    </tr>\n",
       "    <tr>\n",
       "      <th>2020-05-10</th>\n",
       "      <td>1.605610e+13</td>\n",
       "      <td>205.533526</td>\n",
       "      <td>8896.620000</td>\n",
       "      <td>1.149340e+20</td>\n",
       "      <td>39.261114</td>\n",
       "      <td>29.751624</td>\n",
       "      <td>8.172386e+19</td>\n",
       "      <td>21.154875</td>\n",
       "    </tr>\n",
       "    <tr>\n",
       "      <th>2020-05-17</th>\n",
       "      <td>1.610480e+13</td>\n",
       "      <td>174.089559</td>\n",
       "      <td>9288.403571</td>\n",
       "      <td>1.152826e+20</td>\n",
       "      <td>39.250880</td>\n",
       "      <td>29.841875</td>\n",
       "      <td>8.560173e+19</td>\n",
       "      <td>22.158691</td>\n",
       "    </tr>\n",
       "  </tbody>\n",
       "</table>\n",
       "<p>305 rows × 8 columns</p>\n",
       "</div>"
      ],
      "text/plain": [
       "              difficulty     revenue        price      hashrate  consumption  \\\n",
       "timestamp                                                                      \n",
       "2014-07-06  1.681846e+10   33.373953   598.955714  1.203912e+17     0.807519   \n",
       "2014-07-13  1.681846e+10   31.709518   631.147619  1.203912e+17     0.807519   \n",
       "2014-07-20  1.733632e+10   33.226293   626.760000  1.240982e+17     0.848535   \n",
       "2014-07-27  1.780303e+10   33.381070   625.332143  1.274390e+17     0.854790   \n",
       "2014-08-03  1.873644e+10   31.599697   599.566667  1.341207e+17     0.910232   \n",
       "...                  ...         ...          ...           ...          ...   \n",
       "2020-04-19  1.471520e+13  164.153155  6967.716429  1.053355e+20    36.332312   \n",
       "2020-04-26  1.595870e+13  155.823463  7017.877143  1.142368e+20    39.280388   \n",
       "2020-05-03  1.595870e+13  164.896564  7640.203810  1.142368e+20    39.180812   \n",
       "2020-05-10  1.605610e+13  205.533526  8896.620000  1.149340e+20    39.261114   \n",
       "2020-05-17  1.610480e+13  174.089559  9288.403571  1.152826e+20    39.250880   \n",
       "\n",
       "            consumption_lower  hashrate_pred  consumption_pred  \n",
       "timestamp                                                       \n",
       "2014-07-06           0.807519   3.083778e+16          0.206843  \n",
       "2014-07-13           0.807519   7.040629e+16          0.472246  \n",
       "2014-07-20           0.848535   1.075644e+17          0.721482  \n",
       "2014-07-27           0.854790   1.448811e+17          0.971782  \n",
       "2014-08-03           0.910232   1.749257e+17          1.173304  \n",
       "...                       ...            ...               ...  \n",
       "2020-04-19          35.064098   6.337726e+19         21.097024  \n",
       "2020-04-26          38.027186   6.404429e+19         21.319063  \n",
       "2020-05-03          29.571143   6.995303e+19         18.107901  \n",
       "2020-05-10          29.751624   8.172386e+19         21.154875  \n",
       "2020-05-17          29.841875   8.560173e+19         22.158691  \n",
       "\n",
       "[305 rows x 8 columns]"
      ]
     },
     "execution_count": 401,
     "metadata": {},
     "output_type": "execute_result"
    }
   ],
   "source": [
    "bitcoin"
   ]
  },
  {
   "cell_type": "markdown",
   "metadata": {},
   "source": [
    "### Consumption"
   ]
  },
  {
   "cell_type": "code",
   "execution_count": 402,
   "metadata": {},
   "outputs": [],
   "source": [
    "# Koomey's law\n",
    "start_hardware = hardware.loc[0]\n",
    "efficiency = 0\n",
    "intervals = 0\n",
    "for i in range(6):\n",
    "    cur_hardware = hardware.loc[i]\n",
    "    efficiency += cur_hardware.efficiency\n",
    "    intervals += (cur_hardware.release_date-start_hardware.release_date).days"
   ]
  },
  {
   "cell_type": "code",
   "execution_count": 403,
   "metadata": {},
   "outputs": [],
   "source": [
    "intervals = intervals/6\n",
    "efficiency = efficiency/6"
   ]
  },
  {
   "cell_type": "code",
   "execution_count": 404,
   "metadata": {},
   "outputs": [],
   "source": [
    "start_date = start_hardware.release_date+timedelta(days=intervals)"
   ]
  },
  {
   "cell_type": "code",
   "execution_count": 405,
   "metadata": {},
   "outputs": [],
   "source": [
    "\"\"\"\n",
    "Average over first hardware\n",
    "\"\"\"\n",
    "def n(t, efficiency, start_date):\n",
    "    n_0 = efficiency\n",
    "    t_delta = (t - start_date).days/365\n",
    "    return n_0*(1.27**t_delta)\n",
    "# Create date\n",
    "days_future = 365*6\n",
    "base = start_hardware.release_date\n",
    "date_list = [base + timedelta(days=x) for x in range(days_future)]\n",
    "hardware_consumption_pred = list(map(lambda x: n(x, efficiency, start_date), date_list))"
   ]
  },
  {
   "cell_type": "code",
   "execution_count": 406,
   "metadata": {},
   "outputs": [],
   "source": [
    "# Koomey's law\n",
    "start_hardware = hardware.loc[3]\n",
    "def n(start_hardware, t):\n",
    "    n_0 = start_hardware.efficiency\n",
    "    start_date = start_hardware.release_date\n",
    "    t_delta = (t - start_date).days/365\n",
    "    return n_0*(1.27**t_delta)\n",
    "\n",
    "# Create date\n",
    "days_future = 365*4\n",
    "base = start_hardware.release_date\n",
    "date_list = [base + timedelta(days=x) for x in range(days_future)]\n",
    "hardware_consumption_pred = list(map(lambda x: n(start_hardware, x), date_list))"
   ]
  },
  {
   "cell_type": "code",
   "execution_count": 407,
   "metadata": {},
   "outputs": [
    {
     "data": {
      "image/png": "[encoded data removed]",
      "text/plain": [
       "<Figure size 864x576 with 1 Axes>"
      ]
     },
     "metadata": {
      "needs_background": "light"
     },
     "output_type": "display_data"
    }
   ],
   "source": [
    "outliers = True\n",
    "plt.figure(figsize=(12,8))\n",
    "\n",
    "hardware_new = hardware[hardware.release_date > datetime(2017,1,1)]\n",
    "\n",
    "x = mdates.date2num(hardware_new.release_date)\n",
    "z = np.polyfit(x, hardware_new['efficiency'], 1)\n",
    "p = np.poly1d(z)\n",
    "plt.plot(x,p(x),\"r--\")\n",
    "\n",
    "plt.plot(date_list, hardware_consumption_pred, \"y--\")\n",
    "\n",
    "if outliers:\n",
    "    x2 = mdates.date2num(hardware.release_date)\n",
    "    z2 = np.polyfit(x2,hardware['efficiency'], 1)\n",
    "    p2 = np.poly1d(z2)\n",
    "    plt.plot(x2,p2(x2),\"g--\")\n",
    "    plt.scatter(hardware['release_date'], hardware['efficiency'])\n",
    "else :\n",
    "    plt.scatter(hardware_new['release_date'], hardware_new['efficiency'])\n",
    "plt.yscale('log')\n",
    "plt.show()"
   ]
  },
  {
   "cell_type": "code",
   "execution_count": 408,
   "metadata": {},
   "outputs": [
    {
     "data": {
      "image/png": "[encoded data removed]",
      "text/plain": [
       "<Figure size 432x288 with 1 Axes>"
      ]
     },
     "metadata": {
      "needs_background": "light"
     },
     "output_type": "display_data"
    }
   ],
   "source": [
    "bitcoin_new = bitcoin[bitcoin.index > datetime(2017,1,1)]\n",
    "\n",
    "x = mdates.date2num(bitcoin_new.index)\n",
    "z = np.polyfit(x,bitcoin_new['difficulty'], 1)\n",
    "p = np.poly1d(z)\n",
    "plt.plot(x,p(x),\"g--\")\n",
    "\n",
    "z2 = np.polyfit(x,bitcoin_new['difficulty'], 2)\n",
    "p2 = np.poly1d(z2)\n",
    "plt.plot(x,p2(x),\"b--\")\n",
    "\n",
    "plt.plot(bitcoin_new['difficulty'],color=\"red\", label=\"difficulty\")\n",
    "plt.legend()\n",
    "plt.show()"
   ]
  },
  {
   "cell_type": "code",
   "execution_count": 409,
   "metadata": {},
   "outputs": [],
   "source": [
    "bitmain = hardware[hardware['name'].apply(lambda x: 'Bitmain' in x or 'Antminer' in x)]"
   ]
  },
  {
   "cell_type": "markdown",
   "metadata": {},
   "source": [
    "### Hashrate vs efficienty gain"
   ]
  },
  {
   "cell_type": "code",
   "execution_count": 410,
   "metadata": {},
   "outputs": [
    {
     "data": {
      "image/png": "[encoded data removed]",
      "text/plain": [
       "<Figure size 864x576 with 1 Axes>"
      ]
     },
     "metadata": {
      "needs_background": "light"
     },
     "output_type": "display_data"
    }
   ],
   "source": [
    "plt.figure(figsize=(12,8))\n",
    "plt.scatter(hardware['release_date'], hardware['consumption'])\n",
    "plt.yscale('log')\n",
    "plt.show()"
   ]
  },
  {
   "cell_type": "code",
   "execution_count": 411,
   "metadata": {},
   "outputs": [],
   "source": [
    "def get_most_efficient(hardware, before):\n",
    "    hardware = hardware[hardware.release_date < before]\n",
    "    return hardware.sort_values(by='consumption').iloc[0]['consumption']"
   ]
  },
  {
   "cell_type": "code",
   "execution_count": 412,
   "metadata": {},
   "outputs": [],
   "source": [
    "bitcoin['hardware_consumption'] = bitcoin.apply(lambda x: get_most_efficient(hardware, x.name), axis=1)"
   ]
  },
  {
   "cell_type": "code",
   "execution_count": 413,
   "metadata": {},
   "outputs": [
    {
     "data": {
      "image/png": "[encoded data removed]",
      "text/plain": [
       "<Figure size 864x576 with 1 Axes>"
      ]
     },
     "metadata": {
      "needs_background": "light"
     },
     "output_type": "display_data"
    }
   ],
   "source": [
    "plt.figure(figsize=(12,8))\n",
    "plt.scatter(bitcoin['hashrate'], 1/bitcoin['hardware_consumption'])\n",
    "plt.yscale('log')\n",
    "plt.xscale('log')\n",
    "plt.show()"
   ]
  },
  {
   "cell_type": "code",
   "execution_count": 414,
   "metadata": {},
   "outputs": [
    {
     "data": {
      "text/html": [
       "<div>\n",
       "<style scoped>\n",
       "    .dataframe tbody tr th:only-of-type {\n",
       "        vertical-align: middle;\n",
       "    }\n",
       "\n",
       "    .dataframe tbody tr th {\n",
       "        vertical-align: top;\n",
       "    }\n",
       "\n",
       "    .dataframe thead th {\n",
       "        text-align: right;\n",
       "    }\n",
       "</style>\n",
       "<table border=\"1\" class=\"dataframe\">\n",
       "  <thead>\n",
       "    <tr style=\"text-align: right;\">\n",
       "      <th></th>\n",
       "      <th>name</th>\n",
       "      <th>release_date</th>\n",
       "      <th>consumption</th>\n",
       "      <th>hashing_power</th>\n",
       "      <th>efficiency</th>\n",
       "      <th>off_num</th>\n",
       "      <th>on_num</th>\n",
       "      <th>cur_hashrate</th>\n",
       "    </tr>\n",
       "  </thead>\n",
       "  <tbody>\n",
       "    <tr>\n",
       "      <th>0</th>\n",
       "      <td>Bitmain Antminer S3</td>\n",
       "      <td>2014-07-06</td>\n",
       "      <td>7.656900e-10</td>\n",
       "      <td>4.780000e+11</td>\n",
       "      <td>1.306012e+09</td>\n",
       "      <td>628218.753534</td>\n",
       "      <td>-0.753534</td>\n",
       "      <td>1.203912e+17</td>\n",
       "    </tr>\n",
       "    <tr>\n",
       "      <th>1</th>\n",
       "      <td>Bitmain Antminer S5</td>\n",
       "      <td>2014-12-07</td>\n",
       "      <td>5.108200e-10</td>\n",
       "      <td>1.000000e+12</td>\n",
       "      <td>1.957637e+09</td>\n",
       "      <td>285369.000000</td>\n",
       "      <td>0.000000</td>\n",
       "      <td>2.874317e+17</td>\n",
       "    </tr>\n",
       "    <tr>\n",
       "      <th>2</th>\n",
       "      <td>Bitmain Antminer S7</td>\n",
       "      <td>2015-09-06</td>\n",
       "      <td>2.733600e-10</td>\n",
       "      <td>5.000000e+12</td>\n",
       "      <td>3.658180e+09</td>\n",
       "      <td>279086.000000</td>\n",
       "      <td>0.000000</td>\n",
       "      <td>3.980514e+17</td>\n",
       "    </tr>\n",
       "    <tr>\n",
       "      <th>3</th>\n",
       "      <td>Bitmain Antminer S9 (11.5Th)</td>\n",
       "      <td>2016-06-05</td>\n",
       "      <td>9.800000e-11</td>\n",
       "      <td>1.200000e+13</td>\n",
       "      <td>1.020408e+10</td>\n",
       "      <td>180751.000000</td>\n",
       "      <td>0.000000</td>\n",
       "      <td>1.426731e+18</td>\n",
       "    </tr>\n",
       "    <tr>\n",
       "      <th>4</th>\n",
       "      <td>Bitmain Antminer S7-LN</td>\n",
       "      <td>2016-06-05</td>\n",
       "      <td>2.581500e-10</td>\n",
       "      <td>3.000000e+12</td>\n",
       "      <td>3.873717e+09</td>\n",
       "      <td>0.000000</td>\n",
       "      <td>0.000000</td>\n",
       "      <td>1.426731e+18</td>\n",
       "    </tr>\n",
       "    <tr>\n",
       "      <th>...</th>\n",
       "      <td>...</td>\n",
       "      <td>...</td>\n",
       "      <td>...</td>\n",
       "      <td>...</td>\n",
       "      <td>...</td>\n",
       "      <td>...</td>\n",
       "      <td>...</td>\n",
       "      <td>...</td>\n",
       "    </tr>\n",
       "    <tr>\n",
       "      <th>79</th>\n",
       "      <td>ASICminer 8 Nano S 58Th</td>\n",
       "      <td>2019-12-01</td>\n",
       "      <td>4.310000e-11</td>\n",
       "      <td>5.800000e+13</td>\n",
       "      <td>2.320186e+10</td>\n",
       "      <td>0.000000</td>\n",
       "      <td>0.000000</td>\n",
       "      <td>9.286578e+19</td>\n",
       "    </tr>\n",
       "    <tr>\n",
       "      <th>80</th>\n",
       "      <td>MicroBT Whatsminer M30S</td>\n",
       "      <td>2020-04-05</td>\n",
       "      <td>3.800000e-11</td>\n",
       "      <td>8.600000e+13</td>\n",
       "      <td>2.631579e+10</td>\n",
       "      <td>0.000000</td>\n",
       "      <td>219345.000000</td>\n",
       "      <td>9.958955e+19</td>\n",
       "    </tr>\n",
       "    <tr>\n",
       "      <th>81</th>\n",
       "      <td>MicroBT Whatsminer M31S</td>\n",
       "      <td>2020-04-05</td>\n",
       "      <td>4.600000e-11</td>\n",
       "      <td>7.000000e+13</td>\n",
       "      <td>2.173913e+10</td>\n",
       "      <td>0.000000</td>\n",
       "      <td>0.000000</td>\n",
       "      <td>9.958955e+19</td>\n",
       "    </tr>\n",
       "    <tr>\n",
       "      <th>82</th>\n",
       "      <td>Bitmain Antminer S19 Pro (110Th)</td>\n",
       "      <td>2020-05-03</td>\n",
       "      <td>2.955000e-11</td>\n",
       "      <td>1.100000e+14</td>\n",
       "      <td>3.384095e+10</td>\n",
       "      <td>0.000000</td>\n",
       "      <td>40823.000000</td>\n",
       "      <td>1.142368e+20</td>\n",
       "    </tr>\n",
       "    <tr>\n",
       "      <th>83</th>\n",
       "      <td>Bitmain Antminer S19 (95Th)</td>\n",
       "      <td>2020-05-03</td>\n",
       "      <td>3.421000e-11</td>\n",
       "      <td>9.500000e+13</td>\n",
       "      <td>2.923122e+10</td>\n",
       "      <td>0.000000</td>\n",
       "      <td>0.000000</td>\n",
       "      <td>1.142368e+20</td>\n",
       "    </tr>\n",
       "  </tbody>\n",
       "</table>\n",
       "<p>84 rows × 8 columns</p>\n",
       "</div>"
      ],
      "text/plain": [
       "                                name release_date   consumption  \\\n",
       "0                Bitmain Antminer S3   2014-07-06  7.656900e-10   \n",
       "1                Bitmain Antminer S5   2014-12-07  5.108200e-10   \n",
       "2                Bitmain Antminer S7   2015-09-06  2.733600e-10   \n",
       "3       Bitmain Antminer S9 (11.5Th)   2016-06-05  9.800000e-11   \n",
       "4             Bitmain Antminer S7-LN   2016-06-05  2.581500e-10   \n",
       "..                               ...          ...           ...   \n",
       "79           ASICminer 8 Nano S 58Th   2019-12-01  4.310000e-11   \n",
       "80           MicroBT Whatsminer M30S   2020-04-05  3.800000e-11   \n",
       "81           MicroBT Whatsminer M31S   2020-04-05  4.600000e-11   \n",
       "82  Bitmain Antminer S19 Pro (110Th)   2020-05-03  2.955000e-11   \n",
       "83       Bitmain Antminer S19 (95Th)   2020-05-03  3.421000e-11   \n",
       "\n",
       "    hashing_power    efficiency        off_num         on_num  cur_hashrate  \n",
       "0    4.780000e+11  1.306012e+09  628218.753534      -0.753534  1.203912e+17  \n",
       "1    1.000000e+12  1.957637e+09  285369.000000       0.000000  2.874317e+17  \n",
       "2    5.000000e+12  3.658180e+09  279086.000000       0.000000  3.980514e+17  \n",
       "3    1.200000e+13  1.020408e+10  180751.000000       0.000000  1.426731e+18  \n",
       "4    3.000000e+12  3.873717e+09       0.000000       0.000000  1.426731e+18  \n",
       "..            ...           ...            ...            ...           ...  \n",
       "79   5.800000e+13  2.320186e+10       0.000000       0.000000  9.286578e+19  \n",
       "80   8.600000e+13  2.631579e+10       0.000000  219345.000000  9.958955e+19  \n",
       "81   7.000000e+13  2.173913e+10       0.000000       0.000000  9.958955e+19  \n",
       "82   1.100000e+14  3.384095e+10       0.000000   40823.000000  1.142368e+20  \n",
       "83   9.500000e+13  2.923122e+10       0.000000       0.000000  1.142368e+20  \n",
       "\n",
       "[84 rows x 8 columns]"
      ]
     },
     "execution_count": 414,
     "metadata": {},
     "output_type": "execute_result"
    }
   ],
   "source": [
    "def to_end_of_week(date):\n",
    "    return date-timedelta(days=date.weekday())+ timedelta(days=6)\n",
    "\n",
    "# To end of week like bitcoin\n",
    "hardware['release_date'] = hardware['release_date'].apply(lambda x: to_end_of_week(x))\n",
    "# Add hashrate on release day\n",
    "hardware['cur_hashrate'] = hardware['release_date'].apply(lambda x: bitcoin.loc[x, 'hashrate'])\n",
    "hardware"
   ]
  },
  {
   "cell_type": "code",
   "execution_count": 415,
   "metadata": {},
   "outputs": [
    {
     "data": {
      "image/png": "[encoded data removed]",
      "text/plain": [
       "<Figure size 864x576 with 1 Axes>"
      ]
     },
     "metadata": {
      "needs_background": "light"
     },
     "output_type": "display_data"
    }
   ],
   "source": [
    "plt.figure(figsize=(12,8))\n",
    "plt.scatter(1/hardware['consumption'], hardware['cur_hashrate'])\n",
    "plt.yscale('log')\n",
    "plt.xscale('log')\n",
    "plt.xlabel('efficiency')\n",
    "plt.ylabel('network hashrate')\n",
    "plt.show()"
   ]
  },
  {
   "cell_type": "markdown",
   "metadata": {},
   "source": [
    "## Hashrate predictor"
   ]
  },
  {
   "cell_type": "markdown",
   "metadata": {},
   "source": [
    "We start from moment that first ASICs came into existence "
   ]
  },
  {
   "cell_type": "code",
   "execution_count": 416,
   "metadata": {},
   "outputs": [],
   "source": [
    "from dateutil.relativedelta import relativedelta"
   ]
  },
  {
   "cell_type": "code",
   "execution_count": 430,
   "metadata": {},
   "outputs": [
    {
     "data": {
      "text/plain": [
       "Timestamp('2014-07-05 00:00:00')"
      ]
     },
     "execution_count": 430,
     "metadata": {},
     "output_type": "execute_result"
    }
   ],
   "source": [
    "startdate = hardware.loc[0, 'release_date'] - timedelta(days=1)\n",
    "startdate"
   ]
  },
  {
   "cell_type": "code",
   "execution_count": 637,
   "metadata": {},
   "outputs": [],
   "source": [
    "# consumption\n",
    "def n(t):\n",
    "    cur_hardware = hardware[hardware.release_date <= t]\n",
    "    best_hardware = cur_hardware.sort_values(by='consumption').iloc[0]\n",
    "    year_delta = (t - best_hardware.release_date).days/365\n",
    "    if year_delta == 0:\n",
    "        return best_hardware.consumption\n",
    "    return best_hardware.consumption/(1.27**year_delta)\n",
    "# n(datetime(2020,5,20))"
   ]
  },
  {
   "cell_type": "code",
   "execution_count": 638,
   "metadata": {},
   "outputs": [],
   "source": [
    "def gamma(t):\n",
    "    rew0 = 25\n",
    "    second_halve = datetime(2016,7,1) \n",
    "    if t < second_halve:\n",
    "        return rew0\n",
    "    else:\n",
    "        year_delta = (t - second_halve).days/365\n",
    "        rew = rew0/2**(np.floor(year_delta/4)+1)\n",
    "        return rew\n",
    "#gamma(datetime(2020,8,13))"
   ]
  },
  {
   "cell_type": "code",
   "execution_count": 639,
   "metadata": {},
   "outputs": [],
   "source": [
    "def H(x,t):\n",
    "    # If before last hardware, take startdate, else last hardware\n",
    "    return gamma(t)*x/(BTC_block_time*n(t)*std_PUE['estimate']*avg_elec_price)"
   ]
  },
  {
   "cell_type": "code",
   "execution_count": 640,
   "metadata": {},
   "outputs": [],
   "source": [
    "#Image(FIG_PATH+\"compound_interest.png\")\n",
    "# n = 1\n",
    "# t per year\n",
    "def price_future(P, r, t):\n",
    "    return P*(1 + r)**(t/365)\n",
    "\n",
    "def r_from_x(x, t):\n",
    "    \"\"\" Calculate the rate when we want an x increase over time t\"\"\"\n",
    "    return x**(1/t)-1"
   ]
  },
  {
   "cell_type": "code",
   "execution_count": 641,
   "metadata": {},
   "outputs": [],
   "source": [
    "# Create date\n",
    "extra_start = 1\n",
    "days_future = 365*5+extra_start\n",
    "base = bitcoin.index[len(bitcoin.index)-extra_start]\n",
    "date_list = [base + timedelta(days=x) for x in range(days_future)]\n",
    "\n",
    "# Create prices\n",
    "last_price = bitcoin.price[len(bitcoin.price)-1]\n",
    "prices = [price_future(last_price, 0.10, t) for t in range(1,len(date_list)+1)]\n",
    "\n",
    "# Consumption\n",
    "n_start = hardware.sort_values(by='consumption').iloc[0].consumption\n",
    "hardware_consumption = [n_start*(1.27)**(t/365) for t in range(1,len(date_list)+1)]\n",
    "\n",
    "bitcoin_future = pd.DataFrame({'time' : date_list, 'price': prices, 'hardware_consumption':hardware_consumption})"
   ]
  },
  {
   "cell_type": "code",
   "execution_count": 645,
   "metadata": {},
   "outputs": [],
   "source": [
    "def simulate_future(price_increase, years):\n",
    "    \"\"\"\n",
    "    Predicts the hashrate at current time + years\n",
    "    price increase is percentage of price increase per year\n",
    "    \"\"\"\n",
    "    # Create date\n",
    "    days_future = 365*years\n",
    "    base = bitcoin.index[len(bitcoin.index)-1]\n",
    "    date_list = [base + timedelta(days=x) for x in range(days_future)]\n",
    "\n",
    "    # Create prices\n",
    "    last_price = bitcoin.price[len(bitcoin.price)-1]\n",
    "    prices = [price_future(last_price, price_increase, t) for t in range(1,len(date_list)+1)]\n",
    "    \n",
    "    hardware_consumption = [n(t) for t in date_list]\n",
    "        \n",
    "    bitcoin_future = pd.DataFrame({'time' : date_list, 'price': prices, 'hardware_consumption':hardware_consumption})\n",
    "    bitcoin_future['hashrate'] = bitcoin_future.apply(lambda x: H(x.price, x.time),axis=1)\n",
    "    bitcoin_future['consumption'] = bitcoin_future['hashrate']*bitcoin_future['hardware_consumption']*W_to_TWh\n",
    "\n",
    "    return bitcoin_future  "
   ]
  },
  {
   "cell_type": "code",
   "execution_count": 700,
   "metadata": {},
   "outputs": [],
   "source": [
    "def predict_future(price_increase, years):\n",
    "    \"\"\"\n",
    "    Predicts the hashrate at current time + years\n",
    "    price increase is percentage of price increase per year\n",
    "    \"\"\"\n",
    "    # Create date\n",
    "    days_future = 365*years\n",
    "    base = bitcoin.index[len(bitcoin.index)-1]\n",
    "    future_date = base + timedelta(days=days_future)\n",
    "\n",
    "    # Create prices\n",
    "    last_price = bitcoin.price[len(bitcoin.price)-1]\n",
    "    future_price = price_future(last_price, price_increase, days_future) \n",
    "    \n",
    "    future_hardware_consumption = n(future_date)\n",
    "        \n",
    "    future_hashrate = H(future_price, future_date)\n",
    "    future_consumption = future_hashrate*future_hardware_consumption*W_to_TWh\n",
    "\n",
    "    return future_hashrate, future_consumption  "
   ]
  },
  {
   "cell_type": "code",
   "execution_count": 665,
   "metadata": {},
   "outputs": [],
   "source": [
    "futures = {}\n",
    "years = 5\n",
    "for x in [1, 2, 10, 100]:\n",
    "    futures[x] = simulate_future(r_from_x(x,years), years)"
   ]
  },
  {
   "cell_type": "code",
   "execution_count": 676,
   "metadata": {},
   "outputs": [
    {
     "data": {
      "image/png": "[encoded data removed]",
      "text/plain": [
       "<Figure size 1152x720 with 2 Axes>"
      ]
     },
     "metadata": {
      "needs_background": "light"
     },
     "output_type": "display_data"
    }
   ],
   "source": [
    "fig, ax1 = plt.subplots(figsize=(16,10))\n",
    "\n",
    "# Real hashrate\n",
    "ln1 = ax1.plot(bitcoin['hashrate'],color=\"red\", label=\"hashrate\")\n",
    "\n",
    "# Predicted historical hashrate\n",
    "bitcoin['hashrate_pred'] = bitcoin.apply(lambda x: H(x.price, x.name),axis=1)\n",
    "ln2 = ax1.plot(bitcoin['hashrate_pred'], color=\"blue\", label=\"hashrate prediction\")\n",
    "\n",
    "# Historical price\n",
    "ax2 = ax1.twinx()\n",
    "ln3 = ax2.plot(bitcoin['price'], color=\"green\", label=\"price\")\n",
    "\n",
    "lines = ln1 + ln2 + ln3\n",
    "\n",
    "# Predicted future hashrate\n",
    "for x, future in futures.items():\n",
    "    ax1.plot(future['time'], future['hashrate'], '--',color=\"blue\")\n",
    "    ax2.plot(future['time'], future['price'], '--', color=\"green\")\n",
    "\n",
    "labs = [l.get_label() for l in lines]\n",
    "ax1.legend(lines, labs, loc=0, fontsize=15)\n",
    "\n",
    "ax1.set_yscale('log')\n",
    "ax2.set_yscale('log')\n",
    "\n",
    "ax1.set_ylabel('Hashrate', fontsize = 15)\n",
    "ax2.set_ylabel('Bitcoin market price ($)', fontsize = 15)\n",
    "\n",
    "ax1.set_xlabel('Year', fontsize = 15)\n",
    "\n",
    "ax1.tick_params(axis=\"x\", labelsize=18)\n",
    "ax1.tick_params(axis=\"y\", labelsize=18)\n",
    "ax2.tick_params(axis=\"y\", labelsize=18)\n",
    "\n",
    "plt.savefig(FIG_PATH+'BTC_hashrate_prediction.png')\n",
    "\n",
    "plt.show()"
   ]
  },
  {
   "cell_type": "markdown",
   "metadata": {},
   "source": [
    "### Electricity consumption"
   ]
  },
  {
   "cell_type": "code",
   "execution_count": 667,
   "metadata": {},
   "outputs": [],
   "source": [
    "def lower_bound(date, hardware, hashrate):\n",
    "    cur_hardware = hardware[hardware.release_date <= date]\n",
    "    best_hardware = get_buy_hardware(cur_hardware)\n",
    "    return hashrate*best_hardware['consumption']*W_to_TWh"
   ]
  },
  {
   "cell_type": "code",
   "execution_count": 668,
   "metadata": {},
   "outputs": [],
   "source": [
    "bitcoin['lower_bound'] = bitcoin.apply(lambda x: lower_bound(x.name, hardware, x.hashrate_pred),axis=1)"
   ]
  },
  {
   "cell_type": "code",
   "execution_count": 677,
   "metadata": {},
   "outputs": [
    {
     "data": {
      "image/png": "[encoded data removed]",
      "text/plain": [
       "<Figure size 1152x720 with 2 Axes>"
      ]
     },
     "metadata": {
      "needs_background": "light"
     },
     "output_type": "display_data"
    }
   ],
   "source": [
    "fig, ax1 = plt.subplots(figsize=(16,10))\n",
    "\n",
    "ln1 = ax1.plot(bitcoin['lower_bound'],color=\"blue\", label=\"consumption\")\n",
    "\n",
    "\n",
    "# Historical price\n",
    "ax2 = ax1.twinx()\n",
    "ln2 = ax2.plot(bitcoin['price'], color=\"green\", label=\"price\")\n",
    "\n",
    "lines = ln1 + ln2\n",
    "\n",
    "# Predicted future hashrate\n",
    "for x, future in futures.items():\n",
    "    ax1.plot(future['time'], future['consumption'], '--',color=\"blue\")\n",
    "    ax2.plot(future['time'], future['price'], '--', color=\"green\")\n",
    "\n",
    "labs = [l.get_label() for l in lines]\n",
    "ax1.legend(lines, labs, loc=0, fontsize=15)\n",
    "\n",
    "ax1.set_yscale('log')\n",
    "ax2.set_yscale('log')\n",
    "\n",
    "ax1.set_ylabel('Consumption (TWh/year)', fontsize = 15)\n",
    "ax2.set_ylabel('Bitcoin market price ($)', fontsize = 15)\n",
    "\n",
    "ax1.set_xlabel('Year', fontsize = 15)\n",
    "\n",
    "ax1.tick_params(axis=\"x\", labelsize=18)\n",
    "ax1.tick_params(axis=\"y\", labelsize=18)\n",
    "ax2.tick_params(axis=\"y\", labelsize=18)\n",
    "\n",
    "plt.savefig(FIG_PATH+'BTC_consumption_prediction.png')\n",
    "\n",
    "plt.show()"
   ]
  },
  {
   "cell_type": "code",
   "execution_count": 673,
   "metadata": {},
   "outputs": [
    {
     "name": "stdout",
     "output_type": "stream",
     "text": [
      "1 38.41178318168988\n",
      "1 19.20589159084495\n",
      "2 38.41178318168991\n",
      "10 192.0589159084496\n",
      "100 1920.589159084495\n"
     ]
    }
   ],
   "source": [
    "# Predicted future hashrate\n",
    "print(1, futures[1].iloc[500]['consumption'])\n",
    "for x, future in futures.items():\n",
    "    print(x, future.iloc[len(future)-1]['consumption'])"
   ]
  },
  {
   "cell_type": "code",
   "execution_count": 701,
   "metadata": {},
   "outputs": [
    {
     "data": {
      "text/html": [
       "<div>\n",
       "<style scoped>\n",
       "    .dataframe tbody tr th:only-of-type {\n",
       "        vertical-align: middle;\n",
       "    }\n",
       "\n",
       "    .dataframe tbody tr th {\n",
       "        vertical-align: top;\n",
       "    }\n",
       "\n",
       "    .dataframe thead th {\n",
       "        text-align: right;\n",
       "    }\n",
       "</style>\n",
       "<table border=\"1\" class=\"dataframe\">\n",
       "  <thead>\n",
       "    <tr style=\"text-align: right;\">\n",
       "      <th></th>\n",
       "      <th>1</th>\n",
       "      <th>2</th>\n",
       "      <th>5</th>\n",
       "      <th>10</th>\n",
       "      <th>20</th>\n",
       "    </tr>\n",
       "  </thead>\n",
       "  <tbody>\n",
       "    <tr>\n",
       "      <th>0.5</th>\n",
       "      <td>19.2059</td>\n",
       "      <td>19.2059</td>\n",
       "      <td>9.60295</td>\n",
       "      <td>4.80147</td>\n",
       "      <td>1.20037</td>\n",
       "    </tr>\n",
       "    <tr>\n",
       "      <th>1.0</th>\n",
       "      <td>38.4118</td>\n",
       "      <td>38.4118</td>\n",
       "      <td>19.2059</td>\n",
       "      <td>9.60295</td>\n",
       "      <td>2.40074</td>\n",
       "    </tr>\n",
       "    <tr>\n",
       "      <th>2.0</th>\n",
       "      <td>76.8236</td>\n",
       "      <td>76.8236</td>\n",
       "      <td>38.4118</td>\n",
       "      <td>19.2059</td>\n",
       "      <td>4.80147</td>\n",
       "    </tr>\n",
       "    <tr>\n",
       "      <th>10.0</th>\n",
       "      <td>384.118</td>\n",
       "      <td>384.118</td>\n",
       "      <td>192.059</td>\n",
       "      <td>96.0295</td>\n",
       "      <td>24.0074</td>\n",
       "    </tr>\n",
       "    <tr>\n",
       "      <th>100.0</th>\n",
       "      <td>3841.18</td>\n",
       "      <td>3841.18</td>\n",
       "      <td>1920.59</td>\n",
       "      <td>960.295</td>\n",
       "      <td>240.074</td>\n",
       "    </tr>\n",
       "  </tbody>\n",
       "</table>\n",
       "</div>"
      ],
      "text/plain": [
       "            1        2        5        10       20\n",
       "0.5    19.2059  19.2059  9.60295  4.80147  1.20037\n",
       "1.0    38.4118  38.4118  19.2059  9.60295  2.40074\n",
       "2.0    76.8236  76.8236  38.4118  19.2059  4.80147\n",
       "10.0   384.118  384.118  192.059  96.0295  24.0074\n",
       "100.0  3841.18  3841.18  1920.59  960.295  240.074"
      ]
     },
     "execution_count": 701,
     "metadata": {},
     "output_type": "execute_result"
    }
   ],
   "source": [
    "prices = [0.5, 1, 2, 10, 100]\n",
    "years = [1, 2, 5, 10, 20]\n",
    "predictions = pd.DataFrame(index=prices,columns=years)\n",
    "for x in prices:\n",
    "    for t in years:\n",
    "        future_hashrate, future_consumption  = predict_future(r_from_x(x,t), t)\n",
    "        predictions.loc[x,t] = future_consumption\n",
    "predictions.format"
   ]
  },
  {
   "cell_type": "code",
   "execution_count": 704,
   "metadata": {},
   "outputs": [
    {
     "data": {
      "text/html": [
       "<div>\n",
       "<style scoped>\n",
       "    .dataframe tbody tr th:only-of-type {\n",
       "        vertical-align: middle;\n",
       "    }\n",
       "\n",
       "    .dataframe tbody tr th {\n",
       "        vertical-align: top;\n",
       "    }\n",
       "\n",
       "    .dataframe thead th {\n",
       "        text-align: right;\n",
       "    }\n",
       "</style>\n",
       "<table border=\"1\" class=\"dataframe\">\n",
       "  <thead>\n",
       "    <tr style=\"text-align: right;\">\n",
       "      <th></th>\n",
       "      <th>1</th>\n",
       "      <th>2</th>\n",
       "      <th>5</th>\n",
       "      <th>10</th>\n",
       "      <th>20</th>\n",
       "    </tr>\n",
       "  </thead>\n",
       "  <tbody>\n",
       "    <tr>\n",
       "      <th>0.5</th>\n",
       "      <td>19.21</td>\n",
       "      <td>19.21</td>\n",
       "      <td>9.603</td>\n",
       "      <td>4.801</td>\n",
       "      <td>1.2</td>\n",
       "    </tr>\n",
       "    <tr>\n",
       "      <th>1.0</th>\n",
       "      <td>38.41</td>\n",
       "      <td>38.41</td>\n",
       "      <td>19.21</td>\n",
       "      <td>9.603</td>\n",
       "      <td>2.401</td>\n",
       "    </tr>\n",
       "    <tr>\n",
       "      <th>2.0</th>\n",
       "      <td>76.82</td>\n",
       "      <td>76.82</td>\n",
       "      <td>38.41</td>\n",
       "      <td>19.21</td>\n",
       "      <td>4.801</td>\n",
       "    </tr>\n",
       "    <tr>\n",
       "      <th>10.0</th>\n",
       "      <td>384.1</td>\n",
       "      <td>384.1</td>\n",
       "      <td>192.1</td>\n",
       "      <td>96.03</td>\n",
       "      <td>24.01</td>\n",
       "    </tr>\n",
       "    <tr>\n",
       "      <th>100.0</th>\n",
       "      <td>3841</td>\n",
       "      <td>3841</td>\n",
       "      <td>1921</td>\n",
       "      <td>960.3</td>\n",
       "      <td>240.1</td>\n",
       "    </tr>\n",
       "  </tbody>\n",
       "</table>\n",
       "</div>"
      ],
      "text/plain": [
       "          1      2      5      10     20\n",
       "0.5    19.21  19.21  9.603  4.801    1.2\n",
       "1.0    38.41  38.41  19.21  9.603  2.401\n",
       "2.0    76.82  76.82  38.41  19.21  4.801\n",
       "10.0   384.1  384.1  192.1  96.03  24.01\n",
       "100.0   3841   3841   1921  960.3  240.1"
      ]
     },
     "execution_count": 704,
     "metadata": {},
     "output_type": "execute_result"
    }
   ],
   "source": [
    "pd.set_option('precision',4)\n",
    "predictions"
   ]
  },
  {
   "cell_type": "code",
   "execution_count": 705,
   "metadata": {},
   "outputs": [
    {
     "name": "stdout",
     "output_type": "stream",
     "text": [
      "\\begin{tabular}{llllll}\n",
      "\\toprule\n",
      "{} &     1  &     2  &     5  &     10 &     20 \\\\\n",
      "\\midrule\n",
      "0.5   &  19.21 &  19.21 &  9.603 &  4.801 &    1.2 \\\\\n",
      "1.0   &  38.41 &  38.41 &  19.21 &  9.603 &  2.401 \\\\\n",
      "2.0   &  76.82 &  76.82 &  38.41 &  19.21 &  4.801 \\\\\n",
      "10.0  &  384.1 &  384.1 &  192.1 &  96.03 &  24.01 \\\\\n",
      "100.0 &   3841 &   3841 &   1921 &  960.3 &  240.1 \\\\\n",
      "\\bottomrule\n",
      "\\end{tabular}\n",
      "\n"
     ]
    }
   ],
   "source": [
    "print(predictions.to_latex())"
   ]
  },
  {
   "cell_type": "code",
   "execution_count": null,
   "metadata": {},
   "outputs": [],
   "source": []
  },
  {
   "cell_type": "markdown",
   "metadata": {
    "toc-hr-collapsed": true,
    "toc-nb-collapsed": true
   },
   "source": [
    "# Ethereum"
   ]
  },
  {
   "cell_type": "code",
   "execution_count": 285,
   "metadata": {},
   "outputs": [],
   "source": [
    "difficulty = pd.read_csv(ETH_PATH+'difficulty.csv')\n",
    "reward = pd.read_csv(ETH_PATH+'reward.csv')\n",
    "price = pd.read_csv(ETH_PATH+'price.csv')\n",
    "\n",
    "difficulty = difficulty.drop(columns='UnixTimeStamp')\n",
    "difficulty.columns = ['date', 'value']\n",
    "reward.columns = ['date', 'reward']\n",
    "price.columns = ['date', 'price']"
   ]
  },
  {
   "cell_type": "code",
   "execution_count": 286,
   "metadata": {},
   "outputs": [],
   "source": [
    "for data in [difficulty, reward, price]:\n",
    "    data['date'] = pd.to_datetime(data['date'])\n",
    "    data.set_index('date', inplace=True)"
   ]
  },
  {
   "cell_type": "code",
   "execution_count": 287,
   "metadata": {},
   "outputs": [],
   "source": [
    "difficulty = difficulty.groupby(pd.Grouper(freq='W')).mean()*10**12 # difficulty given in T per block\n",
    "reward = reward.groupby(pd.Grouper(freq='W')).mean()\n",
    "price = price.groupby(pd.Grouper(freq='W')).mean()\n",
    "revenue = reward.join(price)\n",
    "revenue['revenue'] = revenue['reward']*revenue['price']/seconds_in_day\n",
    "revenue = revenue[['revenue']]\n",
    "\n",
    "ethereum = revenue.join(difficulty)\n",
    "ethereum.columns = ['revenue', 'difficulty']"
   ]
  },
  {
   "cell_type": "code",
   "execution_count": 288,
   "metadata": {},
   "outputs": [
    {
     "data": {
      "image/png": "[encoded data removed]",
      "text/plain": [
       "<Figure size 1152x720 with 2 Axes>"
      ]
     },
     "metadata": {
      "needs_background": "light"
     },
     "output_type": "display_data"
    }
   ],
   "source": [
    "fig, ax1 = plt.subplots(figsize=(16,10))\n",
    "ax1.plot(ethereum['difficulty'],color=\"red\", label=\"difficulty\")\n",
    "ax1.legend()\n",
    "ax1.set_ylabel('difficulty')\n",
    "ax2 = ax1.twinx()\n",
    "ax2.plot(ethereum['revenue'], color=\"green\", label=\"revenue\")\n",
    "ax2.legend(loc='upper left')\n",
    "ax2.set_ylabel('revenue per second')\n",
    "plt.show()"
   ]
  },
  {
   "cell_type": "code",
   "execution_count": 289,
   "metadata": {},
   "outputs": [
    {
     "data": {
      "text/html": [
       "<div>\n",
       "<style scoped>\n",
       "    .dataframe tbody tr th:only-of-type {\n",
       "        vertical-align: middle;\n",
       "    }\n",
       "\n",
       "    .dataframe tbody tr th {\n",
       "        vertical-align: top;\n",
       "    }\n",
       "\n",
       "    .dataframe thead th {\n",
       "        text-align: right;\n",
       "    }\n",
       "</style>\n",
       "<table border=\"1\" class=\"dataframe\">\n",
       "  <thead>\n",
       "    <tr style=\"text-align: right;\">\n",
       "      <th></th>\n",
       "      <th>name</th>\n",
       "      <th>release_date</th>\n",
       "      <th>consumption</th>\n",
       "      <th>hashing_power</th>\n",
       "    </tr>\n",
       "  </thead>\n",
       "  <tbody>\n",
       "    <tr>\n",
       "      <th>0</th>\n",
       "      <td>Radeon HD 7870</td>\n",
       "      <td>2012-03-19</td>\n",
       "      <td>0.000017</td>\n",
       "      <td>10000000</td>\n",
       "    </tr>\n",
       "    <tr>\n",
       "      <th>1</th>\n",
       "      <td>GeForce GTX 680</td>\n",
       "      <td>2012-03-22</td>\n",
       "      <td>0.000013</td>\n",
       "      <td>15000000</td>\n",
       "    </tr>\n",
       "    <tr>\n",
       "      <th>2</th>\n",
       "      <td>GeForce GTX 660 Ti</td>\n",
       "      <td>2012-08-16</td>\n",
       "      <td>0.000013</td>\n",
       "      <td>12000000</td>\n",
       "    </tr>\n",
       "    <tr>\n",
       "      <th>3</th>\n",
       "      <td>GeForce GTX 650 Ti</td>\n",
       "      <td>2012-09-10</td>\n",
       "      <td>0.000011</td>\n",
       "      <td>10000000</td>\n",
       "    </tr>\n",
       "  </tbody>\n",
       "</table>\n",
       "</div>"
      ],
      "text/plain": [
       "                 name release_date  consumption  hashing_power\n",
       "0      Radeon HD 7870   2012-03-19     0.000017       10000000\n",
       "1     GeForce GTX 680   2012-03-22     0.000013       15000000\n",
       "2  GeForce GTX 660 Ti   2012-08-16     0.000013       12000000\n",
       "3  GeForce GTX 650 Ti   2012-09-10     0.000011       10000000"
      ]
     },
     "execution_count": 289,
     "metadata": {},
     "output_type": "execute_result"
    }
   ],
   "source": [
    "ethash_hardware = pd.read_csv(HARDWARE_PATH+'Ethash_hardware_clean.csv',index_col=0)\n",
    "# Initialisation\n",
    "hardware = ethash_hardware[['name', 'release_date', 'consumption', 'hashing_power']].copy()\n",
    "hardware['release_date'] = pd.to_datetime(hardware['release_date'])\n",
    "hardware[:4]"
   ]
  },
  {
   "cell_type": "code",
   "execution_count": 290,
   "metadata": {},
   "outputs": [],
   "source": [
    "# Select only from first hardware available in dataset\n",
    "ethereum = ethereum[ethereum.index > ethash_hardware.loc[0,'release_date']]\n",
    "\n",
    "# Difficulty to hashrate\n",
    "ethereum['hashrate'] = ethereum['difficulty']*1/ETH_block_time"
   ]
  },
  {
   "cell_type": "code",
   "execution_count": 291,
   "metadata": {},
   "outputs": [],
   "source": [
    "hardware['off_num'] = 0\n",
    "hardware['on_num'] = 0\n",
    "\n",
    "cur_hashrate = 0\n",
    "consumption = []\n",
    "for time, data in ethereum.iterrows():\n",
    "    cur_hardware = hardware[hardware.release_date < time]\n",
    "    hashrate_difference = data.hashrate - cur_hashrate\n",
    "    \n",
    "    if time.month in wet_months:\n",
    "        elec_price = avg_elec_price_wet\n",
    "    else:\n",
    "        elec_price = avg_elec_price_dry\n",
    "    \n",
    "    if hashrate_difference > 0:\n",
    "        # Network hashrate has increased, turn on/buy devices\n",
    "        prof_hardware = get_profitable_hardware(data, cur_hardware, elec_price)\n",
    "        off_hardware = prof_hardware[prof_hardware['off_num'] >= 1]\n",
    "                \n",
    "        while cur_hashrate < data.hashrate and (not off_hardware.empty):\n",
    "            \n",
    "            best_off_hardware = get_turn_on_hardware(off_hardware)\n",
    "            \n",
    "            # Everything gets turned on OR the part needed for hashrate difference gets turned on\n",
    "            extra_hashing_power = min(best_off_hardware.off_num*best_off_hardware.hashing_power, hashrate_difference)\n",
    "            \n",
    "            num_to_on = extra_hashing_power/best_off_hardware.hashing_power\n",
    "            \n",
    "            hardware.loc[best_off_hardware.name, 'on_num'] += num_to_on\n",
    "            hardware.loc[best_off_hardware.name, 'off_num'] -= num_to_on\n",
    "            \n",
    "            cur_hashrate += extra_hashing_power\n",
    "            \n",
    "            # Refresh with new values\n",
    "            prof_hardware = hardware.loc[prof_hardware.index]\n",
    "            off_hardware = prof_hardware[prof_hardware['off_num'] >= 1]\n",
    "            \n",
    "        if off_hardware.empty and cur_hashrate < data.hashrate:\n",
    "            # Have to buy new hardware. Buy entire difference in hashrate from get_next_hardware\n",
    "            best_hardware = get_buy_hardware(prof_hardware)\n",
    "            \n",
    "            num_extra = np.ceil(hashrate_difference/best_hardware.hashing_power)\n",
    "            \n",
    "            hardware.loc[best_hardware.name, 'on_num'] += num_extra\n",
    "            \n",
    "            cur_hashrate += num_extra*best_hardware.hashing_power\n",
    "                \n",
    "    elif hashrate_difference < 0:\n",
    "        # Network hashrate has decreased, turn off devices\n",
    "        on_hardware = hardware[hardware['on_num'] >= 1]\n",
    "        while cur_hashrate > data.hashrate:            \n",
    "            worst_on_hardware = get_turn_off_hardware(on_hardware)\n",
    "        \n",
    "            min_hashing_power = min(worst_on_hardware.on_num*worst_on_hardware.hashing_power, -hashrate_difference)\n",
    "            \n",
    "            num_to_off = np.floor(min_hashing_power/worst_on_hardware.hashing_power)\n",
    "            \n",
    "            hardware.loc[worst_on_hardware.name, 'on_num'] -= num_to_off\n",
    "            hardware.loc[worst_on_hardware.name, 'off_num'] += num_to_off\n",
    "            \n",
    "            cur_hashrate -= min_hashing_power\n",
    "            \n",
    "            # Refresh with new values\n",
    "            prof_hardware = hardware.loc[prof_hardware.index]\n",
    "            on_hardware = hardware[hardware['on_num'] >= 1]\n",
    "    else:\n",
    "        #print('hashrate_difference = 0')\n",
    "        pass\n",
    "    hardware = replace_hardware(time, data, hardware, elec_price)\n",
    "    cur_hashrate = np.sum(hardware['on_num']*hardware['hashing_power'])\n",
    "    consumption.append(calc_consumption(hardware)*W_to_TWh)  "
   ]
  },
  {
   "cell_type": "code",
   "execution_count": 292,
   "metadata": {},
   "outputs": [
    {
     "data": {
      "image/png": "[encoded data removed]",
      "text/plain": [
       "<Figure size 432x288 with 1 Axes>"
      ]
     },
     "metadata": {
      "needs_background": "light"
     },
     "output_type": "display_data"
    }
   ],
   "source": [
    "plt.plot(ethereum.index,consumption)\n",
    "plt.ylabel('TWh/year')\n",
    "plt.show()"
   ]
  },
  {
   "cell_type": "code",
   "execution_count": 293,
   "metadata": {},
   "outputs": [
    {
     "data": {
      "text/html": [
       "<div>\n",
       "<style scoped>\n",
       "    .dataframe tbody tr th:only-of-type {\n",
       "        vertical-align: middle;\n",
       "    }\n",
       "\n",
       "    .dataframe tbody tr th {\n",
       "        vertical-align: top;\n",
       "    }\n",
       "\n",
       "    .dataframe thead th {\n",
       "        text-align: right;\n",
       "    }\n",
       "</style>\n",
       "<table border=\"1\" class=\"dataframe\">\n",
       "  <thead>\n",
       "    <tr style=\"text-align: right;\">\n",
       "      <th></th>\n",
       "      <th>name</th>\n",
       "      <th>release_date</th>\n",
       "      <th>consumption</th>\n",
       "      <th>hashing_power</th>\n",
       "      <th>off_num</th>\n",
       "      <th>on_num</th>\n",
       "    </tr>\n",
       "  </thead>\n",
       "  <tbody>\n",
       "    <tr>\n",
       "      <th>17</th>\n",
       "      <td>GeForce GTX Titan X</td>\n",
       "      <td>2015-03-17</td>\n",
       "      <td>0.000006</td>\n",
       "      <td>40000000</td>\n",
       "      <td>1.615800e+04</td>\n",
       "      <td>0.000000</td>\n",
       "    </tr>\n",
       "    <tr>\n",
       "      <th>27</th>\n",
       "      <td>Radeon Rx 480</td>\n",
       "      <td>2016-01-06</td>\n",
       "      <td>0.000006</td>\n",
       "      <td>25000000</td>\n",
       "      <td>1.660921e+05</td>\n",
       "      <td>-0.142857</td>\n",
       "    </tr>\n",
       "    <tr>\n",
       "      <th>28</th>\n",
       "      <td>GeForce GTX 1070</td>\n",
       "      <td>2016-10-06</td>\n",
       "      <td>0.000005</td>\n",
       "      <td>30000000</td>\n",
       "      <td>1.996513e+05</td>\n",
       "      <td>-0.306349</td>\n",
       "    </tr>\n",
       "    <tr>\n",
       "      <th>31</th>\n",
       "      <td>GeForce GTX 1060</td>\n",
       "      <td>2016-08-18</td>\n",
       "      <td>0.000005</td>\n",
       "      <td>24000000</td>\n",
       "      <td>6.820200e+04</td>\n",
       "      <td>0.000000</td>\n",
       "    </tr>\n",
       "    <tr>\n",
       "      <th>37</th>\n",
       "      <td>Radeon RX 550</td>\n",
       "      <td>2017-04-20</td>\n",
       "      <td>0.000005</td>\n",
       "      <td>11000000</td>\n",
       "      <td>1.912686e+07</td>\n",
       "      <td>-0.610390</td>\n",
       "    </tr>\n",
       "    <tr>\n",
       "      <th>42</th>\n",
       "      <td>GeForce GTX 1070 Ti</td>\n",
       "      <td>2017-02-11</td>\n",
       "      <td>0.000005</td>\n",
       "      <td>32000000</td>\n",
       "      <td>3.534230e+05</td>\n",
       "      <td>0.000000</td>\n",
       "    </tr>\n",
       "    <tr>\n",
       "      <th>43</th>\n",
       "      <td>GTX Titan V</td>\n",
       "      <td>2017-12-13</td>\n",
       "      <td>0.000003</td>\n",
       "      <td>77000000</td>\n",
       "      <td>3.076347e+06</td>\n",
       "      <td>0.622758</td>\n",
       "    </tr>\n",
       "    <tr>\n",
       "      <th>44</th>\n",
       "      <td>Innosilicon A10 ETHMaster 500Mh</td>\n",
       "      <td>2019-09-01</td>\n",
       "      <td>0.000002</td>\n",
       "      <td>500000000</td>\n",
       "      <td>0.000000e+00</td>\n",
       "      <td>243406.000000</td>\n",
       "    </tr>\n",
       "    <tr>\n",
       "      <th>45</th>\n",
       "      <td>Innosilicon A10 ETHMaster 485Mh</td>\n",
       "      <td>2018-09-01</td>\n",
       "      <td>0.000002</td>\n",
       "      <td>485000000</td>\n",
       "      <td>2.873302e+05</td>\n",
       "      <td>60575.849975</td>\n",
       "    </tr>\n",
       "  </tbody>\n",
       "</table>\n",
       "</div>"
      ],
      "text/plain": [
       "                               name release_date  consumption  hashing_power  \\\n",
       "17              GeForce GTX Titan X   2015-03-17     0.000006       40000000   \n",
       "27                    Radeon Rx 480   2016-01-06     0.000006       25000000   \n",
       "28                 GeForce GTX 1070   2016-10-06     0.000005       30000000   \n",
       "31                 GeForce GTX 1060   2016-08-18     0.000005       24000000   \n",
       "37                    Radeon RX 550   2017-04-20     0.000005       11000000   \n",
       "42              GeForce GTX 1070 Ti   2017-02-11     0.000005       32000000   \n",
       "43                      GTX Titan V   2017-12-13     0.000003       77000000   \n",
       "44  Innosilicon A10 ETHMaster 500Mh   2019-09-01     0.000002      500000000   \n",
       "45  Innosilicon A10 ETHMaster 485Mh   2018-09-01     0.000002      485000000   \n",
       "\n",
       "         off_num         on_num  \n",
       "17  1.615800e+04       0.000000  \n",
       "27  1.660921e+05      -0.142857  \n",
       "28  1.996513e+05      -0.306349  \n",
       "31  6.820200e+04       0.000000  \n",
       "37  1.912686e+07      -0.610390  \n",
       "42  3.534230e+05       0.000000  \n",
       "43  3.076347e+06       0.622758  \n",
       "44  0.000000e+00  243406.000000  \n",
       "45  2.873302e+05   60575.849975  "
      ]
     },
     "execution_count": 293,
     "metadata": {},
     "output_type": "execute_result"
    }
   ],
   "source": [
    "hardware[(hardware['on_num'] > 0) | (hardware['off_num'] > 0)]"
   ]
  },
  {
   "cell_type": "code",
   "execution_count": 294,
   "metadata": {},
   "outputs": [
    {
     "data": {
      "text/plain": [
       "revenue       3.235190e+01\n",
       "difficulty    2.266229e+15\n",
       "hashrate      1.510819e+14\n",
       "Name: 2020-05-17 00:00:00, dtype: float64"
      ]
     },
     "execution_count": 294,
     "metadata": {},
     "output_type": "execute_result"
    }
   ],
   "source": [
    "ethereum.iloc[len(ethereum)-1]"
   ]
  },
  {
   "cell_type": "code",
   "execution_count": 295,
   "metadata": {},
   "outputs": [
    {
     "data": {
      "text/plain": [
       "151082315714285.72"
      ]
     },
     "execution_count": 295,
     "metadata": {},
     "output_type": "execute_result"
    }
   ],
   "source": [
    "np.sum(hardware['on_num']*hardware['hashing_power'])"
   ]
  },
  {
   "cell_type": "code",
   "execution_count": null,
   "metadata": {},
   "outputs": [],
   "source": []
  },
  {
   "cell_type": "code",
   "execution_count": null,
   "metadata": {},
   "outputs": [],
   "source": []
  }
 ],
 "metadata": {
  "kernelspec": {
   "display_name": "Python 3",
   "language": "python",
   "name": "python3"
  },
  "language_info": {
   "codemirror_mode": {
    "name": "ipython",
    "version": 3
   },
   "file_extension": ".py",
   "mimetype": "text/x-python",
   "name": "python",
   "nbconvert_exporter": "python",
   "pygments_lexer": "ipython3",
   "version": "3.8.2"
  }
 },
 "nbformat": 4,
 "nbformat_minor": 4
}
