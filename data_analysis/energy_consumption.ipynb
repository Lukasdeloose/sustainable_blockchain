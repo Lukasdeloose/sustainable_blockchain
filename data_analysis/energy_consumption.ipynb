{
 "cells": [
  {
   "cell_type": "markdown",
   "metadata": {},
   "source": [
    "# Introduction"
   ]
  },
  {
   "cell_type": "markdown",
   "metadata": {},
   "source": [
    "In this notebook, the estimates for the energy consumption of the top 100 mineable cryptocurrencies is calculated. \n",
    "In the first section, a hardware based estimation is made. Secondly, a revenue based is made. \n",
    "After this, we take a look at the electronic waste by mining. Finally, we investigate the results and check for inter-and extrapollation."
   ]
  },
  {
   "cell_type": "code",
   "execution_count": 1,
   "metadata": {},
   "outputs": [],
   "source": [
    "# Import libraries\n",
    "import os\n",
    "import json\n",
    "import pandas as pd\n",
    "import numpy as np\n",
    "import matplotlib.pyplot as plt\n",
    "import urllib.request\n",
    "from ipywidgets import *\n",
    "from datetime import datetime"
   ]
  },
  {
   "cell_type": "code",
   "execution_count": 2,
   "metadata": {},
   "outputs": [],
   "source": [
    "DATA_PATH = 'data/'\n",
    "HIST_PATH = DATA_PATH + 'hist/'\n",
    "HARDWARE_PATH = DATA_PATH+'hardware/'"
   ]
  },
  {
   "cell_type": "code",
   "execution_count": 3,
   "metadata": {},
   "outputs": [],
   "source": [
    "# Clean market cap and price\n",
    "def clean_int(string):\n",
    "    return float(string.strip('$').replace(',',''))\n",
    "\n",
    "def clean_mineable_data(data):\n",
    "    data = data.set_index('Name')\n",
    "    data['market_cap'] = data['market_cap'].apply(lambda x:clean_int(x))    \n",
    "    data['price'] = data['price'].apply(lambda x:clean_int(x))\n",
    "    return data"
   ]
  },
  {
   "cell_type": "code",
   "execution_count": 4,
   "metadata": {},
   "outputs": [],
   "source": [
    "mineable_100 = pd.read_csv(HIST_PATH+'mineable_100_03-29-2020.csv')\n",
    "mineable_100 = clean_mineable_data(mineable_100)\n",
    "found_data = mineable_100[~mineable_100.isnull().any(axis=1)].copy()"
   ]
  },
  {
   "cell_type": "markdown",
   "metadata": {},
   "source": [
    "## Parameters"
   ]
  },
  {
   "cell_type": "code",
   "execution_count": 5,
   "metadata": {},
   "outputs": [],
   "source": [
    "seconds_in_year = 31536000\n",
    "hours_in_year = 8760\n",
    "kWh_to_W = 3600*10**3"
   ]
  },
  {
   "cell_type": "markdown",
   "metadata": {
    "toc-hr-collapsed": true
   },
   "source": [
    "## Geography "
   ]
  },
  {
   "cell_type": "markdown",
   "metadata": {},
   "source": [
    "### Coinshares"
   ]
  },
  {
   "cell_type": "code",
   "execution_count": 7,
   "metadata": {},
   "outputs": [],
   "source": [
    "# https://www.china-briefing.com/news/china-electricity-prices-industrial-consumers/\n",
    "# Sichian probably goes lower in wet season -> https://news.8btc.com/price-war-start-against-mining-operators-in-sichuan-as-supply-far-exceeds-demand\n",
    "# America: https://www.statista.com/statistics/190680/us-industrial-consumer-price-estimates-for-retail-electricity-since-1970/\n",
    "data = {'location': ['Sichuan', 'China', 'Non-China', 'Other'],\n",
    "        'share': [0.54,0.11,0.31,0.04],\n",
    "        'normal_price': [0.074, 0.084, 0.084, 0.084], # World average for non-china\n",
    "        'min_price': [0.035, 0.084, 0.069, 0.084], # American price for non-china\n",
    "        'renewable': [0,0,0,0]}"
   ]
  },
  {
   "cell_type": "code",
   "execution_count": 8,
   "metadata": {},
   "outputs": [],
   "source": [
    "geography = pd.DataFrame(data)\n",
    "avg_electricity_price = np.sum(geography.share*geography.normal_price)\n",
    "min_electricity_price = np.sum(geography.share*geography.min_price)"
   ]
  },
  {
   "cell_type": "code",
   "execution_count": 9,
   "metadata": {},
   "outputs": [
    {
     "name": "stdout",
     "output_type": "stream",
     "text": [
      "\\begin{tabular}{lrrrr}\n",
      "\\toprule\n",
      "{} &  share &  normal\\_price &  min\\_price &  renewable \\\\\n",
      "location  &        &               &            &            \\\\\n",
      "\\midrule\n",
      "Sichuan   &   0.54 &         0.074 &      0.035 &          0 \\\\\n",
      "China     &   0.11 &         0.084 &      0.084 &          0 \\\\\n",
      "Non-China &   0.31 &         0.084 &      0.069 &          0 \\\\\n",
      "Other     &   0.04 &         0.084 &      0.084 &          0 \\\\\n",
      "\\bottomrule\n",
      "\\end{tabular}\n",
      "\n"
     ]
    }
   ],
   "source": [
    "print(geography.set_index('location', drop=True).to_latex())"
   ]
  },
  {
   "cell_type": "markdown",
   "metadata": {
    "toc-hr-collapsed": false
   },
   "source": [
    "# Hardware based estimation"
   ]
  },
  {
   "cell_type": "markdown",
   "metadata": {},
   "source": [
    "In this section we make a first estimation based on the most efficient hardware (found online)"
   ]
  },
  {
   "cell_type": "markdown",
   "metadata": {},
   "source": [
    "## Function"
   ]
  },
  {
   "cell_type": "code",
   "execution_count": 10,
   "metadata": {},
   "outputs": [],
   "source": [
    "# Bitcoin forks have the same initial difficulty\n",
    "bitcoin_forks = ['bitcoin', 'bitcoincash','bitcoinsv', 'litecoincash']"
   ]
  },
  {
   "cell_type": "code",
   "execution_count": 196,
   "metadata": {},
   "outputs": [],
   "source": [
    "def hardware_based_estimation(data, moving_avg_difficulty = 1, moving_avg_price=1, growth_factor=1):\n",
    "    \"\"\"\n",
    "    Function that calculates upper bound, lower bound, estimate and market cap for all data.\n",
    "    Returns a list, each entry is the bounds for one day\n",
    "    \"\"\"\n",
    "    bounds = []\n",
    "    difficulties = pd.DataFrame()\n",
    "    prices = pd.DataFrame()\n",
    "    for i in range(len(data)):\n",
    "        data_day = data[i]\n",
    "        found_data = data_day[~data_day.isnull().any(axis=1)].copy()\n",
    "        \n",
    "        # Fill in original difficulties\n",
    "        found_data['difficulty_factor'] = found_data.apply(lambda x: difficulty_factor(x), axis=1)\n",
    "        found_missing_difficulty = found_data[found_data['difficulty_factor']!=0].copy()\n",
    "\n",
    "        # Calculate moving avg of difficulty\n",
    "        difficulties[i] = found_missing_difficulty['difficulty']\n",
    "        found_missing_difficulty['difficulty_MA'] = difficulties[range(max(i-moving_avg_difficulty+1,0),i+1)].mean(axis=1)\n",
    "    \n",
    "        # Calculate moving avg of price\n",
    "        prices[i] = found_missing_difficulty['price']\n",
    "        found_missing_difficulty['price_MA'] = prices[range(max(i-moving_avg_price+1,0),i+1)].mean(axis=1)\n",
    "\n",
    "        # Calculate nethash\n",
    "        found_missing_difficulty['nethash_calc'] = found_missing_difficulty['difficulty_MA']*found_missing_difficulty['difficulty_factor']/found_missing_difficulty['block_time'] # amount of hashes per second\n",
    "\n",
    "        # Create dictionairy that maps coins to their profitable hardware\n",
    "        lower_prof_hardware = dict(found_missing_difficulty.apply(lambda x: create_profitable_set(x, \"lower\"), axis = 1))\n",
    "        upper_prof_hardware = dict(found_missing_difficulty.apply(lambda x: create_profitable_set(x, \"upper\"), axis = 1))\n",
    "        estimate_prof_hardware = dict(found_missing_difficulty.apply(lambda x: create_profitable_set(x, \"estimate\"), axis = 1))\n",
    "\n",
    "        # Calculate estimates\n",
    "        found_missing_difficulty['lower_bound'] = found_missing_difficulty.apply(lambda x: calc_bound(x, lower_prof_hardware, True),axis=1)\n",
    "        found_missing_difficulty['upper_bound'] = found_missing_difficulty.apply(lambda x: calc_bound(x, upper_prof_hardware, False),axis=1)\n",
    "        found_missing_difficulty['estimate'] = found_missing_difficulty.apply(lambda x: calc_estimate(x, estimate_prof_hardware),axis=1)\n",
    "        \n",
    "        result = found_missing_difficulty[found_missing_difficulty['estimate'] != 0]\n",
    "        \n",
    "        bounds.append(result[['lower_bound','estimate','upper_bound', 'market_cap']])\n",
    "    \n",
    "    return bounds"
   ]
  },
  {
   "cell_type": "code",
   "execution_count": 12,
   "metadata": {},
   "outputs": [],
   "source": [
    "# Functions to go from the nBits to the first hashrate\n",
    "def hex_to_bits(hex_number):\n",
    "    if int(hex_number,16) >= 8:\n",
    "        return 0\n",
    "    elif int(hex_number,16) >= 4:\n",
    "        return 1\n",
    "    elif int(hex_number,16) >= 2:\n",
    "        return 2\n",
    "    elif int(hex_number,16) == 1:\n",
    "        return 3\n",
    "    else:\n",
    "        return 4\n",
    "        \n",
    "def nBits_to_factor(nBits):\n",
    "    if nBits[:2] != \"0x\":\n",
    "        raise Exception(\"Wrong format, provide hexadecimal number\")\n",
    "    exp = 8*(int(nBits[:4],16)-3)\n",
    "    mantisse = nBits[4:]\n",
    "    i=0\n",
    "    extra_0 = 0\n",
    "    while hex_to_bits(mantisse[i]) == 4:\n",
    "        extra_0 += 4\n",
    "        i += 1\n",
    "    extra_0 += hex_to_bits(mantisse[i])\n",
    "    return 256-exp-4*len(mantisse)+extra_0"
   ]
  },
  {
   "cell_type": "code",
   "execution_count": 13,
   "metadata": {},
   "outputs": [],
   "source": [
    "def difficulty_factor(coin):\n",
    "    \"\"\"\n",
    "    Enter the difficulty factors used to calculate current hashrate. \n",
    "    These values where all found by exploring the first block, documentation or source code. \n",
    "    References are kept in separate excell sheet\n",
    "    \"\"\"\n",
    "    if coin.name in bitcoin_forks:\n",
    "        return 2**32\n",
    "    if coin.name == 'zcash':\n",
    "        return 2**13\n",
    "    if coin.name == 'litecoin' or coin.name == 'monacoin':\n",
    "        return 2**32\n",
    "    if coin.name == 'ethereum' or coin.name == 'ethereumclassic':\n",
    "        return 1\n",
    "    if coin.name == 'monero':\n",
    "        return 1 # https://github.com/monero-project/monero/blob/36241552b56b156c08319935baf7afda12deb3c5/src/cryptonote_basic/difficulty.h\n",
    "    if coin.name == 'dash' or coin.name == 'dogecoin':\n",
    "        return 2**20\n",
    "    if coin.name == 'ravencoin':\n",
    "        return 2**24\n",
    "    if coin.name == 'horizen':\n",
    "        return 2**nBits_to_factor(\"0x1f07ffff\")\n",
    "    if coin.name == 'komodo':\n",
    "        return 2**nBits_to_factor(\"0x200f0f0f\")\n",
    "    else:\n",
    "        return 0"
   ]
  },
  {
   "cell_type": "markdown",
   "metadata": {
    "toc-hr-collapsed": false
   },
   "source": [
    "## Hardware profitability threshold"
   ]
  },
  {
   "cell_type": "markdown",
   "metadata": {},
   "source": [
    "Here we make our estimation more accurate by investigating entire hardware datasets (created in hardware.ipynb)."
   ]
  },
  {
   "cell_type": "code",
   "execution_count": 14,
   "metadata": {},
   "outputs": [],
   "source": [
    "SHA256_hardware = pd.read_csv(HARDWARE_PATH+'SHA256_hardware_clean.csv',index_col=0)\n",
    "ethash_hardware = pd.read_csv(HARDWARE_PATH+'ethash_hardware_clean.csv',index_col=0)\n",
    "equihash_hardware = pd.read_csv(HARDWARE_PATH+'equihash_hardware_clean.csv',index_col=0)\n",
    "scrypt_hardware = pd.read_csv(HARDWARE_PATH+'scrypt_hardware_clean.csv',index_col=0)\n",
    "\n",
    "# Create dict of algorithms with their hardware\n",
    "algorithm_hardware = {'SHA-256':SHA256_hardware,'Ethash':ethash_hardware, 'Equihash':equihash_hardware, 'Scrypt':scrypt_hardware}"
   ]
  },
  {
   "cell_type": "code",
   "execution_count": 158,
   "metadata": {},
   "outputs": [],
   "source": [
    "def calc_profitability_threshold(coin, PUE=1, elec_price = avg_electricity_price):\n",
    "    reward_per_sec = coin['price_MA']*coin['block_reward']/coin['block_time']\n",
    "    rev = reward_per_sec/coin['nethash_calc'] #$/h\n",
    "    cost = elec_price/kWh_to_W # $/J\n",
    "    return rev/(cost*PUE)\n",
    "\n",
    "def is_profitable(coin, hardware, PUE=1, elect_price=avg_electricity_price):\n",
    "    profitability_threshold = calc_profitability_threshold(coin, PUE, elect_price)\n",
    "    # consumption is J/h, if smaller, more efficient\n",
    "    if hardware['consumption'] < profitability_threshold:\n",
    "        return True\n",
    "    else:\n",
    "        return False"
   ]
  },
  {
   "cell_type": "code",
   "execution_count": 159,
   "metadata": {},
   "outputs": [],
   "source": [
    "def create_profitable_set(coin, bound=\"lower\"):\n",
    "    if coin.algorithm in algorithm_hardware:\n",
    "        hardware = algorithm_hardware[coin.algorithm]\n",
    "        if bound == \"lower\":\n",
    "            return hardware[hardware.apply(lambda x: is_profitable(coin,x, LOWER_PUE),axis=1)]\n",
    "        elif bound == \"UPPER\":\n",
    "            return hardware[hardware.apply(lambda x: is_profitable(coin,x, UPPER_PUE, min_electricity_price),axis=1)]\n",
    "        else:\n",
    "            return hardware[hardware.apply(lambda x: is_profitable(coin,x, ESTIMATE_PUE),axis=1)]\n",
    "    return pd.DataFrame()"
   ]
  },
  {
   "cell_type": "code",
   "execution_count": 17,
   "metadata": {},
   "outputs": [
    {
     "data": {
      "text/html": [
       "<div>\n",
       "<style scoped>\n",
       "    .dataframe tbody tr th:only-of-type {\n",
       "        vertical-align: middle;\n",
       "    }\n",
       "\n",
       "    .dataframe tbody tr th {\n",
       "        vertical-align: top;\n",
       "    }\n",
       "\n",
       "    .dataframe thead th {\n",
       "        text-align: right;\n",
       "    }\n",
       "</style>\n",
       "<table border=\"1\" class=\"dataframe\">\n",
       "  <thead>\n",
       "    <tr style=\"text-align: right;\">\n",
       "      <th></th>\n",
       "    </tr>\n",
       "  </thead>\n",
       "  <tbody>\n",
       "  </tbody>\n",
       "</table>\n",
       "</div>"
      ],
      "text/plain": [
       "Empty DataFrame\n",
       "Columns: []\n",
       "Index: []"
      ]
     },
     "execution_count": 17,
     "metadata": {},
     "output_type": "execute_result"
    }
   ],
   "source": [
    "# Manual\n",
    "found_data['difficulty_factor'] = found_data.apply(lambda x: difficulty_factor(x), axis=1)\n",
    "found_missing_difficulty = found_data[found_data['difficulty_factor']!=0].copy()\n",
    "\n",
    "# Calculate nethash\n",
    "found_missing_difficulty['nethash_calc'] = found_missing_difficulty['difficulty']*found_missing_difficulty['difficulty_factor']/found_missing_difficulty['block_time'] # amount of hashes per second\n",
    "\n",
    "# Create dictionairy that maps coins to their profitable hardware\n",
    "coin_prof_hardware_dict = dict(found_missing_difficulty.apply(lambda x: create_profitable_set(x), axis = 1))\n",
    "coin_prof_hardware_dict['monero']"
   ]
  },
  {
   "cell_type": "markdown",
   "metadata": {
    "toc-hr-collapsed": true
   },
   "source": [
    "## Results"
   ]
  },
  {
   "cell_type": "markdown",
   "metadata": {},
   "source": [
    "### bounds"
   ]
  },
  {
   "cell_type": "code",
   "execution_count": 18,
   "metadata": {},
   "outputs": [],
   "source": [
    "def calc_bound(coin, coin_prof_hardware_dict, lower):\n",
    "    \"\"\"\n",
    "    Returns a lower or upper bound on the electricity consumption of cryptocoins in W\n",
    "    To put Wh per year, multiply by hours_in_year\n",
    "    \"\"\"\n",
    "    if coin.name not in coin_prof_hardware_dict:\n",
    "        #print(f\"Error, no hardware for {coin.name}\")\n",
    "        return 0\n",
    "    if coin_prof_hardware_dict[coin.name].empty:\n",
    "        #print(f\"Error, no profitable hardware for {coin.name}\")\n",
    "        return 0\n",
    "    hardware = coin_prof_hardware_dict[coin.name].sort_values(by='consumption', ascending=lower).iloc[0]\n",
    "    electricity_consumption = hardware['consumption']*coin['nethash_calc']\n",
    "    return electricity_consumption"
   ]
  },
  {
   "cell_type": "code",
   "execution_count": 19,
   "metadata": {},
   "outputs": [],
   "source": [
    "found_missing_difficulty['lower_bound'] = found_missing_difficulty.apply(lambda x: calc_bound(x, coin_prof_hardware_dict, True),axis=1)\n",
    "found_missing_difficulty['upper_bound'] = found_missing_difficulty.apply(lambda x: calc_bound(x,coin_prof_hardware_dict, False),axis=1)"
   ]
  },
  {
   "cell_type": "markdown",
   "metadata": {},
   "source": [
    "### Estimate"
   ]
  },
  {
   "cell_type": "code",
   "execution_count": 20,
   "metadata": {},
   "outputs": [],
   "source": [
    "def calc_estimate(coin, coin_prof_hardware_dict):\n",
    "    \"\"\"\n",
    "    Returns an on the electricity consumption of cryptocoins in W\n",
    "    To put Wh per year, multiply by hours_in_year\n",
    "    \"\"\"\n",
    "    if coin.name not in coin_prof_hardware_dict:\n",
    "        #print(f\"Error, no hardware for {coin.name}\")\n",
    "        return 0\n",
    "    if coin_prof_hardware_dict[coin.name].empty:\n",
    "        #print(f\"Error, no profitable hardware for {coin.name}\")\n",
    "        return 0\n",
    "    prof_hardware = coin_prof_hardware_dict[coin.name]\n",
    "    num_prof_hardware = prof_hardware.shape[0]\n",
    "    hashrate_part = coin['nethash_calc']/num_prof_hardware\n",
    "    electricity_consumption = 0\n",
    "    for _, hardware in prof_hardware.iterrows():\n",
    "        electricity_consumption += hardware['consumption']*hashrate_part\n",
    "    return electricity_consumption\n",
    "    "
   ]
  },
  {
   "cell_type": "code",
   "execution_count": 21,
   "metadata": {},
   "outputs": [],
   "source": [
    "found_missing_difficulty['estimate'] = found_missing_difficulty.apply(lambda x: calc_estimate(x,coin_prof_hardware_dict),axis=1)\n",
    "result = found_missing_difficulty"
   ]
  },
  {
   "cell_type": "markdown",
   "metadata": {},
   "source": [
    "## Extrapollation of energy use of other crypto coins"
   ]
  },
  {
   "cell_type": "markdown",
   "metadata": {},
   "source": [
    "What percent of crypto market cap is represented in the dataset?"
   ]
  },
  {
   "cell_type": "code",
   "execution_count": 22,
   "metadata": {},
   "outputs": [
    {
     "name": "stdout",
     "output_type": "stream",
     "text": [
      "The webscrabed data represents 95.39999999999999% of the market cap of the top 100, and 72.7% of the total market cap\n"
     ]
    }
   ],
   "source": [
    "found_market_cap = found_data['market_cap'].sum()\n",
    "top100_market_cap = mineable_100['market_cap'].sum()\n",
    "total_market_cap =  186318558825 #https://coinmarketcap.com/charts/\n",
    "print(f'The webscrabed data represents {round(found_market_cap/top100_market_cap,3)*100}% of the market cap of the top 100, and {round(found_market_cap/total_market_cap,3)*100}% of the total market cap')"
   ]
  },
  {
   "cell_type": "code",
   "execution_count": 23,
   "metadata": {},
   "outputs": [
    {
     "name": "stdout",
     "output_type": "stream",
     "text": [
      "The manual data represents 95.0% of the market cap of the top 100, and 72.5% of the total market cap\n"
     ]
    }
   ],
   "source": [
    "found_data_energy = result[result['estimate'] != 0]\n",
    "found_manual_market_cap = result['market_cap'].sum()\n",
    "print(f'The manual data represents {round(found_manual_market_cap/top100_market_cap,3)*100}% of the market cap of the top 100, and {round(found_manual_market_cap/total_market_cap,3)*100}% of the total market cap')"
   ]
  },
  {
   "cell_type": "markdown",
   "metadata": {},
   "source": [
    "Looking up all the other initial difficulties (~15 more coins) would only gain us an additional 0.4% of the total market cap"
   ]
  },
  {
   "cell_type": "code",
   "execution_count": 24,
   "metadata": {},
   "outputs": [
    {
     "data": {
      "image/png": "[encoded data removed]",
      "text/plain": [
       "<Figure size 432x288 with 1 Axes>"
      ]
     },
     "metadata": {
      "needs_background": "light"
     },
     "output_type": "display_data"
    }
   ],
   "source": [
    "result['estimate'].plot(kind='bar')\n",
    "plt.yscale('log')\n",
    "plt.xticks(rotation=45)\n",
    "plt.ylabel('annual energy consumption (in Wh)')\n",
    "plt.xlabel('coin')\n",
    "plt.title('Annual energy consumption of different cryptocurrencies')\n",
    "plt.show()"
   ]
  },
  {
   "cell_type": "code",
   "execution_count": 25,
   "metadata": {},
   "outputs": [
    {
     "data": {
      "image/png": "[encoded data removed]",
      "text/plain": [
       "<Figure size 432x288 with 1 Axes>"
      ]
     },
     "metadata": {
      "needs_background": "light"
     },
     "output_type": "display_data"
    }
   ],
   "source": [
    "plt.scatter(result['market_cap'],result['estimate'])\n",
    "plt.yscale('log')\n",
    "plt.ylabel('annual energy consumption (Wh)')\n",
    "plt.xscale('log')\n",
    "plt.xlabel('market cap ($)')\n",
    "plt.xticks(rotation=45)\n",
    "plt.title('Annual energy consumption vs market cap of cryptocurrencies')\n",
    "plt.show()"
   ]
  },
  {
   "cell_type": "markdown",
   "metadata": {},
   "source": [
    "Linear correlation between market cap and energy consumption with some outliers (e.g. Dogecoin, which uses auxilary POW with litecoin"
   ]
  },
  {
   "cell_type": "code",
   "execution_count": 26,
   "metadata": {},
   "outputs": [],
   "source": [
    "nethash_calc = result[result['estimate'] != 0].sort_values(by='algorithm')"
   ]
  },
  {
   "cell_type": "code",
   "execution_count": 27,
   "metadata": {},
   "outputs": [
    {
     "data": {
      "image/png": "[encoded data removed]",
      "text/plain": [
       "<Figure size 432x288 with 1 Axes>"
      ]
     },
     "metadata": {
      "needs_background": "light"
     },
     "output_type": "display_data"
    }
   ],
   "source": [
    "cdict= {'Equihash':'blue', 'Ethash':'grey','Lyra2REv2':'green','RandomX':'black','SHA-256':'red','Scrypt':'orange','X11':'lightgreen','X16Rv2':'purple'}\n",
    "cmap = nethash_calc['algorithm'].apply(lambda x: cdict[x])\n",
    "plt.scatter(nethash_calc['market_cap'],nethash_calc['estimate'],c=cmap,label=nethash_calc['algorithm'])\n",
    "plt.yscale('log')\n",
    "plt.ylabel('nethash calculated')\n",
    "plt.xscale('log')\n",
    "plt.xlabel('market cap ($)')\n",
    "plt.xticks(rotation=45)\n",
    "plt.title('Nethash calculated vs market cap of cryptocurrencies')\n",
    "plt.show()"
   ]
  },
  {
   "cell_type": "markdown",
   "metadata": {},
   "source": [
    "# Revenue based estimation"
   ]
  },
  {
   "cell_type": "markdown",
   "metadata": {},
   "source": [
    "Here we calculate an upper bound and estimate, assuming all revenues are used to cover the electricity costs\n",
    "Upper bound: use minimum electricity cost (wet-season)\n",
    "Estimate: use avg electricity cost"
   ]
  },
  {
   "cell_type": "code",
   "execution_count": 28,
   "metadata": {},
   "outputs": [],
   "source": [
    "def revenue_based_estimation(data):\n",
    "    \"\"\" \n",
    "    Returns the electricity use (in Watts) if 100% of revenues are used for electricity costs\n",
    "    \"\"\"\n",
    "    bounds = []\n",
    "    for data_daily in data:\n",
    "        revenue_data = data_daily[['#', 'market_cap', 'price', 'block_time', 'block_reward']]\n",
    "        revenue_data = revenue_data[~revenue_data.isnull().any(axis=1)].copy()\n",
    "        revenue_data['revenue_per_sec'] = revenue_data['price']*revenue_data['block_reward']/revenue_data['block_time']\n",
    "\n",
    "        revenue_data['estimate'] = revenue_data['revenue_per_sec']*kWh_to_W/avg_electricity_price \n",
    "        revenue_data['upper_bound'] = revenue_data['revenue_per_sec']*kWh_to_W/min_electricity_price \n",
    "        \n",
    "        bounds.append(revenue_data[['estimate','upper_bound', 'market_cap']])\n",
    "        \n",
    "    return bounds"
   ]
  },
  {
   "cell_type": "markdown",
   "metadata": {},
   "source": [
    "# Electronic waste "
   ]
  },
  {
   "cell_type": "markdown",
   "metadata": {},
   "source": [
    "Assume only ASIC's contribute to waste\n",
    "\n",
    "- If only ASIC: all waste\n",
    "- If ASIC&GPU: upper-bound: all ASIC, estimate: evenly distributed"
   ]
  },
  {
   "cell_type": "code",
   "execution_count": 29,
   "metadata": {},
   "outputs": [
    {
     "data": {
      "text/html": [
       "<div>\n",
       "<style scoped>\n",
       "    .dataframe tbody tr th:only-of-type {\n",
       "        vertical-align: middle;\n",
       "    }\n",
       "\n",
       "    .dataframe tbody tr th {\n",
       "        vertical-align: top;\n",
       "    }\n",
       "\n",
       "    .dataframe thead th {\n",
       "        text-align: right;\n",
       "    }\n",
       "</style>\n",
       "<table border=\"1\" class=\"dataframe\">\n",
       "  <thead>\n",
       "    <tr style=\"text-align: right;\">\n",
       "      <th></th>\n",
       "      <th>upper bound</th>\n",
       "      <th>estimate</th>\n",
       "    </tr>\n",
       "    <tr>\n",
       "      <th>coin</th>\n",
       "      <th></th>\n",
       "      <th></th>\n",
       "    </tr>\n",
       "  </thead>\n",
       "  <tbody>\n",
       "    <tr>\n",
       "      <th>bitcoin</th>\n",
       "      <td>0.000091</td>\n",
       "      <td>0.000091</td>\n",
       "    </tr>\n",
       "    <tr>\n",
       "      <th>ethereum</th>\n",
       "      <td>1.375993</td>\n",
       "      <td>0.305776</td>\n",
       "    </tr>\n",
       "    <tr>\n",
       "      <th>bitcoinsv</th>\n",
       "      <td>0.000002</td>\n",
       "      <td>0.000002</td>\n",
       "    </tr>\n",
       "    <tr>\n",
       "      <th>litecoin</th>\n",
       "      <td>0.065147</td>\n",
       "      <td>0.065147</td>\n",
       "    </tr>\n",
       "    <tr>\n",
       "      <th>monero</th>\n",
       "      <td>0.000000</td>\n",
       "      <td>0.000000</td>\n",
       "    </tr>\n",
       "    <tr>\n",
       "      <th>dash</th>\n",
       "      <td>0.000000</td>\n",
       "      <td>0.000000</td>\n",
       "    </tr>\n",
       "    <tr>\n",
       "      <th>ethereumclassic</th>\n",
       "      <td>0.081373</td>\n",
       "      <td>0.018083</td>\n",
       "    </tr>\n",
       "    <tr>\n",
       "      <th>zcash</th>\n",
       "      <td>610.069297</td>\n",
       "      <td>610.069297</td>\n",
       "    </tr>\n",
       "    <tr>\n",
       "      <th>dogecoin</th>\n",
       "      <td>0.010533</td>\n",
       "      <td>0.001755</td>\n",
       "    </tr>\n",
       "    <tr>\n",
       "      <th>ravencoin</th>\n",
       "      <td>0.000000</td>\n",
       "      <td>0.000000</td>\n",
       "    </tr>\n",
       "    <tr>\n",
       "      <th>monacoin</th>\n",
       "      <td>0.000000</td>\n",
       "      <td>0.000000</td>\n",
       "    </tr>\n",
       "    <tr>\n",
       "      <th>horizen</th>\n",
       "      <td>80.498199</td>\n",
       "      <td>80.498199</td>\n",
       "    </tr>\n",
       "    <tr>\n",
       "      <th>komodo</th>\n",
       "      <td>7.322622</td>\n",
       "      <td>7.322622</td>\n",
       "    </tr>\n",
       "    <tr>\n",
       "      <th>litecoincash</th>\n",
       "      <td>0.000000</td>\n",
       "      <td>0.000000</td>\n",
       "    </tr>\n",
       "  </tbody>\n",
       "</table>\n",
       "</div>"
      ],
      "text/plain": [
       "                 upper bound    estimate\n",
       "coin                                    \n",
       "bitcoin             0.000091    0.000091\n",
       "ethereum            1.375993    0.305776\n",
       "bitcoinsv           0.000002    0.000002\n",
       "litecoin            0.065147    0.065147\n",
       "monero              0.000000    0.000000\n",
       "dash                0.000000    0.000000\n",
       "ethereumclassic     0.081373    0.018083\n",
       "zcash             610.069297  610.069297\n",
       "dogecoin            0.010533    0.001755\n",
       "ravencoin           0.000000    0.000000\n",
       "monacoin            0.000000    0.000000\n",
       "horizen            80.498199   80.498199\n",
       "komodo              7.322622    7.322622\n",
       "litecoincash        0.000000    0.000000"
      ]
     },
     "execution_count": 29,
     "metadata": {},
     "output_type": "execute_result"
    }
   ],
   "source": [
    "waste = pd.DataFrame(columns=['coin','upper bound', 'estimate']).set_index('coin',drop=True)\n",
    "for coin, hardware in coin_prof_hardware_dict.items():\n",
    "    hardware_waste = hardware.copy()\n",
    "    if hardware.empty:\n",
    "        waste.loc[coin] = [0, 0]\n",
    "        continue\n",
    "    num_asic = np.sum(hardware['type']=='ASIC')\n",
    "    num_hardware = hardware.shape[0]\n",
    "    \n",
    "    # Upper bound, all ASIC\n",
    "    partial_hashrate = result.loc[coin,'estimate']/num_asic\n",
    "    hardware_waste['qty_upper'] = hardware_waste.apply(lambda x: partial_hashrate/x['hashing_power'] if x.type == 'ASIC' else 0, axis = 1)\n",
    "        \n",
    "    # Estimate, evenly distributed\n",
    "    partial_hashrate = result.loc[coin,'estimate']/num_hardware\n",
    "    hardware_waste['qty_estimate'] = hardware_waste.apply(lambda x: partial_hashrate/x['hashing_power'] if x.type == 'ASIC' else 0, axis=1)\n",
    "    \n",
    "    waste.loc[coin] = [np.sum(hardware_waste['qty_upper']), np.sum(hardware_waste['qty_estimate'])]\n",
    "waste"
   ]
  },
  {
   "cell_type": "code",
   "execution_count": 30,
   "metadata": {},
   "outputs": [],
   "source": [
    "# Weight in kg\n",
    "def hardware_weight(coin): \n",
    "    if coin['algorithm'] == 'SHA-256':\n",
    "        return 4.56\n",
    "    if coin['algorithm'] == 'Scrypt':\n",
    "        return 2.5\n",
    "    if coin['algorithm'] == 'Ethash':\n",
    "        return 10.5\n",
    "    if coin['algorithm'] == 'Equihash':\n",
    "        return 5.500\n",
    "    return 0"
   ]
  },
  {
   "cell_type": "code",
   "execution_count": 31,
   "metadata": {},
   "outputs": [],
   "source": [
    "#elec_waste = found_data[['#', 'tag', 'algorithm', 'num_hardware']].copy()\n",
    "#elec_waste['weight_hardware'] = elec_waste.apply(lambda x: hardware_weight(x), axis=1)"
   ]
  },
  {
   "cell_type": "code",
   "execution_count": 32,
   "metadata": {},
   "outputs": [],
   "source": [
    "#elec_waste['waste'] = elec_waste['weight_hardware']*elec_waste['num_hardware']/1.5\n",
    "#elec_waste"
   ]
  },
  {
   "cell_type": "markdown",
   "metadata": {
    "toc-hr-collapsed": false
   },
   "source": [
    "# Results"
   ]
  },
  {
   "cell_type": "code",
   "execution_count": 170,
   "metadata": {},
   "outputs": [],
   "source": [
    "LOWER_PUE = 1\n",
    "UPPER_PUE = 1.2\n",
    "ESTIMATE_PUE = 1.1\n",
    "moving_avg_difficulty = 20\n",
    "moving_avg_prize = 20\n",
    "growth_factor = 1\n",
    "revenue_percent = 0.60"
   ]
  },
  {
   "cell_type": "code",
   "execution_count": 33,
   "metadata": {},
   "outputs": [],
   "source": [
    "def calc_hardware_bounds(bounds):\n",
    "    \"\"\"\n",
    "    Adds the PUE and sums over all coins\n",
    "    \"\"\"\n",
    "    hardware_bounds = {'upper': [], 'lower': [], 'estimate': [], 'market_cap': []}    \n",
    "    for bounds_day in bounds:\n",
    "        lower_bound = np.sum(bounds_day['lower_bound'])*LOWER_PUE\n",
    "        estimate = np.sum(bounds_day['estimate'])*ESTIMATE_PUE\n",
    "        upper_bound = np.sum(bounds_day['upper_bound'])*UPPER_PUE\n",
    "        market_cap = np.sum(bounds_day['market_cap'])\n",
    "        \n",
    "        hardware_bounds['lower'].append(lower_bound)\n",
    "        hardware_bounds['estimate'].append(estimate)\n",
    "        hardware_bounds['upper'].append(upper_bound)\n",
    "        hardware_bounds['market_cap'].append(market_cap)\n",
    "\n",
    "    return hardware_bounds"
   ]
  },
  {
   "cell_type": "code",
   "execution_count": 34,
   "metadata": {},
   "outputs": [],
   "source": [
    "def calc_revenue_bounds(bounds, revenue_percent = 0.60):\n",
    "    revenue_bounds = {'upper': [], 'lower': [], 'estimate': [], 'market_cap': []}    \n",
    "    for bounds_day in bounds:\n",
    "        \n",
    "        upper_bound = np.sum(bounds_day['upper_bound'])\n",
    "        estimate = np.sum(bounds_day['estimate'])\n",
    "        market_cap = np.sum(bounds_day['market_cap'])\n",
    "        \n",
    "        revenue_bounds['upper'].append(upper_bound)\n",
    "        revenue_bounds['estimate'].append(estimate*revenue_percent)\n",
    "        revenue_bounds['market_cap'].append(market_cap)\n",
    "    \n",
    "    return revenue_bounds"
   ]
  },
  {
   "cell_type": "code",
   "execution_count": 71,
   "metadata": {},
   "outputs": [],
   "source": [
    "dates = []\n",
    "data = []\n",
    "# Read in data\n",
    "for file in os.listdir(HIST_PATH):\n",
    "    # Load the daily data in a list\n",
    "    data_day = pd.read_csv(HIST_PATH+file)\n",
    "    data_day = clean_mineable_data(data_day)\n",
    "    data.append(data_day)\n",
    "\n",
    "    # Get the dates in a list\n",
    "    date = datetime.strptime(file[13:23], '%m-%d-%Y')\n",
    "    dates.append(date)"
   ]
  },
  {
   "cell_type": "code",
   "execution_count": null,
   "metadata": {},
   "outputs": [],
   "source": [
    "# Get hardware bounds\n",
    "hardware_bounds_coin = hardware_based_estimation(data, moving_avg_time, growth_factor)\n",
    "hardware_bounds_total = calc_hardware_bounds(hardware_bounds_coin)"
   ]
  },
  {
   "cell_type": "code",
   "execution_count": 76,
   "metadata": {},
   "outputs": [],
   "source": [
    "# Get revenue bounds\n",
    "revenue_bounds_coin = revenue_based_estimation(data)\n",
    "revenue_bounds_total = calc_revenue_bounds(revenue_bounds_coin, revenue_percent)"
   ]
  },
  {
   "cell_type": "code",
   "execution_count": 38,
   "metadata": {},
   "outputs": [],
   "source": [
    "# Get market cap of the used data\n",
    "hardware_market_cap_hist = pd.Series(hardware_bounds_total['market_cap'])\n",
    "# Get total market cap of data\n",
    "total_market_cap_hist = pd.Series(revenue_bounds_total['market_cap'])"
   ]
  },
  {
   "cell_type": "code",
   "execution_count": 39,
   "metadata": {},
   "outputs": [],
   "source": [
    "# Average bounds and market cap over dates per coin\n",
    "coin_hardware_date = {'lower_bound': pd.DataFrame(), 'upper_bound': pd.DataFrame(), 'estimate': pd.DataFrame(), 'market_cap': pd.DataFrame()}\n",
    "\n",
    "for i, data_day in enumerate(hardware_bounds_coin):\n",
    "    coin_hardware_date['lower_bound'][i] = data_day['lower_bound']\n",
    "    coin_hardware_date['upper_bound'][i] = data_day['upper_bound']\n",
    "    coin_hardware_date['estimate'][i] = data_day['estimate']\n",
    "    coin_hardware_date['market_cap'][i] = data_day['market_cap']\n",
    "\n",
    "coin_hardware_avg = {}\n",
    "\n",
    "for bound, data in coin_hardware_date.items():\n",
    "    coin_hardware_avg[bound] = data.mean(axis=1)  "
   ]
  },
  {
   "cell_type": "markdown",
   "metadata": {},
   "source": [
    "## Hardware based"
   ]
  },
  {
   "cell_type": "code",
   "execution_count": 162,
   "metadata": {},
   "outputs": [
    {
     "data": {
      "image/png": "[encoded data removed]",
      "text/plain": [
       "<Figure size 432x288 with 1 Axes>"
      ]
     },
     "metadata": {
      "needs_background": "light"
     },
     "output_type": "display_data"
    }
   ],
   "source": [
    "# Get hardware bounds\n",
    "hardware_bounds_coin = hardware_based_estimation(data, 1, growth_factor)\n",
    "hardware_bounds_total = calc_hardware_bounds(hardware_bounds_coin)\n",
    "plt.plot(dates, hardware_bounds_total['lower'])\n",
    "plt.plot(dates, hardware_bounds_total['estimate'])\n",
    "plt.plot(dates, hardware_bounds_total['upper'])\n",
    "plt.xticks(rotation=45)\n",
    "plt.ylabel(\"Electricity consumption (W)\")\n",
    "plt.xlabel(\"Date\")\n",
    "plt.show()"
   ]
  },
  {
   "cell_type": "code",
   "execution_count": 173,
   "metadata": {},
   "outputs": [
    {
     "name": "stdout",
     "output_type": "stream",
     "text": [
      "0\n",
      "Name\n",
      "bitcoin            1.655292e+13\n",
      "ethereum           2.193540e+15\n",
      "litecoin           5.152158e+06\n",
      "bitcoinsv          3.249271e+11\n",
      "monero             1.377582e+11\n",
      "ethereumclassic    1.397221e+14\n",
      "dash               1.796989e+08\n",
      "zcash              5.488012e+07\n",
      "dogecoin           2.766825e+06\n",
      "ravencoin          4.707286e+05\n",
      "monacoin           2.332067e+06\n",
      "horizen            1.255707e+07\n",
      "komodo             1.992221e+08\n",
      "litecoincash       1.080151e+08\n",
      "Name: difficulty_MA, dtype: float64\n",
      "1\n",
      "Name\n",
      "bitcoin            1.655292e+13\n",
      "ethereum           2.180064e+15\n",
      "litecoin           5.152158e+06\n",
      "bitcoinsv          3.288935e+11\n",
      "monero             1.384340e+11\n",
      "dash               1.601339e+08\n",
      "ethereumclassic    1.358661e+14\n",
      "zcash              5.364959e+07\n",
      "dogecoin           2.356543e+06\n",
      "ravencoin          4.751309e+05\n",
      "monacoin           2.494641e+06\n",
      "komodo             2.517451e+08\n",
      "horizen            1.408004e+07\n",
      "litecoincash       1.028313e+08\n",
      "Name: difficulty_MA, dtype: float64\n",
      "2\n",
      "Name\n",
      "bitcoin            1.655292e+13\n",
      "ethereum           2.175572e+15\n",
      "litecoin           5.152158e+06\n",
      "bitcoinsv          3.302156e+11\n",
      "monero             1.386592e+11\n",
      "dash               1.536122e+08\n",
      "ethereumclassic    1.345808e+14\n",
      "zcash              5.323942e+07\n",
      "dogecoin           2.219782e+06\n",
      "ravencoin          4.765983e+05\n",
      "monacoin           2.548833e+06\n",
      "komodo             2.692527e+08\n",
      "horizen            1.458770e+07\n",
      "litecoincash       1.011034e+08\n",
      "Name: difficulty_MA, dtype: float64\n",
      "3\n",
      "Name\n",
      "bitcoin            1.655292e+13\n",
      "ethereum           2.175016e+15\n",
      "bitcoinsv          3.533530e+11\n",
      "litecoin           5.078731e+06\n",
      "monero             1.392088e+11\n",
      "dash               1.667905e+08\n",
      "ethereumclassic    1.330029e+14\n",
      "zcash              5.112050e+07\n",
      "dogecoin           2.236946e+06\n",
      "ravencoin          4.523467e+05\n",
      "monacoin           2.288011e+06\n",
      "horizen            1.400462e+07\n",
      "komodo             2.592092e+08\n",
      "litecoincash       1.022728e+08\n",
      "Name: difficulty_MA, dtype: float64\n",
      "4\n",
      "Name\n",
      "bitcoin            1.655292e+13\n",
      "ethereum           2.172769e+15\n",
      "bitcoinsv          3.679982e+11\n",
      "litecoin           5.034676e+06\n",
      "monero             1.385948e+11\n",
      "dash               1.674514e+08\n",
      "ethereumclassic    1.320397e+14\n",
      "zcash              5.203356e+07\n",
      "dogecoin           2.083215e+06\n",
      "ravencoin          4.530421e+05\n",
      "monacoin           2.599042e+06\n",
      "horizen            1.372363e+07\n",
      "komodo             2.465156e+08\n",
      "litecoincash       1.018707e+08\n",
      "Name: difficulty_MA, dtype: float64\n",
      "5\n",
      "Name\n",
      "bitcoin            1.655292e+13\n",
      "ethereum           2.167907e+15\n",
      "bitcoinsv          3.749843e+11\n",
      "litecoin           5.018553e+06\n",
      "monero             1.418949e+11\n",
      "dash               1.719219e+08\n",
      "ethereumclassic    1.310734e+14\n",
      "zcash              5.089725e+07\n",
      "dogecoin           2.031498e+06\n",
      "ravencoin          4.436573e+05\n",
      "monacoin           2.647873e+06\n",
      "horizen            1.352259e+07\n",
      "komodo             2.351618e+08\n",
      "litecoincash       1.015570e+08\n",
      "Name: difficulty_MA, dtype: float64\n",
      "6\n",
      "Name\n",
      "bitcoin            1.655292e+13\n",
      "ethereum           2.164435e+15\n",
      "bitcoinsv          3.799744e+11\n",
      "litecoin           5.007037e+06\n",
      "monero             1.442520e+11\n",
      "dash               1.751152e+08\n",
      "ethereumclassic    1.303832e+14\n",
      "zcash              5.008559e+07\n",
      "dogecoin           1.994558e+06\n",
      "ravencoin          4.369539e+05\n",
      "monacoin           2.682753e+06\n",
      "horizen            1.337899e+07\n",
      "komodo             2.270519e+08\n",
      "litecoincash       1.013330e+08\n",
      "Name: difficulty_MA, dtype: float64\n",
      "7\n",
      "Name\n",
      "bitcoin            1.655292e+13\n",
      "ethereum           2.170862e+15\n",
      "bitcoinsv          3.811037e+11\n",
      "litecoin           4.998400e+06\n",
      "monero             1.443025e+11\n",
      "dash               1.804007e+08\n",
      "ethereumclassic    1.301122e+14\n",
      "zcash              4.889197e+07\n",
      "dogecoin           1.961058e+06\n",
      "ravencoin          4.416586e+05\n",
      "monacoin           2.645909e+06\n",
      "horizen            1.315582e+07\n",
      "komodo             2.275104e+08\n",
      "litecoincash       1.035141e+08\n",
      "Name: difficulty_MA, dtype: float64\n",
      "8\n",
      "Name\n",
      "bitcoin            1.625955e+13\n",
      "ethereum           2.187044e+15\n",
      "bitcoinsv          3.754972e+11\n",
      "litecoin           4.991683e+06\n",
      "monero             1.431300e+11\n",
      "dash               1.833682e+08\n",
      "ethereumclassic    1.305037e+14\n",
      "zcash              4.944924e+07\n",
      "dogecoin           2.006937e+06\n",
      "ravencoin          4.447406e+05\n",
      "monacoin           2.685453e+06\n",
      "horizen            1.314321e+07\n",
      "komodo             2.310706e+08\n",
      "litecoincash       1.048308e+08\n",
      "Name: difficulty_MA, dtype: float64\n",
      "9\n",
      "Name\n",
      "bitcoin            1.602484e+13\n",
      "ethereum           2.180873e+15\n",
      "bitcoinsv          3.711109e+11\n",
      "litecoin           4.981941e+06\n",
      "monero             1.434541e+11\n",
      "dash               1.841749e+08\n",
      "ethereumclassic    1.303027e+14\n",
      "zcash              4.875482e+07\n",
      "dogecoin           1.959424e+06\n",
      "ravencoin          4.449903e+05\n",
      "monacoin           2.832638e+06\n",
      "horizen            1.307853e+07\n",
      "komodo             2.282778e+08\n",
      "litecoincash       1.052444e+08\n",
      "Name: difficulty_MA, dtype: float64\n",
      "10\n",
      "Name\n",
      "bitcoin            1.583281e+13\n",
      "ethereum           2.183119e+15\n",
      "bitcoinsv          3.674837e+11\n",
      "litecoin           4.973971e+06\n",
      "monero             1.427484e+11\n",
      "dash               1.873078e+08\n",
      "ethereumclassic    1.299904e+14\n",
      "zcash              4.881202e+07\n",
      "dogecoin           1.907968e+06\n",
      "ravencoin          4.436120e+05\n",
      "monacoin           2.810511e+06\n",
      "horizen            1.307613e+07\n",
      "komodo             2.257639e+08\n",
      "litecoincash       1.074970e+08\n",
      "Name: difficulty_MA, dtype: float64\n",
      "11\n",
      "Name\n",
      "bitcoin            1.567279e+13\n",
      "ethereum           2.187976e+15\n",
      "bitcoinsv          3.659060e+11\n",
      "litecoin           4.967329e+06\n",
      "monero             1.440052e+11\n",
      "dash               1.844460e+08\n",
      "ethereumclassic    1.300538e+14\n",
      "zcash              4.842059e+07\n",
      "dogecoin           1.946435e+06\n",
      "ravencoin          4.528760e+05\n",
      "monacoin           2.920928e+06\n",
      "horizen            1.296954e+07\n",
      "komodo             2.250241e+08\n",
      "litecoincash       1.176224e+08\n",
      "Name: difficulty_MA, dtype: float64\n",
      "12\n",
      "Name\n",
      "bitcoin            1.553739e+13\n",
      "ethereum           2.194361e+15\n",
      "bitcoinsv          3.639203e+11\n",
      "litecoin           4.966045e+06\n",
      "monero             1.439745e+11\n",
      "dash               1.810110e+08\n",
      "ethereumclassic    1.301307e+14\n",
      "zcash              4.863966e+07\n",
      "dogecoin           2.015717e+06\n",
      "ravencoin          4.537745e+05\n",
      "monacoin           2.835006e+06\n",
      "horizen            1.307151e+07\n",
      "komodo             2.244435e+08\n",
      "litecoincash       1.168733e+08\n",
      "Name: difficulty_MA, dtype: float64\n",
      "13\n",
      "Name\n",
      "bitcoin            1.542132e+13\n",
      "ethereum           2.195448e+15\n",
      "bitcoinsv          3.657647e+11\n",
      "litecoin           4.964944e+06\n",
      "monero             1.445015e+11\n",
      "dash               1.804728e+08\n",
      "ethereumclassic    1.297714e+14\n",
      "zcash              4.837831e+07\n",
      "dogecoin           2.058135e+06\n",
      "ravencoin          4.578200e+05\n",
      "monacoin           2.806689e+06\n",
      "horizen            1.303839e+07\n",
      "komodo             2.236436e+08\n",
      "litecoincash       1.150226e+08\n",
      "Name: difficulty_MA, dtype: float64\n",
      "14\n",
      "Name\n",
      "bitcoin            1.532074e+13\n",
      "ethereum           2.196943e+15\n",
      "bitcoinsv          3.657003e+11\n",
      "litecoin           4.963990e+06\n",
      "monero             1.445108e+11\n",
      "dash               1.768725e+08\n",
      "ethereumclassic    1.295447e+14\n",
      "zcash              4.802100e+07\n",
      "dogecoin           2.007500e+06\n",
      "ravencoin          4.641934e+05\n",
      "monacoin           2.809172e+06\n",
      "horizen            1.316486e+07\n",
      "komodo             2.273932e+08\n",
      "litecoincash       1.138813e+08\n",
      "Name: difficulty_MA, dtype: float64\n",
      "15\n",
      "Name\n",
      "bitcoin            1.523272e+13\n",
      "ethereum           2.201460e+15\n",
      "bitcoinsv          3.637530e+11\n",
      "litecoin           4.963156e+06\n",
      "monero             1.445357e+11\n",
      "dash               1.746509e+08\n",
      "ethereumclassic    1.295132e+14\n",
      "zcash              4.889721e+07\n",
      "dogecoin           1.995718e+06\n",
      "ravencoin          4.634603e+05\n",
      "monacoin           2.908879e+06\n",
      "horizen            1.331165e+07\n",
      "komodo             2.251924e+08\n",
      "litecoincash       1.190236e+08\n",
      "Name: difficulty_MA, dtype: float64\n",
      "16\n",
      "Name\n",
      "bitcoin            1.515507e+13\n",
      "ethereum           2.200944e+15\n",
      "bitcoinsv          3.626024e+11\n",
      "litecoin           4.966699e+06\n",
      "monero             1.449365e+11\n",
      "dash               1.698039e+08\n",
      "ethereumclassic    1.289862e+14\n",
      "zcash              4.835513e+07\n",
      "dogecoin           1.993445e+06\n",
      "ravencoin          4.608099e+05\n",
      "monacoin           2.938428e+06\n",
      "komodo             2.195040e+08\n",
      "horizen            1.324850e+07\n",
      "litecoincash       1.238596e+08\n",
      "Name: difficulty_MA, dtype: float64\n",
      "17\n",
      "Name\n",
      "bitcoin            1.508604e+13\n",
      "ethereum           2.199648e+15\n",
      "bitcoinsv          3.618978e+11\n",
      "litecoin           4.969849e+06\n",
      "monero             1.444687e+11\n",
      "dash               1.676056e+08\n",
      "ethereumclassic    1.285532e+14\n",
      "zcash              4.842086e+07\n",
      "dogecoin           1.970310e+06\n",
      "ravencoin          4.610363e+05\n",
      "monacoin           2.973356e+06\n",
      "horizen            1.325487e+07\n",
      "komodo             2.178439e+08\n",
      "litecoincash       1.228242e+08\n",
      "Name: difficulty_MA, dtype: float64\n",
      "18\n",
      "Name\n",
      "bitcoin            1.502427e+13\n",
      "ethereum           2.197586e+15\n",
      "bitcoinsv          3.618426e+11\n",
      "litecoin           4.972668e+06\n",
      "monero             1.440347e+11\n",
      "dash               1.647443e+08\n",
      "ethereumclassic    1.282614e+14\n",
      "zcash              4.858035e+07\n",
      "dogecoin           1.988106e+06\n",
      "ravencoin          4.617839e+05\n",
      "monacoin           2.963783e+06\n",
      "horizen            1.321412e+07\n",
      "komodo             2.196623e+08\n",
      "litecoincash       1.231353e+08\n",
      "Name: difficulty_MA, dtype: float64\n",
      "19\n",
      "Name\n",
      "bitcoin            1.496868e+13\n",
      "ethereum           2.196409e+15\n",
      "bitcoinsv          3.604669e+11\n",
      "litecoin           4.984295e+06\n",
      "monero             1.438313e+11\n",
      "dash               1.668731e+08\n",
      "ethereumclassic    1.277534e+14\n",
      "zcash              4.847730e+07\n",
      "dogecoin           1.991370e+06\n",
      "ravencoin          4.617444e+05\n",
      "monacoin           2.947487e+06\n",
      "horizen            1.319607e+07\n",
      "komodo             2.174437e+08\n",
      "litecoincash       1.216807e+08\n",
      "Name: difficulty_MA, dtype: float64\n",
      "20\n",
      "Name\n",
      "bitcoin            1.491839e+13\n",
      "ethereum           2.195043e+15\n",
      "bitcoinsv          3.595006e+11\n",
      "litecoin           4.994814e+06\n",
      "monero             1.438679e+11\n",
      "dash               1.703352e+08\n",
      "ethereumclassic    1.272687e+14\n",
      "zcash              4.813110e+07\n",
      "dogecoin           1.988700e+06\n",
      "ravencoin          4.639974e+05\n",
      "monacoin           2.979194e+06\n",
      "horizen            1.306179e+07\n",
      "komodo             2.155000e+08\n",
      "litecoincash       1.215306e+08\n",
      "Name: difficulty_MA, dtype: float64\n",
      "21\n",
      "Name\n",
      "bitcoin            1.490916e+13\n",
      "ethereum           2.194087e+15\n",
      "bitcoinsv          3.619670e+11\n",
      "litecoin           5.004378e+06\n",
      "monero             1.440892e+11\n",
      "dash               1.699192e+08\n",
      "ethereumclassic    1.268981e+14\n",
      "zcash              4.787149e+07\n",
      "dogecoin           2.012896e+06\n",
      "ravencoin          4.657628e+05\n",
      "monacoin           2.994089e+06\n",
      "horizen            1.296331e+07\n",
      "komodo             2.180639e+08\n",
      "litecoincash       1.228048e+08\n",
      "Name: difficulty_MA, dtype: float64\n",
      "22\n",
      "Name\n",
      "bitcoin            1.490072e+13\n",
      "ethereum           2.193901e+15\n",
      "bitcoinsv          3.632396e+11\n",
      "litecoin           5.021208e+06\n",
      "monero             1.439570e+11\n",
      "dash               1.684956e+08\n",
      "ethereumclassic    1.263726e+14\n",
      "zcash              4.799020e+07\n",
      "dogecoin           2.068047e+06\n",
      "ravencoin          4.676183e+05\n",
      "monacoin           3.009351e+06\n",
      "horizen            1.299586e+07\n",
      "komodo             2.186695e+08\n",
      "litecoincash       1.239314e+08\n",
      "Name: difficulty_MA, dtype: float64\n",
      "23\n",
      "Name\n",
      "bitcoin            1.489299e+13\n",
      "ethereum           2.197868e+15\n",
      "bitcoinsv          3.606414e+11\n",
      "litecoin           5.036636e+06\n",
      "monero             1.445060e+11\n",
      "dash               1.699615e+08\n",
      "ethereumclassic    1.261840e+14\n",
      "zcash              4.797698e+07\n",
      "dogecoin           2.109041e+06\n",
      "ravencoin          4.692652e+05\n",
      "monacoin           3.054625e+06\n",
      "horizen            1.284436e+07\n",
      "komodo             2.190371e+08\n",
      "litecoincash       1.241368e+08\n",
      "Name: difficulty_MA, dtype: float64\n",
      "24\n",
      "Name\n",
      "bitcoin            1.488588e+13\n",
      "ethereum           2.198864e+15\n",
      "bitcoinsv          3.524432e+11\n",
      "litecoin           5.050830e+06\n",
      "monero             1.447146e+11\n",
      "dash               1.707640e+08\n",
      "ethereumclassic    1.259343e+14\n",
      "zcash              4.801272e+07\n",
      "dogecoin           2.125209e+06\n",
      "ravencoin          4.709488e+05\n",
      "monacoin           3.070322e+06\n",
      "horizen            1.292054e+07\n",
      "komodo             2.189694e+08\n",
      "litecoincash       1.258780e+08\n",
      "Name: difficulty_MA, dtype: float64\n",
      "25\n",
      "Name\n",
      "bitcoin            1.487932e+13\n",
      "ethereum           2.199611e+15\n",
      "bitcoinsv          3.461762e+11\n",
      "litecoin           5.063932e+06\n",
      "monero             1.448840e+11\n",
      "dash               1.713774e+08\n",
      "ethereumclassic    1.256987e+14\n",
      "zcash              4.778607e+07\n",
      "dogecoin           2.143525e+06\n",
      "ravencoin          4.742424e+05\n",
      "monacoin           3.066585e+06\n",
      "horizen            1.285547e+07\n",
      "komodo             2.168916e+08\n",
      "litecoincash       1.294748e+08\n",
      "Name: difficulty_MA, dtype: float64\n",
      "26\n",
      "Name\n",
      "bitcoin            1.487324e+13\n",
      "ethereum           2.198196e+15\n",
      "bitcoinsv          3.407640e+11\n",
      "litecoin           5.079281e+06\n",
      "monero             1.452416e+11\n",
      "dash               1.697470e+08\n",
      "ethereumclassic    1.253180e+14\n",
      "zcash              4.786109e+07\n",
      "dogecoin           2.146400e+06\n",
      "ravencoin          4.759999e+05\n",
      "monacoin           3.057995e+06\n",
      "komodo             2.167311e+08\n",
      "horizen            1.286231e+07\n",
      "litecoincash       1.343158e+08\n",
      "Name: difficulty_MA, dtype: float64\n",
      "27\n",
      "Name\n",
      "bitcoin            1.486760e+13\n",
      "ethereum           2.202905e+15\n",
      "bitcoinsv          3.358834e+11\n",
      "litecoin           5.093534e+06\n",
      "monero             1.454978e+11\n",
      "dash               1.696950e+08\n",
      "ethereumclassic    1.251410e+14\n",
      "zcash              4.782766e+07\n",
      "dogecoin           2.142720e+06\n",
      "ravencoin          4.769131e+05\n",
      "monacoin           3.028756e+06\n",
      "komodo             2.171902e+08\n",
      "horizen            1.275620e+07\n",
      "litecoincash       1.375699e+08\n",
      "Name: difficulty_MA, dtype: float64\n",
      "28\n",
      "Name\n",
      "bitcoin            1.486234e+13\n",
      "ethereum           2.203789e+15\n",
      "bitcoinsv          3.317906e+11\n",
      "litecoin           5.106804e+06\n",
      "monero             1.457098e+11\n",
      "dash               1.687304e+08\n",
      "ethereumclassic    1.248345e+14\n",
      "zcash              4.829427e+07\n",
      "dogecoin           2.162598e+06\n",
      "ravencoin          4.757472e+05\n",
      "monacoin           3.064593e+06\n",
      "komodo             2.178390e+08\n",
      "horizen            1.271309e+07\n",
      "litecoincash       1.368943e+08\n",
      "Name: difficulty_MA, dtype: float64\n",
      "29\n",
      "Name\n",
      "bitcoin            1.485744e+13\n",
      "ethereum           2.207195e+15\n",
      "bitcoinsv          3.276388e+11\n",
      "litecoin           5.114112e+06\n",
      "monero             1.456603e+11\n",
      "dash               1.714666e+08\n",
      "ethereumclassic    1.244658e+14\n",
      "zcash              4.818569e+07\n",
      "dogecoin           2.150142e+06\n",
      "ravencoin          4.765052e+05\n",
      "monacoin           3.074871e+06\n",
      "komodo             2.166872e+08\n",
      "horizen            1.260165e+07\n",
      "litecoincash       1.362816e+08\n",
      "Name: difficulty_MA, dtype: float64\n",
      "30\n",
      "Name\n",
      "bitcoin            1.479618e+13\n",
      "ethereum           2.207958e+15\n",
      "bitcoinsv          3.246220e+11\n",
      "litecoin           5.119909e+06\n",
      "monero             1.462519e+11\n",
      "dash               1.721471e+08\n",
      "ethereumclassic    1.236598e+14\n",
      "zcash              4.803097e+07\n",
      "dogecoin           2.179583e+06\n",
      "ravencoin          4.743681e+05\n",
      "monacoin           3.083402e+06\n",
      "komodo             2.181177e+08\n",
      "horizen            1.251477e+07\n",
      "litecoincash       1.394289e+08\n",
      "Name: difficulty_MA, dtype: float64\n",
      "31\n",
      "Name\n",
      "bitcoin            1.473492e+13\n",
      "ethereum           2.210227e+15\n",
      "bitcoinsv          3.202078e+11\n",
      "litecoin           5.125705e+06\n",
      "monero             1.461759e+11\n",
      "dash               1.771678e+08\n",
      "ethereumclassic    1.231521e+14\n",
      "zcash              4.763874e+07\n",
      "dogecoin           2.197617e+06\n",
      "ravencoin          4.727248e+05\n",
      "monacoin           3.106967e+06\n",
      "komodo             2.185679e+08\n",
      "horizen            1.233576e+07\n",
      "litecoincash       1.395458e+08\n",
      "Name: difficulty_MA, dtype: float64\n",
      "32\n",
      "Name\n",
      "bitcoin            1.467367e+13\n",
      "ethereum           2.213517e+15\n",
      "bitcoinsv          3.163881e+11\n",
      "litecoin           5.131502e+06\n",
      "monero             1.462181e+11\n",
      "dash               1.781703e+08\n",
      "ethereumclassic    1.224746e+14\n",
      "zcash              4.776543e+07\n",
      "dogecoin           2.216439e+06\n",
      "ravencoin          4.721759e+05\n",
      "monacoin           3.115868e+06\n",
      "komodo             2.152242e+08\n",
      "horizen            1.216634e+07\n",
      "litecoincash       1.419982e+08\n",
      "Name: difficulty_MA, dtype: float64\n",
      "33\n",
      "Name\n",
      "bitcoin            1.461241e+13\n",
      "ethereum           2.212799e+15\n",
      "bitcoinsv          3.095543e+11\n",
      "litecoin           5.163224e+06\n",
      "monero             1.463878e+11\n",
      "dash               1.759614e+08\n",
      "ethereumclassic    1.218690e+14\n",
      "zcash              4.808301e+07\n",
      "dogecoin           2.262282e+06\n",
      "ravencoin          4.755579e+05\n",
      "monacoin           3.151109e+06\n",
      "komodo             2.142443e+08\n",
      "horizen            1.209728e+07\n",
      "litecoincash       1.441928e+08\n",
      "Name: difficulty_MA, dtype: float64\n",
      "34\n",
      "Name\n",
      "bitcoin            1.459260e+13\n",
      "ethereum           2.214443e+15\n",
      "bitcoinsv          3.019727e+11\n",
      "litecoin           5.194946e+06\n",
      "monero             1.468513e+11\n",
      "dash               1.740475e+08\n",
      "ethereumclassic    1.211906e+14\n",
      "zcash              4.764966e+07\n",
      "dogecoin           2.293591e+06\n",
      "ravencoin          4.732641e+05\n",
      "monacoin           3.113769e+06\n",
      "komodo             2.140817e+08\n",
      "horizen            1.197921e+07\n",
      "litecoincash       1.439297e+08\n",
      "Name: difficulty_MA, dtype: float64\n"
     ]
    },
    {
     "data": {
      "image/png": "[encoded data removed]",
      "text/plain": [
       "<Figure size 432x288 with 1 Axes>"
      ]
     },
     "metadata": {
      "needs_background": "light"
     },
     "output_type": "display_data"
    }
   ],
   "source": [
    "# Get hardware bounds\n",
    "hardware_bounds_coin = hardware_based_estimation(data, moving_avg_difficulty = 30, moving_avg_price = 30,  growth_factor=1)\n",
    "hardware_bounds_total = calc_hardware_bounds(hardware_bounds_coin)\n",
    "plt.plot(dates, hardware_bounds_total['lower'])\n",
    "plt.plot(dates, hardware_bounds_total['estimate'])\n",
    "plt.plot(dates, hardware_bounds_total['upper'])\n",
    "plt.xticks(rotation=45)\n",
    "plt.ylabel(\"Electricity consumption (W)\")\n",
    "plt.xlabel(\"Date\")\n",
    "plt.show()"
   ]
  },
  {
   "cell_type": "markdown",
   "metadata": {},
   "source": [
    "## Revenue based"
   ]
  },
  {
   "cell_type": "code",
   "execution_count": 41,
   "metadata": {},
   "outputs": [
    {
     "data": {
      "image/png": "[encoded data removed]",
      "text/plain": [
       "<Figure size 432x288 with 1 Axes>"
      ]
     },
     "metadata": {
      "needs_background": "light"
     },
     "output_type": "display_data"
    }
   ],
   "source": [
    "plt.plot(dates, revenue_bounds_total['upper'])\n",
    "plt.plot(dates, revenue_bounds_total['estimate'])\n",
    "plt.xticks(rotation=45)\n",
    "plt.ylabel(\"Electricity consumption (W)\")\n",
    "plt.xlabel(\"Date\")\n",
    "plt.show()"
   ]
  },
  {
   "cell_type": "markdown",
   "metadata": {},
   "source": [
    "## Extrapolation"
   ]
  },
  {
   "cell_type": "markdown",
   "metadata": {},
   "source": [
    "### Market share"
   ]
  },
  {
   "cell_type": "markdown",
   "metadata": {},
   "source": [
    "First calculate what part of top100 mineable and of total market cap we capture with our data"
   ]
  },
  {
   "cell_type": "code",
   "execution_count": 42,
   "metadata": {},
   "outputs": [
    {
     "name": "stdout",
     "output_type": "stream",
     "text": [
      "The hardware based estimation represents minimum 96.1%, maximum 98.52%\n",
      " and on average 97.5% of the market cap of the mineable top 100\n"
     ]
    }
   ],
   "source": [
    "hardware_data_market = hardware_market_cap_hist/total_market_cap_hist\n",
    "print(f'The hardware based estimation represents minimum {round(hardware_data_market.min(),3)*100}%, maximum {round(hardware_data_market.max(),4)*100}%\\n\\\n",
    " and on average {round(hardware_data_market.mean(),3)*100}% of the market cap of the mineable top 100')"
   ]
  },
  {
   "cell_type": "code",
   "execution_count": 43,
   "metadata": {},
   "outputs": [
    {
     "name": "stdout",
     "output_type": "stream",
     "text": [
      "This is 92.53% of the total mineable market cap on 21/04/2020\n"
     ]
    }
   ],
   "source": [
    "# Data of 21/04/2020\n",
    "mineable_market_cap_hist = pd.read_csv(DATA_PATH+'mineable_all.csv')\n",
    "mineable_market_cap_hist = mineable_market_cap_hist['market_cap'].apply(clean_int)\n",
    "mineable_market_cap_sum = mineable_market_cap_hist.sum()\n",
    "hardware_mineable_share = hardware_market_cap_hist[34]/mineable_market_cap_sum\n",
    "print(f'This is {round(hardware_mineable_share,4)*100}% of the total mineable market cap on 21/04/2020')"
   ]
  },
  {
   "cell_type": "code",
   "execution_count": 44,
   "metadata": {},
   "outputs": [
    {
     "name": "stdout",
     "output_type": "stream",
     "text": [
      "The top 100 captures 95.7% of the total mineable market\n"
     ]
    }
   ],
   "source": [
    "top100_share = total_market_cap_hist[len(total_market_cap_hist)-1]/mineable_market_cap_sum\n",
    "print(f'The top 100 captures {round(top100_share,3)*100}% of the total mineable market')"
   ]
  },
  {
   "cell_type": "markdown",
   "metadata": {},
   "source": [
    "This means that, if our hypothesis is correct, we can divide our result bij 0.95 to get the total energy consumption of the mineable market"
   ]
  },
  {
   "cell_type": "code",
   "execution_count": 45,
   "metadata": {},
   "outputs": [
    {
     "name": "stdout",
     "output_type": "stream",
     "text": [
      "This is minimum 69.49%, maximum 80.17999999999999% and on average 75.6% of the total market cap\n"
     ]
    }
   ],
   "source": [
    "# Get total market cap from https://p.nomics.com/cryptocurrency-bitcoin-api\n",
    "url = \"https://api.nomics.com/v1/market-cap/history?key=demo-26240835858194712a4f8cc0dc635c7a&start=2020-03-18T00%3A00%3A00Z\"\n",
    "total_market_cap_hist = pd.DataFrame(json.loads(urllib.request.urlopen(url).read()))['market_cap'].astype(float)\n",
    "hardware_data_share_total = hardware_market_cap_hist/total_market_cap_hist\n",
    "\n",
    "print(f'This is minimum {round(hardware_data_share_total.min(),4)*100}%, maximum {round(hardware_data_share_total.max(),4)*100}%\\\n",
    " and on average {round(hardware_data_share_total.mean(),3)*100}% of the total market cap')"
   ]
  },
  {
   "cell_type": "markdown",
   "metadata": {},
   "source": [
    "### Hypothesis testing"
   ]
  },
  {
   "cell_type": "code",
   "execution_count": 46,
   "metadata": {},
   "outputs": [],
   "source": [
    "market_cap_mean = coin_hardware_avg['market_cap']\n",
    "energy_consumption_mean = coin_hardware_avg['estimate']"
   ]
  },
  {
   "cell_type": "code",
   "execution_count": 47,
   "metadata": {},
   "outputs": [],
   "source": [
    "found_data_energy = pd.concat([energy_consumption_mean,market_cap_mean],axis=1, keys=[\"energy_consumption\", \"market_cap\"])\n",
    "# Drop 0 values\n",
    "found_data_energy = found_data_energy[found_data_energy['energy_consumption'] != 0]"
   ]
  },
  {
   "cell_type": "code",
   "execution_count": 48,
   "metadata": {},
   "outputs": [
    {
     "data": {
      "image/png": "[encoded data removed]",
      "text/plain": [
       "<Figure size 864x648 with 1 Axes>"
      ]
     },
     "metadata": {
      "needs_background": "light"
     },
     "output_type": "display_data"
    }
   ],
   "source": [
    "plt.figure(figsize=(12,9))\n",
    "\n",
    "found_data_energy['energy_consumption'].plot(kind='bar')\n",
    "plt.yscale('log')\n",
    "plt.xticks(rotation=45)\n",
    "plt.ylabel('Annual energy consumption (in W)')\n",
    "plt.xlabel('Coin')\n",
    "plt.title('Annual electricity consumption of different cryptocurrencies')\n",
    "plt.show()"
   ]
  },
  {
   "cell_type": "code",
   "execution_count": 49,
   "metadata": {},
   "outputs": [
    {
     "data": {
      "image/png": "[encoded data removed]",
      "text/plain": [
       "<Figure size 1008x720 with 1 Axes>"
      ]
     },
     "metadata": {
      "needs_background": "light"
     },
     "output_type": "display_data"
    }
   ],
   "source": [
    "plt.figure(figsize=(14,10))\n",
    "\n",
    "plt.scatter(found_data_energy['market_cap'],found_data_energy['energy_consumption'])\n",
    "z = np.polyfit(found_data_energy['market_cap'],found_data_energy['energy_consumption'], 5)\n",
    "p = np.poly1d(z)\n",
    "plt.plot(found_data_energy['market_cap'],p(found_data_energy['market_cap']),\"r--\")\n",
    "plt.xscale('log')\n",
    "plt.yscale('log')\n",
    "plt.xlabel('Market cap ($)')\n",
    "plt.ylabel('Annual energy consumption (W)')\n",
    "plt.xticks(rotation=45)\n",
    "plt.title('Annual energy consumption vs market cap of cryptocurrencies')\n",
    "plt.show()"
   ]
  },
  {
   "cell_type": "markdown",
   "metadata": {},
   "source": [
    "## Combining all results"
   ]
  },
  {
   "cell_type": "markdown",
   "metadata": {},
   "source": [
    "- Hardware based\n",
    "- Revenue based\n",
    "- BECI\n",
    "- CBECI"
   ]
  },
  {
   "cell_type": "code",
   "execution_count": 50,
   "metadata": {},
   "outputs": [
    {
     "data": {
      "image/png": "[encoded data removed]",
      "text/plain": [
       "<Figure size 1008x720 with 1 Axes>"
      ]
     },
     "metadata": {
      "needs_background": "light"
     },
     "output_type": "display_data"
    }
   ],
   "source": [
    "plt.figure(figsize=(14,10))\n",
    "plt.plot(dates, hardware_bounds_total['estimate'], label=\"Hardware estimate\", color=\"blue\")\n",
    "plt.plot(dates, hardware_bounds_total['lower'], label=\"Hardware lower bound\",color=\"green\")\n",
    "plt.plot(dates, hardware_bounds_total['upper'], label=\"Hardware upper bound\", color=\"red\")\n",
    "plt.plot(dates, revenue_bounds_total['upper'], label=\"Revenue upper bound\", color=\"#FA9883\")\n",
    "plt.plot(dates, revenue_bounds_total['estimate'], label=\"Revenue estimate\", color=\"lightblue\")\n",
    "plt.xticks(rotation=45)\n",
    "plt.ylabel(\"Electricity consumption (W)\")\n",
    "plt.xlabel(\"Date\")\n",
    "plt.legend()\n",
    "plt.show()"
   ]
  },
  {
   "cell_type": "markdown",
   "metadata": {
    "toc-hr-collapsed": true
   },
   "source": [
    "# Old"
   ]
  },
  {
   "cell_type": "markdown",
   "metadata": {},
   "source": [
    "## First web-based trial (OLD)"
   ]
  },
  {
   "cell_type": "markdown",
   "metadata": {},
   "source": [
    "First, we calculate a lower bound by using only the most efficient hardware"
   ]
  },
  {
   "cell_type": "code",
   "execution_count": 51,
   "metadata": {},
   "outputs": [],
   "source": [
    "def hardware_hashrate(coin): # Max hashes per second for the hardware\n",
    "    if coin['algorithm'] == 'SHA-256':\n",
    "        return 16*10**12\n",
    "    if coin['algorithm'] == 'Scrypt':\n",
    "        return 504*10**6\n",
    "    if coin['algorithm'] == 'Ethash':\n",
    "        return 190*10**6\n",
    "    if coin['algorithm'] == 'Equihash':\n",
    "        return 42*10**3\n",
    "    return 0"
   ]
  },
  {
   "cell_type": "code",
   "execution_count": 52,
   "metadata": {},
   "outputs": [],
   "source": [
    "# Energy use in Watts\n",
    "def hardware_consumption(coin): \n",
    "    if coin['algorithm'] == 'SHA-256':\n",
    "        return 1280\n",
    "    if coin['algorithm'] == 'Scrypt':\n",
    "        return 970\n",
    "    if coin['algorithm'] == 'Ethash':\n",
    "        return 800\n",
    "    if coin['algorithm'] == 'Equihash':\n",
    "        return 760\n",
    "    return 0"
   ]
  },
  {
   "cell_type": "code",
   "execution_count": 53,
   "metadata": {},
   "outputs": [],
   "source": [
    "def hardware_consumption_hash(coin): # Joule per hash\n",
    "    if coin['algorithm'] == 'SHA-256':\n",
    "        return 0.1/(10**9)\n",
    "    if coin['algorithm'] == 'Scrypt':\n",
    "        return 1.6/(10**6) # Antminer L3+ https://www.asicminervalue.com/miners/bitmain/antminer-l3-504mh\n",
    "    if coin['algorithm'] == 'Ethash':\n",
    "        return 4/(10**6) # Bitmain Antminer E3 – Ethereum 190 MH/S\n",
    "    else: \n",
    "        return 0"
   ]
  },
  {
   "cell_type": "code",
   "execution_count": 54,
   "metadata": {},
   "outputs": [],
   "source": [
    "def calc_num_hardware(coin):\n",
    "    if coin['hardware_hashrate'] == 0:\n",
    "        return 0\n",
    "    if coin['nethash_calc'] != 0:\n",
    "        return coin['nethash_calc']/coin['hardware_hashrate'] \n",
    "    else:\n",
    "        return coin['nethash_scraped']/coin['hardware_hashrate']"
   ]
  },
  {
   "cell_type": "code",
   "execution_count": 55,
   "metadata": {},
   "outputs": [],
   "source": [
    "found_data['difficulty_factor'] = found_data.apply(lambda x: difficulty_factor(x), axis=1)\n",
    "found_data['hardware_hashrate'] = found_data.apply(lambda x: hardware_hashrate(x), axis=1)\n",
    "found_data['hardware_consumption'] = found_data.apply(lambda x: hardware_consumption(x), axis=1)"
   ]
  },
  {
   "cell_type": "code",
   "execution_count": 56,
   "metadata": {},
   "outputs": [
    {
     "data": {
      "text/html": [
       "<div>\n",
       "<style scoped>\n",
       "    .dataframe tbody tr th:only-of-type {\n",
       "        vertical-align: middle;\n",
       "    }\n",
       "\n",
       "    .dataframe tbody tr th {\n",
       "        vertical-align: top;\n",
       "    }\n",
       "\n",
       "    .dataframe thead th {\n",
       "        text-align: right;\n",
       "    }\n",
       "</style>\n",
       "<table border=\"1\" class=\"dataframe\">\n",
       "  <thead>\n",
       "    <tr style=\"text-align: right;\">\n",
       "      <th></th>\n",
       "      <th>#</th>\n",
       "      <th>market_cap</th>\n",
       "      <th>price</th>\n",
       "      <th>tag</th>\n",
       "      <th>algorithm</th>\n",
       "      <th>block_time</th>\n",
       "      <th>difficulty</th>\n",
       "      <th>nethash_scraped</th>\n",
       "      <th>block_reward</th>\n",
       "      <th>exchange_rate</th>\n",
       "      <th>exchange_rate_curr</th>\n",
       "      <th>difficulty_factor</th>\n",
       "      <th>hardware_hashrate</th>\n",
       "      <th>hardware_consumption</th>\n",
       "      <th>nethash_calc</th>\n",
       "      <th>num_hardware</th>\n",
       "      <th>energy_per_second</th>\n",
       "      <th>annual_energy</th>\n",
       "    </tr>\n",
       "    <tr>\n",
       "      <th>Name</th>\n",
       "      <th></th>\n",
       "      <th></th>\n",
       "      <th></th>\n",
       "      <th></th>\n",
       "      <th></th>\n",
       "      <th></th>\n",
       "      <th></th>\n",
       "      <th></th>\n",
       "      <th></th>\n",
       "      <th></th>\n",
       "      <th></th>\n",
       "      <th></th>\n",
       "      <th></th>\n",
       "      <th></th>\n",
       "      <th></th>\n",
       "      <th></th>\n",
       "      <th></th>\n",
       "      <th></th>\n",
       "    </tr>\n",
       "  </thead>\n",
       "  <tbody>\n",
       "    <tr>\n",
       "      <th>bitcoin</th>\n",
       "      <td>1</td>\n",
       "      <td>1.126371e+11</td>\n",
       "      <td>6157.280000</td>\n",
       "      <td>BTC</td>\n",
       "      <td>SHA-256</td>\n",
       "      <td>628.0000</td>\n",
       "      <td>1.391252e+13</td>\n",
       "      <td>9.514942e+19</td>\n",
       "      <td>12.681600</td>\n",
       "      <td>6.122690e+03</td>\n",
       "      <td>BTC</td>\n",
       "      <td>4294967296</td>\n",
       "      <td>16000000000000</td>\n",
       "      <td>1280</td>\n",
       "      <td>9.514942e+19</td>\n",
       "      <td>5.946839e+06</td>\n",
       "      <td>7.611954e+09</td>\n",
       "      <td>6.668071e+13</td>\n",
       "    </tr>\n",
       "    <tr>\n",
       "      <th>ethereum</th>\n",
       "      <td>2</td>\n",
       "      <td>1.430239e+10</td>\n",
       "      <td>129.670000</td>\n",
       "      <td>ETH</td>\n",
       "      <td>Ethash</td>\n",
       "      <td>13.2139</td>\n",
       "      <td>2.241400e+15</td>\n",
       "      <td>1.696244e+14</td>\n",
       "      <td>2.000000</td>\n",
       "      <td>2.106649e-02</td>\n",
       "      <td>BTC</td>\n",
       "      <td>1</td>\n",
       "      <td>190000000</td>\n",
       "      <td>800</td>\n",
       "      <td>1.696244e+14</td>\n",
       "      <td>8.927599e+05</td>\n",
       "      <td>7.142079e+08</td>\n",
       "      <td>6.256462e+12</td>\n",
       "    </tr>\n",
       "    <tr>\n",
       "      <th>bitcoinsv</th>\n",
       "      <td>4</td>\n",
       "      <td>2.858476e+09</td>\n",
       "      <td>155.740000</td>\n",
       "      <td>BSV</td>\n",
       "      <td>SHA-256</td>\n",
       "      <td>585.0000</td>\n",
       "      <td>3.485503e+11</td>\n",
       "      <td>2.558995e+18</td>\n",
       "      <td>12.500000</td>\n",
       "      <td>2.532000e-02</td>\n",
       "      <td>BTC</td>\n",
       "      <td>4294967296</td>\n",
       "      <td>16000000000000</td>\n",
       "      <td>1280</td>\n",
       "      <td>2.558995e+18</td>\n",
       "      <td>1.599372e+05</td>\n",
       "      <td>2.047196e+08</td>\n",
       "      <td>1.793344e+12</td>\n",
       "    </tr>\n",
       "    <tr>\n",
       "      <th>litecoin</th>\n",
       "      <td>5</td>\n",
       "      <td>2.474367e+09</td>\n",
       "      <td>38.430000</td>\n",
       "      <td>LTC</td>\n",
       "      <td>Scrypt</td>\n",
       "      <td>140.0000</td>\n",
       "      <td>4.894266e+06</td>\n",
       "      <td>1.501480e+14</td>\n",
       "      <td>12.500000</td>\n",
       "      <td>6.252700e-03</td>\n",
       "      <td>BTC</td>\n",
       "      <td>4294967296</td>\n",
       "      <td>504000000</td>\n",
       "      <td>970</td>\n",
       "      <td>1.501480e+14</td>\n",
       "      <td>2.979126e+05</td>\n",
       "      <td>2.889752e+08</td>\n",
       "      <td>2.531423e+12</td>\n",
       "    </tr>\n",
       "    <tr>\n",
       "      <th>monero</th>\n",
       "      <td>6</td>\n",
       "      <td>8.045231e+08</td>\n",
       "      <td>45.970000</td>\n",
       "      <td>XMR</td>\n",
       "      <td>RandomX</td>\n",
       "      <td>110.0000</td>\n",
       "      <td>1.578298e+11</td>\n",
       "      <td>1.434817e+09</td>\n",
       "      <td>1.801793</td>\n",
       "      <td>7.469000e-03</td>\n",
       "      <td>BTC</td>\n",
       "      <td>1</td>\n",
       "      <td>0</td>\n",
       "      <td>0</td>\n",
       "      <td>1.434817e+09</td>\n",
       "      <td>0.000000e+00</td>\n",
       "      <td>0.000000e+00</td>\n",
       "      <td>0.000000e+00</td>\n",
       "    </tr>\n",
       "    <tr>\n",
       "      <th>dash</th>\n",
       "      <td>9</td>\n",
       "      <td>6.036110e+08</td>\n",
       "      <td>64.170000</td>\n",
       "      <td>DASH</td>\n",
       "      <td>X11</td>\n",
       "      <td>158.0000</td>\n",
       "      <td>1.529665e+08</td>\n",
       "      <td>4.158139e+15</td>\n",
       "      <td>1.553313</td>\n",
       "      <td>1.045151e-02</td>\n",
       "      <td>BTC</td>\n",
       "      <td>1048576</td>\n",
       "      <td>0</td>\n",
       "      <td>0</td>\n",
       "      <td>1.015171e+12</td>\n",
       "      <td>0.000000e+00</td>\n",
       "      <td>0.000000e+00</td>\n",
       "      <td>0.000000e+00</td>\n",
       "    </tr>\n",
       "    <tr>\n",
       "      <th>ethereumclassic</th>\n",
       "      <td>10</td>\n",
       "      <td>5.829628e+08</td>\n",
       "      <td>5.010000</td>\n",
       "      <td>ETC</td>\n",
       "      <td>Ethash</td>\n",
       "      <td>13.0344</td>\n",
       "      <td>1.307509e+14</td>\n",
       "      <td>1.003122e+13</td>\n",
       "      <td>3.104000</td>\n",
       "      <td>8.164000e-04</td>\n",
       "      <td>BTC</td>\n",
       "      <td>1</td>\n",
       "      <td>190000000</td>\n",
       "      <td>800</td>\n",
       "      <td>1.003122e+13</td>\n",
       "      <td>5.279588e+04</td>\n",
       "      <td>4.223671e+07</td>\n",
       "      <td>3.699935e+11</td>\n",
       "    </tr>\n",
       "    <tr>\n",
       "      <th>zcash</th>\n",
       "      <td>11</td>\n",
       "      <td>2.870108e+08</td>\n",
       "      <td>29.890000</td>\n",
       "      <td>ZEC</td>\n",
       "      <td>Equihash</td>\n",
       "      <td>75.0000</td>\n",
       "      <td>4.411493e+07</td>\n",
       "      <td>4.818527e+09</td>\n",
       "      <td>5.000000</td>\n",
       "      <td>4.852330e-03</td>\n",
       "      <td>BTC</td>\n",
       "      <td>8192</td>\n",
       "      <td>42000</td>\n",
       "      <td>760</td>\n",
       "      <td>4.818527e+09</td>\n",
       "      <td>1.147268e+05</td>\n",
       "      <td>8.719239e+07</td>\n",
       "      <td>7.638054e+11</td>\n",
       "    </tr>\n",
       "    <tr>\n",
       "      <th>dogecoin</th>\n",
       "      <td>12</td>\n",
       "      <td>2.193462e+08</td>\n",
       "      <td>0.001770</td>\n",
       "      <td>DOGE</td>\n",
       "      <td>Scrypt</td>\n",
       "      <td>62.0000</td>\n",
       "      <td>2.369565e+06</td>\n",
       "      <td>1.641485e+14</td>\n",
       "      <td>10000.000000</td>\n",
       "      <td>2.887500e-07</td>\n",
       "      <td>BTC</td>\n",
       "      <td>1048576</td>\n",
       "      <td>504000000</td>\n",
       "      <td>970</td>\n",
       "      <td>4.007531e+10</td>\n",
       "      <td>7.951450e+01</td>\n",
       "      <td>7.712907e+04</td>\n",
       "      <td>6.756506e+08</td>\n",
       "    </tr>\n",
       "    <tr>\n",
       "      <th>bitcoingold</th>\n",
       "      <td>13</td>\n",
       "      <td>1.227573e+08</td>\n",
       "      <td>7.010000</td>\n",
       "      <td>BTG</td>\n",
       "      <td>Zhash</td>\n",
       "      <td>601.0000</td>\n",
       "      <td>1.430521e+05</td>\n",
       "      <td>1.949887e+06</td>\n",
       "      <td>12.500000</td>\n",
       "      <td>1.137400e-03</td>\n",
       "      <td>BTC</td>\n",
       "      <td>0</td>\n",
       "      <td>0</td>\n",
       "      <td>0</td>\n",
       "      <td>0.000000e+00</td>\n",
       "      <td>0.000000e+00</td>\n",
       "      <td>0.000000e+00</td>\n",
       "      <td>0.000000e+00</td>\n",
       "    </tr>\n",
       "    <tr>\n",
       "      <th>decred</th>\n",
       "      <td>14</td>\n",
       "      <td>1.169334e+08</td>\n",
       "      <td>10.840000</td>\n",
       "      <td>DCR</td>\n",
       "      <td>Blake (14r)</td>\n",
       "      <td>308.0000</td>\n",
       "      <td>2.675994e+10</td>\n",
       "      <td>3.731593e+17</td>\n",
       "      <td>9.327206</td>\n",
       "      <td>1.764830e-03</td>\n",
       "      <td>BTC</td>\n",
       "      <td>0</td>\n",
       "      <td>0</td>\n",
       "      <td>0</td>\n",
       "      <td>0.000000e+00</td>\n",
       "      <td>0.000000e+00</td>\n",
       "      <td>0.000000e+00</td>\n",
       "      <td>0.000000e+00</td>\n",
       "    </tr>\n",
       "    <tr>\n",
       "      <th>ravencoin</th>\n",
       "      <td>16</td>\n",
       "      <td>8.328566e+07</td>\n",
       "      <td>0.014296</td>\n",
       "      <td>RVN</td>\n",
       "      <td>X16Rv2</td>\n",
       "      <td>59.0000</td>\n",
       "      <td>5.547804e+05</td>\n",
       "      <td>4.038582e+13</td>\n",
       "      <td>5000.000000</td>\n",
       "      <td>2.330000e-06</td>\n",
       "      <td>BTC</td>\n",
       "      <td>16777216</td>\n",
       "      <td>0</td>\n",
       "      <td>0</td>\n",
       "      <td>1.577571e+11</td>\n",
       "      <td>0.000000e+00</td>\n",
       "      <td>0.000000e+00</td>\n",
       "      <td>0.000000e+00</td>\n",
       "    </tr>\n",
       "    <tr>\n",
       "      <th>bitcoindiamond</th>\n",
       "      <td>17</td>\n",
       "      <td>8.312065e+07</td>\n",
       "      <td>0.445704</td>\n",
       "      <td>BCD</td>\n",
       "      <td>BCD</td>\n",
       "      <td>566.0000</td>\n",
       "      <td>2.879540e+06</td>\n",
       "      <td>2.185076e+13</td>\n",
       "      <td>125.000000</td>\n",
       "      <td>7.228000e-05</td>\n",
       "      <td>BTC</td>\n",
       "      <td>0</td>\n",
       "      <td>0</td>\n",
       "      <td>0</td>\n",
       "      <td>0.000000e+00</td>\n",
       "      <td>0.000000e+00</td>\n",
       "      <td>0.000000e+00</td>\n",
       "      <td>0.000000e+00</td>\n",
       "    </tr>\n",
       "    <tr>\n",
       "      <th>monacoin</th>\n",
       "      <td>18</td>\n",
       "      <td>7.815104e+07</td>\n",
       "      <td>1.190000</td>\n",
       "      <td>MONA</td>\n",
       "      <td>Lyra2REv2</td>\n",
       "      <td>94.0000</td>\n",
       "      <td>4.135507e+06</td>\n",
       "      <td>1.889560e+14</td>\n",
       "      <td>25.000000</td>\n",
       "      <td>1.914800e-04</td>\n",
       "      <td>BTC</td>\n",
       "      <td>4294967296</td>\n",
       "      <td>0</td>\n",
       "      <td>0</td>\n",
       "      <td>1.889560e+14</td>\n",
       "      <td>0.000000e+00</td>\n",
       "      <td>0.000000e+00</td>\n",
       "      <td>0.000000e+00</td>\n",
       "    </tr>\n",
       "    <tr>\n",
       "      <th>horizen</th>\n",
       "      <td>23</td>\n",
       "      <td>4.733527e+07</td>\n",
       "      <td>5.420000</td>\n",
       "      <td>ZEN</td>\n",
       "      <td>Equihash</td>\n",
       "      <td>152.0000</td>\n",
       "      <td>1.179709e+07</td>\n",
       "      <td>6.358011e+08</td>\n",
       "      <td>7.500000</td>\n",
       "      <td>8.710000e-04</td>\n",
       "      <td>BTC</td>\n",
       "      <td>8192</td>\n",
       "      <td>42000</td>\n",
       "      <td>760</td>\n",
       "      <td>6.358011e+08</td>\n",
       "      <td>1.513812e+04</td>\n",
       "      <td>1.150497e+07</td>\n",
       "      <td>1.007836e+11</td>\n",
       "    </tr>\n",
       "    <tr>\n",
       "      <th>komodo</th>\n",
       "      <td>26</td>\n",
       "      <td>4.065833e+07</td>\n",
       "      <td>0.341703</td>\n",
       "      <td>KMD</td>\n",
       "      <td>Equihash</td>\n",
       "      <td>60.0000</td>\n",
       "      <td>2.168867e+08</td>\n",
       "      <td>5.783646e+07</td>\n",
       "      <td>3.000000</td>\n",
       "      <td>5.530000e-05</td>\n",
       "      <td>BTC</td>\n",
       "      <td>16</td>\n",
       "      <td>42000</td>\n",
       "      <td>760</td>\n",
       "      <td>5.783646e+07</td>\n",
       "      <td>1.377059e+03</td>\n",
       "      <td>1.046565e+06</td>\n",
       "      <td>9.167906e+09</td>\n",
       "    </tr>\n",
       "    <tr>\n",
       "      <th>bytecoin</th>\n",
       "      <td>29</td>\n",
       "      <td>3.582241e+07</td>\n",
       "      <td>0.000195</td>\n",
       "      <td>BCN</td>\n",
       "      <td>CryptoNight</td>\n",
       "      <td>118.0000</td>\n",
       "      <td>2.465332e+10</td>\n",
       "      <td>2.089264e+08</td>\n",
       "      <td>340.439300</td>\n",
       "      <td>3.203000e-08</td>\n",
       "      <td>BTC</td>\n",
       "      <td>0</td>\n",
       "      <td>0</td>\n",
       "      <td>0</td>\n",
       "      <td>0.000000e+00</td>\n",
       "      <td>0.000000e+00</td>\n",
       "      <td>0.000000e+00</td>\n",
       "      <td>0.000000e+00</td>\n",
       "    </tr>\n",
       "    <tr>\n",
       "      <th>zcoin</th>\n",
       "      <td>30</td>\n",
       "      <td>2.961671e+07</td>\n",
       "      <td>3.030000</td>\n",
       "      <td>XZC</td>\n",
       "      <td>MTP</td>\n",
       "      <td>304.0000</td>\n",
       "      <td>6.072043e+03</td>\n",
       "      <td>8.578693e+10</td>\n",
       "      <td>14.000000</td>\n",
       "      <td>4.867300e-04</td>\n",
       "      <td>BTC</td>\n",
       "      <td>0</td>\n",
       "      <td>0</td>\n",
       "      <td>0</td>\n",
       "      <td>0.000000e+00</td>\n",
       "      <td>0.000000e+00</td>\n",
       "      <td>0.000000e+00</td>\n",
       "      <td>0.000000e+00</td>\n",
       "    </tr>\n",
       "    <tr>\n",
       "      <th>aeternity</th>\n",
       "      <td>31</td>\n",
       "      <td>2.900562e+07</td>\n",
       "      <td>0.094887</td>\n",
       "      <td>AE</td>\n",
       "      <td>CuckooCycle</td>\n",
       "      <td>176.0000</td>\n",
       "      <td>3.018190e+07</td>\n",
       "      <td>1.714880e+05</td>\n",
       "      <td>182.655000</td>\n",
       "      <td>1.534000e-05</td>\n",
       "      <td>BTC</td>\n",
       "      <td>0</td>\n",
       "      <td>0</td>\n",
       "      <td>0</td>\n",
       "      <td>0.000000e+00</td>\n",
       "      <td>0.000000e+00</td>\n",
       "      <td>0.000000e+00</td>\n",
       "      <td>0.000000e+00</td>\n",
       "    </tr>\n",
       "    <tr>\n",
       "      <th>aion</th>\n",
       "      <td>32</td>\n",
       "      <td>2.292391e+07</td>\n",
       "      <td>0.057199</td>\n",
       "      <td>AION</td>\n",
       "      <td>Equihash (210,9)</td>\n",
       "      <td>11.0000</td>\n",
       "      <td>1.137227e+07</td>\n",
       "      <td>1.033842e+06</td>\n",
       "      <td>4.500000</td>\n",
       "      <td>9.300000e-06</td>\n",
       "      <td>BTC</td>\n",
       "      <td>0</td>\n",
       "      <td>0</td>\n",
       "      <td>0</td>\n",
       "      <td>0.000000e+00</td>\n",
       "      <td>0.000000e+00</td>\n",
       "      <td>0.000000e+00</td>\n",
       "      <td>0.000000e+00</td>\n",
       "    </tr>\n",
       "    <tr>\n",
       "      <th>beam</th>\n",
       "      <td>38</td>\n",
       "      <td>1.472928e+07</td>\n",
       "      <td>0.252683</td>\n",
       "      <td>BEAM</td>\n",
       "      <td>BeamHashII</td>\n",
       "      <td>60.0000</td>\n",
       "      <td>1.128382e+08</td>\n",
       "      <td>1.880636e+06</td>\n",
       "      <td>40.000000</td>\n",
       "      <td>4.086000e-05</td>\n",
       "      <td>BTC</td>\n",
       "      <td>0</td>\n",
       "      <td>0</td>\n",
       "      <td>0</td>\n",
       "      <td>0.000000e+00</td>\n",
       "      <td>0.000000e+00</td>\n",
       "      <td>0.000000e+00</td>\n",
       "      <td>0.000000e+00</td>\n",
       "    </tr>\n",
       "    <tr>\n",
       "      <th>vertcoin</th>\n",
       "      <td>43</td>\n",
       "      <td>1.051248e+07</td>\n",
       "      <td>0.194398</td>\n",
       "      <td>VTC</td>\n",
       "      <td>Lyra2REv3</td>\n",
       "      <td>145.0000</td>\n",
       "      <td>7.466100e+04</td>\n",
       "      <td>2.211493e+12</td>\n",
       "      <td>25.000000</td>\n",
       "      <td>3.058000e-05</td>\n",
       "      <td>BTC</td>\n",
       "      <td>0</td>\n",
       "      <td>0</td>\n",
       "      <td>0</td>\n",
       "      <td>0.000000e+00</td>\n",
       "      <td>0.000000e+00</td>\n",
       "      <td>0.000000e+00</td>\n",
       "      <td>0.000000e+00</td>\n",
       "    </tr>\n",
       "    <tr>\n",
       "      <th>groestlcoin</th>\n",
       "      <td>44</td>\n",
       "      <td>1.048345e+07</td>\n",
       "      <td>0.140284</td>\n",
       "      <td>GRS</td>\n",
       "      <td>Groestl</td>\n",
       "      <td>63.0000</td>\n",
       "      <td>1.466893e+06</td>\n",
       "      <td>1.000041e+14</td>\n",
       "      <td>5.000000</td>\n",
       "      <td>2.246000e-05</td>\n",
       "      <td>BTC</td>\n",
       "      <td>0</td>\n",
       "      <td>0</td>\n",
       "      <td>0</td>\n",
       "      <td>0.000000e+00</td>\n",
       "      <td>0.000000e+00</td>\n",
       "      <td>0.000000e+00</td>\n",
       "      <td>0.000000e+00</td>\n",
       "    </tr>\n",
       "    <tr>\n",
       "      <th>einsteinium</th>\n",
       "      <td>48</td>\n",
       "      <td>8.539788e+06</td>\n",
       "      <td>0.038890</td>\n",
       "      <td>EMC2</td>\n",
       "      <td>Scrypt</td>\n",
       "      <td>67.0000</td>\n",
       "      <td>5.229866e+02</td>\n",
       "      <td>3.352553e+10</td>\n",
       "      <td>1.950000</td>\n",
       "      <td>5.240000e-06</td>\n",
       "      <td>BTC</td>\n",
       "      <td>0</td>\n",
       "      <td>504000000</td>\n",
       "      <td>970</td>\n",
       "      <td>0.000000e+00</td>\n",
       "      <td>6.651890e+01</td>\n",
       "      <td>6.452333e+04</td>\n",
       "      <td>5.652244e+08</td>\n",
       "    </tr>\n",
       "    <tr>\n",
       "      <th>peercoin</th>\n",
       "      <td>67</td>\n",
       "      <td>4.132230e+06</td>\n",
       "      <td>0.158326</td>\n",
       "      <td>PPC</td>\n",
       "      <td>SHA-256</td>\n",
       "      <td>2700.0000</td>\n",
       "      <td>1.650690e+09</td>\n",
       "      <td>2.625800e+15</td>\n",
       "      <td>49.606684</td>\n",
       "      <td>2.631000e-05</td>\n",
       "      <td>BTC</td>\n",
       "      <td>0</td>\n",
       "      <td>16000000000000</td>\n",
       "      <td>1280</td>\n",
       "      <td>0.000000e+00</td>\n",
       "      <td>1.641125e+02</td>\n",
       "      <td>2.100640e+05</td>\n",
       "      <td>1.840160e+09</td>\n",
       "    </tr>\n",
       "    <tr>\n",
       "      <th>smartcash</th>\n",
       "      <td>72</td>\n",
       "      <td>3.477558e+06</td>\n",
       "      <td>0.002460</td>\n",
       "      <td>SMART</td>\n",
       "      <td>Keccak</td>\n",
       "      <td>55.0000</td>\n",
       "      <td>2.451599e+05</td>\n",
       "      <td>1.914461e+13</td>\n",
       "      <td>23.400346</td>\n",
       "      <td>3.937000e-07</td>\n",
       "      <td>BTC</td>\n",
       "      <td>0</td>\n",
       "      <td>0</td>\n",
       "      <td>0</td>\n",
       "      <td>0.000000e+00</td>\n",
       "      <td>0.000000e+00</td>\n",
       "      <td>0.000000e+00</td>\n",
       "      <td>0.000000e+00</td>\n",
       "    </tr>\n",
       "    <tr>\n",
       "      <th>litecoincash</th>\n",
       "      <td>77</td>\n",
       "      <td>2.905892e+06</td>\n",
       "      <td>0.004342</td>\n",
       "      <td>LCC</td>\n",
       "      <td>SHA-256</td>\n",
       "      <td>150.0000</td>\n",
       "      <td>2.290010e+08</td>\n",
       "      <td>6.557013e+15</td>\n",
       "      <td>125.000000</td>\n",
       "      <td>6.400000e-07</td>\n",
       "      <td>BTC</td>\n",
       "      <td>4294967296</td>\n",
       "      <td>16000000000000</td>\n",
       "      <td>1280</td>\n",
       "      <td>6.557013e+15</td>\n",
       "      <td>4.098133e+02</td>\n",
       "      <td>5.245611e+05</td>\n",
       "      <td>4.595155e+09</td>\n",
       "    </tr>\n",
       "    <tr>\n",
       "      <th>viacoin</th>\n",
       "      <td>80</td>\n",
       "      <td>2.618441e+06</td>\n",
       "      <td>0.113031</td>\n",
       "      <td>VIA</td>\n",
       "      <td>Scrypt</td>\n",
       "      <td>24.0000</td>\n",
       "      <td>2.900309e+05</td>\n",
       "      <td>5.190305e+13</td>\n",
       "      <td>0.625000</td>\n",
       "      <td>1.818000e-05</td>\n",
       "      <td>BTC</td>\n",
       "      <td>0</td>\n",
       "      <td>504000000</td>\n",
       "      <td>970</td>\n",
       "      <td>0.000000e+00</td>\n",
       "      <td>1.029822e+05</td>\n",
       "      <td>9.989277e+07</td>\n",
       "      <td>8.750606e+11</td>\n",
       "    </tr>\n",
       "    <tr>\n",
       "      <th>zel</th>\n",
       "      <td>84</td>\n",
       "      <td>2.494122e+06</td>\n",
       "      <td>0.025608</td>\n",
       "      <td>ZEL</td>\n",
       "      <td>ZelHash</td>\n",
       "      <td>120.0000</td>\n",
       "      <td>3.244005e+03</td>\n",
       "      <td>2.214570e+05</td>\n",
       "      <td>112.500000</td>\n",
       "      <td>4.130000e-06</td>\n",
       "      <td>BTC</td>\n",
       "      <td>0</td>\n",
       "      <td>0</td>\n",
       "      <td>0</td>\n",
       "      <td>0.000000e+00</td>\n",
       "      <td>0.000000e+00</td>\n",
       "      <td>0.000000e+00</td>\n",
       "      <td>0.000000e+00</td>\n",
       "    </tr>\n",
       "    <tr>\n",
       "      <th>gamecredits</th>\n",
       "      <td>86</td>\n",
       "      <td>2.456355e+06</td>\n",
       "      <td>0.035173</td>\n",
       "      <td>GAME</td>\n",
       "      <td>Scrypt</td>\n",
       "      <td>94.0000</td>\n",
       "      <td>2.165980e+03</td>\n",
       "      <td>9.896609e+10</td>\n",
       "      <td>6.250000</td>\n",
       "      <td>5.420000e-06</td>\n",
       "      <td>BTC</td>\n",
       "      <td>0</td>\n",
       "      <td>504000000</td>\n",
       "      <td>970</td>\n",
       "      <td>0.000000e+00</td>\n",
       "      <td>1.963613e+02</td>\n",
       "      <td>1.904704e+05</td>\n",
       "      <td>1.668521e+09</td>\n",
       "    </tr>\n",
       "    <tr>\n",
       "      <th>ubiq</th>\n",
       "      <td>90</td>\n",
       "      <td>2.312960e+06</td>\n",
       "      <td>0.054283</td>\n",
       "      <td>UBQ</td>\n",
       "      <td>Ubqhash</td>\n",
       "      <td>88.0000</td>\n",
       "      <td>4.109496e+12</td>\n",
       "      <td>4.669881e+10</td>\n",
       "      <td>5.000000</td>\n",
       "      <td>8.560000e-06</td>\n",
       "      <td>BTC</td>\n",
       "      <td>0</td>\n",
       "      <td>0</td>\n",
       "      <td>0</td>\n",
       "      <td>0.000000e+00</td>\n",
       "      <td>0.000000e+00</td>\n",
       "      <td>0.000000e+00</td>\n",
       "      <td>0.000000e+00</td>\n",
       "    </tr>\n",
       "    <tr>\n",
       "      <th>feathercoin</th>\n",
       "      <td>99</td>\n",
       "      <td>1.610462e+06</td>\n",
       "      <td>0.005909</td>\n",
       "      <td>FTC</td>\n",
       "      <td>NeoScrypt</td>\n",
       "      <td>62.0000</td>\n",
       "      <td>5.076236e+01</td>\n",
       "      <td>3.516495e+09</td>\n",
       "      <td>40.000000</td>\n",
       "      <td>9.200000e-07</td>\n",
       "      <td>BTC</td>\n",
       "      <td>0</td>\n",
       "      <td>0</td>\n",
       "      <td>0</td>\n",
       "      <td>0.000000e+00</td>\n",
       "      <td>0.000000e+00</td>\n",
       "      <td>0.000000e+00</td>\n",
       "      <td>0.000000e+00</td>\n",
       "    </tr>\n",
       "  </tbody>\n",
       "</table>\n",
       "</div>"
      ],
      "text/plain": [
       "                  #    market_cap        price    tag         algorithm  \\\n",
       "Name                                                                      \n",
       "bitcoin           1  1.126371e+11  6157.280000    BTC           SHA-256   \n",
       "ethereum          2  1.430239e+10   129.670000    ETH            Ethash   \n",
       "bitcoinsv         4  2.858476e+09   155.740000    BSV           SHA-256   \n",
       "litecoin          5  2.474367e+09    38.430000    LTC            Scrypt   \n",
       "monero            6  8.045231e+08    45.970000    XMR           RandomX   \n",
       "dash              9  6.036110e+08    64.170000   DASH               X11   \n",
       "ethereumclassic  10  5.829628e+08     5.010000    ETC            Ethash   \n",
       "zcash            11  2.870108e+08    29.890000    ZEC          Equihash   \n",
       "dogecoin         12  2.193462e+08     0.001770   DOGE            Scrypt   \n",
       "bitcoingold      13  1.227573e+08     7.010000    BTG             Zhash   \n",
       "decred           14  1.169334e+08    10.840000    DCR       Blake (14r)   \n",
       "ravencoin        16  8.328566e+07     0.014296    RVN            X16Rv2   \n",
       "bitcoindiamond   17  8.312065e+07     0.445704    BCD               BCD   \n",
       "monacoin         18  7.815104e+07     1.190000   MONA         Lyra2REv2   \n",
       "horizen          23  4.733527e+07     5.420000    ZEN          Equihash   \n",
       "komodo           26  4.065833e+07     0.341703    KMD          Equihash   \n",
       "bytecoin         29  3.582241e+07     0.000195    BCN       CryptoNight   \n",
       "zcoin            30  2.961671e+07     3.030000    XZC               MTP   \n",
       "aeternity        31  2.900562e+07     0.094887     AE       CuckooCycle   \n",
       "aion             32  2.292391e+07     0.057199   AION  Equihash (210,9)   \n",
       "beam             38  1.472928e+07     0.252683   BEAM        BeamHashII   \n",
       "vertcoin         43  1.051248e+07     0.194398    VTC         Lyra2REv3   \n",
       "groestlcoin      44  1.048345e+07     0.140284    GRS           Groestl   \n",
       "einsteinium      48  8.539788e+06     0.038890   EMC2            Scrypt   \n",
       "peercoin         67  4.132230e+06     0.158326    PPC           SHA-256   \n",
       "smartcash        72  3.477558e+06     0.002460  SMART            Keccak   \n",
       "litecoincash     77  2.905892e+06     0.004342    LCC           SHA-256   \n",
       "viacoin          80  2.618441e+06     0.113031    VIA            Scrypt   \n",
       "zel              84  2.494122e+06     0.025608    ZEL           ZelHash   \n",
       "gamecredits      86  2.456355e+06     0.035173   GAME            Scrypt   \n",
       "ubiq             90  2.312960e+06     0.054283    UBQ           Ubqhash   \n",
       "feathercoin      99  1.610462e+06     0.005909    FTC         NeoScrypt   \n",
       "\n",
       "                 block_time    difficulty  nethash_scraped  block_reward  \\\n",
       "Name                                                                       \n",
       "bitcoin            628.0000  1.391252e+13     9.514942e+19     12.681600   \n",
       "ethereum            13.2139  2.241400e+15     1.696244e+14      2.000000   \n",
       "bitcoinsv          585.0000  3.485503e+11     2.558995e+18     12.500000   \n",
       "litecoin           140.0000  4.894266e+06     1.501480e+14     12.500000   \n",
       "monero             110.0000  1.578298e+11     1.434817e+09      1.801793   \n",
       "dash               158.0000  1.529665e+08     4.158139e+15      1.553313   \n",
       "ethereumclassic     13.0344  1.307509e+14     1.003122e+13      3.104000   \n",
       "zcash               75.0000  4.411493e+07     4.818527e+09      5.000000   \n",
       "dogecoin            62.0000  2.369565e+06     1.641485e+14  10000.000000   \n",
       "bitcoingold        601.0000  1.430521e+05     1.949887e+06     12.500000   \n",
       "decred             308.0000  2.675994e+10     3.731593e+17      9.327206   \n",
       "ravencoin           59.0000  5.547804e+05     4.038582e+13   5000.000000   \n",
       "bitcoindiamond     566.0000  2.879540e+06     2.185076e+13    125.000000   \n",
       "monacoin            94.0000  4.135507e+06     1.889560e+14     25.000000   \n",
       "horizen            152.0000  1.179709e+07     6.358011e+08      7.500000   \n",
       "komodo              60.0000  2.168867e+08     5.783646e+07      3.000000   \n",
       "bytecoin           118.0000  2.465332e+10     2.089264e+08    340.439300   \n",
       "zcoin              304.0000  6.072043e+03     8.578693e+10     14.000000   \n",
       "aeternity          176.0000  3.018190e+07     1.714880e+05    182.655000   \n",
       "aion                11.0000  1.137227e+07     1.033842e+06      4.500000   \n",
       "beam                60.0000  1.128382e+08     1.880636e+06     40.000000   \n",
       "vertcoin           145.0000  7.466100e+04     2.211493e+12     25.000000   \n",
       "groestlcoin         63.0000  1.466893e+06     1.000041e+14      5.000000   \n",
       "einsteinium         67.0000  5.229866e+02     3.352553e+10      1.950000   \n",
       "peercoin          2700.0000  1.650690e+09     2.625800e+15     49.606684   \n",
       "smartcash           55.0000  2.451599e+05     1.914461e+13     23.400346   \n",
       "litecoincash       150.0000  2.290010e+08     6.557013e+15    125.000000   \n",
       "viacoin             24.0000  2.900309e+05     5.190305e+13      0.625000   \n",
       "zel                120.0000  3.244005e+03     2.214570e+05    112.500000   \n",
       "gamecredits         94.0000  2.165980e+03     9.896609e+10      6.250000   \n",
       "ubiq                88.0000  4.109496e+12     4.669881e+10      5.000000   \n",
       "feathercoin         62.0000  5.076236e+01     3.516495e+09     40.000000   \n",
       "\n",
       "                 exchange_rate exchange_rate_curr  difficulty_factor  \\\n",
       "Name                                                                   \n",
       "bitcoin           6.122690e+03                BTC         4294967296   \n",
       "ethereum          2.106649e-02                BTC                  1   \n",
       "bitcoinsv         2.532000e-02                BTC         4294967296   \n",
       "litecoin          6.252700e-03                BTC         4294967296   \n",
       "monero            7.469000e-03                BTC                  1   \n",
       "dash              1.045151e-02                BTC            1048576   \n",
       "ethereumclassic   8.164000e-04                BTC                  1   \n",
       "zcash             4.852330e-03                BTC               8192   \n",
       "dogecoin          2.887500e-07                BTC            1048576   \n",
       "bitcoingold       1.137400e-03                BTC                  0   \n",
       "decred            1.764830e-03                BTC                  0   \n",
       "ravencoin         2.330000e-06                BTC           16777216   \n",
       "bitcoindiamond    7.228000e-05                BTC                  0   \n",
       "monacoin          1.914800e-04                BTC         4294967296   \n",
       "horizen           8.710000e-04                BTC               8192   \n",
       "komodo            5.530000e-05                BTC                 16   \n",
       "bytecoin          3.203000e-08                BTC                  0   \n",
       "zcoin             4.867300e-04                BTC                  0   \n",
       "aeternity         1.534000e-05                BTC                  0   \n",
       "aion              9.300000e-06                BTC                  0   \n",
       "beam              4.086000e-05                BTC                  0   \n",
       "vertcoin          3.058000e-05                BTC                  0   \n",
       "groestlcoin       2.246000e-05                BTC                  0   \n",
       "einsteinium       5.240000e-06                BTC                  0   \n",
       "peercoin          2.631000e-05                BTC                  0   \n",
       "smartcash         3.937000e-07                BTC                  0   \n",
       "litecoincash      6.400000e-07                BTC         4294967296   \n",
       "viacoin           1.818000e-05                BTC                  0   \n",
       "zel               4.130000e-06                BTC                  0   \n",
       "gamecredits       5.420000e-06                BTC                  0   \n",
       "ubiq              8.560000e-06                BTC                  0   \n",
       "feathercoin       9.200000e-07                BTC                  0   \n",
       "\n",
       "                 hardware_hashrate  hardware_consumption  nethash_calc  \\\n",
       "Name                                                                     \n",
       "bitcoin             16000000000000                  1280  9.514942e+19   \n",
       "ethereum                 190000000                   800  1.696244e+14   \n",
       "bitcoinsv           16000000000000                  1280  2.558995e+18   \n",
       "litecoin                 504000000                   970  1.501480e+14   \n",
       "monero                           0                     0  1.434817e+09   \n",
       "dash                             0                     0  1.015171e+12   \n",
       "ethereumclassic          190000000                   800  1.003122e+13   \n",
       "zcash                        42000                   760  4.818527e+09   \n",
       "dogecoin                 504000000                   970  4.007531e+10   \n",
       "bitcoingold                      0                     0  0.000000e+00   \n",
       "decred                           0                     0  0.000000e+00   \n",
       "ravencoin                        0                     0  1.577571e+11   \n",
       "bitcoindiamond                   0                     0  0.000000e+00   \n",
       "monacoin                         0                     0  1.889560e+14   \n",
       "horizen                      42000                   760  6.358011e+08   \n",
       "komodo                       42000                   760  5.783646e+07   \n",
       "bytecoin                         0                     0  0.000000e+00   \n",
       "zcoin                            0                     0  0.000000e+00   \n",
       "aeternity                        0                     0  0.000000e+00   \n",
       "aion                             0                     0  0.000000e+00   \n",
       "beam                             0                     0  0.000000e+00   \n",
       "vertcoin                         0                     0  0.000000e+00   \n",
       "groestlcoin                      0                     0  0.000000e+00   \n",
       "einsteinium              504000000                   970  0.000000e+00   \n",
       "peercoin            16000000000000                  1280  0.000000e+00   \n",
       "smartcash                        0                     0  0.000000e+00   \n",
       "litecoincash        16000000000000                  1280  6.557013e+15   \n",
       "viacoin                  504000000                   970  0.000000e+00   \n",
       "zel                              0                     0  0.000000e+00   \n",
       "gamecredits              504000000                   970  0.000000e+00   \n",
       "ubiq                             0                     0  0.000000e+00   \n",
       "feathercoin                      0                     0  0.000000e+00   \n",
       "\n",
       "                 num_hardware  energy_per_second  annual_energy  \n",
       "Name                                                             \n",
       "bitcoin          5.946839e+06       7.611954e+09   6.668071e+13  \n",
       "ethereum         8.927599e+05       7.142079e+08   6.256462e+12  \n",
       "bitcoinsv        1.599372e+05       2.047196e+08   1.793344e+12  \n",
       "litecoin         2.979126e+05       2.889752e+08   2.531423e+12  \n",
       "monero           0.000000e+00       0.000000e+00   0.000000e+00  \n",
       "dash             0.000000e+00       0.000000e+00   0.000000e+00  \n",
       "ethereumclassic  5.279588e+04       4.223671e+07   3.699935e+11  \n",
       "zcash            1.147268e+05       8.719239e+07   7.638054e+11  \n",
       "dogecoin         7.951450e+01       7.712907e+04   6.756506e+08  \n",
       "bitcoingold      0.000000e+00       0.000000e+00   0.000000e+00  \n",
       "decred           0.000000e+00       0.000000e+00   0.000000e+00  \n",
       "ravencoin        0.000000e+00       0.000000e+00   0.000000e+00  \n",
       "bitcoindiamond   0.000000e+00       0.000000e+00   0.000000e+00  \n",
       "monacoin         0.000000e+00       0.000000e+00   0.000000e+00  \n",
       "horizen          1.513812e+04       1.150497e+07   1.007836e+11  \n",
       "komodo           1.377059e+03       1.046565e+06   9.167906e+09  \n",
       "bytecoin         0.000000e+00       0.000000e+00   0.000000e+00  \n",
       "zcoin            0.000000e+00       0.000000e+00   0.000000e+00  \n",
       "aeternity        0.000000e+00       0.000000e+00   0.000000e+00  \n",
       "aion             0.000000e+00       0.000000e+00   0.000000e+00  \n",
       "beam             0.000000e+00       0.000000e+00   0.000000e+00  \n",
       "vertcoin         0.000000e+00       0.000000e+00   0.000000e+00  \n",
       "groestlcoin      0.000000e+00       0.000000e+00   0.000000e+00  \n",
       "einsteinium      6.651890e+01       6.452333e+04   5.652244e+08  \n",
       "peercoin         1.641125e+02       2.100640e+05   1.840160e+09  \n",
       "smartcash        0.000000e+00       0.000000e+00   0.000000e+00  \n",
       "litecoincash     4.098133e+02       5.245611e+05   4.595155e+09  \n",
       "viacoin          1.029822e+05       9.989277e+07   8.750606e+11  \n",
       "zel              0.000000e+00       0.000000e+00   0.000000e+00  \n",
       "gamecredits      1.963613e+02       1.904704e+05   1.668521e+09  \n",
       "ubiq             0.000000e+00       0.000000e+00   0.000000e+00  \n",
       "feathercoin      0.000000e+00       0.000000e+00   0.000000e+00  "
      ]
     },
     "execution_count": 56,
     "metadata": {},
     "output_type": "execute_result"
    }
   ],
   "source": [
    "found_data['nethash_calc'] = found_data['difficulty']*found_data['difficulty_factor']/found_data['block_time'] # amount of hashes per second\n",
    "found_data['num_hardware'] = found_data.apply(lambda x: calc_num_hardware(x),axis=1)\n",
    "found_data['energy_per_second'] = found_data['num_hardware']*found_data['hardware_consumption'] # in Watt\n",
    "found_data['annual_energy'] = found_data['energy_per_second']*8760 # hours in a year\n",
    "found_data"
   ]
  },
  {
   "cell_type": "code",
   "execution_count": 57,
   "metadata": {},
   "outputs": [
    {
     "name": "stdout",
     "output_type": "stream",
     "text": [
      "\\begin{tabular}{lrlr}\n",
      "\\toprule\n",
      "{} &   \\# &  algorithm &  difficulty\\_factor \\\\\n",
      "Name            &     &            &                    \\\\\n",
      "\\midrule\n",
      "bitcoin         &   1 &    SHA-256 &         4294967296 \\\\\n",
      "ethereum        &   2 &     Ethash &                  1 \\\\\n",
      "bitcoinsv       &   4 &    SHA-256 &         4294967296 \\\\\n",
      "litecoin        &   5 &     Scrypt &         4294967296 \\\\\n",
      "monero          &   6 &    RandomX &                  1 \\\\\n",
      "dash            &   9 &        X11 &            1048576 \\\\\n",
      "ethereumclassic &  10 &     Ethash &                  1 \\\\\n",
      "zcash           &  11 &   Equihash &               8192 \\\\\n",
      "dogecoin        &  12 &     Scrypt &            1048576 \\\\\n",
      "ravencoin       &  16 &     X16Rv2 &           16777216 \\\\\n",
      "monacoin        &  18 &  Lyra2REv2 &         4294967296 \\\\\n",
      "horizen         &  23 &   Equihash &               8192 \\\\\n",
      "komodo          &  26 &   Equihash &                 16 \\\\\n",
      "litecoincash    &  77 &    SHA-256 &         4294967296 \\\\\n",
      "\\bottomrule\n",
      "\\end{tabular}\n",
      "\n"
     ]
    }
   ],
   "source": [
    "found_data_difficulty = found_data[found_data['difficulty_factor'] != 0]\n",
    "print(found_data_difficulty[[\"#\", \"algorithm\", \"difficulty_factor\"]].to_latex())"
   ]
  },
  {
   "cell_type": "code",
   "execution_count": null,
   "metadata": {},
   "outputs": [],
   "source": []
  },
  {
   "cell_type": "code",
   "execution_count": null,
   "metadata": {},
   "outputs": [],
   "source": []
  },
  {
   "cell_type": "code",
   "execution_count": 58,
   "metadata": {},
   "outputs": [
    {
     "data": {
      "text/plain": [
       "79.39009751714966"
      ]
     },
     "execution_count": 58,
     "metadata": {},
     "output_type": "execute_result"
    }
   ],
   "source": [
    "total_energy_crypto = np.sum(found_data['annual_energy'])\n",
    "total_energy_crypto_TWh = total_energy_crypto/10**12\n",
    "total_energy_crypto_TWh"
   ]
  },
  {
   "cell_type": "code",
   "execution_count": 59,
   "metadata": {},
   "outputs": [],
   "source": [
    "total_energy_world_TWh = 19504 # TWh "
   ]
  },
  {
   "cell_type": "code",
   "execution_count": 60,
   "metadata": {},
   "outputs": [
    {
     "data": {
      "text/plain": [
       "0.004070452087630725"
      ]
     },
     "execution_count": 60,
     "metadata": {},
     "output_type": "execute_result"
    }
   ],
   "source": [
    "total_energy_crypto_TWh/total_energy_world_TWh"
   ]
  },
  {
   "cell_type": "markdown",
   "metadata": {},
   "source": [
    "0.4% of global electricity"
   ]
  },
  {
   "cell_type": "markdown",
   "metadata": {},
   "source": [
    "## Results function"
   ]
  },
  {
   "cell_type": "markdown",
   "metadata": {},
   "source": [
    "dates = []\n",
    "hardware_bounds = {'upper': [], 'lower': [], 'estimate': [], 'market_cap': []}\n",
    "revenue_bounds = {'upper': [], 'estimate': []}\n",
    "\n",
    "# Used to check hypothesis and extrapollation\n",
    "market_cap_hardware = pd.DataFrame()\n",
    "coin_energy = pd.DataFrame()\n",
    "market_caps_total = []\n",
    "\n",
    "for file in os.listdir(HIST_PATH):\n",
    "    data = pd.read_csv(HIST_PATH+file)\n",
    "    data = clean_mineable_data(data)\n",
    "\n",
    "    # Get the dates in a list\n",
    "    date = datetime.strptime(file[13:23], '%m-%d-%Y')\n",
    "    dates.append(date)\n",
    "    \n",
    "    # Get hardware bounds\n",
    "    bounds = hardware_based_estimation(data)\n",
    "    # Add bound per coin per day\n",
    "    coin_energy[date] = bounds['estimate']*ESTIMATE_PUE\n",
    "    \n",
    "    # Get bounds for all coins\n",
    "    hardware_bounds = calc_hardware_bounds(bounds, hardware_bounds)\n",
    "    \n",
    "    # Get market cap of the used data\n",
    "    market_cap_hardware[date] = bounds['market_cap']\n",
    "        \n",
    "    # Get revenue bounds\n",
    "    revenue_bounds = calc_revenue_bounds(data,revenue_bounds)\n",
    "    \n",
    "    # Get total market cap of data\n",
    "    market_caps_total.append(np.sum(data['market_cap']))"
   ]
  },
  {
   "cell_type": "markdown",
   "metadata": {},
   "source": [
    "## Extrapolation"
   ]
  },
  {
   "cell_type": "code",
   "execution_count": 61,
   "metadata": {},
   "outputs": [
    {
     "name": "stdout",
     "output_type": "stream",
     "text": [
      "The manual data represents 95.0% of the market cap of the top 100, and 72.5% of the total market cap\n"
     ]
    }
   ],
   "source": [
    "found_data_energy = found_data[found_data['annual_energy'] != 0]\n",
    "found_manual_market_cap = found_missing_difficulty['market_cap'].sum()\n",
    "print(f'The manual data represents {round(found_manual_market_cap/top100_market_cap,3)*100}% of the market cap of the top 100, and {round(found_manual_market_cap/total_market_cap,3)*100}% of the total market cap')"
   ]
  },
  {
   "cell_type": "markdown",
   "metadata": {},
   "source": [
    "Looking up all the other initial difficulties (~15 more coins) would only gain us an additional 0.4% of the total market cap"
   ]
  },
  {
   "cell_type": "code",
   "execution_count": 62,
   "metadata": {},
   "outputs": [
    {
     "data": {
      "image/png": "[encoded data removed]",
      "text/plain": [
       "<Figure size 432x288 with 1 Axes>"
      ]
     },
     "metadata": {
      "needs_background": "light"
     },
     "output_type": "display_data"
    }
   ],
   "source": [
    "# Which ranks of the market cap are represented?\n",
    "found_data[found_data['difficulty_factor'] != 0]['#'].hist(bins=10)\n",
    "plt.show()"
   ]
  },
  {
   "cell_type": "code",
   "execution_count": 63,
   "metadata": {},
   "outputs": [
    {
     "data": {
      "image/png": "[encoded data removed]",
      "text/plain": [
       "<Figure size 432x288 with 1 Axes>"
      ]
     },
     "metadata": {
      "needs_background": "light"
     },
     "output_type": "display_data"
    }
   ],
   "source": [
    "found_data_energy['annual_energy'].plot(kind='bar')\n",
    "plt.yscale('log')\n",
    "plt.xticks(rotation=45)\n",
    "plt.ylabel('annual energy consumption (in Wh)')\n",
    "plt.xlabel('coin')\n",
    "plt.title('Annual energy consumption of different cryptocurrencies')\n",
    "plt.show()"
   ]
  },
  {
   "cell_type": "code",
   "execution_count": 64,
   "metadata": {},
   "outputs": [
    {
     "data": {
      "image/png": "[encoded data removed]",
      "text/plain": [
       "<Figure size 432x288 with 1 Axes>"
      ]
     },
     "metadata": {
      "needs_background": "light"
     },
     "output_type": "display_data"
    }
   ],
   "source": [
    "plt.scatter(found_data_energy['market_cap'],found_data_energy['annual_energy'])\n",
    "plt.yscale('log')\n",
    "plt.ylabel('annual energy consumption (Wh)')\n",
    "plt.xscale('log')\n",
    "plt.xlabel('market cap ($)')\n",
    "plt.xticks(rotation=45)\n",
    "plt.title('Annual energy consumption vs market cap of cryptocurrencies')\n",
    "plt.show()"
   ]
  },
  {
   "cell_type": "markdown",
   "metadata": {},
   "source": [
    "Linear correlation between market cap and energy consumption with some outliers (e.g. Dogecoin, which uses auxilary POW with litecoin"
   ]
  },
  {
   "cell_type": "code",
   "execution_count": 65,
   "metadata": {},
   "outputs": [],
   "source": [
    "nethash_calc = found_data[found_data['nethash_calc'] != 0].sort_values(by='algorithm')"
   ]
  },
  {
   "cell_type": "code",
   "execution_count": 66,
   "metadata": {},
   "outputs": [
    {
     "data": {
      "image/png": "[encoded data removed]",
      "text/plain": [
       "<Figure size 432x288 with 1 Axes>"
      ]
     },
     "metadata": {
      "needs_background": "light"
     },
     "output_type": "display_data"
    }
   ],
   "source": [
    "cdict= {'Equihash':'blue', 'Ethash':'grey','Lyra2REv2':'green','RandomX':'black','SHA-256':'red','Scrypt':'orange','X11':'lightgreen','X16Rv2':'purple'}\n",
    "cmap = nethash_calc['algorithm'].apply(lambda x: cdict[x])\n",
    "plt.scatter(nethash_calc['market_cap'],nethash_calc['nethash_calc'],c=cmap,label=nethash_calc['algorithm'])\n",
    "plt.yscale('log')\n",
    "plt.ylabel('nethash calculated')\n",
    "plt.xscale('log')\n",
    "plt.xlabel('market cap ($)')\n",
    "plt.xticks(rotation=45)\n",
    "plt.title('Nethash calculated vs market cap of cryptocurrencies')\n",
    "plt.show()"
   ]
  }
 ],
 "metadata": {
  "kernelspec": {
   "display_name": "Python 3",
   "language": "python",
   "name": "python3"
  },
  "language_info": {
   "codemirror_mode": {
    "name": "ipython",
    "version": 3
   },
   "file_extension": ".py",
   "mimetype": "text/x-python",
   "name": "python",
   "nbconvert_exporter": "python",
   "pygments_lexer": "ipython3",
   "version": "3.8.1"
  },
  "toc-autonumbering": true,
  "toc-showcode": false,
  "toc-showmarkdowntxt": false,
  "toc-showtags": false
 },
 "nbformat": 4,
 "nbformat_minor": 4
}
