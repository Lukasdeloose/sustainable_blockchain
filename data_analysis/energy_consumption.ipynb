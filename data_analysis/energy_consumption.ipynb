{
 "cells": [
  {
   "cell_type": "markdown",
   "metadata": {},
   "source": [
    "# Introduction"
   ]
  },
  {
   "cell_type": "markdown",
   "metadata": {},
   "source": [
    "In this notebook, the estimates for the energy consumption of the top 100 mineable cryptocurrencies is calculated. \n",
    "In the first section, a hardware based estimation is made. Secondly, a revenue based is made. \n",
    "After this, we take a look at the electronic waste by mining. Finally, we investigate the results and check for inter-and extrapollation."
   ]
  },
  {
   "cell_type": "code",
   "execution_count": 1,
   "metadata": {},
   "outputs": [],
   "source": [
    "# Import libraries\n",
    "import os\n",
    "import json\n",
    "import pandas as pd\n",
    "import numpy as np\n",
    "import matplotlib.pyplot as plt\n",
    "import urllib.request\n",
    "from ipywidgets import *\n",
    "from datetime import datetime"
   ]
  },
  {
   "cell_type": "code",
   "execution_count": 2,
   "metadata": {},
   "outputs": [],
   "source": [
    "DATA_PATH = 'data/'\n",
    "HIST_PATH = DATA_PATH + 'hist/'\n",
    "HARDWARE_PATH = DATA_PATH+'hardware/'"
   ]
  },
  {
   "cell_type": "code",
   "execution_count": 3,
   "metadata": {},
   "outputs": [],
   "source": [
    "# Clean market cap and price\n",
    "def clean_int(string):\n",
    "    return float(string.strip('$').replace(',',''))\n",
    "\n",
    "def clean_mineable_data(data):\n",
    "    data = data.set_index('Name')\n",
    "    data['market_cap'] = data['market_cap'].apply(lambda x:clean_int(x))    \n",
    "    data['price'] = data['price'].apply(lambda x:clean_int(x))\n",
    "    return data"
   ]
  },
  {
   "cell_type": "code",
   "execution_count": 4,
   "metadata": {},
   "outputs": [],
   "source": [
    "# Read in data\n",
    "dates = []\n",
    "data_hist = []\n",
    "for file in os.listdir(HIST_PATH):\n",
    "    # Load the daily data in a list\n",
    "    data_day = pd.read_csv(HIST_PATH+file)\n",
    "    data_day = clean_mineable_data(data_day)\n",
    "    data_hist.append(data_day)\n",
    "\n",
    "    # Get the dates in a list\n",
    "    date = datetime.strptime(file[13:23], '%m-%d-%Y')\n",
    "    dates.append(date)"
   ]
  },
  {
   "cell_type": "code",
   "execution_count": 5,
   "metadata": {},
   "outputs": [],
   "source": [
    "mineable_100 = pd.read_csv(HIST_PATH+'mineable_100_04-24-2020.csv')\n",
    "mineable_100 = clean_mineable_data(mineable_100)\n",
    "found_data = mineable_100[~mineable_100.isnull().any(axis=1)].copy()"
   ]
  },
  {
   "cell_type": "markdown",
   "metadata": {},
   "source": [
    "## Parameters"
   ]
  },
  {
   "cell_type": "code",
   "execution_count": 6,
   "metadata": {},
   "outputs": [],
   "source": [
    "seconds_in_year = 31536000\n",
    "hours_in_year = 8760\n",
    "kWh_to_J = 3600*10**3\n",
    "W_to_TWh = hours_in_year/(10**12)\n",
    "\n",
    "std_PUE = {'lower': 1, 'estimate': 1.1, 'upper':1.2}\n",
    "revenue_percent = 0.60"
   ]
  },
  {
   "cell_type": "markdown",
   "metadata": {
    "toc-hr-collapsed": true
   },
   "source": [
    "## Geography "
   ]
  },
  {
   "cell_type": "markdown",
   "metadata": {},
   "source": [
    "### Coinshares"
   ]
  },
  {
   "cell_type": "code",
   "execution_count": 7,
   "metadata": {},
   "outputs": [],
   "source": [
    "# https://www.china-briefing.com/news/china-electricity-prices-industrial-consumers/\n",
    "# Sichian probably goes lower in wet season -> https://news.8btc.com/price-war-start-against-mining-operators-in-sichuan-as-supply-far-exceeds-demand\n",
    "# America: https://www.statista.com/statistics/190680/us-industrial-consumer-price-estimates-for-retail-electricity-since-1970/\n",
    "data = {'location': ['Sichuan', 'China', 'Non-China', 'Other'],\n",
    "        'share': [0.54,0.11,0.31,0.04],\n",
    "        'normal_price': [0.074, 0.084, 0.061, 0.084], # World average for non-china\n",
    "        'min_price': [0.035, 0.084, 0.061, 0.084], # American price for non-china\n",
    "        'renewable': [0,0,0,0]}"
   ]
  },
  {
   "cell_type": "code",
   "execution_count": 8,
   "metadata": {},
   "outputs": [],
   "source": [
    "geography = pd.DataFrame(data)\n",
    "avg_electricity_price = np.sum(geography.share*geography.normal_price)/kWh_to_J # in $/J\n",
    "min_electricity_price = np.sum(geography.share*geography.min_price)/kWh_to_J"
   ]
  },
  {
   "cell_type": "code",
   "execution_count": 9,
   "metadata": {},
   "outputs": [
    {
     "data": {
      "text/plain": [
       "1.985277777777778e-08"
      ]
     },
     "execution_count": 9,
     "metadata": {},
     "output_type": "execute_result"
    }
   ],
   "source": [
    "avg_electricity_price"
   ]
  },
  {
   "cell_type": "code",
   "execution_count": 10,
   "metadata": {},
   "outputs": [],
   "source": [
    "#print(geography.set_index('location', drop=True).to_latex())"
   ]
  },
  {
   "cell_type": "markdown",
   "metadata": {
    "toc-hr-collapsed": false
   },
   "source": [
    "# Hardware based estimation"
   ]
  },
  {
   "cell_type": "markdown",
   "metadata": {},
   "source": [
    "In this section we make a first estimation based on the most efficient hardware (found online)"
   ]
  },
  {
   "cell_type": "markdown",
   "metadata": {},
   "source": [
    "## Historical"
   ]
  },
  {
   "cell_type": "code",
   "execution_count": 11,
   "metadata": {},
   "outputs": [],
   "source": [
    "# Bitcoin forks have the same initial difficulty\n",
    "bitcoin_forks = ['bitcoin', 'bitcoincash','bitcoinsv', 'litecoincash']"
   ]
  },
  {
   "cell_type": "code",
   "execution_count": 12,
   "metadata": {},
   "outputs": [],
   "source": [
    "def hardware_based_estimation(data, PUE_dict = std_PUE, moving_avg_difficulty = 7, moving_avg_price=7, growth_factor=1, estimates=False, PUE_fix = False):\n",
    "    \"\"\"\n",
    "    Function that calculates upper bound, lower bound, estimate and market cap for all data.\n",
    "    Returns a list, each entry is the bounds for one day\n",
    "    \"\"\"\n",
    "    bounds = []\n",
    "    difficulties = pd.DataFrame()\n",
    "    prices = pd.DataFrame()\n",
    "    for i in range(len(data)):\n",
    "        data_day = data[i]\n",
    "        result = pd.DataFrame()\n",
    "        found_data = data_day[~data_day.isnull().any(axis=1)].copy()\n",
    "        \n",
    "        # Fill in original difficulties\n",
    "        found_data['difficulty_factor'] = found_data.apply(lambda x: difficulty_factor(x), axis=1)\n",
    "        found_missing_difficulty = found_data[found_data['difficulty_factor']!=0].copy()\n",
    "\n",
    "        # Calculate moving avg of difficulty\n",
    "        difficulties[i] = found_missing_difficulty['difficulty']\n",
    "        found_missing_difficulty['difficulty_MA'] = difficulties[range(max(i-moving_avg_difficulty+1,0),i+1)].mean(axis=1)\n",
    "    \n",
    "        # Calculate moving avg of price\n",
    "        prices[i] = found_missing_difficulty['price']*growth_factor\n",
    "        found_missing_difficulty['price_MA'] = prices[range(max(i-moving_avg_price+1,0),i+1)].mean(axis=1)\n",
    "\n",
    "        # Calculate nethash\n",
    "        found_missing_difficulty['nethash_calc'] = found_missing_difficulty['difficulty_MA']*found_missing_difficulty['difficulty_factor']/found_missing_difficulty['block_time'] # amount of hashes per second\n",
    "\n",
    "        # Create dictionairy that maps coins to their profitable hardware\n",
    "        lower_prof_hardware = dict(found_missing_difficulty.apply(lambda x: create_profitable_set(x, PUE_dict,\"lower\",PUE_fix), axis = 1))\n",
    "        upper_prof_hardware = dict(found_missing_difficulty.apply(lambda x: create_profitable_set(x, PUE_dict,\"upper\",PUE_fix), axis = 1))\n",
    "        estimate_prof_hardware = dict(found_missing_difficulty.apply(lambda x: create_profitable_set(x, PUE_dict,\"estimate\",PUE_fix), axis = 1))\n",
    "                \n",
    "        # Calculate estimates\n",
    "        result['lower_bound'] = found_missing_difficulty.apply(lambda x: calc_bound(x, lower_prof_hardware, True),axis=1)\n",
    "        result['upper_bound'] = found_missing_difficulty.apply(lambda x: calc_bound(x, upper_prof_hardware, False),axis=1)\n",
    "        result['estimate'] = found_missing_difficulty.apply(lambda x: calc_estimate(x, estimate_prof_hardware),axis=1)\n",
    "        result['market_cap'] = found_missing_difficulty['market_cap']\n",
    "        \n",
    "        if estimates:\n",
    "            result['estimate_weighted'] = found_missing_difficulty.apply(lambda x: calc_estimate_weighted(x, estimate_prof_hardware),axis=1)\n",
    "            result['estimate_breakeven'] = found_missing_difficulty.apply(lambda x: calc_estimate_breakeven(x, estimate_prof_hardware),axis=1)\n",
    "             \n",
    "        result = result[result['estimate'] != 0]\n",
    "        \n",
    "        bounds.append(result.copy())\n",
    "    \n",
    "    return bounds"
   ]
  },
  {
   "cell_type": "code",
   "execution_count": 13,
   "metadata": {},
   "outputs": [],
   "source": [
    "# Functions to go from the nBits to the first hashrate\n",
    "def hex_to_bits(hex_number):\n",
    "    if int(hex_number,16) >= 8:\n",
    "        return 0\n",
    "    elif int(hex_number,16) >= 4:\n",
    "        return 1\n",
    "    elif int(hex_number,16) >= 2:\n",
    "        return 2\n",
    "    elif int(hex_number,16) == 1:\n",
    "        return 3\n",
    "    else:\n",
    "        return 4\n",
    "        \n",
    "def nBits_to_factor(nBits):\n",
    "    if nBits[:2] != \"0x\":\n",
    "        raise Exception(\"Wrong format, provide hexadecimal number\")\n",
    "    exp = 8*(int(nBits[:4],16)-3)\n",
    "    mantisse = nBits[4:]\n",
    "    i=0\n",
    "    extra_0 = 0\n",
    "    while hex_to_bits(mantisse[i]) == 4:\n",
    "        extra_0 += 4\n",
    "        i += 1\n",
    "    extra_0 += hex_to_bits(mantisse[i])\n",
    "    return 256-exp-4*len(mantisse)+extra_0"
   ]
  },
  {
   "cell_type": "code",
   "execution_count": 14,
   "metadata": {},
   "outputs": [],
   "source": [
    "def difficulty_factor(coin):\n",
    "    \"\"\"\n",
    "    Enter the difficulty factors used to calculate current hashrate. \n",
    "    These values where all found by exploring the first block, documentation or source code. \n",
    "    References are kept in separate excell sheet\n",
    "    \"\"\"\n",
    "    if coin.name in bitcoin_forks:\n",
    "        return 2**32\n",
    "    if coin.name == 'zcash':\n",
    "        return 2**13\n",
    "    if coin.name == 'litecoin' or coin.name == 'monacoin':\n",
    "        return 2**32\n",
    "    if coin.name == 'ethereum' or coin.name == 'ethereumclassic':\n",
    "        return 1\n",
    "    if coin.name == 'monero':\n",
    "        return 1 # https://github.com/monero-project/monero/blob/36241552b56b156c08319935baf7afda12deb3c5/src/cryptonote_basic/difficulty.h\n",
    "    if coin.name == 'dash' or coin.name == 'dogecoin':\n",
    "        return 2**20\n",
    "    if coin.name == 'ravencoin':\n",
    "        return 2**24\n",
    "    if coin.name == 'horizen':\n",
    "        return 2**nBits_to_factor(\"0x1f07ffff\")\n",
    "    if coin.name == 'komodo':\n",
    "        return 2**nBits_to_factor(\"0x200f0f0f\")\n",
    "    else:\n",
    "        return 0"
   ]
  },
  {
   "cell_type": "markdown",
   "metadata": {
    "toc-hr-collapsed": false
   },
   "source": [
    "## Hardware profitability threshold"
   ]
  },
  {
   "cell_type": "markdown",
   "metadata": {},
   "source": [
    "Here we make our estimation more accurate by investigating entire hardware datasets (created in hardware.ipynb)."
   ]
  },
  {
   "cell_type": "code",
   "execution_count": 15,
   "metadata": {},
   "outputs": [],
   "source": [
    "SHA256_hardware = pd.read_csv(HARDWARE_PATH+'SHA256_hardware_clean.csv',index_col=0)\n",
    "ethash_hardware = pd.read_csv(HARDWARE_PATH+'ethash_hardware_clean.csv',index_col=0)\n",
    "equihash_hardware = pd.read_csv(HARDWARE_PATH+'equihash_hardware_clean.csv',index_col=0)\n",
    "scrypt_hardware = pd.read_csv(HARDWARE_PATH+'scrypt_hardware_clean.csv',index_col=0)\n",
    "\n",
    "# Create dict of algorithms with their hardware\n",
    "algorithm_hardware = {'SHA-256':SHA256_hardware,'Ethash':ethash_hardware, 'Equihash':equihash_hardware, 'Scrypt':scrypt_hardware}"
   ]
  },
  {
   "cell_type": "code",
   "execution_count": 16,
   "metadata": {},
   "outputs": [],
   "source": [
    "def calc_profitability_threshold(coin, PUE=1, elec_price = avg_electricity_price):\n",
    "    if 'price_MA' in coin:\n",
    "        reward_per_sec = coin['price_MA']*coin['block_reward']/coin['block_time']\n",
    "    else:\n",
    "        reward_per_sec = coin['price']*coin['block_reward']/coin['block_time']\n",
    "    rev = reward_per_sec/coin['nethash_calc'] #$/h\n",
    "    cost = elec_price\n",
    "    return rev/(cost*PUE)\n",
    "\n",
    "def is_profitable(coin, hardware, PUE=1, elec_price = avg_electricity_price):\n",
    "    profitability_threshold = calc_profitability_threshold(coin, PUE, elec_price)\n",
    "    # consumption is J/h, if smaller, more efficient\n",
    "    if hardware['consumption'] < profitability_threshold:\n",
    "        return True\n",
    "    else:\n",
    "        return False"
   ]
  },
  {
   "cell_type": "code",
   "execution_count": 17,
   "metadata": {},
   "outputs": [],
   "source": [
    "def create_profitable_set(coin, PUE_dict, bound, PUE_fix):\n",
    "    if coin.algorithm in algorithm_hardware:\n",
    "        hardware = algorithm_hardware[coin.algorithm]\n",
    "        if bound == \"lower\":\n",
    "            prof_hardware = hardware[hardware.apply(lambda x: is_profitable(coin,x, PUE_dict['lower']),axis=1)]\n",
    "        elif bound == \"UPPER\":\n",
    "            prof_hardware = hardware[hardware.apply(lambda x: is_profitable(coin,x, PUE_dict['upper'], min_electricity_price),axis=1)]\n",
    "        else:\n",
    "            prof_hardware = hardware[hardware.apply(lambda x: is_profitable(coin,x, PUE_dict['estimate']),axis=1)]\n",
    "        if prof_hardware.empty and PUE_fix:\n",
    "            prof_hardware = hardware[hardware.consumption == hardware.consumption.min()]\n",
    "        return prof_hardware\n",
    "    return pd.DataFrame()"
   ]
  },
  {
   "cell_type": "markdown",
   "metadata": {
    "toc-hr-collapsed": true
   },
   "source": [
    "## Results"
   ]
  },
  {
   "cell_type": "markdown",
   "metadata": {},
   "source": [
    "### bounds"
   ]
  },
  {
   "cell_type": "code",
   "execution_count": 18,
   "metadata": {},
   "outputs": [],
   "source": [
    "def calc_bound(coin, coin_prof_hardware_dict, lower):\n",
    "    \"\"\"\n",
    "    Returns a lower or upper bound on the electricity consumption of cryptocoins in W\n",
    "    To put Wh per year, multiply by hours_in_year\n",
    "    \"\"\"\n",
    "    if coin.name not in coin_prof_hardware_dict:\n",
    "        #print(f\"Error, no hardware for {coin.name}\")\n",
    "        return 0\n",
    "    if coin_prof_hardware_dict[coin.name].empty:\n",
    "        #print(f\"Error, no profitable hardware for {coin.name}\")\n",
    "        return 0\n",
    "    hardware = coin_prof_hardware_dict[coin.name].sort_values(by='consumption', ascending=lower).iloc[0]\n",
    "    electricity_consumption = hardware['consumption']*coin['nethash_calc']\n",
    "    return electricity_consumption"
   ]
  },
  {
   "cell_type": "markdown",
   "metadata": {},
   "source": [
    "### Estimate"
   ]
  },
  {
   "cell_type": "code",
   "execution_count": 19,
   "metadata": {},
   "outputs": [],
   "source": [
    "def calc_estimate(coin, coin_prof_hardware_dict):\n",
    "    \"\"\"\n",
    "    Returns an on the electricity consumption of cryptocoins in W\n",
    "    To put Wh per year, multiply by hours_in_year\n",
    "    \"\"\"\n",
    "    if coin.name not in coin_prof_hardware_dict:\n",
    "        #print(f\"Error, no hardware for {coin.name}\")\n",
    "        return 0\n",
    "    if coin_prof_hardware_dict[coin.name].empty:\n",
    "        #print(f\"Error, no profitable hardware for {coin.name}\")\n",
    "        return 0\n",
    "    prof_hardware = coin_prof_hardware_dict[coin.name]\n",
    "    num_prof_hardware = prof_hardware.shape[0]\n",
    "    hashrate_part = coin['nethash_calc']/num_prof_hardware\n",
    "    \n",
    "    electricity_consumption = prof_hardware['consumption']*hashrate_part\n",
    "    \n",
    "    return np.sum(electricity_consumption)  "
   ]
  },
  {
   "cell_type": "markdown",
   "metadata": {},
   "source": [
    "## Manual investigation"
   ]
  },
  {
   "cell_type": "code",
   "execution_count": 21,
   "metadata": {},
   "outputs": [],
   "source": [
    "# All profitable hardware\n",
    "bitcoin_profitable = set()\n",
    "ethereum_profitable = set()\n",
    "for data_day in data_hist:\n",
    "    found_data = data_day[~data_day.isnull().any(axis=1)].copy()\n",
    "    # Fill in original difficulties\n",
    "    found_data['difficulty_factor'] = found_data.apply(lambda x: difficulty_factor(x), axis=1)\n",
    "    found_missing_difficulty = found_data[found_data['difficulty_factor']!=0].copy()\n",
    "    # Calculate nethash\n",
    "    found_missing_difficulty['nethash_calc'] = found_missing_difficulty['difficulty']*found_missing_difficulty['difficulty_factor']/found_missing_difficulty['block_time'] # amount of hashes per second\n",
    "    \n",
    "    prof_hardware_bitcoin = create_profitable_set(found_missing_difficulty.loc['bitcoin'], std_PUE, 'estimate', False)\n",
    "    prof_hardware_ethereum = create_profitable_set(found_missing_difficulty.loc['ethereum'], std_PUE, 'estimate', False)\n",
    "    \n",
    "    bitcoin_profitable = bitcoin_profitable | set(prof_hardware_bitcoin['name'])\n",
    "    ethereum_profitable = ethereum_profitable | set(prof_hardware_ethereum['name'])"
   ]
  },
  {
   "cell_type": "code",
   "execution_count": 22,
   "metadata": {},
   "outputs": [],
   "source": [
    "pd.DataFrame(list(bitcoin_profitable), columns=['name']).to_csv('bitcoin_prof_hardware.csv', encoding='utf-16')\n",
    "pd.DataFrame(list(ethereum_profitable), columns=['name']).to_csv('ethereum_prof_hardware.csv', encoding='utf-16')"
   ]
  },
  {
   "cell_type": "markdown",
   "metadata": {},
   "source": [
    "# Revenue based estimation"
   ]
  },
  {
   "cell_type": "markdown",
   "metadata": {},
   "source": [
    "Here we calculate an upper bound and estimate, assuming all revenues are used to cover the electricity costs\n",
    "Upper bound: use minimum electricity cost (wet-season)\n",
    "Estimate: use avg electricity cost"
   ]
  },
  {
   "cell_type": "code",
   "execution_count": 23,
   "metadata": {},
   "outputs": [],
   "source": [
    "def revenue_based_estimation(data):\n",
    "    \"\"\" \n",
    "    Returns the electricity use (in Watts) if 100% of revenues are used for electricity costs\n",
    "    \"\"\"\n",
    "    bounds = []\n",
    "    for data_daily in data:\n",
    "        revenue_data = data_daily[['#', 'market_cap', 'price', 'block_time', 'block_reward']]\n",
    "        revenue_data = revenue_data[~revenue_data.isnull().any(axis=1)].copy()\n",
    "        revenue_data['revenue_per_sec'] = revenue_data['price']*revenue_data['block_reward']/revenue_data['block_time']\n",
    "\n",
    "        revenue_data['estimate'] = revenue_data['revenue_per_sec']/avg_electricity_price \n",
    "        revenue_data['upper_bound'] = revenue_data['revenue_per_sec']/min_electricity_price \n",
    "        \n",
    "        bounds.append(revenue_data[['estimate','upper_bound', 'market_cap']])\n",
    "        \n",
    "    return bounds"
   ]
  },
  {
   "cell_type": "markdown",
   "metadata": {},
   "source": [
    "# Electronic waste "
   ]
  },
  {
   "cell_type": "markdown",
   "metadata": {},
   "source": [
    "Assume only ASIC's contribute to waste\n",
    "\n",
    "- If only ASIC: all waste\n",
    "- If ASIC&GPU: upper-bound: all ASIC, estimate: evenly distributed"
   ]
  },
  {
   "cell_type": "markdown",
   "metadata": {},
   "source": [
    "waste = pd.DataFrame(columns=['coin','upper bound', 'estimate']).set_index('coin',drop=True)\n",
    "for coin, hardware in coin_prof_hardware_dict.items():\n",
    "    hardware_waste = hardware.copy()\n",
    "    if hardware.empty:\n",
    "        waste.loc[coin] = [0, 0]\n",
    "        continue\n",
    "    num_asic = np.sum(hardware['type']=='ASIC')\n",
    "    num_hardware = hardware.shape[0]\n",
    "    \n",
    "    # Upper bound, all ASIC\n",
    "    partial_hashrate = result.loc[coin,'estimate']/num_asic\n",
    "    hardware_waste['qty_upper'] = hardware_waste.apply(lambda x: partial_hashrate/x['hashing_power'] if x.type == 'ASIC' else 0, axis = 1)\n",
    "        \n",
    "    # Estimate, evenly distributed\n",
    "    partial_hashrate = result.loc[coin,'estimate']/num_hardware\n",
    "    hardware_waste['qty_estimate'] = hardware_waste.apply(lambda x: partial_hashrate/x['hashing_power'] if x.type == 'ASIC' else 0, axis=1)\n",
    "    \n",
    "    waste.loc[coin] = [np.sum(hardware_waste['qty_upper']), np.sum(hardware_waste['qty_estimate'])]\n",
    "waste"
   ]
  },
  {
   "cell_type": "code",
   "execution_count": 24,
   "metadata": {},
   "outputs": [],
   "source": [
    "# Weight in kg\n",
    "def hardware_weight(coin): \n",
    "    if coin['algorithm'] == 'SHA-256':\n",
    "        return 4.56\n",
    "    if coin['algorithm'] == 'Scrypt':\n",
    "        return 2.5\n",
    "    if coin['algorithm'] == 'Ethash':\n",
    "        return 10.5\n",
    "    if coin['algorithm'] == 'Equihash':\n",
    "        return 5.500\n",
    "    return 0"
   ]
  },
  {
   "cell_type": "code",
   "execution_count": 25,
   "metadata": {},
   "outputs": [],
   "source": [
    "#elec_waste = found_data[['#', 'tag', 'algorithm', 'num_hardware']].copy()\n",
    "#elec_waste['weight_hardware'] = elec_waste.apply(lambda x: hardware_weight(x), axis=1)"
   ]
  },
  {
   "cell_type": "code",
   "execution_count": 26,
   "metadata": {},
   "outputs": [],
   "source": [
    "#elec_waste['waste'] = elec_waste['weight_hardware']*elec_waste['num_hardware']/1.5\n",
    "#elec_waste"
   ]
  },
  {
   "cell_type": "markdown",
   "metadata": {
    "toc-hr-collapsed": false
   },
   "source": [
    "# Results"
   ]
  },
  {
   "cell_type": "code",
   "execution_count": 27,
   "metadata": {},
   "outputs": [],
   "source": [
    "def calc_hardware_bounds(bounds, PUE_dict = std_PUE):\n",
    "    \"\"\"\n",
    "    Adds the PUE and sums over all coins\n",
    "    \"\"\"\n",
    "    hardware_bounds = {'upper': [], 'lower': [], 'estimate': [], 'market_cap': []}    \n",
    "    for bounds_day in bounds:\n",
    "        lower_bound = np.sum(bounds_day['lower_bound'])*PUE_dict['lower']\n",
    "        estimate = np.sum(bounds_day['estimate'])*PUE_dict['estimate']\n",
    "        upper_bound = np.sum(bounds_day['upper_bound'])*PUE_dict['upper']\n",
    "        market_cap = np.sum(bounds_day['market_cap'])\n",
    "        \n",
    "        hardware_bounds['lower'].append(lower_bound)\n",
    "        hardware_bounds['estimate'].append(estimate)\n",
    "        hardware_bounds['upper'].append(upper_bound)\n",
    "        hardware_bounds['market_cap'].append(market_cap)\n",
    "\n",
    "    return hardware_bounds"
   ]
  },
  {
   "cell_type": "code",
   "execution_count": 28,
   "metadata": {},
   "outputs": [],
   "source": [
    "def calc_revenue_bounds(bounds, revenue_percent = 0.60):\n",
    "    revenue_bounds = {'upper': [], 'lower': [], 'estimate': [], 'market_cap': []}    \n",
    "    for bounds_day in bounds:\n",
    "        \n",
    "        upper_bound = np.sum(bounds_day['upper_bound'])\n",
    "        estimate = np.sum(bounds_day['estimate'])\n",
    "        market_cap = np.sum(bounds_day['market_cap'])\n",
    "        \n",
    "        revenue_bounds['upper'].append(upper_bound)\n",
    "        revenue_bounds['estimate'].append(estimate*revenue_percent)\n",
    "        revenue_bounds['market_cap'].append(market_cap)\n",
    "    \n",
    "    return revenue_bounds"
   ]
  },
  {
   "cell_type": "code",
   "execution_count": 37,
   "metadata": {},
   "outputs": [],
   "source": [
    "# Get hardware bounds\n",
    "hardware_bounds_coin = hardware_based_estimation(data_hist, PUE_fix=True)\n",
    "hardware_bounds_total = calc_hardware_bounds(hardware_bounds_coin)"
   ]
  },
  {
   "cell_type": "code",
   "execution_count": 38,
   "metadata": {},
   "outputs": [],
   "source": [
    "# Get revenue bounds\n",
    "revenue_bounds_coin = revenue_based_estimation(data_hist)\n",
    "revenue_bounds_total = calc_revenue_bounds(revenue_bounds_coin, revenue_percent)"
   ]
  },
  {
   "cell_type": "code",
   "execution_count": 39,
   "metadata": {},
   "outputs": [],
   "source": [
    "# Get market cap of the used data\n",
    "hardware_market_cap_hist = pd.Series(hardware_bounds_total['market_cap'])\n",
    "# Get total market cap of data\n",
    "total_market_cap_hist = pd.Series(revenue_bounds_total['market_cap'])"
   ]
  },
  {
   "cell_type": "code",
   "execution_count": 40,
   "metadata": {},
   "outputs": [],
   "source": [
    "# Average bounds and market cap over dates per coin\n",
    "coin_hardware_date = {'lower_bound': pd.DataFrame(), 'upper_bound': pd.DataFrame(), 'estimate': pd.DataFrame(), 'market_cap': pd.DataFrame()}\n",
    "\n",
    "for i, data_day in enumerate(hardware_bounds_coin):\n",
    "    coin_hardware_date['lower_bound'][i] = data_day['lower_bound']\n",
    "    coin_hardware_date['upper_bound'][i] = data_day['upper_bound']\n",
    "    coin_hardware_date['estimate'][i] = data_day['estimate']\n",
    "    coin_hardware_date['market_cap'][i] = data_day['market_cap']\n",
    "\n",
    "coin_hardware_avg = {}\n",
    "\n",
    "for bound, data in coin_hardware_date.items():\n",
    "    coin_hardware_avg[bound] = data.mean(axis=1)  "
   ]
  },
  {
   "cell_type": "markdown",
   "metadata": {},
   "source": [
    "## Hardware based"
   ]
  },
  {
   "cell_type": "code",
   "execution_count": 41,
   "metadata": {},
   "outputs": [
    {
     "data": {
      "image/png": "[encoded data removed]",
      "text/plain": [
       "<Figure size 1152x720 with 1 Axes>"
      ]
     },
     "metadata": {
      "needs_background": "light"
     },
     "output_type": "display_data"
    }
   ],
   "source": [
    "# Get hardware bounds\n",
    "#hardware_bounds_coin = hardware_based_estimation(data_hist)\n",
    "#hardware_bounds_total = calc_hardware_bounds(hardware_bounds_coin)\n",
    "plt.figure(figsize=(16,10))\n",
    "plt.plot(dates, hardware_bounds_total['lower'], color='green')\n",
    "plt.plot(dates, hardware_bounds_total['estimate'], color='blue')\n",
    "plt.plot(dates, hardware_bounds_total['upper'], color='red')\n",
    "plt.xticks(rotation=45)\n",
    "plt.ylabel(\"Electricity consumption (W)\")\n",
    "plt.xlabel(\"Date\")\n",
    "plt.show()"
   ]
  },
  {
   "cell_type": "code",
   "execution_count": 42,
   "metadata": {},
   "outputs": [],
   "source": [
    "coin_hardware_date['estimate'].columns = dates"
   ]
  },
  {
   "cell_type": "code",
   "execution_count": 43,
   "metadata": {},
   "outputs": [
    {
     "data": {
      "image/png": "[encoded data removed]",
      "text/plain": [
       "<Figure size 864x576 with 1 Axes>"
      ]
     },
     "metadata": {
      "needs_background": "light"
     },
     "output_type": "display_data"
    }
   ],
   "source": [
    "coin_hardware_date['estimate'].transpose().plot.area(figsize=(12,8))\n",
    "plt.ylabel(\"Electricity consumption (W)\")\n",
    "plt.xlabel(\"Date\")\n",
    "plt.show()"
   ]
  },
  {
   "cell_type": "code",
   "execution_count": 44,
   "metadata": {},
   "outputs": [
    {
     "data": {
      "text/plain": [
       "Index(['bitcoin', 'ethereum', 'litecoin', 'bitcoinsv', 'ethereumclassic',\n",
       "       'zcash', 'dogecoin', 'horizen', 'komodo', 'litecoincash'],\n",
       "      dtype='object', name='Name')"
      ]
     },
     "execution_count": 44,
     "metadata": {},
     "output_type": "execute_result"
    }
   ],
   "source": [
    "coin_hardware_date['estimate'].index"
   ]
  },
  {
   "cell_type": "code",
   "execution_count": null,
   "metadata": {},
   "outputs": [],
   "source": [
    "bitcoin_contributions = coin_hardware_date['estimate'].loc['bitcoin']/np.sum(coin_hardware_date['estimate'])\n",
    "print(f\"The contribution of bitcoin to the total is minimum {np.min(bitcoin_contributions)}, maximum {np.max(bitcoin_contributions)}\\\n",
    "and on average {np.mean(bitcoin_contributions)}%\")\n",
    "\n",
    "ethereum_contributions = coin_hardware_date['estimate'].loc['ethereum']/np.sum(coin_hardware_date['estimate'])\n",
    "print(f\"The contribution of ethereum to the total is minimum {np.min(ethereum_contributions)}, maximum {np.max(ethereum_contributions)}\\\n",
    "and on average {np.mean(ethereum_contributions)}%\")\n",
    "\n",
    "bit_eth_contributions = bitcoin_contributions+ethereum_contributions\n",
    "print(f\"The contribution of ethereum and bitcoin to the total is minimum {np.min(bit_eth_contributions)}, maximum {np.max(bit_eth_contributions)}\\\n",
    "and on average {np.mean(bit_eth_contributions)}%\")"
   ]
  },
  {
   "cell_type": "markdown",
   "metadata": {},
   "source": [
    "## Revenue based"
   ]
  },
  {
   "cell_type": "code",
   "execution_count": null,
   "metadata": {},
   "outputs": [],
   "source": [
    "plt.plot(dates, revenue_bounds_total['upper'])\n",
    "plt.plot(dates, revenue_bounds_total['estimate'])\n",
    "plt.xticks(rotation=45)\n",
    "plt.ylabel(\"Electricity consumption (W)\")\n",
    "plt.xlabel(\"Date\")\n",
    "plt.show()"
   ]
  },
  {
   "cell_type": "markdown",
   "metadata": {
    "toc-hr-collapsed": true
   },
   "source": [
    "## Extrapolation"
   ]
  },
  {
   "cell_type": "markdown",
   "metadata": {},
   "source": [
    "### Market share"
   ]
  },
  {
   "cell_type": "markdown",
   "metadata": {},
   "source": [
    "First calculate what part of top100 mineable and of total market cap we capture with our data"
   ]
  },
  {
   "cell_type": "code",
   "execution_count": null,
   "metadata": {},
   "outputs": [],
   "source": [
    "hardware_data_market = hardware_market_cap_hist/total_market_cap_hist\n",
    "print(f'The hardware based estimation represents minimum {round(hardware_data_market.min(),3)*100}%, maximum {round(hardware_data_market.max(),4)*100}%\\n\\\n",
    " and on average {round(hardware_data_market.mean(),3)*100}% of the market cap of the mineable top 100')"
   ]
  },
  {
   "cell_type": "code",
   "execution_count": null,
   "metadata": {},
   "outputs": [],
   "source": [
    "# Data of 21/04/2020\n",
    "mineable_market_cap_hist = pd.read_csv(DATA_PATH+'mineable_all.csv')\n",
    "mineable_market_cap_hist = mineable_market_cap_hist['market_cap'].apply(clean_int)\n",
    "mineable_market_cap_sum = mineable_market_cap_hist.sum()\n",
    "hardware_mineable_share = hardware_market_cap_hist[34]/mineable_market_cap_sum\n",
    "print(f'This is {round(hardware_mineable_share,4)*100}% of the total mineable market cap on 21/04/2020')"
   ]
  },
  {
   "cell_type": "code",
   "execution_count": null,
   "metadata": {},
   "outputs": [],
   "source": [
    "top100_share = total_market_cap_hist[len(total_market_cap_hist)-1]/mineable_market_cap_sum\n",
    "print(f'The top 100 captures {round(top100_share,3)*100}% of the total mineable market')"
   ]
  },
  {
   "cell_type": "markdown",
   "metadata": {},
   "source": [
    "This means that, if our hypothesis is correct, we can divide our result bij 0.95 to get the total energy consumption of the mineable market"
   ]
  },
  {
   "cell_type": "code",
   "execution_count": null,
   "metadata": {},
   "outputs": [],
   "source": [
    "# Get total market cap from https://p.nomics.com/cryptocurrency-bitcoin-api\n",
    "url = \"https://api.nomics.com/v1/market-cap/history?key=demo-26240835858194712a4f8cc0dc635c7a&start=2020-03-18T00%3A00%3A00Z\"\n",
    "total_market_cap_hist = pd.DataFrame(json.loads(urllib.request.urlopen(url).read()))['market_cap'].astype(float)\n",
    "hardware_data_share_total = hardware_market_cap_hist/total_market_cap_hist\n",
    "\n",
    "print(f'This is minimum {round(hardware_data_share_total.min(),4)*100}%, maximum {round(hardware_data_share_total.max(),4)*100}%\\\n",
    " and on average {round(hardware_data_share_total.mean(),3)*100}% of the total market cap')"
   ]
  },
  {
   "cell_type": "markdown",
   "metadata": {},
   "source": [
    "### Hypothesis testing"
   ]
  },
  {
   "cell_type": "code",
   "execution_count": null,
   "metadata": {},
   "outputs": [],
   "source": [
    "market_cap_mean = coin_hardware_avg['market_cap']\n",
    "energy_consumption_mean = coin_hardware_avg['estimate']"
   ]
  },
  {
   "cell_type": "code",
   "execution_count": null,
   "metadata": {},
   "outputs": [],
   "source": [
    "found_data_energy = pd.concat([energy_consumption_mean,market_cap_mean],axis=1, keys=[\"energy_consumption\", \"market_cap\"])\n",
    "# Drop 0 values\n",
    "found_data_energy = found_data_energy[found_data_energy['energy_consumption'] != 0]"
   ]
  },
  {
   "cell_type": "code",
   "execution_count": null,
   "metadata": {},
   "outputs": [],
   "source": [
    "plt.figure(figsize=(12,9))\n",
    "\n",
    "found_data_energy['energy_consumption'].plot(kind='bar')\n",
    "plt.yscale('log')\n",
    "plt.xticks(rotation=45)\n",
    "plt.ylabel('Annual energy consumption (in W)')\n",
    "plt.xlabel('Coin')\n",
    "plt.title('Annual electricity consumption of different cryptocurrencies')\n",
    "plt.show()"
   ]
  },
  {
   "cell_type": "code",
   "execution_count": null,
   "metadata": {},
   "outputs": [],
   "source": [
    "plt.figure(figsize=(14,10))\n",
    "\n",
    "plt.scatter(found_data_energy['market_cap'],found_data_energy['energy_consumption'])\n",
    "z = np.polyfit(found_data_energy['market_cap'],found_data_energy['energy_consumption'], 1)\n",
    "p = np.poly1d(z)\n",
    "x = found_data_energy['market_cap']\n",
    "y = z[0]*x+z[1]\n",
    "plt.plot(found_data_energy['market_cap'],p(found_data_energy['market_cap']),\"r--\")\n",
    "#plt.plot(x,y, \"b--\")\n",
    "plt.xscale('log')\n",
    "plt.yscale('log')\n",
    "plt.xlabel('Market cap ($)')\n",
    "plt.ylabel('Annual energy consumption (W)')\n",
    "plt.xticks(rotation=45)\n",
    "plt.title('Annual energy consumption vs market cap of cryptocurrencies')\n",
    "plt.show()"
   ]
  },
  {
   "cell_type": "code",
   "execution_count": null,
   "metadata": {},
   "outputs": [],
   "source": [
    "z"
   ]
  },
  {
   "cell_type": "code",
   "execution_count": null,
   "metadata": {},
   "outputs": [],
   "source": [
    "x = found_data_energy['market_cap']\n",
    "y = z[0]*x+z[1]\n",
    "plt.plot(x,y,\"r--\")"
   ]
  },
  {
   "cell_type": "markdown",
   "metadata": {},
   "source": [
    "## Combining all results"
   ]
  },
  {
   "cell_type": "markdown",
   "metadata": {},
   "source": [
    "- Hardware based\n",
    "- Revenue based\n",
    "- BECI\n",
    "- CBECI"
   ]
  },
  {
   "cell_type": "code",
   "execution_count": null,
   "metadata": {},
   "outputs": [],
   "source": [
    "plt.figure(figsize=(14,10))\n",
    "plt.plot(dates, hardware_bounds_total['estimate'], label=\"Hardware estimate\", color=\"blue\")\n",
    "plt.plot(dates, hardware_bounds_total['lower'], label=\"Hardware lower bound\",color=\"green\")\n",
    "plt.plot(dates, hardware_bounds_total['upper'], label=\"Hardware upper bound\", color=\"red\")\n",
    "plt.plot(dates, revenue_bounds_total['upper'], label=\"Revenue upper bound\", color=\"#FA9883\")\n",
    "plt.plot(dates, revenue_bounds_total['estimate'], label=\"Revenue estimate\", color=\"lightblue\")\n",
    "plt.xticks(rotation=45)\n",
    "plt.ylabel(\"Electricity consumption (W)\")\n",
    "plt.xlabel(\"Date\")\n",
    "plt.legend()\n",
    "plt.savefig('results.png')\n",
    "plt.show()"
   ]
  },
  {
   "cell_type": "markdown",
   "metadata": {},
   "source": [
    "### Mean consumption"
   ]
  },
  {
   "cell_type": "code",
   "execution_count": null,
   "metadata": {},
   "outputs": [],
   "source": [
    "print(np.mean(hardware_bounds_total['lower'])*W_to_TWh)\n",
    "print(np.mean(hardware_bounds_total['estimate'])*W_to_TWh)\n",
    "print(np.mean(hardware_bounds_total['upper'])*W_to_TWh)"
   ]
  },
  {
   "cell_type": "markdown",
   "metadata": {},
   "source": [
    "### Compare to bitcoin values"
   ]
  },
  {
   "cell_type": "code",
   "execution_count": null,
   "metadata": {},
   "outputs": [],
   "source": [
    "bitcoin_price = [data.loc['bitcoin','price'] for data in data_hist]\n",
    "bitcoin_difficulty = [data.loc['bitcoin', 'difficulty'] for data in data_hist]"
   ]
  },
  {
   "cell_type": "code",
   "execution_count": null,
   "metadata": {},
   "outputs": [],
   "source": [
    "fig, ax1 = plt.subplots(figsize=(16,10))\n",
    "\n",
    "ax1.plot(dates, hardware_bounds_total['estimate'], label=\"Hardware estimate\", color=\"blue\")\n",
    "ax1.plot(dates, hardware_bounds_total['lower'], label=\"Hardware lower bound\",color=\"green\")\n",
    "ax1.plot(dates, hardware_bounds_total['upper'], label=\"Hardware upper bound\", color=\"red\")\n",
    "ax1.plot(dates, revenue_bounds_total['upper'], label=\"Revenue upper bound\", color=\"#FA9883\")\n",
    "ax1.plot(dates, revenue_bounds_total['estimate'], label=\"Revenue estimate\", color=\"lightblue\")\n",
    "plt.xticks(rotation=45)\n",
    "ax1.set_ylabel(\"Electricity consumption (W)\")\n",
    "ax1.set_xlabel(\"Date\")\n",
    "ax1.legend()\n",
    "\n",
    "\n",
    "ax2 = ax1.twinx()\n",
    "ax2.plot(dates, bitcoin_price, label=\"bitcoin_price\", color=\"orange\")\n",
    "ax2.legend()\n",
    "plt.show()"
   ]
  },
  {
   "cell_type": "code",
   "execution_count": null,
   "metadata": {},
   "outputs": [],
   "source": [
    "fig, ax1 = plt.subplots(figsize=(16,10))\n",
    "\n",
    "ax1.plot(dates, hardware_bounds_total['estimate'], label=\"Hardware estimate\", color=\"blue\")\n",
    "ax1.plot(dates, hardware_bounds_total['lower'], label=\"Hardware lower bound\",color=\"green\")\n",
    "ax1.plot(dates, hardware_bounds_total['upper'], label=\"Hardware upper bound\", color=\"red\")\n",
    "ax1.plot(dates, revenue_bounds_total['upper'], label=\"Revenue upper bound\", color=\"#FA9883\")\n",
    "ax1.plot(dates, revenue_bounds_total['estimate'], label=\"Revenue estimate\", color=\"lightblue\")\n",
    "plt.xticks(rotation=45)\n",
    "ax1.set_ylabel(\"Electricity consumption (W)\")\n",
    "ax1.set_xlabel(\"Date\")\n",
    "ax1.legend()\n",
    "\n",
    "\n",
    "ax2 = ax1.twinx()\n",
    "ax2.plot(dates, bitcoin_difficulty, label=\"bitcoin_difficulty\", color=\"orange\")\n",
    "ax2.legend()\n",
    "plt.show()"
   ]
  },
  {
   "cell_type": "markdown",
   "metadata": {
    "toc-hr-collapsed": false
   },
   "source": [
    "# Parameters"
   ]
  },
  {
   "cell_type": "markdown",
   "metadata": {},
   "source": [
    "## Growth factor"
   ]
  },
  {
   "cell_type": "code",
   "execution_count": null,
   "metadata": {},
   "outputs": [],
   "source": [
    "# Get hardware bounds\n",
    "for i in np.linspace(1,4, num=7):\n",
    "    hardware_bounds_coin_growth = hardware_based_estimation(data_hist, growth_factor=i)\n",
    "    hardware_bounds_total_growth = calc_hardware_bounds(hardware_bounds_coin_growth)\n",
    "    #plt.plot(dates, hardware_bounds_total_growth['lower'])\n",
    "    plt.plot(dates, hardware_bounds_total_growth['estimate'], label=i)\n",
    "    #plt.plot(dates, hardware_bounds_total_growth['upper'])\n",
    "plt.xticks(rotation=45)\n",
    "plt.ylabel(\"Electricity consumption (W)\")\n",
    "plt.xlabel(\"Date\")\n",
    "plt.legend()\n",
    "plt.show()"
   ]
  },
  {
   "cell_type": "markdown",
   "metadata": {},
   "source": [
    "## PUE"
   ]
  },
  {
   "cell_type": "code",
   "execution_count": null,
   "metadata": {},
   "outputs": [],
   "source": [
    "results = {}\n",
    "\n",
    "for estimate_PUE in [1, 1.05, 1.1, 1.15, 1.20, 1.50]:\n",
    "    PUE = {'lower':1,'estimate':estimate_PUE,'upper':1.20}\n",
    "    hardware_PUE_coin = hardware_based_estimation(data_hist, PUE_dict = PUE,PUE_fix=True)\n",
    "    hardware_PUE_total = calc_hardware_bounds(hardware_PUE_coin)\n",
    "    results[estimate_PUE] = hardware_PUE_total['estimate']\n",
    "    plt.plot(dates, hardware_PUE_total['estimate'], label=estimate_PUE)\n",
    "\n",
    "plt.xticks(rotation=45)\n",
    "plt.ylabel(\"Electricity consumption (W)\")\n",
    "plt.xlabel(\"Date\")\n",
    "plt.legend()\n",
    "plt.show()"
   ]
  },
  {
   "cell_type": "code",
   "execution_count": null,
   "metadata": {},
   "outputs": [],
   "source": []
  },
  {
   "cell_type": "code",
   "execution_count": null,
   "metadata": {},
   "outputs": [],
   "source": []
  },
  {
   "cell_type": "markdown",
   "metadata": {},
   "source": [
    "## Electricity cost (geography)"
   ]
  },
  {
   "cell_type": "code",
   "execution_count": null,
   "metadata": {},
   "outputs": [],
   "source": []
  },
  {
   "cell_type": "markdown",
   "metadata": {
    "toc-hr-collapsed": true
   },
   "source": [
    "## Different estimate scenario's"
   ]
  },
  {
   "cell_type": "code",
   "execution_count": null,
   "metadata": {},
   "outputs": [],
   "source": [
    "def calc_estimations(bounds, PUE = 1.1):\n",
    "    \"\"\"\n",
    "    Adds the PUE and sums over all coins\n",
    "    \"\"\"\n",
    "    estimates = {'uniform': [], 'weighted': [], 'breakeven': []}    \n",
    "    for bounds_day in bounds:\n",
    "        uniform = np.sum(bounds_day['estimate'])*PUE\n",
    "        weighted = np.sum(bounds_day['estimate_weighted'])*PUE\n",
    "        breakeven = np.sum(bounds_day['estimate_breakeven'])*PUE\n",
    "\n",
    "        estimates['uniform'].append(uniform)\n",
    "        estimates['weighted'].append(weighted)\n",
    "        estimates['breakeven'].append(breakeven)\n",
    "    return estimates"
   ]
  },
  {
   "cell_type": "markdown",
   "metadata": {},
   "source": [
    "### Weighted"
   ]
  },
  {
   "cell_type": "code",
   "execution_count": null,
   "metadata": {},
   "outputs": [],
   "source": [
    "def calc_estimate_weighted(coin, coin_prof_hardware_dict):\n",
    "    \"\"\"\n",
    "    Returns an on the electricity consumption of cryptocoins in W\n",
    "    To put Wh per year, multiply by hours_in_year\n",
    "    \"\"\"\n",
    "    if coin.name not in coin_prof_hardware_dict:\n",
    "        #print(f\"Error, no hardware for {coin.name}\")\n",
    "        return 0\n",
    "    if coin_prof_hardware_dict[coin.name].empty:\n",
    "        #print(f\"Error, no profitable hardware for {coin.name}\")\n",
    "        return 0\n",
    "    prof_hardware = coin_prof_hardware_dict[coin.name].copy()\n",
    "    \n",
    "    total_efficiency = np.sum(prof_hardware['efficiency'])\n",
    "    efficiency_share = prof_hardware['efficiency']/total_efficiency\n",
    "    \n",
    "    prof_hardware['hashrate_part'] = (coin['nethash_calc']*efficiency_share)\n",
    "    \n",
    "    electricity_consumption = prof_hardware['consumption']*prof_hardware['hashrate_part']\n",
    "    \n",
    "    return np.sum(electricity_consumption)  "
   ]
  },
  {
   "cell_type": "markdown",
   "metadata": {},
   "source": [
    "### Break-even period"
   ]
  },
  {
   "cell_type": "code",
   "execution_count": null,
   "metadata": {},
   "outputs": [],
   "source": [
    "bitcoin_hardware_cost = pd.read_csv(HARDWARE_PATH + 'bitcoin_hardware_cost.csv')\n",
    "ethereum_hardware_cost = pd.read_csv(HARDWARE_PATH + 'ethereum_hardware_cost.csv')\n",
    "hardware_cost_dict = {'bitcoin':bitcoin_hardware_cost, 'ethereum': ethereum_hardware_cost}"
   ]
  },
  {
   "cell_type": "code",
   "execution_count": null,
   "metadata": {},
   "outputs": [],
   "source": [
    "def calc_breakeven_share(breakeven_data):\n",
    "    breakeven_rev = 1 / breakeven_data\n",
    "    total_breakeven = np.sum(breakeven_rev)\n",
    "    return breakeven_rev/total_breakeven"
   ]
  },
  {
   "cell_type": "code",
   "execution_count": null,
   "metadata": {},
   "outputs": [],
   "source": [
    "# TODO: implement this code in profitability threshold\n",
    "def calc_estimate_breakeven(coin, coin_prof_hardware_dict, PUE=std_PUE):\n",
    "    \"\"\"\n",
    "    Returns an on the electricity consumption of cryptocoins in W\n",
    "    To put Wh per year, multiply by hours_in_year\n",
    "    \"\"\"\n",
    "    if coin.name != \"bitcoin\" and coin.name != \"ethereum\":\n",
    "        return calc_estimate(coin, coin_prof_hardware_dict)\n",
    "        \n",
    "    prof_hardware = coin_prof_hardware_dict[coin.name].copy()\n",
    "    prof_hardware = pd.merge(hardware_cost_dict[coin.name], prof_hardware, on='name', how='inner')\n",
    "    \n",
    "    revenue_per_sec = coin['price_MA']*coin['block_reward']/coin['block_time']\n",
    "    \n",
    "    # breakeven time (s) is investment cost / (rev-costs) \n",
    "    \n",
    "    prof_hardware['revenue'] = (prof_hardware['hashing_power']/coin['nethash_calc'])*revenue_per_sec\n",
    "    prof_hardware['cost'] = prof_hardware['power']*avg_electricity_price*PUE['estimate']\n",
    "    \n",
    "    prof_hardware['breakeven'] = prof_hardware['price']/(prof_hardware['revenue']-prof_hardware['cost'])\n",
    "        \n",
    "    prof_hardware['breakeven_share'] = calc_breakeven_share(prof_hardware['breakeven'])\n",
    "        \n",
    "    prof_hardware['hashrate_part'] = (coin['nethash_calc']*prof_hardware['breakeven_share'])\n",
    "    \n",
    "    electricity_consumption = prof_hardware['consumption']*prof_hardware['hashrate_part']\n",
    "    \n",
    "    return np.sum(electricity_consumption)  "
   ]
  },
  {
   "cell_type": "code",
   "execution_count": null,
   "metadata": {},
   "outputs": [],
   "source": [
    "# Get hardware bounds\n",
    "hardware_estimates = hardware_based_estimation(data_hist, estimates=True)\n",
    "hardware_estimates_total = calc_estimations(hardware_estimates)"
   ]
  },
  {
   "cell_type": "code",
   "execution_count": null,
   "metadata": {},
   "outputs": [],
   "source": [
    "plt.figure(figsize=(14,8))\n",
    "plt.plot(dates, hardware_estimates_total['weighted'], label=\"weighted\")\n",
    "plt.plot(dates, hardware_estimates_total['uniform'], label=\"uniform\")\n",
    "plt.plot(dates, hardware_estimates_total['breakeven'], label=\"breakeven\")\n",
    "plt.plot(dates, hardware_bounds_total['lower'], label=\"lower\")\n",
    "plt.plot(dates, hardware_bounds_total['upper'], label=\"upper\")\n",
    "plt.xticks(rotation=45)\n",
    "plt.ylabel(\"Electricity consumption (W)\")\n",
    "plt.xlabel(\"Date\")\n",
    "plt.legend()\n",
    "plt.show()"
   ]
  },
  {
   "cell_type": "code",
   "execution_count": null,
   "metadata": {},
   "outputs": [],
   "source": [
    "weighted_difference_perc = (np.array(hardware_estimates_total['uniform'])-np.array(hardware_estimates_total['weighted']))/np.array(hardware_estimates_total['uniform'])\n",
    "breakeven_difference_perc = (np.array(hardware_estimates_total['breakeven'])-np.array(hardware_estimates_total['weighted']))/np.array(hardware_estimates_total['uniform'])"
   ]
  },
  {
   "cell_type": "code",
   "execution_count": null,
   "metadata": {},
   "outputs": [],
   "source": [
    "def estimations_differences(hardware_estimates_total, method):\n",
    "    difference_perc = (np.array(hardware_estimates_total['uniform'])-np.array(hardware_estimates_total[method]))/np.array(hardware_estimates_total['uniform'])\n",
    "    minimum = round(np.min(difference_perc),3)*100\n",
    "    maximum = round(np.max(difference_perc),3)*100\n",
    "    mean = round(np.mean(difference_perc),3)*100\n",
    "    print(f\" Minimum: {minimum} \\n Maximum: {maximum} \\n Mean: {mean}\")"
   ]
  },
  {
   "cell_type": "code",
   "execution_count": null,
   "metadata": {},
   "outputs": [],
   "source": [
    "estimations_differences(hardware_estimates_total, 'weighted')\n",
    "estimations_differences(hardware_estimates_total, 'breakeven')"
   ]
  },
  {
   "cell_type": "markdown",
   "metadata": {
    "toc-hr-collapsed": true
   },
   "source": [
    "# Old"
   ]
  },
  {
   "cell_type": "markdown",
   "metadata": {},
   "source": [
    "## First web-based trial (OLD)"
   ]
  },
  {
   "cell_type": "markdown",
   "metadata": {},
   "source": [
    "First, we calculate a lower bound by using only the most efficient hardware"
   ]
  },
  {
   "cell_type": "code",
   "execution_count": null,
   "metadata": {},
   "outputs": [],
   "source": [
    "def hardware_hashrate(coin): # Max hashes per second for the hardware\n",
    "    if coin['algorithm'] == 'SHA-256':\n",
    "        return 16*10**12\n",
    "    if coin['algorithm'] == 'Scrypt':\n",
    "        return 504*10**6\n",
    "    if coin['algorithm'] == 'Ethash':\n",
    "        return 190*10**6\n",
    "    if coin['algorithm'] == 'Equihash':\n",
    "        return 42*10**3\n",
    "    return 0"
   ]
  },
  {
   "cell_type": "code",
   "execution_count": null,
   "metadata": {},
   "outputs": [],
   "source": [
    "# Energy use in Watts\n",
    "def hardware_consumption(coin): \n",
    "    if coin['algorithm'] == 'SHA-256':\n",
    "        return 1280\n",
    "    if coin['algorithm'] == 'Scrypt':\n",
    "        return 970\n",
    "    if coin['algorithm'] == 'Ethash':\n",
    "        return 800\n",
    "    if coin['algorithm'] == 'Equihash':\n",
    "        return 760\n",
    "    return 0"
   ]
  },
  {
   "cell_type": "code",
   "execution_count": null,
   "metadata": {},
   "outputs": [],
   "source": [
    "def hardware_consumption_hash(coin): # Joule per hash\n",
    "    if coin['algorithm'] == 'SHA-256':\n",
    "        return 0.1/(10**9)\n",
    "    if coin['algorithm'] == 'Scrypt':\n",
    "        return 1.6/(10**6) # Antminer L3+ https://www.asicminervalue.com/miners/bitmain/antminer-l3-504mh\n",
    "    if coin['algorithm'] == 'Ethash':\n",
    "        return 4/(10**6) # Bitmain Antminer E3 – Ethereum 190 MH/S\n",
    "    else: \n",
    "        return 0"
   ]
  },
  {
   "cell_type": "code",
   "execution_count": null,
   "metadata": {},
   "outputs": [],
   "source": [
    "def calc_num_hardware(coin):\n",
    "    if coin['hardware_hashrate'] == 0:\n",
    "        return 0\n",
    "    if coin['nethash_calc'] != 0:\n",
    "        return coin['nethash_calc']/coin['hardware_hashrate'] \n",
    "    else:\n",
    "        return coin['nethash_scraped']/coin['hardware_hashrate']"
   ]
  },
  {
   "cell_type": "code",
   "execution_count": null,
   "metadata": {},
   "outputs": [],
   "source": [
    "found_data['difficulty_factor'] = found_data.apply(lambda x: difficulty_factor(x), axis=1)\n",
    "found_data['hardware_hashrate'] = found_data.apply(lambda x: hardware_hashrate(x), axis=1)\n",
    "found_data['hardware_consumption'] = found_data.apply(lambda x: hardware_consumption(x), axis=1)"
   ]
  },
  {
   "cell_type": "code",
   "execution_count": null,
   "metadata": {},
   "outputs": [],
   "source": [
    "found_data['nethash_calc'] = found_data['difficulty']*found_data['difficulty_factor']/found_data['block_time'] # amount of hashes per second\n",
    "found_data['num_hardware'] = found_data.apply(lambda x: calc_num_hardware(x),axis=1)\n",
    "found_data['energy_per_second'] = found_data['num_hardware']*found_data['hardware_consumption'] # in Watt\n",
    "found_data['annual_energy'] = found_data['energy_per_second']*8760 # hours in a year\n",
    "found_data"
   ]
  },
  {
   "cell_type": "code",
   "execution_count": null,
   "metadata": {},
   "outputs": [],
   "source": [
    "found_data_difficulty = found_data[found_data['difficulty_factor'] != 0]\n",
    "print(found_data_difficulty[[\"#\", \"algorithm\", \"difficulty_factor\"]].to_latex())"
   ]
  },
  {
   "cell_type": "code",
   "execution_count": null,
   "metadata": {},
   "outputs": [],
   "source": []
  },
  {
   "cell_type": "code",
   "execution_count": null,
   "metadata": {},
   "outputs": [],
   "source": []
  },
  {
   "cell_type": "code",
   "execution_count": null,
   "metadata": {},
   "outputs": [],
   "source": [
    "total_energy_crypto = np.sum(found_data['annual_energy'])\n",
    "total_energy_crypto_TWh = total_energy_crypto/10**12\n",
    "total_energy_crypto_TWh"
   ]
  },
  {
   "cell_type": "code",
   "execution_count": null,
   "metadata": {},
   "outputs": [],
   "source": [
    "total_energy_world_TWh = 19504 # TWh "
   ]
  },
  {
   "cell_type": "code",
   "execution_count": null,
   "metadata": {},
   "outputs": [],
   "source": [
    "total_energy_crypto_TWh/total_energy_world_TWh"
   ]
  },
  {
   "cell_type": "markdown",
   "metadata": {},
   "source": [
    "0.4% of global electricity"
   ]
  },
  {
   "cell_type": "markdown",
   "metadata": {},
   "source": [
    "## Extrapollation of energy use of other crypto coins"
   ]
  },
  {
   "cell_type": "markdown",
   "metadata": {},
   "source": [
    "What percent of crypto market cap is represented in the dataset?"
   ]
  },
  {
   "cell_type": "code",
   "execution_count": null,
   "metadata": {},
   "outputs": [],
   "source": [
    "found_market_cap = found_data['market_cap'].sum()\n",
    "top100_market_cap = mineable_100['market_cap'].sum()\n",
    "total_market_cap =  186318558825 #https://coinmarketcap.com/charts/\n",
    "print(f'The webscrabed data represents {round(found_market_cap/top100_market_cap,3)*100}% of the market cap of the top 100, and {round(found_market_cap/total_market_cap,3)*100}% of the total market cap')"
   ]
  },
  {
   "cell_type": "code",
   "execution_count": null,
   "metadata": {},
   "outputs": [],
   "source": [
    "found_data_energy = result[result['estimate'] != 0]\n",
    "found_manual_market_cap = result['market_cap'].sum()\n",
    "print(f'The manual data represents {round(found_manual_market_cap/top100_market_cap,3)*100}% of the market cap of the top 100, and {round(found_manual_market_cap/total_market_cap,3)*100}% of the total market cap')"
   ]
  },
  {
   "cell_type": "markdown",
   "metadata": {},
   "source": [
    "Looking up all the other initial difficulties (~15 more coins) would only gain us an additional 0.4% of the total market cap"
   ]
  },
  {
   "cell_type": "code",
   "execution_count": null,
   "metadata": {},
   "outputs": [],
   "source": [
    "result['estimate'].plot(kind='bar')\n",
    "plt.yscale('log')\n",
    "plt.xticks(rotation=45)\n",
    "plt.ylabel('annual energy consumption (in Wh)')\n",
    "plt.xlabel('coin')\n",
    "plt.title('Annual energy consumption of different cryptocurrencies')\n",
    "plt.show()"
   ]
  },
  {
   "cell_type": "code",
   "execution_count": null,
   "metadata": {},
   "outputs": [],
   "source": [
    "plt.scatter(result['market_cap'],result['estimate'])\n",
    "plt.yscale('log')\n",
    "plt.ylabel('annual energy consumption (Wh)')\n",
    "plt.xscale('log')\n",
    "plt.xlabel('market cap ($)')\n",
    "plt.xticks(rotation=45)\n",
    "plt.title('Annual energy consumption vs market cap of cryptocurrencies')\n",
    "plt.show()"
   ]
  },
  {
   "cell_type": "markdown",
   "metadata": {},
   "source": [
    "Linear correlation between market cap and energy consumption with some outliers (e.g. Dogecoin, which uses auxilary POW with litecoin"
   ]
  },
  {
   "cell_type": "code",
   "execution_count": null,
   "metadata": {},
   "outputs": [],
   "source": [
    "nethash_calc = result[result['estimate'] != 0].sort_values(by='algorithm')"
   ]
  },
  {
   "cell_type": "code",
   "execution_count": null,
   "metadata": {},
   "outputs": [],
   "source": [
    "cdict= {'Equihash':'blue', 'Ethash':'grey','Lyra2REv2':'green','RandomX':'black','SHA-256':'red','Scrypt':'orange','X11':'lightgreen','X16Rv2':'purple'}\n",
    "cmap = nethash_calc['algorithm'].apply(lambda x: cdict[x])\n",
    "plt.scatter(nethash_calc['market_cap'],nethash_calc['estimate'],c=cmap,label=nethash_calc['algorithm'])\n",
    "plt.yscale('log')\n",
    "plt.ylabel('nethash calculated')\n",
    "plt.xscale('log')\n",
    "plt.xlabel('market cap ($)')\n",
    "plt.xticks(rotation=45)\n",
    "plt.title('Nethash calculated vs market cap of cryptocurrencies')\n",
    "plt.show()"
   ]
  },
  {
   "cell_type": "markdown",
   "metadata": {},
   "source": [
    "## Results function"
   ]
  },
  {
   "cell_type": "markdown",
   "metadata": {},
   "source": [
    "dates = []\n",
    "hardware_bounds = {'upper': [], 'lower': [], 'estimate': [], 'market_cap': []}\n",
    "revenue_bounds = {'upper': [], 'estimate': []}\n",
    "\n",
    "# Used to check hypothesis and extrapollation\n",
    "market_cap_hardware = pd.DataFrame()\n",
    "coin_energy = pd.DataFrame()\n",
    "market_caps_total = []\n",
    "\n",
    "for file in os.listdir(HIST_PATH):\n",
    "    data = pd.read_csv(HIST_PATH+file)\n",
    "    data = clean_mineable_data(data)\n",
    "\n",
    "    # Get the dates in a list\n",
    "    date = datetime.strptime(file[13:23], '%m-%d-%Y')\n",
    "    dates.append(date)\n",
    "    \n",
    "    # Get hardware bounds\n",
    "    bounds = hardware_based_estimation(data)\n",
    "    # Add bound per coin per day\n",
    "    coin_energy[date] = bounds['estimate']*ESTIMATE_PUE\n",
    "    \n",
    "    # Get bounds for all coins\n",
    "    hardware_bounds = calc_hardware_bounds(bounds, hardware_bounds)\n",
    "    \n",
    "    # Get market cap of the used data\n",
    "    market_cap_hardware[date] = bounds['market_cap']\n",
    "        \n",
    "    # Get revenue bounds\n",
    "    revenue_bounds = calc_revenue_bounds(data,revenue_bounds)\n",
    "    \n",
    "    # Get total market cap of data\n",
    "    market_caps_total.append(np.sum(data['market_cap']))"
   ]
  },
  {
   "cell_type": "markdown",
   "metadata": {},
   "source": [
    "## Extrapolation"
   ]
  },
  {
   "cell_type": "code",
   "execution_count": null,
   "metadata": {},
   "outputs": [],
   "source": [
    "found_data_energy = found_data[found_data['annual_energy'] != 0]\n",
    "found_manual_market_cap = found_missing_difficulty['market_cap'].sum()\n",
    "print(f'The manual data represents {round(found_manual_market_cap/top100_market_cap,3)*100}% of the market cap of the top 100, and {round(found_manual_market_cap/total_market_cap,3)*100}% of the total market cap')"
   ]
  },
  {
   "cell_type": "markdown",
   "metadata": {},
   "source": [
    "Looking up all the other initial difficulties (~15 more coins) would only gain us an additional 0.4% of the total market cap"
   ]
  },
  {
   "cell_type": "code",
   "execution_count": null,
   "metadata": {},
   "outputs": [],
   "source": [
    "# Which ranks of the market cap are represented?\n",
    "found_data[found_data['difficulty_factor'] != 0]['#'].hist(bins=10)\n",
    "plt.show()"
   ]
  },
  {
   "cell_type": "code",
   "execution_count": null,
   "metadata": {},
   "outputs": [],
   "source": [
    "found_data_energy['annual_energy'].plot(kind='bar')\n",
    "plt.yscale('log')\n",
    "plt.xticks(rotation=45)\n",
    "plt.ylabel('annual energy consumption (in Wh)')\n",
    "plt.xlabel('coin')\n",
    "plt.title('Annual energy consumption of different cryptocurrencies')\n",
    "plt.show()"
   ]
  },
  {
   "cell_type": "code",
   "execution_count": null,
   "metadata": {},
   "outputs": [],
   "source": [
    "plt.scatter(found_data_energy['market_cap'],found_data_energy['annual_energy'])\n",
    "plt.yscale('log')\n",
    "plt.ylabel('annual energy consumption (Wh)')\n",
    "plt.xscale('log')\n",
    "plt.xlabel('market cap ($)')\n",
    "plt.xticks(rotation=45)\n",
    "plt.title('Annual energy consumption vs market cap of cryptocurrencies')\n",
    "plt.show()"
   ]
  },
  {
   "cell_type": "markdown",
   "metadata": {},
   "source": [
    "Linear correlation between market cap and energy consumption with some outliers (e.g. Dogecoin, which uses auxilary POW with litecoin"
   ]
  },
  {
   "cell_type": "code",
   "execution_count": null,
   "metadata": {},
   "outputs": [],
   "source": [
    "nethash_calc = found_data[found_data['nethash_calc'] != 0].sort_values(by='algorithm')"
   ]
  },
  {
   "cell_type": "code",
   "execution_count": null,
   "metadata": {},
   "outputs": [],
   "source": [
    "cdict= {'Equihash':'blue', 'Ethash':'grey','Lyra2REv2':'green','RandomX':'black','SHA-256':'red','Scrypt':'orange','X11':'lightgreen','X16Rv2':'purple'}\n",
    "cmap = nethash_calc['algorithm'].apply(lambda x: cdict[x])\n",
    "plt.scatter(nethash_calc['market_cap'],nethash_calc['nethash_calc'],c=cmap,label=nethash_calc['algorithm'])\n",
    "plt.yscale('log')\n",
    "plt.ylabel('nethash calculated')\n",
    "plt.xscale('log')\n",
    "plt.xlabel('market cap ($)')\n",
    "plt.xticks(rotation=45)\n",
    "plt.title('Nethash calculated vs market cap of cryptocurrencies')\n",
    "plt.show()"
   ]
  }
 ],
 "metadata": {
  "kernelspec": {
   "display_name": "Python 3",
   "language": "python",
   "name": "python3"
  },
  "language_info": {
   "codemirror_mode": {
    "name": "ipython",
    "version": 3
   },
   "file_extension": ".py",
   "mimetype": "text/x-python",
   "name": "python",
   "nbconvert_exporter": "python",
   "pygments_lexer": "ipython3",
   "version": "3.8.1"
  },
  "toc-autonumbering": true,
  "toc-showcode": false,
  "toc-showmarkdowntxt": false,
  "toc-showtags": false
 },
 "nbformat": 4,
 "nbformat_minor": 4
}
