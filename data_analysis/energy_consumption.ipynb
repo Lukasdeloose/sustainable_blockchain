{
 "cells": [
  {
   "cell_type": "markdown",
   "metadata": {},
   "source": [
    "# Introduction"
   ]
  },
  {
   "cell_type": "markdown",
   "metadata": {},
   "source": [
    "In this notebook, the estimates for the energy consumption of the top 100 mineable cryptocurrencies is calculated. \n",
    "In the first section, a hardware based estimation is made. Secondly, a revenue based is made. \n",
    "After this, we take a look at the electronic waste by mining. Finally, we investigate the results and check for inter-and extrapollation."
   ]
  },
  {
   "cell_type": "code",
   "execution_count": 1,
   "metadata": {},
   "outputs": [],
   "source": [
    "# Import libraries\n",
    "import os\n",
    "import json\n",
    "import pandas as pd\n",
    "import numpy as np\n",
    "import matplotlib.pyplot as plt\n",
    "import urllib.request\n",
    "from ipywidgets import *\n",
    "from datetime import datetime"
   ]
  },
  {
   "cell_type": "code",
   "execution_count": 2,
   "metadata": {},
   "outputs": [],
   "source": [
    "DATA_PATH = 'data/'\n",
    "HIST_PATH = DATA_PATH + 'hist/'\n",
    "HARDWARE_PATH = DATA_PATH+'hardware/'"
   ]
  },
  {
   "cell_type": "code",
   "execution_count": 3,
   "metadata": {},
   "outputs": [],
   "source": [
    "# Clean market cap and price\n",
    "def clean_int(string):\n",
    "    return float(string.strip('$').replace(',',''))\n",
    "\n",
    "def clean_mineable_data(data):\n",
    "    data = data.set_index('Name')\n",
    "    data['market_cap'] = data['market_cap'].apply(lambda x:clean_int(x))    \n",
    "    data['price'] = data['price'].apply(lambda x:clean_int(x))\n",
    "    return data"
   ]
  },
  {
   "cell_type": "code",
   "execution_count": 4,
   "metadata": {},
   "outputs": [],
   "source": [
    "mineable_100 = pd.read_csv(HIST_PATH+'mineable_100_03-29-2020.csv')\n",
    "mineable_100 = clean_mineable_data(mineable_100)\n",
    "found_data = mineable_100[~mineable_100.isnull().any(axis=1)].copy()"
   ]
  },
  {
   "cell_type": "markdown",
   "metadata": {},
   "source": [
    "## Parameters"
   ]
  },
  {
   "cell_type": "code",
   "execution_count": 5,
   "metadata": {},
   "outputs": [],
   "source": [
    "seconds_in_year = 31536000\n",
    "hours_in_year = 8760\n",
    "kWh_to_W = 3600*10**3"
   ]
  },
  {
   "cell_type": "code",
   "execution_count": 6,
   "metadata": {},
   "outputs": [],
   "source": [
    "LOWER_PUE = 1\n",
    "UPPER_PUE = 1.2\n",
    "ESTIMATE_PUE = 1.1\n",
    "moving_avg_time = 7\n",
    "growth_factor = 1\n",
    "revenue_percent = 0.60"
   ]
  },
  {
   "cell_type": "markdown",
   "metadata": {
    "toc-hr-collapsed": true
   },
   "source": [
    "## Geography "
   ]
  },
  {
   "cell_type": "markdown",
   "metadata": {},
   "source": [
    "### Coinshares"
   ]
  },
  {
   "cell_type": "code",
   "execution_count": 7,
   "metadata": {},
   "outputs": [],
   "source": [
    "# https://www.china-briefing.com/news/china-electricity-prices-industrial-consumers/\n",
    "# Sichian probably goes lower in wet season -> https://news.8btc.com/price-war-start-against-mining-operators-in-sichuan-as-supply-far-exceeds-demand\n",
    "# America: https://www.statista.com/statistics/190680/us-industrial-consumer-price-estimates-for-retail-electricity-since-1970/\n",
    "data = {'location': ['Sichuan', 'China', 'Non-China', 'Other'],\n",
    "        'share': [0.54,0.11,0.31,0.04],\n",
    "        'normal_price': [0.074, 0.084, 0.084, 0.084], # World average for non-china\n",
    "        'min_price': [0.035, 0.084, 0.069, 0.084], # American price for non-china\n",
    "        'renewable': [0,0,0,0]}"
   ]
  },
  {
   "cell_type": "code",
   "execution_count": 8,
   "metadata": {},
   "outputs": [],
   "source": [
    "geography = pd.DataFrame(data)\n",
    "avg_electricity_price = np.sum(geography.share*geography.normal_price)\n",
    "min_electricity_price = np.sum(geography.share*geography.min_price)"
   ]
  },
  {
   "cell_type": "code",
   "execution_count": 9,
   "metadata": {},
   "outputs": [
    {
     "name": "stdout",
     "output_type": "stream",
     "text": [
      "\\begin{tabular}{lrrrr}\n",
      "\\toprule\n",
      "{} &  share &  normal\\_price &  min\\_price &  renewable \\\\\n",
      "location  &        &               &            &            \\\\\n",
      "\\midrule\n",
      "Sichuan   &   0.54 &         0.074 &      0.035 &          0 \\\\\n",
      "China     &   0.11 &         0.084 &      0.084 &          0 \\\\\n",
      "Non-China &   0.31 &         0.084 &      0.069 &          0 \\\\\n",
      "Other     &   0.04 &         0.084 &      0.084 &          0 \\\\\n",
      "\\bottomrule\n",
      "\\end{tabular}\n",
      "\n"
     ]
    }
   ],
   "source": [
    "print(geography.set_index('location', drop=True).to_latex())"
   ]
  },
  {
   "cell_type": "markdown",
   "metadata": {
    "toc-hr-collapsed": true
   },
   "source": [
    "# Hardware based estimation"
   ]
  },
  {
   "cell_type": "markdown",
   "metadata": {},
   "source": [
    "In this section we make a first estimation based on the most efficient hardware (found online)"
   ]
  },
  {
   "cell_type": "markdown",
   "metadata": {},
   "source": [
    "## Function"
   ]
  },
  {
   "cell_type": "code",
   "execution_count": 10,
   "metadata": {},
   "outputs": [],
   "source": [
    "# Bitcoin forks have the same initial difficulty\n",
    "bitcoin_forks = ['bitcoin', 'bitcoincash','bitcoinsv', 'litecoincash']"
   ]
  },
  {
   "cell_type": "code",
   "execution_count": 11,
   "metadata": {},
   "outputs": [],
   "source": [
    "def hardware_based_estimation(data, moving_avg = 1, growth_factor=1):\n",
    "    \"\"\"\n",
    "    Function that calculates upper bound, lower bound, estimate and market cap for all data.\n",
    "    Returns a list, each entry is the bounds for one day\n",
    "    \"\"\"\n",
    "    bounds = []\n",
    "    \n",
    "    for i in range(len(data)):\n",
    "        data_day = data[i]\n",
    "        found_data = data_day[~data_day.isnull().any(axis=1)].copy()\n",
    "        \n",
    "        # Fill in original difficulties\n",
    "        found_data['difficulty_factor'] = found_data.apply(lambda x: difficulty_factor(x), axis=1)\n",
    "        found_missing_difficulty = found_data[found_data['difficulty_factor']!=0].copy()\n",
    "\n",
    "        # Calculate nethash\n",
    "        found_missing_difficulty['nethash_calc'] = found_missing_difficulty['difficulty']*found_missing_difficulty['difficulty_factor']/found_missing_difficulty['block_time'] # amount of hashes per second\n",
    "\n",
    "        # Create dictionairy that maps coins to their profitable hardware\n",
    "        lower_prof_hardware = dict(found_missing_difficulty.apply(lambda x: create_profitable_set(x, \"lower\"), axis = 1))\n",
    "        upper_prof_hardware = dict(found_missing_difficulty.apply(lambda x: create_profitable_set(x, \"upper\"), axis = 1))\n",
    "        estimate_prof_hardware = dict(found_missing_difficulty.apply(lambda x: create_profitable_set(x, \"estimate\"), axis = 1))\n",
    "\n",
    "        # Calculate estimates\n",
    "        found_missing_difficulty['lower_bound'] = found_missing_difficulty.apply(lambda x: calc_bound(x, lower_prof_hardware, True),axis=1)\n",
    "        found_missing_difficulty['upper_bound'] = found_missing_difficulty.apply(lambda x: calc_bound(x, upper_prof_hardware, False),axis=1)\n",
    "        found_missing_difficulty['estimate'] = found_missing_difficulty.apply(lambda x: calc_estimate(x, estimate_prof_hardware),axis=1)\n",
    "        \n",
    "        result = found_missing_difficulty[found_missing_difficulty['estimate'] != 0]\n",
    "        \n",
    "        bounds.append(result[['lower_bound','estimate','upper_bound', 'market_cap']])\n",
    "    \n",
    "    return bounds"
   ]
  },
  {
   "cell_type": "code",
   "execution_count": 12,
   "metadata": {},
   "outputs": [],
   "source": [
    "# Functions to go from the nBits to the first hashrate\n",
    "def hex_to_bits(hex_number):\n",
    "    if int(hex_number,16) >= 8:\n",
    "        return 0\n",
    "    elif int(hex_number,16) >= 4:\n",
    "        return 1\n",
    "    elif int(hex_number,16) >= 2:\n",
    "        return 2\n",
    "    elif int(hex_number,16) == 1:\n",
    "        return 3\n",
    "    else:\n",
    "        return 4\n",
    "        \n",
    "def nBits_to_factor(nBits):\n",
    "    if nBits[:2] != \"0x\":\n",
    "        raise Exception(\"Wrong format, provide hexadecimal number\")\n",
    "    exp = 8*(int(nBits[:4],16)-3)\n",
    "    mantisse = nBits[4:]\n",
    "    i=0\n",
    "    extra_0 = 0\n",
    "    while hex_to_bits(mantisse[i]) == 4:\n",
    "        extra_0 += 4\n",
    "        i += 1\n",
    "    extra_0 += hex_to_bits(mantisse[i])\n",
    "    return 256-exp-4*len(mantisse)+extra_0"
   ]
  },
  {
   "cell_type": "code",
   "execution_count": 13,
   "metadata": {},
   "outputs": [],
   "source": [
    "def difficulty_factor(coin):\n",
    "    \"\"\"\n",
    "    Enter the difficulty factors used to calculate current hashrate. \n",
    "    These values where all found by exploring the first block, documentation or source code. \n",
    "    References are kept in separate excell sheet\n",
    "    \"\"\"\n",
    "    if coin.name in bitcoin_forks:\n",
    "        return 2**32\n",
    "    if coin.name == 'zcash':\n",
    "        return 2**13\n",
    "    if coin.name == 'litecoin' or coin.name == 'monacoin':\n",
    "        return 2**32\n",
    "    if coin.name == 'ethereum' or coin.name == 'ethereumclassic':\n",
    "        return 1\n",
    "    if coin.name == 'monero':\n",
    "        return 1 # https://github.com/monero-project/monero/blob/36241552b56b156c08319935baf7afda12deb3c5/src/cryptonote_basic/difficulty.h\n",
    "    if coin.name == 'dash' or coin.name == 'dogecoin':\n",
    "        return 2**20\n",
    "    if coin.name == 'ravencoin':\n",
    "        return 2**24\n",
    "    if coin.name == 'horizen':\n",
    "        return 2**nBits_to_factor(\"0x1f07ffff\")\n",
    "    if coin.name == 'komodo':\n",
    "        return 2**nBits_to_factor(\"0x200f0f0f\")\n",
    "    else:\n",
    "        return 0"
   ]
  },
  {
   "cell_type": "markdown",
   "metadata": {
    "toc-hr-collapsed": false
   },
   "source": [
    "## Hardware profitability threshold"
   ]
  },
  {
   "cell_type": "markdown",
   "metadata": {},
   "source": [
    "Here we make our estimation more accurate by investigating entire hardware datasets (created in hardware.ipynb)."
   ]
  },
  {
   "cell_type": "code",
   "execution_count": 14,
   "metadata": {},
   "outputs": [],
   "source": [
    "SHA256_hardware = pd.read_csv(HARDWARE_PATH+'SHA256_hardware_clean.csv',index_col=0)\n",
    "ethash_hardware = pd.read_csv(HARDWARE_PATH+'ethash_hardware_clean.csv',index_col=0)\n",
    "equihash_hardware = pd.read_csv(HARDWARE_PATH+'equihash_hardware_clean.csv',index_col=0)\n",
    "scrypt_hardware = pd.read_csv(HARDWARE_PATH+'scrypt_hardware_clean.csv',index_col=0)\n",
    "\n",
    "# Create dict of algorithms with their hardware\n",
    "algorithm_hardware = {'SHA-256':SHA256_hardware,'Ethash':ethash_hardware, 'Equihash':equihash_hardware, 'Scrypt':scrypt_hardware}"
   ]
  },
  {
   "cell_type": "code",
   "execution_count": 15,
   "metadata": {},
   "outputs": [],
   "source": [
    "def calc_profitability_threshold(coin, PUE=1, elec_price = avg_electricity_price):\n",
    "    reward_per_sec = coin['price']*coin['block_reward']/coin['block_time']\n",
    "    rev = reward_per_sec/coin['nethash_calc'] #$/h\n",
    "    cost = elec_price/kWh_to_W # $/J\n",
    "    return rev/(cost*PUE)\n",
    "\n",
    "def is_profitable(coin, hardware, PUE=1, elect_price=avg_electricity_price):\n",
    "    profitability_threshold = calc_profitability_threshold(coin, PUE, elect_price)\n",
    "    # consumption is J/h, if smaller, more efficient\n",
    "    if hardware['consumption'] < profitability_threshold:\n",
    "        return True\n",
    "    else:\n",
    "        return False"
   ]
  },
  {
   "cell_type": "code",
   "execution_count": 16,
   "metadata": {},
   "outputs": [],
   "source": [
    "def create_profitable_set(coin, bound=\"lower\"):\n",
    "    if coin.algorithm in algorithm_hardware:\n",
    "        hardware = algorithm_hardware[coin.algorithm]\n",
    "        if bound == \"lower\":\n",
    "            return hardware[hardware.apply(lambda x: is_profitable(coin,x, LOWER_PUE),axis=1)]\n",
    "        elif bound == \"UPPER\":\n",
    "            return hardware[hardware.apply(lambda x: is_profitable(coin,x, UPPER_PUE, min_electricity_price),axis=1)]\n",
    "        else:\n",
    "            return hardware[hardware.apply(lambda x: is_profitable(coin,x, ESTIMATE_PUE),axis=1)]\n",
    "    return pd.DataFrame()"
   ]
  },
  {
   "cell_type": "code",
   "execution_count": 17,
   "metadata": {},
   "outputs": [
    {
     "data": {
      "text/html": [
       "<div>\n",
       "<style scoped>\n",
       "    .dataframe tbody tr th:only-of-type {\n",
       "        vertical-align: middle;\n",
       "    }\n",
       "\n",
       "    .dataframe tbody tr th {\n",
       "        vertical-align: top;\n",
       "    }\n",
       "\n",
       "    .dataframe thead th {\n",
       "        text-align: right;\n",
       "    }\n",
       "</style>\n",
       "<table border=\"1\" class=\"dataframe\">\n",
       "  <thead>\n",
       "    <tr style=\"text-align: right;\">\n",
       "      <th></th>\n",
       "    </tr>\n",
       "  </thead>\n",
       "  <tbody>\n",
       "  </tbody>\n",
       "</table>\n",
       "</div>"
      ],
      "text/plain": [
       "Empty DataFrame\n",
       "Columns: []\n",
       "Index: []"
      ]
     },
     "execution_count": 17,
     "metadata": {},
     "output_type": "execute_result"
    }
   ],
   "source": [
    "# Manual\n",
    "found_data['difficulty_factor'] = found_data.apply(lambda x: difficulty_factor(x), axis=1)\n",
    "found_missing_difficulty = found_data[found_data['difficulty_factor']!=0].copy()\n",
    "\n",
    "# Calculate nethash\n",
    "found_missing_difficulty['nethash_calc'] = found_missing_difficulty['difficulty']*found_missing_difficulty['difficulty_factor']/found_missing_difficulty['block_time'] # amount of hashes per second\n",
    "\n",
    "# Create dictionairy that maps coins to their profitable hardware\n",
    "coin_prof_hardware_dict = dict(found_missing_difficulty.apply(lambda x: create_profitable_set(x), axis = 1))\n",
    "coin_prof_hardware_dict['monero']"
   ]
  },
  {
   "cell_type": "markdown",
   "metadata": {
    "toc-hr-collapsed": true
   },
   "source": [
    "## Results"
   ]
  },
  {
   "cell_type": "markdown",
   "metadata": {},
   "source": [
    "### bounds"
   ]
  },
  {
   "cell_type": "code",
   "execution_count": 18,
   "metadata": {},
   "outputs": [],
   "source": [
    "def calc_bound(coin, coin_prof_hardware_dict, lower):\n",
    "    \"\"\"\n",
    "    Returns a lower or upper bound on the electricity consumption of cryptocoins in W\n",
    "    To put Wh per year, multiply by hours_in_year\n",
    "    \"\"\"\n",
    "    if coin.name not in coin_prof_hardware_dict:\n",
    "        #print(f\"Error, no hardware for {coin.name}\")\n",
    "        return 0\n",
    "    if coin_prof_hardware_dict[coin.name].empty:\n",
    "        #print(f\"Error, no profitable hardware for {coin.name}\")\n",
    "        return 0\n",
    "    hardware = coin_prof_hardware_dict[coin.name].sort_values(by='consumption', ascending=lower).iloc[0]\n",
    "    electricity_consumption = hardware['consumption']*coin['nethash_calc']\n",
    "    return electricity_consumption"
   ]
  },
  {
   "cell_type": "code",
   "execution_count": 19,
   "metadata": {},
   "outputs": [],
   "source": [
    "found_missing_difficulty['lower_bound'] = found_missing_difficulty.apply(lambda x: calc_bound(x, coin_prof_hardware_dict, True),axis=1)\n",
    "found_missing_difficulty['upper_bound'] = found_missing_difficulty.apply(lambda x: calc_bound(x,coin_prof_hardware_dict, False),axis=1)"
   ]
  },
  {
   "cell_type": "markdown",
   "metadata": {},
   "source": [
    "### Estimate"
   ]
  },
  {
   "cell_type": "code",
   "execution_count": 20,
   "metadata": {},
   "outputs": [],
   "source": [
    "def calc_estimate(coin, coin_prof_hardware_dict):\n",
    "    \"\"\"\n",
    "    Returns an on the electricity consumption of cryptocoins in W\n",
    "    To put Wh per year, multiply by hours_in_year\n",
    "    \"\"\"\n",
    "    if coin.name not in coin_prof_hardware_dict:\n",
    "        #print(f\"Error, no hardware for {coin.name}\")\n",
    "        return 0\n",
    "    if coin_prof_hardware_dict[coin.name].empty:\n",
    "        #print(f\"Error, no profitable hardware for {coin.name}\")\n",
    "        return 0\n",
    "    prof_hardware = coin_prof_hardware_dict[coin.name]\n",
    "    num_prof_hardware = prof_hardware.shape[0]\n",
    "    hashrate_part = coin['nethash_calc']/num_prof_hardware\n",
    "    electricity_consumption = 0\n",
    "    for _, hardware in prof_hardware.iterrows():\n",
    "        electricity_consumption += hardware['consumption']*hashrate_part\n",
    "    return electricity_consumption\n",
    "    "
   ]
  },
  {
   "cell_type": "code",
   "execution_count": 21,
   "metadata": {},
   "outputs": [],
   "source": [
    "found_missing_difficulty['estimate'] = found_missing_difficulty.apply(lambda x: calc_estimate(x,coin_prof_hardware_dict),axis=1)\n",
    "result = found_missing_difficulty"
   ]
  },
  {
   "cell_type": "markdown",
   "metadata": {},
   "source": [
    "## Extrapollation of energy use of other crypto coins"
   ]
  },
  {
   "cell_type": "markdown",
   "metadata": {},
   "source": [
    "What percent of crypto market cap is represented in the dataset?"
   ]
  },
  {
   "cell_type": "code",
   "execution_count": 22,
   "metadata": {},
   "outputs": [
    {
     "name": "stdout",
     "output_type": "stream",
     "text": [
      "The webscrabed data represents 95.39999999999999% of the market cap of the top 100, and 72.7% of the total market cap\n"
     ]
    }
   ],
   "source": [
    "found_market_cap = found_data['market_cap'].sum()\n",
    "top100_market_cap = mineable_100['market_cap'].sum()\n",
    "total_market_cap =  186318558825 #https://coinmarketcap.com/charts/\n",
    "print(f'The webscrabed data represents {round(found_market_cap/top100_market_cap,3)*100}% of the market cap of the top 100, and {round(found_market_cap/total_market_cap,3)*100}% of the total market cap')"
   ]
  },
  {
   "cell_type": "code",
   "execution_count": 23,
   "metadata": {},
   "outputs": [
    {
     "name": "stdout",
     "output_type": "stream",
     "text": [
      "The manual data represents 95.0% of the market cap of the top 100, and 72.5% of the total market cap\n"
     ]
    }
   ],
   "source": [
    "found_data_energy = result[result['estimate'] != 0]\n",
    "found_manual_market_cap = result['market_cap'].sum()\n",
    "print(f'The manual data represents {round(found_manual_market_cap/top100_market_cap,3)*100}% of the market cap of the top 100, and {round(found_manual_market_cap/total_market_cap,3)*100}% of the total market cap')"
   ]
  },
  {
   "cell_type": "markdown",
   "metadata": {},
   "source": [
    "Looking up all the other initial difficulties (~15 more coins) would only gain us an additional 0.4% of the total market cap"
   ]
  },
  {
   "cell_type": "code",
   "execution_count": 24,
   "metadata": {},
   "outputs": [
    {
     "data": {
      "image/png": "[encoded data removed]",
      "text/plain": [
       "<Figure size 432x288 with 1 Axes>"
      ]
     },
     "metadata": {
      "needs_background": "light"
     },
     "output_type": "display_data"
    }
   ],
   "source": [
    "result['estimate'].plot(kind='bar')\n",
    "plt.yscale('log')\n",
    "plt.xticks(rotation=45)\n",
    "plt.ylabel('annual energy consumption (in Wh)')\n",
    "plt.xlabel('coin')\n",
    "plt.title('Annual energy consumption of different cryptocurrencies')\n",
    "plt.show()"
   ]
  },
  {
   "cell_type": "code",
   "execution_count": 25,
   "metadata": {},
   "outputs": [
    {
     "data": {
      "image/png": "[encoded data removed]",
      "text/plain": [
       "<Figure size 432x288 with 1 Axes>"
      ]
     },
     "metadata": {
      "needs_background": "light"
     },
     "output_type": "display_data"
    }
   ],
   "source": [
    "plt.scatter(result['market_cap'],result['estimate'])\n",
    "plt.yscale('log')\n",
    "plt.ylabel('annual energy consumption (Wh)')\n",
    "plt.xscale('log')\n",
    "plt.xlabel('market cap ($)')\n",
    "plt.xticks(rotation=45)\n",
    "plt.title('Annual energy consumption vs market cap of cryptocurrencies')\n",
    "plt.show()"
   ]
  },
  {
   "cell_type": "markdown",
   "metadata": {},
   "source": [
    "Linear correlation between market cap and energy consumption with some outliers (e.g. Dogecoin, which uses auxilary POW with litecoin"
   ]
  },
  {
   "cell_type": "code",
   "execution_count": 26,
   "metadata": {},
   "outputs": [],
   "source": [
    "nethash_calc = result[result['estimate'] != 0].sort_values(by='algorithm')"
   ]
  },
  {
   "cell_type": "code",
   "execution_count": 27,
   "metadata": {},
   "outputs": [
    {
     "data": {
      "image/png": "[encoded data removed]",
      "text/plain": [
       "<Figure size 432x288 with 1 Axes>"
      ]
     },
     "metadata": {
      "needs_background": "light"
     },
     "output_type": "display_data"
    }
   ],
   "source": [
    "cdict= {'Equihash':'blue', 'Ethash':'grey','Lyra2REv2':'green','RandomX':'black','SHA-256':'red','Scrypt':'orange','X11':'lightgreen','X16Rv2':'purple'}\n",
    "cmap = nethash_calc['algorithm'].apply(lambda x: cdict[x])\n",
    "plt.scatter(nethash_calc['market_cap'],nethash_calc['estimate'],c=cmap,label=nethash_calc['algorithm'])\n",
    "plt.yscale('log')\n",
    "plt.ylabel('nethash calculated')\n",
    "plt.xscale('log')\n",
    "plt.xlabel('market cap ($)')\n",
    "plt.xticks(rotation=45)\n",
    "plt.title('Nethash calculated vs market cap of cryptocurrencies')\n",
    "plt.show()"
   ]
  },
  {
   "cell_type": "markdown",
   "metadata": {},
   "source": [
    "# Revenue based estimation"
   ]
  },
  {
   "cell_type": "markdown",
   "metadata": {},
   "source": [
    "Here we calculate an upper bound and estimate, assuming all revenues are used to cover the electricity costs\n",
    "Upper bound: use minimum electricity cost (wet-season)\n",
    "Estimate: use avg electricity cost"
   ]
  },
  {
   "cell_type": "code",
   "execution_count": 28,
   "metadata": {},
   "outputs": [],
   "source": [
    "def revenue_based_estimation(data):\n",
    "    \"\"\" \n",
    "    Returns the electricity use (in Watts) if 100% of revenues are used for electricity costs\n",
    "    \"\"\"\n",
    "    bounds = []\n",
    "    for data_daily in data:\n",
    "        revenue_data = data_daily[['#', 'market_cap', 'price', 'block_time', 'block_reward']]\n",
    "        revenue_data = revenue_data[~revenue_data.isnull().any(axis=1)].copy()\n",
    "        revenue_data['revenue_per_sec'] = revenue_data['price']*revenue_data['block_reward']/revenue_data['block_time']\n",
    "\n",
    "        revenue_data['estimate'] = revenue_data['revenue_per_sec']*kWh_to_W/avg_electricity_price \n",
    "        revenue_data['upper_bound'] = revenue_data['revenue_per_sec']*kWh_to_W/min_electricity_price \n",
    "        \n",
    "        bounds.append(revenue_data[['estimate','upper_bound', 'market_cap']])\n",
    "        \n",
    "    return bounds"
   ]
  },
  {
   "cell_type": "markdown",
   "metadata": {},
   "source": [
    "# Electronic waste "
   ]
  },
  {
   "cell_type": "markdown",
   "metadata": {},
   "source": [
    "Assume only ASIC's contribute to waste\n",
    "\n",
    "- If only ASIC: all waste\n",
    "- If ASIC&GPU: upper-bound: all ASIC, estimate: evenly distributed"
   ]
  },
  {
   "cell_type": "code",
   "execution_count": 29,
   "metadata": {},
   "outputs": [
    {
     "data": {
      "text/html": [
       "<div>\n",
       "<style scoped>\n",
       "    .dataframe tbody tr th:only-of-type {\n",
       "        vertical-align: middle;\n",
       "    }\n",
       "\n",
       "    .dataframe tbody tr th {\n",
       "        vertical-align: top;\n",
       "    }\n",
       "\n",
       "    .dataframe thead th {\n",
       "        text-align: right;\n",
       "    }\n",
       "</style>\n",
       "<table border=\"1\" class=\"dataframe\">\n",
       "  <thead>\n",
       "    <tr style=\"text-align: right;\">\n",
       "      <th></th>\n",
       "      <th>upper bound</th>\n",
       "      <th>estimate</th>\n",
       "    </tr>\n",
       "    <tr>\n",
       "      <th>coin</th>\n",
       "      <th></th>\n",
       "      <th></th>\n",
       "    </tr>\n",
       "  </thead>\n",
       "  <tbody>\n",
       "    <tr>\n",
       "      <th>bitcoin</th>\n",
       "      <td>0.000091</td>\n",
       "      <td>0.000091</td>\n",
       "    </tr>\n",
       "    <tr>\n",
       "      <th>ethereum</th>\n",
       "      <td>1.375993</td>\n",
       "      <td>0.305776</td>\n",
       "    </tr>\n",
       "    <tr>\n",
       "      <th>bitcoinsv</th>\n",
       "      <td>0.000002</td>\n",
       "      <td>0.000002</td>\n",
       "    </tr>\n",
       "    <tr>\n",
       "      <th>litecoin</th>\n",
       "      <td>0.065147</td>\n",
       "      <td>0.065147</td>\n",
       "    </tr>\n",
       "    <tr>\n",
       "      <th>monero</th>\n",
       "      <td>0.000000</td>\n",
       "      <td>0.000000</td>\n",
       "    </tr>\n",
       "    <tr>\n",
       "      <th>dash</th>\n",
       "      <td>0.000000</td>\n",
       "      <td>0.000000</td>\n",
       "    </tr>\n",
       "    <tr>\n",
       "      <th>ethereumclassic</th>\n",
       "      <td>0.081373</td>\n",
       "      <td>0.018083</td>\n",
       "    </tr>\n",
       "    <tr>\n",
       "      <th>zcash</th>\n",
       "      <td>610.069297</td>\n",
       "      <td>610.069297</td>\n",
       "    </tr>\n",
       "    <tr>\n",
       "      <th>dogecoin</th>\n",
       "      <td>0.010533</td>\n",
       "      <td>0.001755</td>\n",
       "    </tr>\n",
       "    <tr>\n",
       "      <th>ravencoin</th>\n",
       "      <td>0.000000</td>\n",
       "      <td>0.000000</td>\n",
       "    </tr>\n",
       "    <tr>\n",
       "      <th>monacoin</th>\n",
       "      <td>0.000000</td>\n",
       "      <td>0.000000</td>\n",
       "    </tr>\n",
       "    <tr>\n",
       "      <th>horizen</th>\n",
       "      <td>80.498199</td>\n",
       "      <td>80.498199</td>\n",
       "    </tr>\n",
       "    <tr>\n",
       "      <th>komodo</th>\n",
       "      <td>7.322622</td>\n",
       "      <td>7.322622</td>\n",
       "    </tr>\n",
       "    <tr>\n",
       "      <th>litecoincash</th>\n",
       "      <td>0.000000</td>\n",
       "      <td>0.000000</td>\n",
       "    </tr>\n",
       "  </tbody>\n",
       "</table>\n",
       "</div>"
      ],
      "text/plain": [
       "                 upper bound    estimate\n",
       "coin                                    \n",
       "bitcoin             0.000091    0.000091\n",
       "ethereum            1.375993    0.305776\n",
       "bitcoinsv           0.000002    0.000002\n",
       "litecoin            0.065147    0.065147\n",
       "monero              0.000000    0.000000\n",
       "dash                0.000000    0.000000\n",
       "ethereumclassic     0.081373    0.018083\n",
       "zcash             610.069297  610.069297\n",
       "dogecoin            0.010533    0.001755\n",
       "ravencoin           0.000000    0.000000\n",
       "monacoin            0.000000    0.000000\n",
       "horizen            80.498199   80.498199\n",
       "komodo              7.322622    7.322622\n",
       "litecoincash        0.000000    0.000000"
      ]
     },
     "execution_count": 29,
     "metadata": {},
     "output_type": "execute_result"
    }
   ],
   "source": [
    "waste = pd.DataFrame(columns=['coin','upper bound', 'estimate']).set_index('coin',drop=True)\n",
    "for coin, hardware in coin_prof_hardware_dict.items():\n",
    "    hardware_waste = hardware.copy()\n",
    "    if hardware.empty:\n",
    "        waste.loc[coin] = [0, 0]\n",
    "        continue\n",
    "    num_asic = np.sum(hardware['type']=='ASIC')\n",
    "    num_hardware = hardware.shape[0]\n",
    "    \n",
    "    # Upper bound, all ASIC\n",
    "    partial_hashrate = result.loc[coin,'estimate']/num_asic\n",
    "    hardware_waste['qty_upper'] = hardware_waste.apply(lambda x: partial_hashrate/x['hashing_power'] if x.type == 'ASIC' else 0, axis = 1)\n",
    "        \n",
    "    # Estimate, evenly distributed\n",
    "    partial_hashrate = result.loc[coin,'estimate']/num_hardware\n",
    "    hardware_waste['qty_estimate'] = hardware_waste.apply(lambda x: partial_hashrate/x['hashing_power'] if x.type == 'ASIC' else 0, axis=1)\n",
    "    \n",
    "    waste.loc[coin] = [np.sum(hardware_waste['qty_upper']), np.sum(hardware_waste['qty_estimate'])]\n",
    "waste"
   ]
  },
  {
   "cell_type": "code",
   "execution_count": 30,
   "metadata": {},
   "outputs": [],
   "source": [
    "# Weight in kg\n",
    "def hardware_weight(coin): \n",
    "    if coin['algorithm'] == 'SHA-256':\n",
    "        return 4.56\n",
    "    if coin['algorithm'] == 'Scrypt':\n",
    "        return 2.5\n",
    "    if coin['algorithm'] == 'Ethash':\n",
    "        return 10.5\n",
    "    if coin['algorithm'] == 'Equihash':\n",
    "        return 5.500\n",
    "    return 0"
   ]
  },
  {
   "cell_type": "code",
   "execution_count": 31,
   "metadata": {},
   "outputs": [],
   "source": [
    "#elec_waste = found_data[['#', 'tag', 'algorithm', 'num_hardware']].copy()\n",
    "#elec_waste['weight_hardware'] = elec_waste.apply(lambda x: hardware_weight(x), axis=1)"
   ]
  },
  {
   "cell_type": "code",
   "execution_count": 32,
   "metadata": {},
   "outputs": [],
   "source": [
    "#elec_waste['waste'] = elec_waste['weight_hardware']*elec_waste['num_hardware']/1.5\n",
    "#elec_waste"
   ]
  },
  {
   "cell_type": "markdown",
   "metadata": {
    "toc-hr-collapsed": false
   },
   "source": [
    "# Results"
   ]
  },
  {
   "cell_type": "code",
   "execution_count": 33,
   "metadata": {},
   "outputs": [],
   "source": [
    "def calc_hardware_bounds(bounds):\n",
    "    \"\"\"\n",
    "    Adds the PUE and sums over all coins\n",
    "    \"\"\"\n",
    "    hardware_bounds = {'upper': [], 'lower': [], 'estimate': [], 'market_cap': []}    \n",
    "    for bounds_day in bounds:\n",
    "        lower_bound = np.sum(bounds_day['lower_bound'])*LOWER_PUE\n",
    "        estimate = np.sum(bounds_day['estimate'])*ESTIMATE_PUE\n",
    "        upper_bound = np.sum(bounds_day['upper_bound'])*UPPER_PUE\n",
    "        market_cap = np.sum(bounds_day['market_cap'])\n",
    "        \n",
    "        hardware_bounds['lower'].append(lower_bound)\n",
    "        hardware_bounds['estimate'].append(estimate)\n",
    "        hardware_bounds['upper'].append(upper_bound)\n",
    "        hardware_bounds['market_cap'].append(market_cap)\n",
    "\n",
    "    return hardware_bounds"
   ]
  },
  {
   "cell_type": "code",
   "execution_count": 34,
   "metadata": {},
   "outputs": [],
   "source": [
    "def calc_revenue_bounds(bounds, revenue_percent = 0.60):\n",
    "    revenue_bounds = {'upper': [], 'lower': [], 'estimate': [], 'market_cap': []}    \n",
    "    for bounds_day in bounds:\n",
    "        \n",
    "        upper_bound = np.sum(bounds_day['upper_bound'])\n",
    "        estimate = np.sum(bounds_day['estimate'])\n",
    "        market_cap = np.sum(bounds_day['market_cap'])\n",
    "        \n",
    "        revenue_bounds['upper'].append(upper_bound)\n",
    "        revenue_bounds['estimate'].append(estimate*revenue_percent)\n",
    "        revenue_bounds['market_cap'].append(market_cap)\n",
    "    \n",
    "    return revenue_bounds"
   ]
  },
  {
   "cell_type": "code",
   "execution_count": 36,
   "metadata": {},
   "outputs": [],
   "source": [
    "dates = []\n",
    "data = []\n",
    "# Read in data\n",
    "for file in os.listdir(HIST_PATH):\n",
    "    # Load the daily data in a list\n",
    "    data_day = pd.read_csv(HIST_PATH+file)\n",
    "    data_day = clean_mineable_data(data_day)\n",
    "    data.append(data_day)\n",
    "\n",
    "    # Get the dates in a list\n",
    "    date = datetime.strptime(file[13:23], '%m-%d-%Y')\n",
    "    dates.append(date)"
   ]
  },
  {
   "cell_type": "code",
   "execution_count": 37,
   "metadata": {},
   "outputs": [],
   "source": [
    "# Get hardware bounds\n",
    "hardware_bounds_coin = hardware_based_estimation(data, moving_avg_time, growth_factor)\n",
    "hardware_bounds_total = calc_hardware_bounds(hardware_bounds_coin)"
   ]
  },
  {
   "cell_type": "code",
   "execution_count": 38,
   "metadata": {},
   "outputs": [],
   "source": [
    "# Get revenue bounds\n",
    "revenue_bounds_coin = revenue_based_estimation(data)\n",
    "revenue_bounds_total = calc_revenue_bounds(revenue_bounds_coin, revenue_percent)"
   ]
  },
  {
   "cell_type": "code",
   "execution_count": 39,
   "metadata": {},
   "outputs": [],
   "source": [
    "# Get market cap of the used data\n",
    "hardware_market_cap_hist = pd.Series(hardware_bounds_total['market_cap'])\n",
    "# Get total market cap of data\n",
    "total_market_cap_hist = pd.Series(revenue_bounds_total['market_cap'])"
   ]
  },
  {
   "cell_type": "code",
   "execution_count": 72,
   "metadata": {},
   "outputs": [],
   "source": [
    "# Average bounds and market cap over dates per coin\n",
    "\n",
    "coin_hardware_date = {'lower_bound': pd.DataFrame(), 'upper_bound': pd.DataFrame(), 'estimate': pd.DataFrame(), 'market_cap': pd.DataFrame()}\n",
    "\n",
    "for i, data_day in enumerate(hardware_bounds_coin):\n",
    "    coin_hardware_date['lower_bound'][i] = data_day['lower_bound']\n",
    "    coin_hardware_date['upper_bound'][i] = data_day['upper_bound']\n",
    "    coin_hardware_date['estimate'][i] = data_day['estimate']\n",
    "    coin_hardware_date['market_cap'][i] = data_day['market_cap']\n",
    "\n",
    "coin_hardware_avg = {}\n",
    "\n",
    "for bound, data in coin_hardware_date.items():\n",
    "    coin_hardware_avg[bound] = data.mean(axis=1)  "
   ]
  },
  {
   "cell_type": "markdown",
   "metadata": {},
   "source": [
    "## Hardware based"
   ]
  },
  {
   "cell_type": "code",
   "execution_count": 40,
   "metadata": {},
   "outputs": [
    {
     "data": {
      "image/png": "[encoded data removed]",
      "text/plain": [
       "<Figure size 432x288 with 1 Axes>"
      ]
     },
     "metadata": {
      "needs_background": "light"
     },
     "output_type": "display_data"
    }
   ],
   "source": [
    "plt.plot(dates, hardware_bounds_total['lower'])\n",
    "plt.plot(dates, hardware_bounds_total['estimate'])\n",
    "plt.plot(dates, hardware_bounds_total['upper'])\n",
    "plt.xticks(rotation=45)\n",
    "plt.ylabel(\"Electricity consumption (W)\")\n",
    "plt.xlabel(\"Date\")\n",
    "plt.show()"
   ]
  },
  {
   "cell_type": "markdown",
   "metadata": {},
   "source": [
    "## Revenue based"
   ]
  },
  {
   "cell_type": "code",
   "execution_count": 41,
   "metadata": {},
   "outputs": [
    {
     "data": {
      "image/png": "[encoded data removed]",
      "text/plain": [
       "<Figure size 432x288 with 1 Axes>"
      ]
     },
     "metadata": {
      "needs_background": "light"
     },
     "output_type": "display_data"
    }
   ],
   "source": [
    "plt.plot(dates, revenue_bounds_total['upper'])\n",
    "plt.plot(dates, revenue_bounds_total['estimate'])\n",
    "plt.xticks(rotation=45)\n",
    "plt.ylabel(\"Electricity consumption (W)\")\n",
    "plt.xlabel(\"Date\")\n",
    "plt.show()"
   ]
  },
  {
   "cell_type": "markdown",
   "metadata": {},
   "source": [
    "## Extrapolation"
   ]
  },
  {
   "cell_type": "markdown",
   "metadata": {},
   "source": [
    "### Market share"
   ]
  },
  {
   "cell_type": "markdown",
   "metadata": {},
   "source": [
    "First calculate what part of top100 mineable and of total market cap we capture with our data"
   ]
  },
  {
   "cell_type": "code",
   "execution_count": 42,
   "metadata": {},
   "outputs": [
    {
     "name": "stdout",
     "output_type": "stream",
     "text": [
      "The hardware based estimation represents minimum 96.1%, maximum 98.52%\n",
      " and on average 97.5% of the market cap of the mineable top 100\n"
     ]
    }
   ],
   "source": [
    "hardware_data_market = hardware_market_cap_hist/total_market_cap_hist\n",
    "print(f'The hardware based estimation represents minimum {round(hardware_data_market.min(),3)*100}%, maximum {round(hardware_data_market.max(),4)*100}%\\n\\\n",
    " and on average {round(hardware_data_market.mean(),3)*100}% of the market cap of the mineable top 100')"
   ]
  },
  {
   "cell_type": "code",
   "execution_count": 43,
   "metadata": {},
   "outputs": [
    {
     "name": "stdout",
     "output_type": "stream",
     "text": [
      "This is 92.53% of the total mineable market cap on 21/04/2020\n"
     ]
    }
   ],
   "source": [
    "# Data of 21/04/2020\n",
    "mineable_market_cap_hist = pd.read_csv(DATA_PATH+'mineable_all.csv')\n",
    "mineable_market_cap_hist = mineable_market_cap_hist['market_cap'].apply(clean_int)\n",
    "mineable_market_cap_sum = mineable_market_cap_hist.sum()\n",
    "hardware_mineable_share = hardware_market_cap_hist[34]/mineable_market_cap_sum\n",
    "print(f'This is {round(hardware_mineable_share,4)*100}% of the total mineable market cap on 21/04/2020')"
   ]
  },
  {
   "cell_type": "code",
   "execution_count": 48,
   "metadata": {},
   "outputs": [
    {
     "name": "stdout",
     "output_type": "stream",
     "text": [
      "The top 100 captures 95.7% of the total mineable market\n"
     ]
    }
   ],
   "source": [
    "top100_share = total_market_cap_hist[len(total_market_cap_hist)-1]/mineable_market_cap_sum\n",
    "print(f'The top 100 captures {round(top100_share,3)*100}% of the total mineable market')"
   ]
  },
  {
   "cell_type": "markdown",
   "metadata": {},
   "source": [
    "This means that, if our hypothesis is correct, we can divide our result bij 0.95 to get the total energy consumption of the mineable market"
   ]
  },
  {
   "cell_type": "code",
   "execution_count": 49,
   "metadata": {},
   "outputs": [
    {
     "name": "stdout",
     "output_type": "stream",
     "text": [
      "This is minimum 69.49%, maximum 80.17999999999999% and on average 75.6% of the total market cap\n"
     ]
    }
   ],
   "source": [
    "# Get total market cap from https://p.nomics.com/cryptocurrency-bitcoin-api\n",
    "url = \"https://api.nomics.com/v1/market-cap/history?key=demo-26240835858194712a4f8cc0dc635c7a&start=2020-03-18T00%3A00%3A00Z\"\n",
    "total_market_cap_hist = pd.DataFrame(json.loads(urllib.request.urlopen(url).read()))['market_cap'].astype(float)\n",
    "hardware_data_share_total = hardware_market_cap_hist/total_market_cap_hist\n",
    "\n",
    "print(f'This is minimum {round(hardware_data_share_total.min(),4)*100}%, maximum {round(hardware_data_share_total.max(),4)*100}%\\\n",
    " and on average {round(hardware_data_share_total.mean(),3)*100}% of the total market cap')"
   ]
  },
  {
   "cell_type": "markdown",
   "metadata": {},
   "source": [
    "### Hypothesis testing"
   ]
  },
  {
   "cell_type": "code",
   "execution_count": 78,
   "metadata": {},
   "outputs": [],
   "source": [
    "market_cap_mean = coin_hardware_avg['market_cap']\n",
    "energy_consumption_mean = coin_hardware_avg['estimate']"
   ]
  },
  {
   "cell_type": "code",
   "execution_count": 79,
   "metadata": {},
   "outputs": [],
   "source": [
    "found_data_energy = pd.concat([energy_consumption_mean,market_cap_mean],axis=1, keys=[\"energy_consumption\", \"market_cap\"])\n",
    "# Drop 0 values\n",
    "found_data_energy = found_data_energy[found_data_energy['energy_consumption'] != 0]"
   ]
  },
  {
   "cell_type": "code",
   "execution_count": 80,
   "metadata": {},
   "outputs": [
    {
     "data": {
      "image/png": "[encoded data removed]",
      "text/plain": [
       "<Figure size 864x648 with 1 Axes>"
      ]
     },
     "metadata": {
      "needs_background": "light"
     },
     "output_type": "display_data"
    }
   ],
   "source": [
    "plt.figure(figsize=(12,9))\n",
    "\n",
    "found_data_energy['energy_consumption'].plot(kind='bar')\n",
    "plt.yscale('log')\n",
    "plt.xticks(rotation=45)\n",
    "plt.ylabel('Annual energy consumption (in W)')\n",
    "plt.xlabel('Coin')\n",
    "plt.title('Annual electricity consumption of different cryptocurrencies')\n",
    "plt.show()"
   ]
  },
  {
   "cell_type": "code",
   "execution_count": 81,
   "metadata": {},
   "outputs": [
    {
     "data": {
      "image/png": "[encoded data removed]",
      "text/plain": [
       "<Figure size 1008x720 with 1 Axes>"
      ]
     },
     "metadata": {
      "needs_background": "light"
     },
     "output_type": "display_data"
    }
   ],
   "source": [
    "plt.figure(figsize=(14,10))\n",
    "\n",
    "plt.scatter(found_data_energy['market_cap'],found_data_energy['energy_consumption'])\n",
    "z = np.polyfit(found_data_energy['market_cap'],found_data_energy['energy_consumption'], 5)\n",
    "p = np.poly1d(z)\n",
    "plt.plot(found_data_energy['market_cap'],p(found_data_energy['market_cap']),\"r--\")\n",
    "plt.xscale('log')\n",
    "plt.yscale('log')\n",
    "plt.xlabel('Market cap ($)')\n",
    "plt.ylabel('Annual energy consumption (W)')\n",
    "plt.xticks(rotation=45)\n",
    "plt.title('Annual energy consumption vs market cap of cryptocurrencies')\n",
    "plt.show()"
   ]
  },
  {
   "cell_type": "markdown",
   "metadata": {},
   "source": [
    "## Combining all results"
   ]
  },
  {
   "cell_type": "markdown",
   "metadata": {},
   "source": [
    "- Hardware based\n",
    "- Revenue based\n",
    "- BECI\n",
    "- CBECI"
   ]
  },
  {
   "cell_type": "code",
   "execution_count": 82,
   "metadata": {},
   "outputs": [
    {
     "ename": "NameError",
     "evalue": "name 'hardware_bounds' is not defined",
     "output_type": "error",
     "traceback": [
      "\u001b[1;31m---------------------------------------------------------------------------\u001b[0m",
      "\u001b[1;31mNameError\u001b[0m                                 Traceback (most recent call last)",
      "\u001b[1;32m<ipython-input-82-f33380a50734>\u001b[0m in \u001b[0;36m<module>\u001b[1;34m\u001b[0m\n\u001b[0;32m      1\u001b[0m \u001b[0mplt\u001b[0m\u001b[1;33m.\u001b[0m\u001b[0mclose\u001b[0m\u001b[1;33m(\u001b[0m\u001b[1;33m)\u001b[0m\u001b[1;33m\u001b[0m\u001b[1;33m\u001b[0m\u001b[0m\n\u001b[0;32m      2\u001b[0m \u001b[0mplt\u001b[0m\u001b[1;33m.\u001b[0m\u001b[0mfigure\u001b[0m\u001b[1;33m(\u001b[0m\u001b[0mfigsize\u001b[0m\u001b[1;33m=\u001b[0m\u001b[1;33m(\u001b[0m\u001b[1;36m14\u001b[0m\u001b[1;33m,\u001b[0m\u001b[1;36m10\u001b[0m\u001b[1;33m)\u001b[0m\u001b[1;33m)\u001b[0m\u001b[1;33m\u001b[0m\u001b[1;33m\u001b[0m\u001b[0m\n\u001b[1;32m----> 3\u001b[1;33m \u001b[0mplt\u001b[0m\u001b[1;33m.\u001b[0m\u001b[0mplot\u001b[0m\u001b[1;33m(\u001b[0m\u001b[0mdates\u001b[0m\u001b[1;33m,\u001b[0m \u001b[0mhardware_bounds\u001b[0m\u001b[1;33m[\u001b[0m\u001b[1;34m'estimate'\u001b[0m\u001b[1;33m]\u001b[0m\u001b[1;33m,\u001b[0m \u001b[0mlabel\u001b[0m\u001b[1;33m=\u001b[0m\u001b[1;34m\"hardware estimate\"\u001b[0m\u001b[1;33m,\u001b[0m \u001b[0mcolor\u001b[0m\u001b[1;33m=\u001b[0m\u001b[1;34m\"blue\"\u001b[0m\u001b[1;33m)\u001b[0m\u001b[1;33m\u001b[0m\u001b[1;33m\u001b[0m\u001b[0m\n\u001b[0m\u001b[0;32m      4\u001b[0m \u001b[0mplt\u001b[0m\u001b[1;33m.\u001b[0m\u001b[0mplot\u001b[0m\u001b[1;33m(\u001b[0m\u001b[0mdates\u001b[0m\u001b[1;33m,\u001b[0m \u001b[0mhardware_bounds\u001b[0m\u001b[1;33m[\u001b[0m\u001b[1;34m'lower'\u001b[0m\u001b[1;33m]\u001b[0m\u001b[1;33m,\u001b[0m \u001b[0mlabel\u001b[0m\u001b[1;33m=\u001b[0m\u001b[1;34m\"hardware lower bound\"\u001b[0m\u001b[1;33m,\u001b[0m\u001b[0mcolor\u001b[0m\u001b[1;33m=\u001b[0m\u001b[1;34m\"green\"\u001b[0m\u001b[1;33m)\u001b[0m\u001b[1;33m\u001b[0m\u001b[1;33m\u001b[0m\u001b[0m\n\u001b[0;32m      5\u001b[0m \u001b[0mplt\u001b[0m\u001b[1;33m.\u001b[0m\u001b[0mplot\u001b[0m\u001b[1;33m(\u001b[0m\u001b[0mdates\u001b[0m\u001b[1;33m,\u001b[0m \u001b[0mhardware_bounds\u001b[0m\u001b[1;33m[\u001b[0m\u001b[1;34m'upper'\u001b[0m\u001b[1;33m]\u001b[0m\u001b[1;33m,\u001b[0m \u001b[0mlabel\u001b[0m\u001b[1;33m=\u001b[0m\u001b[1;34m\"hardware upper bound\"\u001b[0m\u001b[1;33m,\u001b[0m \u001b[0mcolor\u001b[0m\u001b[1;33m=\u001b[0m\u001b[1;34m\"red\"\u001b[0m\u001b[1;33m)\u001b[0m\u001b[1;33m\u001b[0m\u001b[1;33m\u001b[0m\u001b[0m\n",
      "\u001b[1;31mNameError\u001b[0m: name 'hardware_bounds' is not defined"
     ]
    },
    {
     "data": {
      "text/plain": [
       "<Figure size 1008x720 with 0 Axes>"
      ]
     },
     "metadata": {},
     "output_type": "display_data"
    }
   ],
   "source": [
    "plt.figure(figsize=(14,10))\n",
    "plt.plot(dates, hardware_bounds['estimate'], label=\"hardware estimate\", color=\"blue\")\n",
    "plt.plot(dates, hardware_bounds['lower'], label=\"hardware lower bound\",color=\"green\")\n",
    "plt.plot(dates, hardware_bounds['upper'], label=\"hardware upper bound\", color=\"red\")\n",
    "plt.plot(dates, revenue_bounds['upper'], label=\"revenue upper bound\", color=\"#FA9883\")\n",
    "plt.plot(dates, revenue_bounds['estimate'], label=\"revenue estimate\", color=\"lightblue\")\n",
    "plt.xticks(rotation=45)\n",
    "plt.ylabel(\"Electricity consumption (W)\")\n",
    "plt.xlabel(\"Date\")\n",
    "plt.legend()\n",
    "plt.show()"
   ]
  },
  {
   "cell_type": "markdown",
   "metadata": {
    "toc-hr-collapsed": true
   },
   "source": [
    "# Old"
   ]
  },
  {
   "cell_type": "markdown",
   "metadata": {},
   "source": [
    "## First web-based trial (OLD)"
   ]
  },
  {
   "cell_type": "markdown",
   "metadata": {},
   "source": [
    "First, we calculate a lower bound by using only the most efficient hardware"
   ]
  },
  {
   "cell_type": "code",
   "execution_count": null,
   "metadata": {},
   "outputs": [],
   "source": [
    "def hardware_hashrate(coin): # Max hashes per second for the hardware\n",
    "    if coin['algorithm'] == 'SHA-256':\n",
    "        return 16*10**12\n",
    "    if coin['algorithm'] == 'Scrypt':\n",
    "        return 504*10**6\n",
    "    if coin['algorithm'] == 'Ethash':\n",
    "        return 190*10**6\n",
    "    if coin['algorithm'] == 'Equihash':\n",
    "        return 42*10**3\n",
    "    return 0"
   ]
  },
  {
   "cell_type": "code",
   "execution_count": null,
   "metadata": {},
   "outputs": [],
   "source": [
    "# Energy use in Watts\n",
    "def hardware_consumption(coin): \n",
    "    if coin['algorithm'] == 'SHA-256':\n",
    "        return 1280\n",
    "    if coin['algorithm'] == 'Scrypt':\n",
    "        return 970\n",
    "    if coin['algorithm'] == 'Ethash':\n",
    "        return 800\n",
    "    if coin['algorithm'] == 'Equihash':\n",
    "        return 760\n",
    "    return 0"
   ]
  },
  {
   "cell_type": "code",
   "execution_count": null,
   "metadata": {},
   "outputs": [],
   "source": [
    "def hardware_consumption_hash(coin): # Joule per hash\n",
    "    if coin['algorithm'] == 'SHA-256':\n",
    "        return 0.1/(10**9)\n",
    "    if coin['algorithm'] == 'Scrypt':\n",
    "        return 1.6/(10**6) # Antminer L3+ https://www.asicminervalue.com/miners/bitmain/antminer-l3-504mh\n",
    "    if coin['algorithm'] == 'Ethash':\n",
    "        return 4/(10**6) # Bitmain Antminer E3 – Ethereum 190 MH/S\n",
    "    else: \n",
    "        return 0"
   ]
  },
  {
   "cell_type": "code",
   "execution_count": null,
   "metadata": {},
   "outputs": [],
   "source": [
    "def calc_num_hardware(coin):\n",
    "    if coin['hardware_hashrate'] == 0:\n",
    "        return 0\n",
    "    if coin['nethash_calc'] != 0:\n",
    "        return coin['nethash_calc']/coin['hardware_hashrate'] \n",
    "    else:\n",
    "        return coin['nethash_scraped']/coin['hardware_hashrate']"
   ]
  },
  {
   "cell_type": "code",
   "execution_count": null,
   "metadata": {},
   "outputs": [],
   "source": [
    "found_data['difficulty_factor'] = found_data.apply(lambda x: difficulty_factor(x), axis=1)\n",
    "found_data['hardware_hashrate'] = found_data.apply(lambda x: hardware_hashrate(x), axis=1)\n",
    "found_data['hardware_consumption'] = found_data.apply(lambda x: hardware_consumption(x), axis=1)"
   ]
  },
  {
   "cell_type": "code",
   "execution_count": null,
   "metadata": {},
   "outputs": [],
   "source": [
    "found_data['nethash_calc'] = found_data['difficulty']*found_data['difficulty_factor']/found_data['block_time'] # amount of hashes per second\n",
    "found_data['num_hardware'] = found_data.apply(lambda x: calc_num_hardware(x),axis=1)\n",
    "found_data['energy_per_second'] = found_data['num_hardware']*found_data['hardware_consumption'] # in Watt\n",
    "found_data['annual_energy'] = found_data['energy_per_second']*8760 # hours in a year\n",
    "found_data"
   ]
  },
  {
   "cell_type": "code",
   "execution_count": null,
   "metadata": {},
   "outputs": [],
   "source": [
    "found_data_difficulty = found_data[found_data['difficulty_factor'] != 0]\n",
    "print(found_data_difficulty[[\"#\", \"algorithm\", \"difficulty_factor\"]].to_latex())"
   ]
  },
  {
   "cell_type": "code",
   "execution_count": null,
   "metadata": {},
   "outputs": [],
   "source": []
  },
  {
   "cell_type": "code",
   "execution_count": null,
   "metadata": {},
   "outputs": [],
   "source": []
  },
  {
   "cell_type": "code",
   "execution_count": null,
   "metadata": {},
   "outputs": [],
   "source": [
    "total_energy_crypto = np.sum(found_data['annual_energy'])\n",
    "total_energy_crypto_TWh = total_energy_crypto/10**12\n",
    "total_energy_crypto_TWh"
   ]
  },
  {
   "cell_type": "code",
   "execution_count": null,
   "metadata": {},
   "outputs": [],
   "source": [
    "total_energy_world_TWh = 19504 # TWh "
   ]
  },
  {
   "cell_type": "code",
   "execution_count": null,
   "metadata": {},
   "outputs": [],
   "source": [
    "total_energy_crypto_TWh/total_energy_world_TWh"
   ]
  },
  {
   "cell_type": "markdown",
   "metadata": {},
   "source": [
    "0.4% of global electricity"
   ]
  },
  {
   "cell_type": "markdown",
   "metadata": {},
   "source": [
    "## Results function"
   ]
  },
  {
   "cell_type": "markdown",
   "metadata": {},
   "source": [
    "dates = []\n",
    "hardware_bounds = {'upper': [], 'lower': [], 'estimate': [], 'market_cap': []}\n",
    "revenue_bounds = {'upper': [], 'estimate': []}\n",
    "\n",
    "# Used to check hypothesis and extrapollation\n",
    "market_cap_hardware = pd.DataFrame()\n",
    "coin_energy = pd.DataFrame()\n",
    "market_caps_total = []\n",
    "\n",
    "for file in os.listdir(HIST_PATH):\n",
    "    data = pd.read_csv(HIST_PATH+file)\n",
    "    data = clean_mineable_data(data)\n",
    "\n",
    "    # Get the dates in a list\n",
    "    date = datetime.strptime(file[13:23], '%m-%d-%Y')\n",
    "    dates.append(date)\n",
    "    \n",
    "    # Get hardware bounds\n",
    "    bounds = hardware_based_estimation(data)\n",
    "    # Add bound per coin per day\n",
    "    coin_energy[date] = bounds['estimate']*ESTIMATE_PUE\n",
    "    \n",
    "    # Get bounds for all coins\n",
    "    hardware_bounds = calc_hardware_bounds(bounds, hardware_bounds)\n",
    "    \n",
    "    # Get market cap of the used data\n",
    "    market_cap_hardware[date] = bounds['market_cap']\n",
    "        \n",
    "    # Get revenue bounds\n",
    "    revenue_bounds = calc_revenue_bounds(data,revenue_bounds)\n",
    "    \n",
    "    # Get total market cap of data\n",
    "    market_caps_total.append(np.sum(data['market_cap']))"
   ]
  },
  {
   "cell_type": "markdown",
   "metadata": {},
   "source": [
    "## Extrapolation"
   ]
  },
  {
   "cell_type": "code",
   "execution_count": null,
   "metadata": {},
   "outputs": [],
   "source": [
    "found_data_energy = found_data[found_data['annual_energy'] != 0]\n",
    "found_manual_market_cap = found_missing_difficulty['market_cap'].sum()\n",
    "print(f'The manual data represents {round(found_manual_market_cap/top100_market_cap,3)*100}% of the market cap of the top 100, and {round(found_manual_market_cap/total_market_cap,3)*100}% of the total market cap')"
   ]
  },
  {
   "cell_type": "markdown",
   "metadata": {},
   "source": [
    "Looking up all the other initial difficulties (~15 more coins) would only gain us an additional 0.4% of the total market cap"
   ]
  },
  {
   "cell_type": "code",
   "execution_count": null,
   "metadata": {},
   "outputs": [],
   "source": [
    "# Which ranks of the market cap are represented?\n",
    "found_data[found_data['difficulty_factor'] != 0]['#'].hist(bins=10)\n",
    "plt.show()"
   ]
  },
  {
   "cell_type": "code",
   "execution_count": null,
   "metadata": {},
   "outputs": [],
   "source": [
    "found_data_energy['annual_energy'].plot(kind='bar')\n",
    "plt.yscale('log')\n",
    "plt.xticks(rotation=45)\n",
    "plt.ylabel('annual energy consumption (in Wh)')\n",
    "plt.xlabel('coin')\n",
    "plt.title('Annual energy consumption of different cryptocurrencies')\n",
    "plt.show()"
   ]
  },
  {
   "cell_type": "code",
   "execution_count": null,
   "metadata": {},
   "outputs": [],
   "source": [
    "plt.scatter(found_data_energy['market_cap'],found_data_energy['annual_energy'])\n",
    "plt.yscale('log')\n",
    "plt.ylabel('annual energy consumption (Wh)')\n",
    "plt.xscale('log')\n",
    "plt.xlabel('market cap ($)')\n",
    "plt.xticks(rotation=45)\n",
    "plt.title('Annual energy consumption vs market cap of cryptocurrencies')\n",
    "plt.show()"
   ]
  },
  {
   "cell_type": "markdown",
   "metadata": {},
   "source": [
    "Linear correlation between market cap and energy consumption with some outliers (e.g. Dogecoin, which uses auxilary POW with litecoin"
   ]
  },
  {
   "cell_type": "code",
   "execution_count": null,
   "metadata": {},
   "outputs": [],
   "source": [
    "nethash_calc = found_data[found_data['nethash_calc'] != 0].sort_values(by='algorithm')"
   ]
  },
  {
   "cell_type": "code",
   "execution_count": null,
   "metadata": {},
   "outputs": [],
   "source": [
    "cdict= {'Equihash':'blue', 'Ethash':'grey','Lyra2REv2':'green','RandomX':'black','SHA-256':'red','Scrypt':'orange','X11':'lightgreen','X16Rv2':'purple'}\n",
    "cmap = nethash_calc['algorithm'].apply(lambda x: cdict[x])\n",
    "plt.scatter(nethash_calc['market_cap'],nethash_calc['nethash_calc'],c=cmap,label=nethash_calc['algorithm'])\n",
    "plt.yscale('log')\n",
    "plt.ylabel('nethash calculated')\n",
    "plt.xscale('log')\n",
    "plt.xlabel('market cap ($)')\n",
    "plt.xticks(rotation=45)\n",
    "plt.title('Nethash calculated vs market cap of cryptocurrencies')\n",
    "plt.show()"
   ]
  }
 ],
 "metadata": {
  "kernelspec": {
   "display_name": "Python 3",
   "language": "python",
   "name": "python3"
  },
  "language_info": {
   "codemirror_mode": {
    "name": "ipython",
    "version": 3
   },
   "file_extension": ".py",
   "mimetype": "text/x-python",
   "name": "python",
   "nbconvert_exporter": "python",
   "pygments_lexer": "ipython3",
   "version": "3.8.1"
  },
  "toc-autonumbering": true,
  "toc-showcode": false,
  "toc-showmarkdowntxt": false,
  "toc-showtags": false
 },
 "nbformat": 4,
 "nbformat_minor": 4
}
